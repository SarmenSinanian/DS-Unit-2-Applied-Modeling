{
  "nbformat": 4,
  "nbformat_minor": 0,
  "metadata": {
    "colab": {
      "name": "Sarmen-Sinanian-assignment_applied_modeling_1.ipynb",
      "version": "0.3.2",
      "provenance": [],
      "collapsed_sections": [],
      "include_colab_link": true
    },
    "kernelspec": {
      "name": "python3",
      "display_name": "Python 3"
    }
  },
  "cells": [
    {
      "cell_type": "markdown",
      "metadata": {
        "id": "view-in-github",
        "colab_type": "text"
      },
      "source": [
        "<a href=\"https://colab.research.google.com/github/SarmenSinanian/DS-Unit-2-Applied-Modeling/blob/master/Sarmen_Sinanian_assignment_applied_modeling_1.ipynb\" target=\"_parent\"><img src=\"https://colab.research.google.com/assets/colab-badge.svg\" alt=\"Open In Colab\"/></a>"
      ]
    },
    {
      "cell_type": "markdown",
      "metadata": {
        "id": "nCc3XZEyG3XV",
        "colab_type": "text"
      },
      "source": [
        "Lambda School Data Science, Unit 2: Predictive Modeling\n",
        "\n",
        "# Applied Modeling, Module 1\n",
        "\n",
        "You will use your portfolio project dataset for all assignments this sprint.\n",
        "\n",
        "## Assignment\n",
        "\n",
        "Complete these tasks for your project, and document your decisions.\n",
        "\n",
        "- [ ] Choose your target. Which column in your tabular dataset will you predict?\n",
        "- [ ] Choose which observations you will use to train, validate, and test your model. And which observations, if any, to exclude.\n",
        "- [ ] Determine whether your problem is regression or classification.\n",
        "- [ ] Choose your evaluation metric.\n",
        "- [ ] Begin with baselines: majority class baseline for classification, or mean baseline for regression, with your metric of choice.\n",
        "- [ ] Begin to clean and explore your data.\n",
        "- [ ] Choose which features, if any, to exclude. Would some features \"leak\" information from the future?\n",
        "\n",
        "## Reading\n",
        "- [Attacking discrimination with smarter machine learning](https://research.google.com/bigpicture/attacking-discrimination-in-ml/), by Google Research, with  interactive visualizations. _\"A threshold classifier essentially makes a yes/no decision, putting things in one category or another. We look at how these classifiers work, ways they can potentially be unfair, and how you might turn an unfair classifier into a fairer one. As an illustrative example, we focus on loan granting scenarios where a bank may grant or deny a loan based on a single, automatically computed number such as a credit score.\"_\n",
        "- [How Shopify Capital Uses Quantile Regression To Help Merchants Succeed](https://engineering.shopify.com/blogs/engineering/how-shopify-uses-machine-learning-to-help-our-merchants-grow-their-business)\n",
        "- [Maximizing Scarce Maintenance Resources with Data: Applying predictive modeling, precision at k, and clustering to optimize impact](https://towardsdatascience.com/maximizing-scarce-maintenance-resources-with-data-8f3491133050), **by Lambda DS3 student** Michael Brady. His blog post extends the Tanzania Waterpumps scenario, far beyond what's in the lecture notebook.\n",
        "- [Notebook about how to calculate expected value from a confusion matrix by treating it as a cost-benefit matrix](https://github.com/podopie/DAT18NYC/blob/master/classes/13-expected_value_cost_benefit_analysis.ipynb)\n",
        "- [Simple guide to confusion matrix terminology](https://www.dataschool.io/simple-guide-to-confusion-matrix-terminology/) by Kevin Markham, with video\n",
        "- [Visualizing Machine Learning Thresholds to Make Better Business Decisions](https://blog.insightdatascience.com/visualizing-machine-learning-thresholds-to-make-better-business-decisions-4ab07f823415)"
      ]
    },
    {
      "cell_type": "markdown",
      "metadata": {
        "id": "vCFxE6hqF3P9",
        "colab_type": "text"
      },
      "source": [
        "#Choose your target. Which column in your tabular dataset will you predict?\n"
      ]
    },
    {
      "cell_type": "markdown",
      "metadata": {
        "id": "iGhy2o9MF5iK",
        "colab_type": "text"
      },
      "source": [
        "#Choose which observations you will use to train, validate, and test your model. And which observations, if any, to exclude.\n"
      ]
    },
    {
      "cell_type": "markdown",
      "metadata": {
        "id": "KwGWGEUZF5e4",
        "colab_type": "text"
      },
      "source": [
        "#Determine whether your problem is regression or classification.\n"
      ]
    },
    {
      "cell_type": "markdown",
      "metadata": {
        "id": "OE4NpAxhF5bJ",
        "colab_type": "text"
      },
      "source": [
        "#Choose your evaluation metric.\n"
      ]
    },
    {
      "cell_type": "markdown",
      "metadata": {
        "id": "k2-7u08UF5Xo",
        "colab_type": "text"
      },
      "source": [
        "#Begin with baselines: majority class baseline for classification, or mean baseline for regression, with your metric of choice.\n"
      ]
    },
    {
      "cell_type": "markdown",
      "metadata": {
        "id": "QdLb-a_MF5ST",
        "colab_type": "text"
      },
      "source": [
        "#Begin to clean and explore your data.\n"
      ]
    },
    {
      "cell_type": "markdown",
      "metadata": {
        "id": "_Hyd8yoqF5LH",
        "colab_type": "text"
      },
      "source": [
        "#Choose which features, if any, to exclude. Would some features \"leak\" information from the future?"
      ]
    }
  ]
}