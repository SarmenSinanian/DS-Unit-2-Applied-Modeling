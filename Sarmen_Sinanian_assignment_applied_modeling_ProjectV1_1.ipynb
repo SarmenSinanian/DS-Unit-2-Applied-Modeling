{
  "nbformat": 4,
  "nbformat_minor": 0,
  "metadata": {
    "colab": {
      "name": "Sarmen-Sinanian-assignment_applied_modeling_ProjectV1.1.ipynb",
      "version": "0.3.2",
      "provenance": [],
      "collapsed_sections": [],
      "include_colab_link": true
    },
    "kernelspec": {
      "display_name": "Python 3",
      "language": "python",
      "name": "python3"
    },
    "language_info": {
      "codemirror_mode": {
        "name": "ipython",
        "version": 3
      },
      "file_extension": ".py",
      "mimetype": "text/x-python",
      "name": "python",
      "nbconvert_exporter": "python",
      "pygments_lexer": "ipython3",
      "version": "3.7.3"
    }
  },
  "cells": [
    {
      "cell_type": "markdown",
      "metadata": {
        "id": "view-in-github",
        "colab_type": "text"
      },
      "source": [
        "<a href=\"https://colab.research.google.com/github/SarmenSinanian/DS-Unit-2-Applied-Modeling/blob/master/Sarmen_Sinanian_assignment_applied_modeling_ProjectV1_1.ipynb\" target=\"_parent\"><img src=\"https://colab.research.google.com/assets/colab-badge.svg\" alt=\"Open In Colab\"/></a>"
      ]
    },
    {
      "cell_type": "markdown",
      "metadata": {
        "colab_type": "text",
        "id": "nCc3XZEyG3XV"
      },
      "source": [
        "Lambda School Data Science, Unit 2: Predictive Modeling\n",
        "\n",
        "# Applied Modeling, Module 2\n",
        "\n",
        "You will use your portfolio project dataset for all assignments this sprint.\n",
        "\n",
        "## Assignment\n",
        "\n",
        "Complete these tasks for your project, and document your work.\n",
        "\n",
        "- [ ] Plot the distribution of your target. \n",
        "    - Regression problem: Is your target skewed? Then, log-transform it.\n",
        "    - Classification: Are your classes imbalanced? Then, don't use just accuracy. And try `class_balance` parameter in scikit-learn.\n",
        "- [ ] Continue to clean and explore your data. Make exploratory visualizations.\n",
        "- [ ] Fit a model. Does it beat your baseline?\n",
        "- [ ] Share at least 1 visualization on Slack.\n",
        "\n",
        "You need to complete an initial model today, because the rest of the week, we're making model interpretation visualizations.\n",
        "\n",
        "\n",
        "## Reading\n",
        "\n",
        "### Today\n",
        "- [imbalance-learn](https://github.com/scikit-learn-contrib/imbalanced-learn)\n",
        "- [Learning from Imbalanced Classes](https://www.svds.com/tbt-learning-imbalanced-classes/)\n",
        "- [Machine Learning Meets Economics](http://blog.mldb.ai/blog/posts/2016/01/ml-meets-economics/)\n",
        "- [ROC curves and Area Under the Curve explained](https://www.dataschool.io/roc-curves-and-auc-explained/)\n",
        "- [The philosophical argument for using ROC curves](https://lukeoakdenrayner.wordpress.com/2018/01/07/the-philosophical-argument-for-using-roc-curves/)\n",
        "\n",
        "\n",
        "### Yesterday\n",
        "- [Attacking discrimination with smarter machine learning](https://research.google.com/bigpicture/attacking-discrimination-in-ml/), by Google Research, with  interactive visualizations. _\"A threshold classifier essentially makes a yes/no decision, putting things in one category or another. We look at how these classifiers work, ways they can potentially be unfair, and how you might turn an unfair classifier into a fairer one. As an illustrative example, we focus on loan granting scenarios where a bank may grant or deny a loan based on a single, automatically computed number such as a credit score.\"_\n",
        "- [How Shopify Capital Uses Quantile Regression To Help Merchants Succeed](https://engineering.shopify.com/blogs/engineering/how-shopify-uses-machine-learning-to-help-our-merchants-grow-their-business)\n",
        "- [Maximizing Scarce Maintenance Resources with Data: Applying predictive modeling, precision at k, and clustering to optimize impact](https://towardsdatascience.com/maximizing-scarce-maintenance-resources-with-data-8f3491133050), **by Lambda DS3 student** Michael Brady. His blog post extends the Tanzania Waterpumps scenario, far beyond what's in the lecture notebook.\n",
        "- [Notebook about how to calculate expected value from a confusion matrix by treating it as a cost-benefit matrix](https://github.com/podopie/DAT18NYC/blob/master/classes/13-expected_value_cost_benefit_analysis.ipynb)\n",
        "- [Simple guide to confusion matrix terminology](https://www.dataschool.io/simple-guide-to-confusion-matrix-terminology/) by Kevin Markham, with video\n",
        "- [Visualizing Machine Learning Thresholds to Make Better Business Decisions](https://blog.insightdatascience.com/visualizing-machine-learning-thresholds-to-make-better-business-decisions-4ab07f823415)\n",
        "\n",
        "\n",
        "\n",
        "\n"
      ]
    },
    {
      "cell_type": "code",
      "metadata": {
        "colab_type": "code",
        "id": "wM0ChIkGuVAp",
        "scrolled": true,
        "colab": {}
      },
      "source": [
        "# conda install -c conda-forge category_encoders\n",
        "# conda update -n base -c defaults conda\n",
        "# pip install --upgrade category_encoders"
      ],
      "execution_count": 0,
      "outputs": []
    },
    {
      "cell_type": "code",
      "metadata": {
        "id": "GNyAL2ZgMtwZ",
        "colab_type": "code",
        "colab": {}
      },
      "source": [
        "import pandas as pd\n",
        "import numpy as np\n",
        "import matplotlib.pyplot as plt\n"
      ],
      "execution_count": 0,
      "outputs": []
    },
    {
      "cell_type": "markdown",
      "metadata": {
        "id": "CIVruOTvMtwc",
        "colab_type": "text"
      },
      "source": [
        "# ASSIGNMENT 1 BELOW (ASSIGNMENT 2 FURTHER DOWN)"
      ]
    },
    {
      "cell_type": "markdown",
      "metadata": {
        "id": "dKHVOcdCMtwd",
        "colab_type": "text"
      },
      "source": [
        "# BELOW DATASET FROM https://query1.finance.yahoo.com/v7/finance/download/SPY?period1=728294400&period2=1566889200&interval=1d&events=history&crumb=ixT1ci5YI3E"
      ]
    },
    {
      "cell_type": "code",
      "metadata": {
        "id": "08KkxA8QMtwe",
        "colab_type": "code",
        "colab": {}
      },
      "source": [
        "# Setting specific columns to use (using unadjusted close and not\n",
        "#  accounting for the splits and dividends)\n",
        "columns = ['Date','Close','Volume']\n",
        "\n",
        "# Calling data set\n",
        "spy = pd.read_csv(r'E:\\Desktop\\Lambda_School\\Assignments\\Unit 2 Sprint 7 PROJECT\\SPY.csv',\n",
        "                  usecols = columns)"
      ],
      "execution_count": 0,
      "outputs": []
    },
    {
      "cell_type": "code",
      "metadata": {
        "id": "3RFuNX30Mtwg",
        "colab_type": "code",
        "colab": {},
        "outputId": "b3918cb7-f86a-4a32-94fb-d6acdaecbb3d"
      },
      "source": [
        "# Checking columns\n",
        "spy.head()"
      ],
      "execution_count": 0,
      "outputs": [
        {
          "output_type": "execute_result",
          "data": {
            "text/html": [
              "<div>\n",
              "<style scoped>\n",
              "    .dataframe tbody tr th:only-of-type {\n",
              "        vertical-align: middle;\n",
              "    }\n",
              "\n",
              "    .dataframe tbody tr th {\n",
              "        vertical-align: top;\n",
              "    }\n",
              "\n",
              "    .dataframe thead th {\n",
              "        text-align: right;\n",
              "    }\n",
              "</style>\n",
              "<table border=\"1\" class=\"dataframe\">\n",
              "  <thead>\n",
              "    <tr style=\"text-align: right;\">\n",
              "      <th></th>\n",
              "      <th>Date</th>\n",
              "      <th>Close</th>\n",
              "      <th>Volume</th>\n",
              "    </tr>\n",
              "  </thead>\n",
              "  <tbody>\n",
              "    <tr>\n",
              "      <th>0</th>\n",
              "      <td>1993-01-29</td>\n",
              "      <td>43.93750</td>\n",
              "      <td>1003200</td>\n",
              "    </tr>\n",
              "    <tr>\n",
              "      <th>1</th>\n",
              "      <td>1993-02-01</td>\n",
              "      <td>44.25000</td>\n",
              "      <td>480500</td>\n",
              "    </tr>\n",
              "    <tr>\n",
              "      <th>2</th>\n",
              "      <td>1993-02-02</td>\n",
              "      <td>44.34375</td>\n",
              "      <td>201300</td>\n",
              "    </tr>\n",
              "    <tr>\n",
              "      <th>3</th>\n",
              "      <td>1993-02-03</td>\n",
              "      <td>44.81250</td>\n",
              "      <td>529400</td>\n",
              "    </tr>\n",
              "    <tr>\n",
              "      <th>4</th>\n",
              "      <td>1993-02-04</td>\n",
              "      <td>45.00000</td>\n",
              "      <td>531500</td>\n",
              "    </tr>\n",
              "  </tbody>\n",
              "</table>\n",
              "</div>"
            ],
            "text/plain": [
              "         Date     Close   Volume\n",
              "0  1993-01-29  43.93750  1003200\n",
              "1  1993-02-01  44.25000   480500\n",
              "2  1993-02-02  44.34375   201300\n",
              "3  1993-02-03  44.81250   529400\n",
              "4  1993-02-04  45.00000   531500"
            ]
          },
          "metadata": {
            "tags": []
          },
          "execution_count": 4
        }
      ]
    },
    {
      "cell_type": "code",
      "metadata": {
        "id": "ro5c4eMoMtwl",
        "colab_type": "code",
        "colab": {},
        "outputId": "918e6240-8cc3-4e69-e9c6-b8d175f30774"
      },
      "source": [
        "spy.describe()"
      ],
      "execution_count": 0,
      "outputs": [
        {
          "output_type": "execute_result",
          "data": {
            "text/html": [
              "<div>\n",
              "<style scoped>\n",
              "    .dataframe tbody tr th:only-of-type {\n",
              "        vertical-align: middle;\n",
              "    }\n",
              "\n",
              "    .dataframe tbody tr th {\n",
              "        vertical-align: top;\n",
              "    }\n",
              "\n",
              "    .dataframe thead th {\n",
              "        text-align: right;\n",
              "    }\n",
              "</style>\n",
              "<table border=\"1\" class=\"dataframe\">\n",
              "  <thead>\n",
              "    <tr style=\"text-align: right;\">\n",
              "      <th></th>\n",
              "      <th>Close</th>\n",
              "      <th>Volume</th>\n",
              "    </tr>\n",
              "  </thead>\n",
              "  <tbody>\n",
              "    <tr>\n",
              "      <th>count</th>\n",
              "      <td>6692.000000</td>\n",
              "      <td>6.692000e+03</td>\n",
              "    </tr>\n",
              "    <tr>\n",
              "      <th>mean</th>\n",
              "      <td>134.816022</td>\n",
              "      <td>8.431367e+07</td>\n",
              "    </tr>\n",
              "    <tr>\n",
              "      <th>std</th>\n",
              "      <td>60.702370</td>\n",
              "      <td>9.810203e+07</td>\n",
              "    </tr>\n",
              "    <tr>\n",
              "      <th>min</th>\n",
              "      <td>43.406250</td>\n",
              "      <td>5.200000e+03</td>\n",
              "    </tr>\n",
              "    <tr>\n",
              "      <th>25%</th>\n",
              "      <td>97.203125</td>\n",
              "      <td>7.017450e+06</td>\n",
              "    </tr>\n",
              "    <tr>\n",
              "      <th>50%</th>\n",
              "      <td>124.729999</td>\n",
              "      <td>5.707685e+07</td>\n",
              "    </tr>\n",
              "    <tr>\n",
              "      <th>75%</th>\n",
              "      <td>152.867501</td>\n",
              "      <td>1.226404e+08</td>\n",
              "    </tr>\n",
              "    <tr>\n",
              "      <th>max</th>\n",
              "      <td>302.010010</td>\n",
              "      <td>8.710263e+08</td>\n",
              "    </tr>\n",
              "  </tbody>\n",
              "</table>\n",
              "</div>"
            ],
            "text/plain": [
              "             Close        Volume\n",
              "count  6692.000000  6.692000e+03\n",
              "mean    134.816022  8.431367e+07\n",
              "std      60.702370  9.810203e+07\n",
              "min      43.406250  5.200000e+03\n",
              "25%      97.203125  7.017450e+06\n",
              "50%     124.729999  5.707685e+07\n",
              "75%     152.867501  1.226404e+08\n",
              "max     302.010010  8.710263e+08"
            ]
          },
          "metadata": {
            "tags": []
          },
          "execution_count": 5
        }
      ]
    },
    {
      "cell_type": "code",
      "metadata": {
        "id": "P3fHjJaIMtwo",
        "colab_type": "code",
        "colab": {},
        "outputId": "8c1f53ed-f618-488b-e540-453bcfca0034"
      },
      "source": [
        "spy.shape"
      ],
      "execution_count": 0,
      "outputs": [
        {
          "output_type": "execute_result",
          "data": {
            "text/plain": [
              "(6692, 3)"
            ]
          },
          "metadata": {
            "tags": []
          },
          "execution_count": 6
        }
      ]
    },
    {
      "cell_type": "code",
      "metadata": {
        "id": "WnfRBUyYMtwq",
        "colab_type": "code",
        "colab": {},
        "outputId": "a9877fc6-a93d-4453-9cee-fefe5efb89cf"
      },
      "source": [
        "spy.isna().sum()"
      ],
      "execution_count": 0,
      "outputs": [
        {
          "output_type": "execute_result",
          "data": {
            "text/plain": [
              "Date      0\n",
              "Close     0\n",
              "Volume    0\n",
              "dtype: int64"
            ]
          },
          "metadata": {
            "tags": []
          },
          "execution_count": 7
        }
      ]
    },
    {
      "cell_type": "code",
      "metadata": {
        "id": "Mom-X_3yMtws",
        "colab_type": "code",
        "colab": {}
      },
      "source": [
        "# Changing Dat to datetime format\n",
        "spy['Date'] = pd.to_datetime(spy['Date'])"
      ],
      "execution_count": 0,
      "outputs": []
    },
    {
      "cell_type": "code",
      "metadata": {
        "id": "ZVn5ix_KMtww",
        "colab_type": "code",
        "colab": {},
        "outputId": "3c0845ea-6ffb-4402-b1b3-2e9a3e1124ee"
      },
      "source": [
        "# Visualizing total dataset without volumne\n",
        "\n",
        "plt.plot_date(spy['Date'], spy['Close'])"
      ],
      "execution_count": 0,
      "outputs": [
        {
          "output_type": "stream",
          "text": [
            "C:\\Users\\Sarmen\\Anaconda3\\lib\\site-packages\\pandas\\plotting\\_converter.py:129: FutureWarning: Using an implicitly registered datetime converter for a matplotlib plotting method. The converter was registered by pandas on import. Future versions of pandas will require you to explicitly register matplotlib converters.\n",
            "\n",
            "To register the converters:\n",
            "\t>>> from pandas.plotting import register_matplotlib_converters\n",
            "\t>>> register_matplotlib_converters()\n",
            "  warnings.warn(msg, FutureWarning)\n"
          ],
          "name": "stderr"
        },
        {
          "output_type": "execute_result",
          "data": {
            "text/plain": [
              "[<matplotlib.lines.Line2D at 0x2ce15923f60>]"
            ]
          },
          "metadata": {
            "tags": []
          },
          "execution_count": 9
        },
        {
          "output_type": "display_data",
          "data": {
            "image/png": "[encoded data removed]",
            "text/plain": [
              "<Figure size 432x288 with 1 Axes>"
            ]
          },
          "metadata": {
            "tags": [],
            "needs_background": "light"
          }
        }
      ]
    },
    {
      "cell_type": "markdown",
      "metadata": {
        "colab_type": "text",
        "id": "vCFxE6hqF3P9"
      },
      "source": [
        "# Choose your target. Which column in your tabular dataset will you predict?\n"
      ]
    },
    {
      "cell_type": "code",
      "metadata": {
        "id": "_gF6Lr3mMtw0",
        "colab_type": "code",
        "colab": {}
      },
      "source": [
        "#  PRICE(CLOSE) NEXT DAY ABOVE/BELOW PREVIOUS DAY BASED ON ROLLING MEAN(SMA) OR RELATIVE STRENGTH (RSI)***"
      ],
      "execution_count": 0,
      "outputs": []
    },
    {
      "cell_type": "markdown",
      "metadata": {
        "colab_type": "text",
        "id": "iGhy2o9MF5iK"
      },
      "source": [
        "# Choose which observations you will use to train, validate, and test your model. And which observations, if any, to exclude.\n"
      ]
    },
    {
      "cell_type": "markdown",
      "metadata": {
        "id": "xRyQO69nMtw3",
        "colab_type": "text"
      },
      "source": [
        "### *WILL USE ALL SPY (S&P 500 ETF) DATA*"
      ]
    },
    {
      "cell_type": "markdown",
      "metadata": {
        "colab_type": "text",
        "id": "KwGWGEUZF5e4"
      },
      "source": [
        "# Determine whether your problem is regression or classification.\n"
      ]
    },
    {
      "cell_type": "markdown",
      "metadata": {
        "id": "_GfKUPhPMtw4",
        "colab_type": "text"
      },
      "source": [
        "### *CLASSIFICATION (IS THIS TICKER OVER/UNDER THE X_DAY ROLLING MEAN ***AND*** ALSO OVER/UNDER BOUGHT ON THE RSI?)*\n",
        "### *AKA 3 WAY CONFUSION MATRIX WITH UNDER TO BOTH AS THE HIGHEST LIKELIHOOD PREDICTOR OF NEXT DAY/WEEKS/MONTHS POSITIVE RETURNS*"
      ]
    },
    {
      "cell_type": "markdown",
      "metadata": {
        "colab_type": "text",
        "id": "OE4NpAxhF5bJ"
      },
      "source": [
        "# Choose your evaluation metric."
      ]
    },
    {
      "cell_type": "markdown",
      "metadata": {
        "id": "TmFfjFa1Mtw6",
        "colab_type": "text"
      },
      "source": [
        "### WILL USE ACCURACY SCORE"
      ]
    },
    {
      "cell_type": "markdown",
      "metadata": {
        "colab_type": "text",
        "id": "k2-7u08UF5Xo"
      },
      "source": [
        "# Begin with baselines: majority class baseline for classification, or mean baseline for regression, with your metric of choice.\n"
      ]
    },
    {
      "cell_type": "code",
      "metadata": {
        "id": "5X-n1fJvMtw8",
        "colab_type": "code",
        "colab": {},
        "outputId": "2680afd9-45ae-4897-f7e4-b8284936c5eb"
      },
      "source": [
        "spy.head()"
      ],
      "execution_count": 0,
      "outputs": [
        {
          "output_type": "execute_result",
          "data": {
            "text/html": [
              "<div>\n",
              "<style scoped>\n",
              "    .dataframe tbody tr th:only-of-type {\n",
              "        vertical-align: middle;\n",
              "    }\n",
              "\n",
              "    .dataframe tbody tr th {\n",
              "        vertical-align: top;\n",
              "    }\n",
              "\n",
              "    .dataframe thead th {\n",
              "        text-align: right;\n",
              "    }\n",
              "</style>\n",
              "<table border=\"1\" class=\"dataframe\">\n",
              "  <thead>\n",
              "    <tr style=\"text-align: right;\">\n",
              "      <th></th>\n",
              "      <th>Date</th>\n",
              "      <th>Close</th>\n",
              "      <th>Volume</th>\n",
              "    </tr>\n",
              "  </thead>\n",
              "  <tbody>\n",
              "    <tr>\n",
              "      <th>0</th>\n",
              "      <td>1993-01-29</td>\n",
              "      <td>43.93750</td>\n",
              "      <td>1003200</td>\n",
              "    </tr>\n",
              "    <tr>\n",
              "      <th>1</th>\n",
              "      <td>1993-02-01</td>\n",
              "      <td>44.25000</td>\n",
              "      <td>480500</td>\n",
              "    </tr>\n",
              "    <tr>\n",
              "      <th>2</th>\n",
              "      <td>1993-02-02</td>\n",
              "      <td>44.34375</td>\n",
              "      <td>201300</td>\n",
              "    </tr>\n",
              "    <tr>\n",
              "      <th>3</th>\n",
              "      <td>1993-02-03</td>\n",
              "      <td>44.81250</td>\n",
              "      <td>529400</td>\n",
              "    </tr>\n",
              "    <tr>\n",
              "      <th>4</th>\n",
              "      <td>1993-02-04</td>\n",
              "      <td>45.00000</td>\n",
              "      <td>531500</td>\n",
              "    </tr>\n",
              "  </tbody>\n",
              "</table>\n",
              "</div>"
            ],
            "text/plain": [
              "        Date     Close   Volume\n",
              "0 1993-01-29  43.93750  1003200\n",
              "1 1993-02-01  44.25000   480500\n",
              "2 1993-02-02  44.34375   201300\n",
              "3 1993-02-03  44.81250   529400\n",
              "4 1993-02-04  45.00000   531500"
            ]
          },
          "metadata": {
            "tags": []
          },
          "execution_count": 11
        }
      ]
    },
    {
      "cell_type": "code",
      "metadata": {
        "id": "Au2SC-LtMtw_",
        "colab_type": "code",
        "colab": {},
        "outputId": "139b8feb-479f-4c25-e2cc-7192480e2aa7"
      },
      "source": [
        "spy.dtypes"
      ],
      "execution_count": 0,
      "outputs": [
        {
          "output_type": "execute_result",
          "data": {
            "text/plain": [
              "Date      datetime64[ns]\n",
              "Close            float64\n",
              "Volume             int64\n",
              "dtype: object"
            ]
          },
          "metadata": {
            "tags": []
          },
          "execution_count": 12
        }
      ]
    },
    {
      "cell_type": "code",
      "metadata": {
        "id": "bqk8u5yfMtxC",
        "colab_type": "code",
        "colab": {}
      },
      "source": [
        "from sklearn.model_selection import train_test_split"
      ],
      "execution_count": 0,
      "outputs": []
    },
    {
      "cell_type": "code",
      "metadata": {
        "id": "8TJnD-hdMtxE",
        "colab_type": "code",
        "colab": {}
      },
      "source": [
        "spy['Date'] = pd.to_datetime(spy['Date'])\n",
        "spy['Year'] = spy['Date'].dt.year"
      ],
      "execution_count": 0,
      "outputs": []
    },
    {
      "cell_type": "code",
      "metadata": {
        "id": "lPtZFt3aMtxH",
        "colab_type": "code",
        "colab": {},
        "outputId": "d863c26f-5b09-4772-995e-867a666e5b32"
      },
      "source": [
        "spy.head()"
      ],
      "execution_count": 0,
      "outputs": [
        {
          "output_type": "execute_result",
          "data": {
            "text/html": [
              "<div>\n",
              "<style scoped>\n",
              "    .dataframe tbody tr th:only-of-type {\n",
              "        vertical-align: middle;\n",
              "    }\n",
              "\n",
              "    .dataframe tbody tr th {\n",
              "        vertical-align: top;\n",
              "    }\n",
              "\n",
              "    .dataframe thead th {\n",
              "        text-align: right;\n",
              "    }\n",
              "</style>\n",
              "<table border=\"1\" class=\"dataframe\">\n",
              "  <thead>\n",
              "    <tr style=\"text-align: right;\">\n",
              "      <th></th>\n",
              "      <th>Date</th>\n",
              "      <th>Close</th>\n",
              "      <th>Volume</th>\n",
              "      <th>Year</th>\n",
              "    </tr>\n",
              "  </thead>\n",
              "  <tbody>\n",
              "    <tr>\n",
              "      <th>0</th>\n",
              "      <td>1993-01-29</td>\n",
              "      <td>43.93750</td>\n",
              "      <td>1003200</td>\n",
              "      <td>1993</td>\n",
              "    </tr>\n",
              "    <tr>\n",
              "      <th>1</th>\n",
              "      <td>1993-02-01</td>\n",
              "      <td>44.25000</td>\n",
              "      <td>480500</td>\n",
              "      <td>1993</td>\n",
              "    </tr>\n",
              "    <tr>\n",
              "      <th>2</th>\n",
              "      <td>1993-02-02</td>\n",
              "      <td>44.34375</td>\n",
              "      <td>201300</td>\n",
              "      <td>1993</td>\n",
              "    </tr>\n",
              "    <tr>\n",
              "      <th>3</th>\n",
              "      <td>1993-02-03</td>\n",
              "      <td>44.81250</td>\n",
              "      <td>529400</td>\n",
              "      <td>1993</td>\n",
              "    </tr>\n",
              "    <tr>\n",
              "      <th>4</th>\n",
              "      <td>1993-02-04</td>\n",
              "      <td>45.00000</td>\n",
              "      <td>531500</td>\n",
              "      <td>1993</td>\n",
              "    </tr>\n",
              "  </tbody>\n",
              "</table>\n",
              "</div>"
            ],
            "text/plain": [
              "        Date     Close   Volume  Year\n",
              "0 1993-01-29  43.93750  1003200  1993\n",
              "1 1993-02-01  44.25000   480500  1993\n",
              "2 1993-02-02  44.34375   201300  1993\n",
              "3 1993-02-03  44.81250   529400  1993\n",
              "4 1993-02-04  45.00000   531500  1993"
            ]
          },
          "metadata": {
            "tags": []
          },
          "execution_count": 15
        }
      ]
    },
    {
      "cell_type": "code",
      "metadata": {
        "id": "hDfOc6bqMtxK",
        "colab_type": "code",
        "colab": {},
        "outputId": "a926d2dc-a4b9-4152-fae5-0258d7cf5641"
      },
      "source": [
        "spy.dtypes"
      ],
      "execution_count": 0,
      "outputs": [
        {
          "output_type": "execute_result",
          "data": {
            "text/plain": [
              "Date      datetime64[ns]\n",
              "Close            float64\n",
              "Volume             int64\n",
              "Year               int64\n",
              "dtype: object"
            ]
          },
          "metadata": {
            "tags": []
          },
          "execution_count": 16
        }
      ]
    },
    {
      "cell_type": "markdown",
      "metadata": {
        "id": "MeHSRL7dMtxM",
        "colab_type": "text"
      },
      "source": [
        "### *NEITHER .ROLLING_MEAN NOR .ROLLING WORK*"
      ]
    },
    {
      "cell_type": "code",
      "metadata": {
        "id": "iD-NVndNMtxO",
        "colab_type": "code",
        "colab": {}
      },
      "source": [
        "# spy['SMA'] = spy['Close'].rolling(window = 14, min_periods = 14, axis = 0)"
      ],
      "execution_count": 0,
      "outputs": []
    },
    {
      "cell_type": "code",
      "metadata": {
        "id": "RW0QC-MKMtxS",
        "colab_type": "code",
        "colab": {}
      },
      "source": [
        "# spy['SMA'] = pd.rolling_mean(spy['Close'], min_periods = 14, window = 14)"
      ],
      "execution_count": 0,
      "outputs": []
    },
    {
      "cell_type": "code",
      "metadata": {
        "id": "X46qXgZvMtxW",
        "colab_type": "code",
        "colab": {},
        "outputId": "5f2eac45-b924-49df-a2ee-f356ee1b02cd"
      },
      "source": [
        "spy.isnull().sum()"
      ],
      "execution_count": 0,
      "outputs": [
        {
          "output_type": "execute_result",
          "data": {
            "text/plain": [
              "Date      0\n",
              "Close     0\n",
              "Volume    0\n",
              "Year      0\n",
              "dtype: int64"
            ]
          },
          "metadata": {
            "tags": []
          },
          "execution_count": 19
        }
      ]
    },
    {
      "cell_type": "code",
      "metadata": {
        "id": "fhJoGm3DMtxZ",
        "colab_type": "code",
        "colab": {},
        "outputId": "ab3dc93f-bf3d-496d-8adf-eafa736b091e"
      },
      "source": [
        "spy.head()"
      ],
      "execution_count": 0,
      "outputs": [
        {
          "output_type": "execute_result",
          "data": {
            "text/html": [
              "<div>\n",
              "<style scoped>\n",
              "    .dataframe tbody tr th:only-of-type {\n",
              "        vertical-align: middle;\n",
              "    }\n",
              "\n",
              "    .dataframe tbody tr th {\n",
              "        vertical-align: top;\n",
              "    }\n",
              "\n",
              "    .dataframe thead th {\n",
              "        text-align: right;\n",
              "    }\n",
              "</style>\n",
              "<table border=\"1\" class=\"dataframe\">\n",
              "  <thead>\n",
              "    <tr style=\"text-align: right;\">\n",
              "      <th></th>\n",
              "      <th>Date</th>\n",
              "      <th>Close</th>\n",
              "      <th>Volume</th>\n",
              "      <th>Year</th>\n",
              "    </tr>\n",
              "  </thead>\n",
              "  <tbody>\n",
              "    <tr>\n",
              "      <th>0</th>\n",
              "      <td>1993-01-29</td>\n",
              "      <td>43.93750</td>\n",
              "      <td>1003200</td>\n",
              "      <td>1993</td>\n",
              "    </tr>\n",
              "    <tr>\n",
              "      <th>1</th>\n",
              "      <td>1993-02-01</td>\n",
              "      <td>44.25000</td>\n",
              "      <td>480500</td>\n",
              "      <td>1993</td>\n",
              "    </tr>\n",
              "    <tr>\n",
              "      <th>2</th>\n",
              "      <td>1993-02-02</td>\n",
              "      <td>44.34375</td>\n",
              "      <td>201300</td>\n",
              "      <td>1993</td>\n",
              "    </tr>\n",
              "    <tr>\n",
              "      <th>3</th>\n",
              "      <td>1993-02-03</td>\n",
              "      <td>44.81250</td>\n",
              "      <td>529400</td>\n",
              "      <td>1993</td>\n",
              "    </tr>\n",
              "    <tr>\n",
              "      <th>4</th>\n",
              "      <td>1993-02-04</td>\n",
              "      <td>45.00000</td>\n",
              "      <td>531500</td>\n",
              "      <td>1993</td>\n",
              "    </tr>\n",
              "  </tbody>\n",
              "</table>\n",
              "</div>"
            ],
            "text/plain": [
              "        Date     Close   Volume  Year\n",
              "0 1993-01-29  43.93750  1003200  1993\n",
              "1 1993-02-01  44.25000   480500  1993\n",
              "2 1993-02-02  44.34375   201300  1993\n",
              "3 1993-02-03  44.81250   529400  1993\n",
              "4 1993-02-04  45.00000   531500  1993"
            ]
          },
          "metadata": {
            "tags": []
          },
          "execution_count": 20
        }
      ]
    },
    {
      "cell_type": "code",
      "metadata": {
        "id": "gm42UFcmMtxb",
        "colab_type": "code",
        "colab": {},
        "outputId": "39bc08ad-610f-4c80-eb91-d995673a0994"
      },
      "source": [
        "spy.head()"
      ],
      "execution_count": 0,
      "outputs": [
        {
          "output_type": "execute_result",
          "data": {
            "text/html": [
              "<div>\n",
              "<style scoped>\n",
              "    .dataframe tbody tr th:only-of-type {\n",
              "        vertical-align: middle;\n",
              "    }\n",
              "\n",
              "    .dataframe tbody tr th {\n",
              "        vertical-align: top;\n",
              "    }\n",
              "\n",
              "    .dataframe thead th {\n",
              "        text-align: right;\n",
              "    }\n",
              "</style>\n",
              "<table border=\"1\" class=\"dataframe\">\n",
              "  <thead>\n",
              "    <tr style=\"text-align: right;\">\n",
              "      <th></th>\n",
              "      <th>Date</th>\n",
              "      <th>Close</th>\n",
              "      <th>Volume</th>\n",
              "      <th>Year</th>\n",
              "    </tr>\n",
              "  </thead>\n",
              "  <tbody>\n",
              "    <tr>\n",
              "      <th>0</th>\n",
              "      <td>1993-01-29</td>\n",
              "      <td>43.93750</td>\n",
              "      <td>1003200</td>\n",
              "      <td>1993</td>\n",
              "    </tr>\n",
              "    <tr>\n",
              "      <th>1</th>\n",
              "      <td>1993-02-01</td>\n",
              "      <td>44.25000</td>\n",
              "      <td>480500</td>\n",
              "      <td>1993</td>\n",
              "    </tr>\n",
              "    <tr>\n",
              "      <th>2</th>\n",
              "      <td>1993-02-02</td>\n",
              "      <td>44.34375</td>\n",
              "      <td>201300</td>\n",
              "      <td>1993</td>\n",
              "    </tr>\n",
              "    <tr>\n",
              "      <th>3</th>\n",
              "      <td>1993-02-03</td>\n",
              "      <td>44.81250</td>\n",
              "      <td>529400</td>\n",
              "      <td>1993</td>\n",
              "    </tr>\n",
              "    <tr>\n",
              "      <th>4</th>\n",
              "      <td>1993-02-04</td>\n",
              "      <td>45.00000</td>\n",
              "      <td>531500</td>\n",
              "      <td>1993</td>\n",
              "    </tr>\n",
              "  </tbody>\n",
              "</table>\n",
              "</div>"
            ],
            "text/plain": [
              "        Date     Close   Volume  Year\n",
              "0 1993-01-29  43.93750  1003200  1993\n",
              "1 1993-02-01  44.25000   480500  1993\n",
              "2 1993-02-02  44.34375   201300  1993\n",
              "3 1993-02-03  44.81250   529400  1993\n",
              "4 1993-02-04  45.00000   531500  1993"
            ]
          },
          "metadata": {
            "tags": []
          },
          "execution_count": 21
        }
      ]
    },
    {
      "cell_type": "markdown",
      "metadata": {
        "colab_type": "text",
        "id": "U36mOczoMtxd"
      },
      "source": [
        "# Begin with baselines: majority class baseline for classification, or mean baseline for regression, with your metric of choice.\n"
      ]
    },
    {
      "cell_type": "code",
      "metadata": {
        "id": "tl0FdK1kMtxe",
        "colab_type": "code",
        "colab": {}
      },
      "source": [
        "spy['SMA'] = spy.Close.rolling(window=14).mean()\n",
        "spy['SMA_Yesterday'] = spy['SMA'].shift(1)"
      ],
      "execution_count": 0,
      "outputs": []
    },
    {
      "cell_type": "code",
      "metadata": {
        "id": "3W8b97bKMtxg",
        "colab_type": "code",
        "colab": {},
        "outputId": "19ff8e78-8ea2-4ba0-941c-a2f74973fa20"
      },
      "source": [
        "spy.head(15)"
      ],
      "execution_count": 0,
      "outputs": [
        {
          "output_type": "execute_result",
          "data": {
            "text/html": [
              "<div>\n",
              "<style scoped>\n",
              "    .dataframe tbody tr th:only-of-type {\n",
              "        vertical-align: middle;\n",
              "    }\n",
              "\n",
              "    .dataframe tbody tr th {\n",
              "        vertical-align: top;\n",
              "    }\n",
              "\n",
              "    .dataframe thead th {\n",
              "        text-align: right;\n",
              "    }\n",
              "</style>\n",
              "<table border=\"1\" class=\"dataframe\">\n",
              "  <thead>\n",
              "    <tr style=\"text-align: right;\">\n",
              "      <th></th>\n",
              "      <th>Date</th>\n",
              "      <th>Close</th>\n",
              "      <th>Volume</th>\n",
              "      <th>Year</th>\n",
              "      <th>SMA</th>\n",
              "      <th>SMA_Yesterday</th>\n",
              "    </tr>\n",
              "  </thead>\n",
              "  <tbody>\n",
              "    <tr>\n",
              "      <th>0</th>\n",
              "      <td>1993-01-29</td>\n",
              "      <td>43.93750</td>\n",
              "      <td>1003200</td>\n",
              "      <td>1993</td>\n",
              "      <td>NaN</td>\n",
              "      <td>NaN</td>\n",
              "    </tr>\n",
              "    <tr>\n",
              "      <th>1</th>\n",
              "      <td>1993-02-01</td>\n",
              "      <td>44.25000</td>\n",
              "      <td>480500</td>\n",
              "      <td>1993</td>\n",
              "      <td>NaN</td>\n",
              "      <td>NaN</td>\n",
              "    </tr>\n",
              "    <tr>\n",
              "      <th>2</th>\n",
              "      <td>1993-02-02</td>\n",
              "      <td>44.34375</td>\n",
              "      <td>201300</td>\n",
              "      <td>1993</td>\n",
              "      <td>NaN</td>\n",
              "      <td>NaN</td>\n",
              "    </tr>\n",
              "    <tr>\n",
              "      <th>3</th>\n",
              "      <td>1993-02-03</td>\n",
              "      <td>44.81250</td>\n",
              "      <td>529400</td>\n",
              "      <td>1993</td>\n",
              "      <td>NaN</td>\n",
              "      <td>NaN</td>\n",
              "    </tr>\n",
              "    <tr>\n",
              "      <th>4</th>\n",
              "      <td>1993-02-04</td>\n",
              "      <td>45.00000</td>\n",
              "      <td>531500</td>\n",
              "      <td>1993</td>\n",
              "      <td>NaN</td>\n",
              "      <td>NaN</td>\n",
              "    </tr>\n",
              "    <tr>\n",
              "      <th>5</th>\n",
              "      <td>1993-02-05</td>\n",
              "      <td>44.96875</td>\n",
              "      <td>492100</td>\n",
              "      <td>1993</td>\n",
              "      <td>NaN</td>\n",
              "      <td>NaN</td>\n",
              "    </tr>\n",
              "    <tr>\n",
              "      <th>6</th>\n",
              "      <td>1993-02-08</td>\n",
              "      <td>44.96875</td>\n",
              "      <td>596100</td>\n",
              "      <td>1993</td>\n",
              "      <td>NaN</td>\n",
              "      <td>NaN</td>\n",
              "    </tr>\n",
              "    <tr>\n",
              "      <th>7</th>\n",
              "      <td>1993-02-09</td>\n",
              "      <td>44.65625</td>\n",
              "      <td>122100</td>\n",
              "      <td>1993</td>\n",
              "      <td>NaN</td>\n",
              "      <td>NaN</td>\n",
              "    </tr>\n",
              "    <tr>\n",
              "      <th>8</th>\n",
              "      <td>1993-02-10</td>\n",
              "      <td>44.71875</td>\n",
              "      <td>379600</td>\n",
              "      <td>1993</td>\n",
              "      <td>NaN</td>\n",
              "      <td>NaN</td>\n",
              "    </tr>\n",
              "    <tr>\n",
              "      <th>9</th>\n",
              "      <td>1993-02-11</td>\n",
              "      <td>44.93750</td>\n",
              "      <td>19500</td>\n",
              "      <td>1993</td>\n",
              "      <td>NaN</td>\n",
              "      <td>NaN</td>\n",
              "    </tr>\n",
              "    <tr>\n",
              "      <th>10</th>\n",
              "      <td>1993-02-12</td>\n",
              "      <td>44.59375</td>\n",
              "      <td>42500</td>\n",
              "      <td>1993</td>\n",
              "      <td>NaN</td>\n",
              "      <td>NaN</td>\n",
              "    </tr>\n",
              "    <tr>\n",
              "      <th>11</th>\n",
              "      <td>1993-02-16</td>\n",
              "      <td>43.46875</td>\n",
              "      <td>374800</td>\n",
              "      <td>1993</td>\n",
              "      <td>NaN</td>\n",
              "      <td>NaN</td>\n",
              "    </tr>\n",
              "    <tr>\n",
              "      <th>12</th>\n",
              "      <td>1993-02-17</td>\n",
              "      <td>43.43750</td>\n",
              "      <td>210900</td>\n",
              "      <td>1993</td>\n",
              "      <td>NaN</td>\n",
              "      <td>NaN</td>\n",
              "    </tr>\n",
              "    <tr>\n",
              "      <th>13</th>\n",
              "      <td>1993-02-18</td>\n",
              "      <td>43.40625</td>\n",
              "      <td>378100</td>\n",
              "      <td>1993</td>\n",
              "      <td>44.392857</td>\n",
              "      <td>NaN</td>\n",
              "    </tr>\n",
              "    <tr>\n",
              "      <th>14</th>\n",
              "      <td>1993-02-19</td>\n",
              "      <td>43.56250</td>\n",
              "      <td>34900</td>\n",
              "      <td>1993</td>\n",
              "      <td>44.366071</td>\n",
              "      <td>44.392857</td>\n",
              "    </tr>\n",
              "  </tbody>\n",
              "</table>\n",
              "</div>"
            ],
            "text/plain": [
              "         Date     Close   Volume  Year        SMA  SMA_Yesterday\n",
              "0  1993-01-29  43.93750  1003200  1993        NaN            NaN\n",
              "1  1993-02-01  44.25000   480500  1993        NaN            NaN\n",
              "2  1993-02-02  44.34375   201300  1993        NaN            NaN\n",
              "3  1993-02-03  44.81250   529400  1993        NaN            NaN\n",
              "4  1993-02-04  45.00000   531500  1993        NaN            NaN\n",
              "5  1993-02-05  44.96875   492100  1993        NaN            NaN\n",
              "6  1993-02-08  44.96875   596100  1993        NaN            NaN\n",
              "7  1993-02-09  44.65625   122100  1993        NaN            NaN\n",
              "8  1993-02-10  44.71875   379600  1993        NaN            NaN\n",
              "9  1993-02-11  44.93750    19500  1993        NaN            NaN\n",
              "10 1993-02-12  44.59375    42500  1993        NaN            NaN\n",
              "11 1993-02-16  43.46875   374800  1993        NaN            NaN\n",
              "12 1993-02-17  43.43750   210900  1993        NaN            NaN\n",
              "13 1993-02-18  43.40625   378100  1993  44.392857            NaN\n",
              "14 1993-02-19  43.56250    34900  1993  44.366071      44.392857"
            ]
          },
          "metadata": {
            "tags": []
          },
          "execution_count": 23
        }
      ]
    },
    {
      "cell_type": "code",
      "metadata": {
        "id": "QvFa5YQ5Mtxi",
        "colab_type": "code",
        "colab": {},
        "outputId": "555d36dc-cffd-425b-d5c9-d12f577a2cb0"
      },
      "source": [
        "spy.tail()"
      ],
      "execution_count": 0,
      "outputs": [
        {
          "output_type": "execute_result",
          "data": {
            "text/html": [
              "<div>\n",
              "<style scoped>\n",
              "    .dataframe tbody tr th:only-of-type {\n",
              "        vertical-align: middle;\n",
              "    }\n",
              "\n",
              "    .dataframe tbody tr th {\n",
              "        vertical-align: top;\n",
              "    }\n",
              "\n",
              "    .dataframe thead th {\n",
              "        text-align: right;\n",
              "    }\n",
              "</style>\n",
              "<table border=\"1\" class=\"dataframe\">\n",
              "  <thead>\n",
              "    <tr style=\"text-align: right;\">\n",
              "      <th></th>\n",
              "      <th>Date</th>\n",
              "      <th>Close</th>\n",
              "      <th>Volume</th>\n",
              "      <th>Year</th>\n",
              "      <th>SMA</th>\n",
              "      <th>SMA_Yesterday</th>\n",
              "    </tr>\n",
              "  </thead>\n",
              "  <tbody>\n",
              "    <tr>\n",
              "      <th>6687</th>\n",
              "      <td>2019-08-20</td>\n",
              "      <td>290.089996</td>\n",
              "      <td>51596400</td>\n",
              "      <td>2019</td>\n",
              "      <td>289.480711</td>\n",
              "      <td>290.004996</td>\n",
              "    </tr>\n",
              "    <tr>\n",
              "      <th>6688</th>\n",
              "      <td>2019-08-21</td>\n",
              "      <td>292.450012</td>\n",
              "      <td>49524700</td>\n",
              "      <td>2019</td>\n",
              "      <td>289.309997</td>\n",
              "      <td>289.480711</td>\n",
              "    </tr>\n",
              "    <tr>\n",
              "      <th>6689</th>\n",
              "      <td>2019-08-22</td>\n",
              "      <td>292.359985</td>\n",
              "      <td>51666400</td>\n",
              "      <td>2019</td>\n",
              "      <td>289.291425</td>\n",
              "      <td>289.309997</td>\n",
              "    </tr>\n",
              "    <tr>\n",
              "      <th>6690</th>\n",
              "      <td>2019-08-23</td>\n",
              "      <td>284.850006</td>\n",
              "      <td>149161500</td>\n",
              "      <td>2019</td>\n",
              "      <td>289.364997</td>\n",
              "      <td>289.291425</td>\n",
              "    </tr>\n",
              "    <tr>\n",
              "      <th>6691</th>\n",
              "      <td>2019-08-26</td>\n",
              "      <td>288.000000</td>\n",
              "      <td>72423800</td>\n",
              "      <td>2019</td>\n",
              "      <td>289.379283</td>\n",
              "      <td>289.364997</td>\n",
              "    </tr>\n",
              "  </tbody>\n",
              "</table>\n",
              "</div>"
            ],
            "text/plain": [
              "           Date       Close     Volume  Year         SMA  SMA_Yesterday\n",
              "6687 2019-08-20  290.089996   51596400  2019  289.480711     290.004996\n",
              "6688 2019-08-21  292.450012   49524700  2019  289.309997     289.480711\n",
              "6689 2019-08-22  292.359985   51666400  2019  289.291425     289.309997\n",
              "6690 2019-08-23  284.850006  149161500  2019  289.364997     289.291425\n",
              "6691 2019-08-26  288.000000   72423800  2019  289.379283     289.364997"
            ]
          },
          "metadata": {
            "tags": []
          },
          "execution_count": 24
        }
      ]
    },
    {
      "cell_type": "code",
      "metadata": {
        "id": "liL87Q8cMtxk",
        "colab_type": "code",
        "colab": {},
        "outputId": "032c94ca-c1f8-4be9-f601-7562e2ded782"
      },
      "source": [
        "spy.isna().sum()"
      ],
      "execution_count": 0,
      "outputs": [
        {
          "output_type": "execute_result",
          "data": {
            "text/plain": [
              "Date              0\n",
              "Close             0\n",
              "Volume            0\n",
              "Year              0\n",
              "SMA              13\n",
              "SMA_Yesterday    14\n",
              "dtype: int64"
            ]
          },
          "metadata": {
            "tags": []
          },
          "execution_count": 25
        }
      ]
    },
    {
      "cell_type": "code",
      "metadata": {
        "id": "uhMavJWGMtxm",
        "colab_type": "code",
        "colab": {},
        "outputId": "377c89ea-9258-4a0d-a42f-f51f0dee0155"
      },
      "source": [
        "spy.dtypes"
      ],
      "execution_count": 0,
      "outputs": [
        {
          "output_type": "execute_result",
          "data": {
            "text/plain": [
              "Date             datetime64[ns]\n",
              "Close                   float64\n",
              "Volume                    int64\n",
              "Year                      int64\n",
              "SMA                     float64\n",
              "SMA_Yesterday           float64\n",
              "dtype: object"
            ]
          },
          "metadata": {
            "tags": []
          },
          "execution_count": 26
        }
      ]
    },
    {
      "cell_type": "code",
      "metadata": {
        "id": "43IZwomlMtxq",
        "colab_type": "code",
        "colab": {}
      },
      "source": [
        "# spy['Close_Higher'] = np.where(spy['Close'] > spy['Close'].shift(-1), 'True','False')"
      ],
      "execution_count": 0,
      "outputs": []
    },
    {
      "cell_type": "code",
      "metadata": {
        "id": "uotqmLQmMtxs",
        "colab_type": "code",
        "colab": {}
      },
      "source": [
        "# spy_numeric = ['Close']"
      ],
      "execution_count": 0,
      "outputs": []
    },
    {
      "cell_type": "code",
      "metadata": {
        "id": "GYUOkKdFMtxv",
        "colab_type": "code",
        "colab": {}
      },
      "source": [
        "spy['Above_14D_SMA_Yesterday'] = np.where(spy['SMA'].shift(1)<spy['Close'].shift(1), 0,1)"
      ],
      "execution_count": 0,
      "outputs": []
    },
    {
      "cell_type": "code",
      "metadata": {
        "id": "Z29bIOb8Mtxx",
        "colab_type": "code",
        "colab": {}
      },
      "source": [
        "spy['Below_14D_SMA_Yesterday'] = np.where(spy['SMA'].shift(1)>spy['Close'].shift(1), 0,1)"
      ],
      "execution_count": 0,
      "outputs": []
    },
    {
      "cell_type": "code",
      "metadata": {
        "id": "lhV3MTAlMtxz",
        "colab_type": "code",
        "colab": {}
      },
      "source": [
        "# spy['Above_14D_SMA_Yesterday'] = np.where(spy['SMA']>spy['Close'], 'True','False')"
      ],
      "execution_count": 0,
      "outputs": []
    },
    {
      "cell_type": "code",
      "metadata": {
        "scrolled": true,
        "id": "CjGJATHGMtx1",
        "colab_type": "code",
        "colab": {},
        "outputId": "5903146e-dc89-4df7-a02f-d601e5c56a68"
      },
      "source": [
        "spy.Above_14D_SMA_Yesterday.value_counts(normalize=True)"
      ],
      "execution_count": 0,
      "outputs": [
        {
          "output_type": "execute_result",
          "data": {
            "text/plain": [
              "0    0.605649\n",
              "1    0.394351\n",
              "Name: Above_14D_SMA_Yesterday, dtype: float64"
            ]
          },
          "metadata": {
            "tags": []
          },
          "execution_count": 32
        }
      ]
    },
    {
      "cell_type": "code",
      "metadata": {
        "id": "hHKKK1U6Mtx4",
        "colab_type": "code",
        "colab": {}
      },
      "source": [
        "spy_numeric_diff = spy[['Close']].diff()[1:]\n",
        "# cond1 = spy_numeric_diff[['Close']] >=0\n",
        "spy['Close_Higher_Than_Yesterday'] = np.insert(np.where(spy_numeric_diff[['Close']] >=0, '1','0'), 0, np.nan)"
      ],
      "execution_count": 0,
      "outputs": []
    },
    {
      "cell_type": "code",
      "metadata": {
        "id": "ybm2L_yAMtx6",
        "colab_type": "code",
        "colab": {},
        "outputId": "1e179f07-95f2-4562-ec63-ed6337c0da93"
      },
      "source": [
        "spy.Close_Higher_Than_Yesterday.value_counts(normalize=True)"
      ],
      "execution_count": 0,
      "outputs": [
        {
          "output_type": "execute_result",
          "data": {
            "text/plain": [
              "1    0.541393\n",
              "0    0.458458\n",
              "n    0.000149\n",
              "Name: Close_Higher_Than_Yesterday, dtype: float64"
            ]
          },
          "metadata": {
            "tags": []
          },
          "execution_count": 34
        }
      ]
    },
    {
      "cell_type": "code",
      "metadata": {
        "id": "EY2KYg7TMtx9",
        "colab_type": "code",
        "colab": {}
      },
      "source": [
        "y_train = spy['Close_Higher_Than_Yesterday']"
      ],
      "execution_count": 0,
      "outputs": []
    },
    {
      "cell_type": "code",
      "metadata": {
        "id": "RsGmN7Y0Mtx_",
        "colab_type": "code",
        "colab": {}
      },
      "source": [
        "majority_class = y_train.mode()[0]"
      ],
      "execution_count": 0,
      "outputs": []
    },
    {
      "cell_type": "code",
      "metadata": {
        "id": "ZFO_RiddMtyB",
        "colab_type": "code",
        "colab": {}
      },
      "source": [
        "y_pred = [majority_class]*len(y_train)"
      ],
      "execution_count": 0,
      "outputs": []
    },
    {
      "cell_type": "code",
      "metadata": {
        "id": "sT3jeXI2MtyD",
        "colab_type": "code",
        "colab": {},
        "outputId": "696f5d99-bf12-40b0-d72d-09c03cf4deed"
      },
      "source": [
        "from sklearn.metrics import accuracy_score\n",
        "accuracy_score(y_train, y_pred)"
      ],
      "execution_count": 0,
      "outputs": [
        {
          "output_type": "execute_result",
          "data": {
            "text/plain": [
              "0.5413927077106994"
            ]
          },
          "metadata": {
            "tags": []
          },
          "execution_count": 38
        }
      ]
    },
    {
      "cell_type": "markdown",
      "metadata": {
        "colab_type": "text",
        "id": "QdLb-a_MF5ST"
      },
      "source": [
        "# Begin to clean and explore your data."
      ]
    },
    {
      "cell_type": "markdown",
      "metadata": {
        "id": "ilnFMcmcMtyG",
        "colab_type": "text"
      },
      "source": [
        "### *I BELIEVE THIS IS ALREADY DONE*"
      ]
    },
    {
      "cell_type": "code",
      "metadata": {
        "id": "ldQNfXpPMtyG",
        "colab_type": "code",
        "colab": {}
      },
      "source": [
        "spy_2019 = spy[spy['Year'] == 2019]\n",
        "spy_2018 = spy[spy['Year'] == 2018]\n",
        "spy_2017 = spy[spy['Year'] == 2017]\n",
        "spy_2016 = spy[spy['Year'] == 2016]\n",
        "spy_2015 = spy[spy['Year'] == 2015]\n",
        "spy_2014 = spy[spy['Year'] == 2014]\n",
        "spy_2013 = spy[spy['Year'] == 2013]\n",
        "spy_2012 = spy[spy['Year'] == 2012]\n",
        "spy_2011 = spy[spy['Year'] == 2011]\n",
        "spy_2010 = spy[spy['Year'] == 2010]\n",
        "spy_2009 = spy[spy['Year'] == 2009]\n",
        "spy_2008 = spy[spy['Year'] == 2008]\n",
        "spy_2007 = spy[spy['Year'] == 2007]\n",
        "spy_2006 = spy[spy['Year'] == 2006]\n",
        "spy_2005 = spy[spy['Year'] == 2005]\n",
        "spy_2004 = spy[spy['Year'] == 2004]\n",
        "spy_2003 = spy[spy['Year'] == 2003]\n",
        "spy_2002 = spy[spy['Year'] == 2002]\n",
        "spy_2001 = spy[spy['Year'] == 2001]\n",
        "spy_2000 = spy[spy['Year'] == 2000]\n",
        "spy_1999 = spy[spy['Year'] == 1999]\n",
        "spy_1998 = spy[spy['Year'] == 1998]\n",
        "spy_1997 = spy[spy['Year'] == 1997]\n",
        "spy_1996 = spy[spy['Year'] == 1996]\n",
        "spy_1995 = spy[spy['Year'] == 1995]\n",
        "spy_1994 = spy[spy['Year'] == 1994]\n",
        "spy_1993 = spy[spy['Year'] == 1993]"
      ],
      "execution_count": 0,
      "outputs": []
    },
    {
      "cell_type": "markdown",
      "metadata": {
        "id": "Wm2P61EnMtyI",
        "colab_type": "text"
      },
      "source": [
        "# END ASSIGNMENT 1"
      ]
    },
    {
      "cell_type": "markdown",
      "metadata": {
        "id": "zz-XEDFAMtyI",
        "colab_type": "text"
      },
      "source": [
        "# ASSIGNMENT 2 BELOW"
      ]
    },
    {
      "cell_type": "markdown",
      "metadata": {
        "id": "oJa83q92MtyK",
        "colab_type": "text"
      },
      "source": [
        "# You need to complete an initial model today, because the rest of the week, we're making model interpretation visualizations."
      ]
    },
    {
      "cell_type": "markdown",
      "metadata": {
        "id": "lGHZ3PR-MtyL",
        "colab_type": "text"
      },
      "source": [
        "# Plot the distribution of your target.\n",
        "### Regression problem: Is your target skewed? Then, log-transform it.\n",
        "### Classification: Are your classes imbalanced? Then, don't use just accuracy. And try class_balance parameter in scikit-learn.\n",
        "\n",
        "\n",
        " "
      ]
    },
    {
      "cell_type": "code",
      "metadata": {
        "id": "d1mnRiLtMtyL",
        "colab_type": "code",
        "colab": {},
        "outputId": "63318e3b-9ef5-4a29-f752-333525d003c7"
      },
      "source": [
        "spy.tail(25)"
      ],
      "execution_count": 0,
      "outputs": [
        {
          "output_type": "execute_result",
          "data": {
            "text/html": [
              "<div>\n",
              "<style scoped>\n",
              "    .dataframe tbody tr th:only-of-type {\n",
              "        vertical-align: middle;\n",
              "    }\n",
              "\n",
              "    .dataframe tbody tr th {\n",
              "        vertical-align: top;\n",
              "    }\n",
              "\n",
              "    .dataframe thead th {\n",
              "        text-align: right;\n",
              "    }\n",
              "</style>\n",
              "<table border=\"1\" class=\"dataframe\">\n",
              "  <thead>\n",
              "    <tr style=\"text-align: right;\">\n",
              "      <th></th>\n",
              "      <th>Date</th>\n",
              "      <th>Close</th>\n",
              "      <th>Volume</th>\n",
              "      <th>Year</th>\n",
              "      <th>SMA</th>\n",
              "      <th>SMA_Yesterday</th>\n",
              "      <th>Above_14D_SMA_Yesterday</th>\n",
              "      <th>Below_14D_SMA_Yesterday</th>\n",
              "      <th>Close_Higher_Than_Yesterday</th>\n",
              "    </tr>\n",
              "  </thead>\n",
              "  <tbody>\n",
              "    <tr>\n",
              "      <th>6667</th>\n",
              "      <td>2019-07-23</td>\n",
              "      <td>300.029999</td>\n",
              "      <td>44564500</td>\n",
              "      <td>2019</td>\n",
              "      <td>298.717139</td>\n",
              "      <td>298.459996</td>\n",
              "      <td>1</td>\n",
              "      <td>0</td>\n",
              "      <td>1</td>\n",
              "    </tr>\n",
              "    <tr>\n",
              "      <th>6668</th>\n",
              "      <td>2019-07-24</td>\n",
              "      <td>301.440002</td>\n",
              "      <td>47213200</td>\n",
              "      <td>2019</td>\n",
              "      <td>298.905712</td>\n",
              "      <td>298.717139</td>\n",
              "      <td>0</td>\n",
              "      <td>1</td>\n",
              "      <td>1</td>\n",
              "    </tr>\n",
              "    <tr>\n",
              "      <th>6669</th>\n",
              "      <td>2019-07-25</td>\n",
              "      <td>300.000000</td>\n",
              "      <td>55394100</td>\n",
              "      <td>2019</td>\n",
              "      <td>299.015712</td>\n",
              "      <td>298.905712</td>\n",
              "      <td>0</td>\n",
              "      <td>1</td>\n",
              "      <td>0</td>\n",
              "    </tr>\n",
              "    <tr>\n",
              "      <th>6670</th>\n",
              "      <td>2019-07-26</td>\n",
              "      <td>302.010010</td>\n",
              "      <td>45084100</td>\n",
              "      <td>2019</td>\n",
              "      <td>299.386427</td>\n",
              "      <td>299.015712</td>\n",
              "      <td>0</td>\n",
              "      <td>1</td>\n",
              "      <td>1</td>\n",
              "    </tr>\n",
              "    <tr>\n",
              "      <th>6671</th>\n",
              "      <td>2019-07-29</td>\n",
              "      <td>301.459991</td>\n",
              "      <td>38126500</td>\n",
              "      <td>2019</td>\n",
              "      <td>299.691426</td>\n",
              "      <td>299.386427</td>\n",
              "      <td>0</td>\n",
              "      <td>1</td>\n",
              "      <td>0</td>\n",
              "    </tr>\n",
              "    <tr>\n",
              "      <th>6672</th>\n",
              "      <td>2019-07-30</td>\n",
              "      <td>300.720001</td>\n",
              "      <td>45849000</td>\n",
              "      <td>2019</td>\n",
              "      <td>299.842141</td>\n",
              "      <td>299.691426</td>\n",
              "      <td>0</td>\n",
              "      <td>1</td>\n",
              "      <td>0</td>\n",
              "    </tr>\n",
              "    <tr>\n",
              "      <th>6673</th>\n",
              "      <td>2019-07-31</td>\n",
              "      <td>297.429993</td>\n",
              "      <td>104245200</td>\n",
              "      <td>2019</td>\n",
              "      <td>299.707855</td>\n",
              "      <td>299.842141</td>\n",
              "      <td>0</td>\n",
              "      <td>1</td>\n",
              "      <td>0</td>\n",
              "    </tr>\n",
              "    <tr>\n",
              "      <th>6674</th>\n",
              "      <td>2019-08-01</td>\n",
              "      <td>294.839996</td>\n",
              "      <td>142646600</td>\n",
              "      <td>2019</td>\n",
              "      <td>299.292855</td>\n",
              "      <td>299.707855</td>\n",
              "      <td>1</td>\n",
              "      <td>0</td>\n",
              "      <td>0</td>\n",
              "    </tr>\n",
              "    <tr>\n",
              "      <th>6675</th>\n",
              "      <td>2019-08-02</td>\n",
              "      <td>292.619995</td>\n",
              "      <td>116749700</td>\n",
              "      <td>2019</td>\n",
              "      <td>298.712141</td>\n",
              "      <td>299.292855</td>\n",
              "      <td>1</td>\n",
              "      <td>0</td>\n",
              "      <td>0</td>\n",
              "    </tr>\n",
              "    <tr>\n",
              "      <th>6676</th>\n",
              "      <td>2019-08-05</td>\n",
              "      <td>283.820007</td>\n",
              "      <td>178745400</td>\n",
              "      <td>2019</td>\n",
              "      <td>297.572141</td>\n",
              "      <td>298.712141</td>\n",
              "      <td>1</td>\n",
              "      <td>0</td>\n",
              "      <td>0</td>\n",
              "    </tr>\n",
              "    <tr>\n",
              "      <th>6677</th>\n",
              "      <td>2019-08-06</td>\n",
              "      <td>287.799988</td>\n",
              "      <td>120711700</td>\n",
              "      <td>2019</td>\n",
              "      <td>296.862141</td>\n",
              "      <td>297.572141</td>\n",
              "      <td>1</td>\n",
              "      <td>0</td>\n",
              "      <td>1</td>\n",
              "    </tr>\n",
              "    <tr>\n",
              "      <th>6678</th>\n",
              "      <td>2019-08-07</td>\n",
              "      <td>287.970001</td>\n",
              "      <td>140572300</td>\n",
              "      <td>2019</td>\n",
              "      <td>296.086428</td>\n",
              "      <td>296.862141</td>\n",
              "      <td>1</td>\n",
              "      <td>0</td>\n",
              "      <td>1</td>\n",
              "    </tr>\n",
              "    <tr>\n",
              "      <th>6679</th>\n",
              "      <td>2019-08-08</td>\n",
              "      <td>293.619995</td>\n",
              "      <td>87713900</td>\n",
              "      <td>2019</td>\n",
              "      <td>295.832855</td>\n",
              "      <td>296.086428</td>\n",
              "      <td>1</td>\n",
              "      <td>0</td>\n",
              "      <td>1</td>\n",
              "    </tr>\n",
              "    <tr>\n",
              "      <th>6680</th>\n",
              "      <td>2019-08-09</td>\n",
              "      <td>291.619995</td>\n",
              "      <td>93730000</td>\n",
              "      <td>2019</td>\n",
              "      <td>295.384284</td>\n",
              "      <td>295.832855</td>\n",
              "      <td>1</td>\n",
              "      <td>0</td>\n",
              "      <td>0</td>\n",
              "    </tr>\n",
              "    <tr>\n",
              "      <th>6681</th>\n",
              "      <td>2019-08-12</td>\n",
              "      <td>288.070007</td>\n",
              "      <td>62629500</td>\n",
              "      <td>2019</td>\n",
              "      <td>294.529999</td>\n",
              "      <td>295.384284</td>\n",
              "      <td>1</td>\n",
              "      <td>0</td>\n",
              "      <td>0</td>\n",
              "    </tr>\n",
              "    <tr>\n",
              "      <th>6682</th>\n",
              "      <td>2019-08-13</td>\n",
              "      <td>292.549988</td>\n",
              "      <td>94299800</td>\n",
              "      <td>2019</td>\n",
              "      <td>293.894998</td>\n",
              "      <td>294.529999</td>\n",
              "      <td>1</td>\n",
              "      <td>0</td>\n",
              "      <td>1</td>\n",
              "    </tr>\n",
              "    <tr>\n",
              "      <th>6683</th>\n",
              "      <td>2019-08-14</td>\n",
              "      <td>283.899994</td>\n",
              "      <td>135622100</td>\n",
              "      <td>2019</td>\n",
              "      <td>292.744997</td>\n",
              "      <td>293.894998</td>\n",
              "      <td>1</td>\n",
              "      <td>0</td>\n",
              "      <td>0</td>\n",
              "    </tr>\n",
              "    <tr>\n",
              "      <th>6684</th>\n",
              "      <td>2019-08-15</td>\n",
              "      <td>284.649994</td>\n",
              "      <td>99556600</td>\n",
              "      <td>2019</td>\n",
              "      <td>291.504996</td>\n",
              "      <td>292.744997</td>\n",
              "      <td>1</td>\n",
              "      <td>0</td>\n",
              "      <td>1</td>\n",
              "    </tr>\n",
              "    <tr>\n",
              "      <th>6685</th>\n",
              "      <td>2019-08-16</td>\n",
              "      <td>288.850006</td>\n",
              "      <td>83018300</td>\n",
              "      <td>2019</td>\n",
              "      <td>290.604283</td>\n",
              "      <td>291.504996</td>\n",
              "      <td>1</td>\n",
              "      <td>0</td>\n",
              "      <td>1</td>\n",
              "    </tr>\n",
              "    <tr>\n",
              "      <th>6686</th>\n",
              "      <td>2019-08-19</td>\n",
              "      <td>292.329987</td>\n",
              "      <td>53571800</td>\n",
              "      <td>2019</td>\n",
              "      <td>290.004996</td>\n",
              "      <td>290.604283</td>\n",
              "      <td>1</td>\n",
              "      <td>0</td>\n",
              "      <td>1</td>\n",
              "    </tr>\n",
              "    <tr>\n",
              "      <th>6687</th>\n",
              "      <td>2019-08-20</td>\n",
              "      <td>290.089996</td>\n",
              "      <td>51596400</td>\n",
              "      <td>2019</td>\n",
              "      <td>289.480711</td>\n",
              "      <td>290.004996</td>\n",
              "      <td>0</td>\n",
              "      <td>1</td>\n",
              "      <td>0</td>\n",
              "    </tr>\n",
              "    <tr>\n",
              "      <th>6688</th>\n",
              "      <td>2019-08-21</td>\n",
              "      <td>292.450012</td>\n",
              "      <td>49524700</td>\n",
              "      <td>2019</td>\n",
              "      <td>289.309997</td>\n",
              "      <td>289.480711</td>\n",
              "      <td>0</td>\n",
              "      <td>1</td>\n",
              "      <td>1</td>\n",
              "    </tr>\n",
              "    <tr>\n",
              "      <th>6689</th>\n",
              "      <td>2019-08-22</td>\n",
              "      <td>292.359985</td>\n",
              "      <td>51666400</td>\n",
              "      <td>2019</td>\n",
              "      <td>289.291425</td>\n",
              "      <td>289.309997</td>\n",
              "      <td>0</td>\n",
              "      <td>1</td>\n",
              "      <td>0</td>\n",
              "    </tr>\n",
              "    <tr>\n",
              "      <th>6690</th>\n",
              "      <td>2019-08-23</td>\n",
              "      <td>284.850006</td>\n",
              "      <td>149161500</td>\n",
              "      <td>2019</td>\n",
              "      <td>289.364997</td>\n",
              "      <td>289.291425</td>\n",
              "      <td>0</td>\n",
              "      <td>1</td>\n",
              "      <td>0</td>\n",
              "    </tr>\n",
              "    <tr>\n",
              "      <th>6691</th>\n",
              "      <td>2019-08-26</td>\n",
              "      <td>288.000000</td>\n",
              "      <td>72423800</td>\n",
              "      <td>2019</td>\n",
              "      <td>289.379283</td>\n",
              "      <td>289.364997</td>\n",
              "      <td>1</td>\n",
              "      <td>0</td>\n",
              "      <td>1</td>\n",
              "    </tr>\n",
              "  </tbody>\n",
              "</table>\n",
              "</div>"
            ],
            "text/plain": [
              "           Date       Close     Volume  Year         SMA  SMA_Yesterday  \\\n",
              "6667 2019-07-23  300.029999   44564500  2019  298.717139     298.459996   \n",
              "6668 2019-07-24  301.440002   47213200  2019  298.905712     298.717139   \n",
              "6669 2019-07-25  300.000000   55394100  2019  299.015712     298.905712   \n",
              "6670 2019-07-26  302.010010   45084100  2019  299.386427     299.015712   \n",
              "6671 2019-07-29  301.459991   38126500  2019  299.691426     299.386427   \n",
              "6672 2019-07-30  300.720001   45849000  2019  299.842141     299.691426   \n",
              "6673 2019-07-31  297.429993  104245200  2019  299.707855     299.842141   \n",
              "6674 2019-08-01  294.839996  142646600  2019  299.292855     299.707855   \n",
              "6675 2019-08-02  292.619995  116749700  2019  298.712141     299.292855   \n",
              "6676 2019-08-05  283.820007  178745400  2019  297.572141     298.712141   \n",
              "6677 2019-08-06  287.799988  120711700  2019  296.862141     297.572141   \n",
              "6678 2019-08-07  287.970001  140572300  2019  296.086428     296.862141   \n",
              "6679 2019-08-08  293.619995   87713900  2019  295.832855     296.086428   \n",
              "6680 2019-08-09  291.619995   93730000  2019  295.384284     295.832855   \n",
              "6681 2019-08-12  288.070007   62629500  2019  294.529999     295.384284   \n",
              "6682 2019-08-13  292.549988   94299800  2019  293.894998     294.529999   \n",
              "6683 2019-08-14  283.899994  135622100  2019  292.744997     293.894998   \n",
              "6684 2019-08-15  284.649994   99556600  2019  291.504996     292.744997   \n",
              "6685 2019-08-16  288.850006   83018300  2019  290.604283     291.504996   \n",
              "6686 2019-08-19  292.329987   53571800  2019  290.004996     290.604283   \n",
              "6687 2019-08-20  290.089996   51596400  2019  289.480711     290.004996   \n",
              "6688 2019-08-21  292.450012   49524700  2019  289.309997     289.480711   \n",
              "6689 2019-08-22  292.359985   51666400  2019  289.291425     289.309997   \n",
              "6690 2019-08-23  284.850006  149161500  2019  289.364997     289.291425   \n",
              "6691 2019-08-26  288.000000   72423800  2019  289.379283     289.364997   \n",
              "\n",
              "      Above_14D_SMA_Yesterday  Below_14D_SMA_Yesterday  \\\n",
              "6667                        1                        0   \n",
              "6668                        0                        1   \n",
              "6669                        0                        1   \n",
              "6670                        0                        1   \n",
              "6671                        0                        1   \n",
              "6672                        0                        1   \n",
              "6673                        0                        1   \n",
              "6674                        1                        0   \n",
              "6675                        1                        0   \n",
              "6676                        1                        0   \n",
              "6677                        1                        0   \n",
              "6678                        1                        0   \n",
              "6679                        1                        0   \n",
              "6680                        1                        0   \n",
              "6681                        1                        0   \n",
              "6682                        1                        0   \n",
              "6683                        1                        0   \n",
              "6684                        1                        0   \n",
              "6685                        1                        0   \n",
              "6686                        1                        0   \n",
              "6687                        0                        1   \n",
              "6688                        0                        1   \n",
              "6689                        0                        1   \n",
              "6690                        0                        1   \n",
              "6691                        1                        0   \n",
              "\n",
              "     Close_Higher_Than_Yesterday  \n",
              "6667                           1  \n",
              "6668                           1  \n",
              "6669                           0  \n",
              "6670                           1  \n",
              "6671                           0  \n",
              "6672                           0  \n",
              "6673                           0  \n",
              "6674                           0  \n",
              "6675                           0  \n",
              "6676                           0  \n",
              "6677                           1  \n",
              "6678                           1  \n",
              "6679                           1  \n",
              "6680                           0  \n",
              "6681                           0  \n",
              "6682                           1  \n",
              "6683                           0  \n",
              "6684                           1  \n",
              "6685                           1  \n",
              "6686                           1  \n",
              "6687                           0  \n",
              "6688                           1  \n",
              "6689                           0  \n",
              "6690                           0  \n",
              "6691                           1  "
            ]
          },
          "metadata": {
            "tags": []
          },
          "execution_count": 40
        }
      ]
    },
    {
      "cell_type": "code",
      "metadata": {
        "id": "GvjWlvZIMtyO",
        "colab_type": "code",
        "colab": {},
        "outputId": "006cc855-89aa-46d2-b5ea-8f6050ce6974"
      },
      "source": [
        "spy_1994_2013 = pd.concat([spy_1994,spy_1995,spy_1996,spy_1997,spy_1998,\n",
        "                           spy_1999,spy_2000,spy_2001,spy_2002,spy_2003,\n",
        "                           spy_2004,spy_2005,spy_2006,spy_2007,spy_2008,\n",
        "                           spy_2009,spy_2010,spy_2011,spy_2012,spy_2013])\n",
        "spy_1994_2013.describe()"
      ],
      "execution_count": 0,
      "outputs": [
        {
          "output_type": "execute_result",
          "data": {
            "text/html": [
              "<div>\n",
              "<style scoped>\n",
              "    .dataframe tbody tr th:only-of-type {\n",
              "        vertical-align: middle;\n",
              "    }\n",
              "\n",
              "    .dataframe tbody tr th {\n",
              "        vertical-align: top;\n",
              "    }\n",
              "\n",
              "    .dataframe thead th {\n",
              "        text-align: right;\n",
              "    }\n",
              "</style>\n",
              "<table border=\"1\" class=\"dataframe\">\n",
              "  <thead>\n",
              "    <tr style=\"text-align: right;\">\n",
              "      <th></th>\n",
              "      <th>Close</th>\n",
              "      <th>Volume</th>\n",
              "      <th>Year</th>\n",
              "      <th>SMA</th>\n",
              "      <th>SMA_Yesterday</th>\n",
              "      <th>Above_14D_SMA_Yesterday</th>\n",
              "      <th>Below_14D_SMA_Yesterday</th>\n",
              "    </tr>\n",
              "  </thead>\n",
              "  <tbody>\n",
              "    <tr>\n",
              "      <th>count</th>\n",
              "      <td>5036.000000</td>\n",
              "      <td>5.036000e+03</td>\n",
              "      <td>5036.000000</td>\n",
              "      <td>5036.000000</td>\n",
              "      <td>5036.000000</td>\n",
              "      <td>5036.000000</td>\n",
              "      <td>5036.000000</td>\n",
              "    </tr>\n",
              "    <tr>\n",
              "      <th>mean</th>\n",
              "      <td>111.468242</td>\n",
              "      <td>8.429327e+07</td>\n",
              "      <td>2003.494043</td>\n",
              "      <td>111.292774</td>\n",
              "      <td>111.266038</td>\n",
              "      <td>0.402701</td>\n",
              "      <td>0.597299</td>\n",
              "    </tr>\n",
              "    <tr>\n",
              "      <th>std</th>\n",
              "      <td>30.940716</td>\n",
              "      <td>1.084023e+08</td>\n",
              "      <td>5.768917</td>\n",
              "      <td>30.865436</td>\n",
              "      <td>30.863032</td>\n",
              "      <td>0.490490</td>\n",
              "      <td>0.490490</td>\n",
              "    </tr>\n",
              "    <tr>\n",
              "      <th>min</th>\n",
              "      <td>43.906250</td>\n",
              "      <td>5.200000e+03</td>\n",
              "      <td>1994.000000</td>\n",
              "      <td>44.590402</td>\n",
              "      <td>44.590402</td>\n",
              "      <td>0.000000</td>\n",
              "      <td>0.000000</td>\n",
              "    </tr>\n",
              "    <tr>\n",
              "      <th>25%</th>\n",
              "      <td>92.554688</td>\n",
              "      <td>5.681350e+06</td>\n",
              "      <td>1998.000000</td>\n",
              "      <td>92.436674</td>\n",
              "      <td>92.421875</td>\n",
              "      <td>0.000000</td>\n",
              "      <td>0.000000</td>\n",
              "    </tr>\n",
              "    <tr>\n",
              "      <th>50%</th>\n",
              "      <td>116.040001</td>\n",
              "      <td>4.162765e+07</td>\n",
              "      <td>2003.000000</td>\n",
              "      <td>115.814286</td>\n",
              "      <td>115.804286</td>\n",
              "      <td>0.000000</td>\n",
              "      <td>1.000000</td>\n",
              "    </tr>\n",
              "    <tr>\n",
              "      <th>75%</th>\n",
              "      <td>133.587502</td>\n",
              "      <td>1.331848e+08</td>\n",
              "      <td>2008.000000</td>\n",
              "      <td>133.438749</td>\n",
              "      <td>133.437768</td>\n",
              "      <td>1.000000</td>\n",
              "      <td>1.000000</td>\n",
              "    </tr>\n",
              "    <tr>\n",
              "      <th>max</th>\n",
              "      <td>184.690002</td>\n",
              "      <td>8.710263e+08</td>\n",
              "      <td>2013.000000</td>\n",
              "      <td>181.375715</td>\n",
              "      <td>181.094286</td>\n",
              "      <td>1.000000</td>\n",
              "      <td>1.000000</td>\n",
              "    </tr>\n",
              "  </tbody>\n",
              "</table>\n",
              "</div>"
            ],
            "text/plain": [
              "             Close        Volume         Year          SMA  SMA_Yesterday  \\\n",
              "count  5036.000000  5.036000e+03  5036.000000  5036.000000    5036.000000   \n",
              "mean    111.468242  8.429327e+07  2003.494043   111.292774     111.266038   \n",
              "std      30.940716  1.084023e+08     5.768917    30.865436      30.863032   \n",
              "min      43.906250  5.200000e+03  1994.000000    44.590402      44.590402   \n",
              "25%      92.554688  5.681350e+06  1998.000000    92.436674      92.421875   \n",
              "50%     116.040001  4.162765e+07  2003.000000   115.814286     115.804286   \n",
              "75%     133.587502  1.331848e+08  2008.000000   133.438749     133.437768   \n",
              "max     184.690002  8.710263e+08  2013.000000   181.375715     181.094286   \n",
              "\n",
              "       Above_14D_SMA_Yesterday  Below_14D_SMA_Yesterday  \n",
              "count              5036.000000              5036.000000  \n",
              "mean                  0.402701                 0.597299  \n",
              "std                   0.490490                 0.490490  \n",
              "min                   0.000000                 0.000000  \n",
              "25%                   0.000000                 0.000000  \n",
              "50%                   0.000000                 1.000000  \n",
              "75%                   1.000000                 1.000000  \n",
              "max                   1.000000                 1.000000  "
            ]
          },
          "metadata": {
            "tags": []
          },
          "execution_count": 42
        }
      ]
    },
    {
      "cell_type": "code",
      "metadata": {
        "id": "Qoh3gkXWMtyP",
        "colab_type": "code",
        "colab": {}
      },
      "source": [
        "target = ['Close_Higher_Than_Yesterday']\n",
        "drop = ['Date','Year']\n",
        "\n",
        "\n",
        "train = spy_1994_2013.drop(columns=drop)\n",
        "test = spy_2017.drop(columns=drop)\n",
        "val = spy_2019.drop(columns=drop)\n",
        "\n",
        "X_val = val.drop(columns=target)\n",
        "y_val = val[target]\n",
        "\n",
        "X_test = test.drop(columns=target)\n",
        "y_test = test[target]\n",
        "\n",
        "X_train = train.drop(columns=target)\n",
        "y_train = train[target]"
      ],
      "execution_count": 0,
      "outputs": []
    },
    {
      "cell_type": "code",
      "metadata": {
        "id": "UnAXhwrzMtyT",
        "colab_type": "code",
        "colab": {},
        "outputId": "97cd644d-6aff-44fb-c36d-ac5d43850f9b"
      },
      "source": [
        "X_test.head()"
      ],
      "execution_count": 0,
      "outputs": [
        {
          "output_type": "execute_result",
          "data": {
            "text/html": [
              "<div>\n",
              "<style scoped>\n",
              "    .dataframe tbody tr th:only-of-type {\n",
              "        vertical-align: middle;\n",
              "    }\n",
              "\n",
              "    .dataframe tbody tr th {\n",
              "        vertical-align: top;\n",
              "    }\n",
              "\n",
              "    .dataframe thead th {\n",
              "        text-align: right;\n",
              "    }\n",
              "</style>\n",
              "<table border=\"1\" class=\"dataframe\">\n",
              "  <thead>\n",
              "    <tr style=\"text-align: right;\">\n",
              "      <th></th>\n",
              "      <th>Close</th>\n",
              "      <th>Volume</th>\n",
              "      <th>SMA</th>\n",
              "      <th>SMA_Yesterday</th>\n",
              "      <th>Above_14D_SMA_Yesterday</th>\n",
              "      <th>Below_14D_SMA_Yesterday</th>\n",
              "    </tr>\n",
              "  </thead>\n",
              "  <tbody>\n",
              "    <tr>\n",
              "      <th>6026</th>\n",
              "      <td>225.240005</td>\n",
              "      <td>91366500</td>\n",
              "      <td>225.576429</td>\n",
              "      <td>225.648572</td>\n",
              "      <td>1</td>\n",
              "      <td>0</td>\n",
              "    </tr>\n",
              "    <tr>\n",
              "      <th>6027</th>\n",
              "      <td>226.580002</td>\n",
              "      <td>78744400</td>\n",
              "      <td>225.492144</td>\n",
              "      <td>225.576429</td>\n",
              "      <td>1</td>\n",
              "      <td>0</td>\n",
              "    </tr>\n",
              "    <tr>\n",
              "      <th>6028</th>\n",
              "      <td>226.399994</td>\n",
              "      <td>78379000</td>\n",
              "      <td>225.529286</td>\n",
              "      <td>225.492144</td>\n",
              "      <td>0</td>\n",
              "      <td>1</td>\n",
              "    </tr>\n",
              "    <tr>\n",
              "      <th>6029</th>\n",
              "      <td>227.210007</td>\n",
              "      <td>71559900</td>\n",
              "      <td>225.557858</td>\n",
              "      <td>225.529286</td>\n",
              "      <td>0</td>\n",
              "      <td>1</td>\n",
              "    </tr>\n",
              "    <tr>\n",
              "      <th>6030</th>\n",
              "      <td>226.460007</td>\n",
              "      <td>46939700</td>\n",
              "      <td>225.659288</td>\n",
              "      <td>225.557858</td>\n",
              "      <td>0</td>\n",
              "      <td>1</td>\n",
              "    </tr>\n",
              "  </tbody>\n",
              "</table>\n",
              "</div>"
            ],
            "text/plain": [
              "           Close    Volume         SMA  SMA_Yesterday  \\\n",
              "6026  225.240005  91366500  225.576429     225.648572   \n",
              "6027  226.580002  78744400  225.492144     225.576429   \n",
              "6028  226.399994  78379000  225.529286     225.492144   \n",
              "6029  227.210007  71559900  225.557858     225.529286   \n",
              "6030  226.460007  46939700  225.659288     225.557858   \n",
              "\n",
              "      Above_14D_SMA_Yesterday  Below_14D_SMA_Yesterday  \n",
              "6026                        1                        0  \n",
              "6027                        1                        0  \n",
              "6028                        0                        1  \n",
              "6029                        0                        1  \n",
              "6030                        0                        1  "
            ]
          },
          "metadata": {
            "tags": []
          },
          "execution_count": 44
        }
      ]
    },
    {
      "cell_type": "code",
      "metadata": {
        "id": "VYsadVwnMtyW",
        "colab_type": "code",
        "colab": {}
      },
      "source": [
        "from sklearn.ensemble import RandomForestClassifier\n",
        "from sklearn.pipeline import make_pipeline"
      ],
      "execution_count": 0,
      "outputs": []
    },
    {
      "cell_type": "code",
      "metadata": {
        "id": "B_JjJardMtyY",
        "colab_type": "code",
        "colab": {},
        "outputId": "d4803ae3-27a5-4d31-cc7d-15e889c050eb"
      },
      "source": [
        "pipeline = make_pipeline(\n",
        "    RandomForestClassifier(n_estimators=100, random_state=42, n_jobs=-1)\n",
        ")\n",
        "\n",
        "pipeline.fit(X_train, y_train)\n",
        "print('MAJORITY CLASS Validation Accuracy', pipeline.score(X_val, y_val))"
      ],
      "execution_count": 0,
      "outputs": [
        {
          "output_type": "stream",
          "text": [
            "C:\\Users\\Sarmen\\Anaconda3\\lib\\site-packages\\sklearn\\pipeline.py:267: DataConversionWarning: A column-vector y was passed when a 1d array was expected. Please change the shape of y to (n_samples,), for example using ravel().\n",
            "  self._final_estimator.fit(Xt, y, **fit_params)\n"
          ],
          "name": "stderr"
        },
        {
          "output_type": "stream",
          "text": [
            "MAJORITY CLASS Validation Accuracy 0.5548780487804879\n"
          ],
          "name": "stdout"
        }
      ]
    },
    {
      "cell_type": "code",
      "metadata": {
        "id": "jh8o57iKMtyb",
        "colab_type": "code",
        "colab": {},
        "outputId": "f7d7ebed-1d19-4755-b015-5cf8fe410ad7"
      },
      "source": [
        "from sklearn.metrics import confusion_matrix\n",
        "from sklearn.utils.multiclass import unique_labels\n",
        "\n",
        "y_pred = pipeline.predict(X_val)\n",
        "\n",
        "confusion_matrix(y_val, y_pred)"
      ],
      "execution_count": 0,
      "outputs": [
        {
          "output_type": "execute_result",
          "data": {
            "text/plain": [
              "array([[32, 36],\n",
              "       [37, 59]], dtype=int64)"
            ]
          },
          "metadata": {
            "tags": []
          },
          "execution_count": 47
        }
      ]
    },
    {
      "cell_type": "code",
      "metadata": {
        "id": "3LgTs49RMtyd",
        "colab_type": "code",
        "colab": {},
        "outputId": "8009ff2d-8b97-412f-d639-6c5406d020e1"
      },
      "source": [
        "def plot_confusion_matrix(y_true, y_pred):\n",
        "    labels = unique_labels(y_true)\n",
        "    columns = [f'Predicted {label}' for label in labels]\n",
        "    index = [f'Actual {label}' for label in labels]\n",
        "    return columns, index\n",
        "\n",
        "plot_confusion_matrix(y_val, y_pred)"
      ],
      "execution_count": 0,
      "outputs": [
        {
          "output_type": "execute_result",
          "data": {
            "text/plain": [
              "(['Predicted 0', 'Predicted 1'], ['Actual 0', 'Actual 1'])"
            ]
          },
          "metadata": {
            "tags": []
          },
          "execution_count": 48
        }
      ]
    },
    {
      "cell_type": "code",
      "metadata": {
        "id": "2MPTZT2BMtye",
        "colab_type": "code",
        "colab": {},
        "outputId": "db9fd411-c32c-42b3-894c-01b824c74e2f"
      },
      "source": [
        "def plot_confusion_matrix(y_true, y_pred):\n",
        "    labels = unique_labels(y_true)\n",
        "    columns = [f'Predicted {label}' for label in labels]\n",
        "    index = [f'Actual {label}' for label in labels]\n",
        "    table = pd.DataFrame(confusion_matrix(y_true, y_pred),\n",
        "                         columns=columns, index=index)\n",
        "    return table\n",
        "\n",
        "plot_confusion_matrix(y_val, y_pred)"
      ],
      "execution_count": 0,
      "outputs": [
        {
          "output_type": "execute_result",
          "data": {
            "text/html": [
              "<div>\n",
              "<style scoped>\n",
              "    .dataframe tbody tr th:only-of-type {\n",
              "        vertical-align: middle;\n",
              "    }\n",
              "\n",
              "    .dataframe tbody tr th {\n",
              "        vertical-align: top;\n",
              "    }\n",
              "\n",
              "    .dataframe thead th {\n",
              "        text-align: right;\n",
              "    }\n",
              "</style>\n",
              "<table border=\"1\" class=\"dataframe\">\n",
              "  <thead>\n",
              "    <tr style=\"text-align: right;\">\n",
              "      <th></th>\n",
              "      <th>Predicted 0</th>\n",
              "      <th>Predicted 1</th>\n",
              "    </tr>\n",
              "  </thead>\n",
              "  <tbody>\n",
              "    <tr>\n",
              "      <th>Actual 0</th>\n",
              "      <td>32</td>\n",
              "      <td>36</td>\n",
              "    </tr>\n",
              "    <tr>\n",
              "      <th>Actual 1</th>\n",
              "      <td>37</td>\n",
              "      <td>59</td>\n",
              "    </tr>\n",
              "  </tbody>\n",
              "</table>\n",
              "</div>"
            ],
            "text/plain": [
              "          Predicted 0  Predicted 1\n",
              "Actual 0           32           36\n",
              "Actual 1           37           59"
            ]
          },
          "metadata": {
            "tags": []
          },
          "execution_count": 50
        }
      ]
    },
    {
      "cell_type": "code",
      "metadata": {
        "id": "kf9VQzViMtyg",
        "colab_type": "code",
        "colab": {},
        "outputId": "48ccc27b-f096-48be-8710-a9bb57c1f495"
      },
      "source": [
        "import seaborn as sns\n",
        "\n",
        "def plot_confusion_matrix(y_true, y_pred):\n",
        "    labels = unique_labels(y_true)\n",
        "    columns = [f'Predicted {label}' for label in labels]\n",
        "    index = [f'Actual {label}' for label in labels]\n",
        "    table = pd.DataFrame(confusion_matrix(y_true, y_pred),\n",
        "                         columns=columns, index=index)\n",
        "    return sns.heatmap(table, annot=True, fmt='d', cmap='viridis')\n",
        "\n",
        "plot_confusion_matrix(y_val, y_pred);"
      ],
      "execution_count": 0,
      "outputs": [
        {
          "output_type": "display_data",
          "data": {
            "image/png": "[encoded data removed]",
            "text/plain": [
              "<Figure size 432x288 with 2 Axes>"
            ]
          },
          "metadata": {
            "tags": [],
            "needs_background": "light"
          }
        }
      ]
    },
    {
      "cell_type": "code",
      "metadata": {
        "id": "_up_ODkTMtyi",
        "colab_type": "code",
        "colab": {},
        "outputId": "9a7e62d4-bc4b-451d-a8fd-3a5d78af5beb"
      },
      "source": [
        "from sklearn.metrics import classification_report\n",
        "print(classification_report(y_val, y_pred))"
      ],
      "execution_count": 0,
      "outputs": [
        {
          "output_type": "stream",
          "text": [
            "              precision    recall  f1-score   support\n",
            "\n",
            "           0       0.46      0.47      0.47        68\n",
            "           1       0.62      0.61      0.62        96\n",
            "\n",
            "   micro avg       0.55      0.55      0.55       164\n",
            "   macro avg       0.54      0.54      0.54       164\n",
            "weighted avg       0.56      0.55      0.56       164\n",
            "\n"
          ],
          "name": "stdout"
        }
      ]
    },
    {
      "cell_type": "markdown",
      "metadata": {
        "id": "hwt7N6COMtyk",
        "colab_type": "text"
      },
      "source": [
        "# Continue to clean and explore your data. Make exploratory visualizations."
      ]
    },
    {
      "cell_type": "code",
      "metadata": {
        "id": "MJv1DPXyMtyk",
        "colab_type": "code",
        "colab": {},
        "outputId": "d78c745a-ca2e-45c7-84c8-583f427a57f9"
      },
      "source": [
        "import pandas as pd\n",
        "\n",
        "Close = spy['Close']\n",
        "\n",
        "# Get the difference in price from previous step\n",
        "\n",
        "delta = Close.diff()\n",
        "\n",
        "# Get rid of the first row, which is NaN since it did not have a previous \n",
        "# row to calculate the differences\n",
        "delta = delta[1:] \n",
        "\n",
        "# Make the positive gains (up) and negative gains (down) Series\n",
        "up, down = delta.copy(), delta.copy()\n",
        "up[up < 0] = 0\n",
        "down[down > 0] = 0\n",
        "\n",
        "# # Calculate the EWMA\n",
        "\n",
        "spy['Roll_Up'] = up.shift(1)\n",
        "spy['Roll_Down'] = down.abs().shift(1)\n",
        "\n",
        "spy['Roll_Up1'] = spy['Roll_Up'].ewm(com=7).mean()\n",
        "spy['Roll_Down1'] = spy['Roll_Down'].ewm(com=7).mean()\n",
        "\n",
        "# # Calculate the RSI based on EWMA\n",
        "\n",
        "RS1 = spy['Roll_Up1'] / spy['Roll_Down1']\n",
        "RSI1 = 100.0 - (100.0 / (1.0 + RS1))\n",
        "\n",
        "spy['RSI_Yesterday_EXP'] = RSI1\n",
        "\n",
        "# Calculate the SMA\n",
        "spy['Roll_Up2'] = spy['Roll_Up'].rolling(window = 7).mean()\n",
        "spy['Roll_Down2'] = spy['Roll_Down'].rolling(window = 7).mean()\n",
        "\n",
        "# Calculate the RSI based on SMA\n",
        "RS2 = spy['Roll_Up2'] / spy['Roll_Down2']\n",
        "RSI2 = 100.0 - (100.0 / (1.0 + RS2))\n",
        "\n",
        "spy['RSI_Yesterday_SMA'] = RSI2\n",
        "\n",
        "# Compare graphically\n",
        "plt.figure()\n",
        "RSI1.plot()\n",
        "RSI2.plot()\n",
        "plt.legend(['RSI via EWMA', 'RSI via SMA'])\n",
        "plt.show()"
      ],
      "execution_count": 0,
      "outputs": [
        {
          "output_type": "display_data",
          "data": {
            "image/png": "[encoded data removed]",
            "text/plain": [
              "<Figure size 432x288 with 1 Axes>"
            ]
          },
          "metadata": {
            "tags": [],
            "needs_background": "light"
          }
        }
      ]
    },
    {
      "cell_type": "code",
      "metadata": {
        "id": "X7jomFZbMtyn",
        "colab_type": "code",
        "colab": {}
      },
      "source": [
        "pd.set_option('display.max_rows', 500)\n",
        "pd.set_option('display.max_columns', 500)\n",
        "pd.set_option('display.width', 1000)"
      ],
      "execution_count": 0,
      "outputs": []
    },
    {
      "cell_type": "code",
      "metadata": {
        "scrolled": true,
        "id": "9p--e3zOMtyp",
        "colab_type": "code",
        "colab": {},
        "outputId": "ed24e2d6-34b7-41ac-bafe-69e942931275"
      },
      "source": [
        "spy.head(20)"
      ],
      "execution_count": 0,
      "outputs": [
        {
          "output_type": "execute_result",
          "data": {
            "text/html": [
              "<div>\n",
              "<style scoped>\n",
              "    .dataframe tbody tr th:only-of-type {\n",
              "        vertical-align: middle;\n",
              "    }\n",
              "\n",
              "    .dataframe tbody tr th {\n",
              "        vertical-align: top;\n",
              "    }\n",
              "\n",
              "    .dataframe thead th {\n",
              "        text-align: right;\n",
              "    }\n",
              "</style>\n",
              "<table border=\"1\" class=\"dataframe\">\n",
              "  <thead>\n",
              "    <tr style=\"text-align: right;\">\n",
              "      <th></th>\n",
              "      <th>Date</th>\n",
              "      <th>Close</th>\n",
              "      <th>Volume</th>\n",
              "      <th>Year</th>\n",
              "      <th>SMA</th>\n",
              "      <th>SMA_Yesterday</th>\n",
              "      <th>Above_14D_SMA_Yesterday</th>\n",
              "      <th>Below_14D_SMA_Yesterday</th>\n",
              "      <th>Close_Higher_Than_Yesterday</th>\n",
              "      <th>Roll_Up</th>\n",
              "      <th>Roll_Down</th>\n",
              "      <th>Roll_Up1</th>\n",
              "      <th>Roll_Down1</th>\n",
              "      <th>RSI_Yesterday_EXP</th>\n",
              "      <th>Roll_Up2</th>\n",
              "      <th>Roll_Down2</th>\n",
              "      <th>RSI_Yesterday_SMA</th>\n",
              "    </tr>\n",
              "  </thead>\n",
              "  <tbody>\n",
              "    <tr>\n",
              "      <th>0</th>\n",
              "      <td>1993-01-29</td>\n",
              "      <td>43.93750</td>\n",
              "      <td>1003200</td>\n",
              "      <td>1993</td>\n",
              "      <td>NaN</td>\n",
              "      <td>NaN</td>\n",
              "      <td>1</td>\n",
              "      <td>1</td>\n",
              "      <td>n</td>\n",
              "      <td>NaN</td>\n",
              "      <td>NaN</td>\n",
              "      <td>NaN</td>\n",
              "      <td>NaN</td>\n",
              "      <td>NaN</td>\n",
              "      <td>NaN</td>\n",
              "      <td>NaN</td>\n",
              "      <td>NaN</td>\n",
              "    </tr>\n",
              "    <tr>\n",
              "      <th>1</th>\n",
              "      <td>1993-02-01</td>\n",
              "      <td>44.25000</td>\n",
              "      <td>480500</td>\n",
              "      <td>1993</td>\n",
              "      <td>NaN</td>\n",
              "      <td>NaN</td>\n",
              "      <td>1</td>\n",
              "      <td>1</td>\n",
              "      <td>1</td>\n",
              "      <td>NaN</td>\n",
              "      <td>NaN</td>\n",
              "      <td>NaN</td>\n",
              "      <td>NaN</td>\n",
              "      <td>NaN</td>\n",
              "      <td>NaN</td>\n",
              "      <td>NaN</td>\n",
              "      <td>NaN</td>\n",
              "    </tr>\n",
              "    <tr>\n",
              "      <th>2</th>\n",
              "      <td>1993-02-02</td>\n",
              "      <td>44.34375</td>\n",
              "      <td>201300</td>\n",
              "      <td>1993</td>\n",
              "      <td>NaN</td>\n",
              "      <td>NaN</td>\n",
              "      <td>1</td>\n",
              "      <td>1</td>\n",
              "      <td>1</td>\n",
              "      <td>0.31250</td>\n",
              "      <td>0.00000</td>\n",
              "      <td>0.312500</td>\n",
              "      <td>0.000000</td>\n",
              "      <td>100.000000</td>\n",
              "      <td>NaN</td>\n",
              "      <td>NaN</td>\n",
              "      <td>NaN</td>\n",
              "    </tr>\n",
              "    <tr>\n",
              "      <th>3</th>\n",
              "      <td>1993-02-03</td>\n",
              "      <td>44.81250</td>\n",
              "      <td>529400</td>\n",
              "      <td>1993</td>\n",
              "      <td>NaN</td>\n",
              "      <td>NaN</td>\n",
              "      <td>1</td>\n",
              "      <td>1</td>\n",
              "      <td>1</td>\n",
              "      <td>0.09375</td>\n",
              "      <td>0.00000</td>\n",
              "      <td>0.199353</td>\n",
              "      <td>0.000000</td>\n",
              "      <td>100.000000</td>\n",
              "      <td>NaN</td>\n",
              "      <td>NaN</td>\n",
              "      <td>NaN</td>\n",
              "    </tr>\n",
              "    <tr>\n",
              "      <th>4</th>\n",
              "      <td>1993-02-04</td>\n",
              "      <td>45.00000</td>\n",
              "      <td>531500</td>\n",
              "      <td>1993</td>\n",
              "      <td>NaN</td>\n",
              "      <td>NaN</td>\n",
              "      <td>1</td>\n",
              "      <td>1</td>\n",
              "      <td>1</td>\n",
              "      <td>0.46875</td>\n",
              "      <td>0.00000</td>\n",
              "      <td>0.295414</td>\n",
              "      <td>0.000000</td>\n",
              "      <td>100.000000</td>\n",
              "      <td>NaN</td>\n",
              "      <td>NaN</td>\n",
              "      <td>NaN</td>\n",
              "    </tr>\n",
              "    <tr>\n",
              "      <th>5</th>\n",
              "      <td>1993-02-05</td>\n",
              "      <td>44.96875</td>\n",
              "      <td>492100</td>\n",
              "      <td>1993</td>\n",
              "      <td>NaN</td>\n",
              "      <td>NaN</td>\n",
              "      <td>1</td>\n",
              "      <td>1</td>\n",
              "      <td>0</td>\n",
              "      <td>0.18750</td>\n",
              "      <td>0.00000</td>\n",
              "      <td>0.265583</td>\n",
              "      <td>0.000000</td>\n",
              "      <td>100.000000</td>\n",
              "      <td>NaN</td>\n",
              "      <td>NaN</td>\n",
              "      <td>NaN</td>\n",
              "    </tr>\n",
              "    <tr>\n",
              "      <th>6</th>\n",
              "      <td>1993-02-08</td>\n",
              "      <td>44.96875</td>\n",
              "      <td>596100</td>\n",
              "      <td>1993</td>\n",
              "      <td>NaN</td>\n",
              "      <td>NaN</td>\n",
              "      <td>1</td>\n",
              "      <td>1</td>\n",
              "      <td>1</td>\n",
              "      <td>0.00000</td>\n",
              "      <td>0.03125</td>\n",
              "      <td>0.204896</td>\n",
              "      <td>0.007141</td>\n",
              "      <td>96.632330</td>\n",
              "      <td>NaN</td>\n",
              "      <td>NaN</td>\n",
              "      <td>NaN</td>\n",
              "    </tr>\n",
              "    <tr>\n",
              "      <th>7</th>\n",
              "      <td>1993-02-09</td>\n",
              "      <td>44.65625</td>\n",
              "      <td>122100</td>\n",
              "      <td>1993</td>\n",
              "      <td>NaN</td>\n",
              "      <td>NaN</td>\n",
              "      <td>1</td>\n",
              "      <td>1</td>\n",
              "      <td>0</td>\n",
              "      <td>0.00000</td>\n",
              "      <td>0.00000</td>\n",
              "      <td>0.164599</td>\n",
              "      <td>0.005736</td>\n",
              "      <td>96.632330</td>\n",
              "      <td>NaN</td>\n",
              "      <td>NaN</td>\n",
              "      <td>NaN</td>\n",
              "    </tr>\n",
              "    <tr>\n",
              "      <th>8</th>\n",
              "      <td>1993-02-10</td>\n",
              "      <td>44.71875</td>\n",
              "      <td>379600</td>\n",
              "      <td>1993</td>\n",
              "      <td>NaN</td>\n",
              "      <td>NaN</td>\n",
              "      <td>1</td>\n",
              "      <td>1</td>\n",
              "      <td>1</td>\n",
              "      <td>0.00000</td>\n",
              "      <td>0.31250</td>\n",
              "      <td>0.135951</td>\n",
              "      <td>0.059127</td>\n",
              "      <td>69.690392</td>\n",
              "      <td>NaN</td>\n",
              "      <td>NaN</td>\n",
              "      <td>NaN</td>\n",
              "    </tr>\n",
              "    <tr>\n",
              "      <th>9</th>\n",
              "      <td>1993-02-11</td>\n",
              "      <td>44.93750</td>\n",
              "      <td>19500</td>\n",
              "      <td>1993</td>\n",
              "      <td>NaN</td>\n",
              "      <td>NaN</td>\n",
              "      <td>1</td>\n",
              "      <td>1</td>\n",
              "      <td>1</td>\n",
              "      <td>0.06250</td>\n",
              "      <td>0.00000</td>\n",
              "      <td>0.124407</td>\n",
              "      <td>0.049834</td>\n",
              "      <td>71.399142</td>\n",
              "      <td>NaN</td>\n",
              "      <td>NaN</td>\n",
              "      <td>NaN</td>\n",
              "    </tr>\n",
              "    <tr>\n",
              "      <th>10</th>\n",
              "      <td>1993-02-12</td>\n",
              "      <td>44.59375</td>\n",
              "      <td>42500</td>\n",
              "      <td>1993</td>\n",
              "      <td>NaN</td>\n",
              "      <td>NaN</td>\n",
              "      <td>1</td>\n",
              "      <td>1</td>\n",
              "      <td>0</td>\n",
              "      <td>0.21875</td>\n",
              "      <td>0.00000</td>\n",
              "      <td>0.138004</td>\n",
              "      <td>0.042652</td>\n",
              "      <td>76.390478</td>\n",
              "      <td>NaN</td>\n",
              "      <td>NaN</td>\n",
              "      <td>NaN</td>\n",
              "    </tr>\n",
              "    <tr>\n",
              "      <th>11</th>\n",
              "      <td>1993-02-16</td>\n",
              "      <td>43.46875</td>\n",
              "      <td>374800</td>\n",
              "      <td>1993</td>\n",
              "      <td>NaN</td>\n",
              "      <td>NaN</td>\n",
              "      <td>1</td>\n",
              "      <td>1</td>\n",
              "      <td>0</td>\n",
              "      <td>0.00000</td>\n",
              "      <td>0.34375</td>\n",
              "      <td>0.119544</td>\n",
              "      <td>0.082928</td>\n",
              "      <td>59.042145</td>\n",
              "      <td>NaN</td>\n",
              "      <td>NaN</td>\n",
              "      <td>NaN</td>\n",
              "    </tr>\n",
              "    <tr>\n",
              "      <th>12</th>\n",
              "      <td>1993-02-17</td>\n",
              "      <td>43.43750</td>\n",
              "      <td>210900</td>\n",
              "      <td>1993</td>\n",
              "      <td>NaN</td>\n",
              "      <td>NaN</td>\n",
              "      <td>1</td>\n",
              "      <td>1</td>\n",
              "      <td>0</td>\n",
              "      <td>0.00000</td>\n",
              "      <td>1.12500</td>\n",
              "      <td>0.104559</td>\n",
              "      <td>0.213556</td>\n",
              "      <td>32.868258</td>\n",
              "      <td>NaN</td>\n",
              "      <td>NaN</td>\n",
              "      <td>NaN</td>\n",
              "    </tr>\n",
              "    <tr>\n",
              "      <th>13</th>\n",
              "      <td>1993-02-18</td>\n",
              "      <td>43.40625</td>\n",
              "      <td>378100</td>\n",
              "      <td>1993</td>\n",
              "      <td>44.392857</td>\n",
              "      <td>NaN</td>\n",
              "      <td>1</td>\n",
              "      <td>1</td>\n",
              "      <td>0</td>\n",
              "      <td>0.00000</td>\n",
              "      <td>0.03125</td>\n",
              "      <td>0.092178</td>\n",
              "      <td>0.191970</td>\n",
              "      <td>32.440251</td>\n",
              "      <td>NaN</td>\n",
              "      <td>NaN</td>\n",
              "      <td>NaN</td>\n",
              "    </tr>\n",
              "    <tr>\n",
              "      <th>14</th>\n",
              "      <td>1993-02-19</td>\n",
              "      <td>43.56250</td>\n",
              "      <td>34900</td>\n",
              "      <td>1993</td>\n",
              "      <td>44.366071</td>\n",
              "      <td>44.392857</td>\n",
              "      <td>1</td>\n",
              "      <td>0</td>\n",
              "      <td>1</td>\n",
              "      <td>0.00000</td>\n",
              "      <td>0.03125</td>\n",
              "      <td>0.081801</td>\n",
              "      <td>0.173876</td>\n",
              "      <td>31.993871</td>\n",
              "      <td>NaN</td>\n",
              "      <td>NaN</td>\n",
              "      <td>NaN</td>\n",
              "    </tr>\n",
              "    <tr>\n",
              "      <th>15</th>\n",
              "      <td>1993-02-22</td>\n",
              "      <td>43.71875</td>\n",
              "      <td>513600</td>\n",
              "      <td>1993</td>\n",
              "      <td>44.328125</td>\n",
              "      <td>44.366071</td>\n",
              "      <td>1</td>\n",
              "      <td>0</td>\n",
              "      <td>1</td>\n",
              "      <td>0.15625</td>\n",
              "      <td>0.00000</td>\n",
              "      <td>0.089814</td>\n",
              "      <td>0.155160</td>\n",
              "      <td>36.662750</td>\n",
              "      <td>0.107143</td>\n",
              "      <td>0.133929</td>\n",
              "      <td>44.444444</td>\n",
              "    </tr>\n",
              "    <tr>\n",
              "      <th>16</th>\n",
              "      <td>1993-02-23</td>\n",
              "      <td>43.68750</td>\n",
              "      <td>373700</td>\n",
              "      <td>1993</td>\n",
              "      <td>44.281250</td>\n",
              "      <td>44.328125</td>\n",
              "      <td>1</td>\n",
              "      <td>0</td>\n",
              "      <td>0</td>\n",
              "      <td>0.15625</td>\n",
              "      <td>0.00000</td>\n",
              "      <td>0.096684</td>\n",
              "      <td>0.139116</td>\n",
              "      <td>41.002469</td>\n",
              "      <td>0.095982</td>\n",
              "      <td>0.133929</td>\n",
              "      <td>41.747573</td>\n",
              "    </tr>\n",
              "    <tr>\n",
              "      <th>17</th>\n",
              "      <td>1993-02-24</td>\n",
              "      <td>44.25000</td>\n",
              "      <td>26300</td>\n",
              "      <td>1993</td>\n",
              "      <td>44.241071</td>\n",
              "      <td>44.281250</td>\n",
              "      <td>1</td>\n",
              "      <td>0</td>\n",
              "      <td>1</td>\n",
              "      <td>0.00000</td>\n",
              "      <td>0.03125</td>\n",
              "      <td>0.087041</td>\n",
              "      <td>0.128358</td>\n",
              "      <td>40.409167</td>\n",
              "      <td>0.089286</td>\n",
              "      <td>0.136161</td>\n",
              "      <td>39.603960</td>\n",
              "    </tr>\n",
              "    <tr>\n",
              "      <th>18</th>\n",
              "      <td>1993-02-25</td>\n",
              "      <td>44.34375</td>\n",
              "      <td>44500</td>\n",
              "      <td>1993</td>\n",
              "      <td>44.194196</td>\n",
              "      <td>44.241071</td>\n",
              "      <td>0</td>\n",
              "      <td>1</td>\n",
              "      <td>1</td>\n",
              "      <td>0.56250</td>\n",
              "      <td>0.00000</td>\n",
              "      <td>0.132944</td>\n",
              "      <td>0.115966</td>\n",
              "      <td>53.410533</td>\n",
              "      <td>0.095982</td>\n",
              "      <td>0.136161</td>\n",
              "      <td>41.346154</td>\n",
              "    </tr>\n",
              "    <tr>\n",
              "      <th>19</th>\n",
              "      <td>1993-02-26</td>\n",
              "      <td>44.40625</td>\n",
              "      <td>66200</td>\n",
              "      <td>1993</td>\n",
              "      <td>44.154018</td>\n",
              "      <td>44.194196</td>\n",
              "      <td>0</td>\n",
              "      <td>1</td>\n",
              "      <td>1</td>\n",
              "      <td>0.09375</td>\n",
              "      <td>0.00000</td>\n",
              "      <td>0.129270</td>\n",
              "      <td>0.105095</td>\n",
              "      <td>55.157603</td>\n",
              "      <td>0.089286</td>\n",
              "      <td>0.136161</td>\n",
              "      <td>39.603960</td>\n",
              "    </tr>\n",
              "  </tbody>\n",
              "</table>\n",
              "</div>"
            ],
            "text/plain": [
              "         Date     Close   Volume  Year        SMA  SMA_Yesterday  Above_14D_SMA_Yesterday  Below_14D_SMA_Yesterday Close_Higher_Than_Yesterday  Roll_Up  Roll_Down  Roll_Up1  Roll_Down1  RSI_Yesterday_EXP  Roll_Up2  Roll_Down2  RSI_Yesterday_SMA\n",
              "0  1993-01-29  43.93750  1003200  1993        NaN            NaN                        1                        1                           n      NaN        NaN       NaN         NaN                NaN       NaN         NaN                NaN\n",
              "1  1993-02-01  44.25000   480500  1993        NaN            NaN                        1                        1                           1      NaN        NaN       NaN         NaN                NaN       NaN         NaN                NaN\n",
              "2  1993-02-02  44.34375   201300  1993        NaN            NaN                        1                        1                           1  0.31250    0.00000  0.312500    0.000000         100.000000       NaN         NaN                NaN\n",
              "3  1993-02-03  44.81250   529400  1993        NaN            NaN                        1                        1                           1  0.09375    0.00000  0.199353    0.000000         100.000000       NaN         NaN                NaN\n",
              "4  1993-02-04  45.00000   531500  1993        NaN            NaN                        1                        1                           1  0.46875    0.00000  0.295414    0.000000         100.000000       NaN         NaN                NaN\n",
              "5  1993-02-05  44.96875   492100  1993        NaN            NaN                        1                        1                           0  0.18750    0.00000  0.265583    0.000000         100.000000       NaN         NaN                NaN\n",
              "6  1993-02-08  44.96875   596100  1993        NaN            NaN                        1                        1                           1  0.00000    0.03125  0.204896    0.007141          96.632330       NaN         NaN                NaN\n",
              "7  1993-02-09  44.65625   122100  1993        NaN            NaN                        1                        1                           0  0.00000    0.00000  0.164599    0.005736          96.632330       NaN         NaN                NaN\n",
              "8  1993-02-10  44.71875   379600  1993        NaN            NaN                        1                        1                           1  0.00000    0.31250  0.135951    0.059127          69.690392       NaN         NaN                NaN\n",
              "9  1993-02-11  44.93750    19500  1993        NaN            NaN                        1                        1                           1  0.06250    0.00000  0.124407    0.049834          71.399142       NaN         NaN                NaN\n",
              "10 1993-02-12  44.59375    42500  1993        NaN            NaN                        1                        1                           0  0.21875    0.00000  0.138004    0.042652          76.390478       NaN         NaN                NaN\n",
              "11 1993-02-16  43.46875   374800  1993        NaN            NaN                        1                        1                           0  0.00000    0.34375  0.119544    0.082928          59.042145       NaN         NaN                NaN\n",
              "12 1993-02-17  43.43750   210900  1993        NaN            NaN                        1                        1                           0  0.00000    1.12500  0.104559    0.213556          32.868258       NaN         NaN                NaN\n",
              "13 1993-02-18  43.40625   378100  1993  44.392857            NaN                        1                        1                           0  0.00000    0.03125  0.092178    0.191970          32.440251       NaN         NaN                NaN\n",
              "14 1993-02-19  43.56250    34900  1993  44.366071      44.392857                        1                        0                           1  0.00000    0.03125  0.081801    0.173876          31.993871       NaN         NaN                NaN\n",
              "15 1993-02-22  43.71875   513600  1993  44.328125      44.366071                        1                        0                           1  0.15625    0.00000  0.089814    0.155160          36.662750  0.107143    0.133929          44.444444\n",
              "16 1993-02-23  43.68750   373700  1993  44.281250      44.328125                        1                        0                           0  0.15625    0.00000  0.096684    0.139116          41.002469  0.095982    0.133929          41.747573\n",
              "17 1993-02-24  44.25000    26300  1993  44.241071      44.281250                        1                        0                           1  0.00000    0.03125  0.087041    0.128358          40.409167  0.089286    0.136161          39.603960\n",
              "18 1993-02-25  44.34375    44500  1993  44.194196      44.241071                        0                        1                           1  0.56250    0.00000  0.132944    0.115966          53.410533  0.095982    0.136161          41.346154\n",
              "19 1993-02-26  44.40625    66200  1993  44.154018      44.194196                        0                        1                           1  0.09375    0.00000  0.129270    0.105095          55.157603  0.089286    0.136161          39.603960"
            ]
          },
          "metadata": {
            "tags": []
          },
          "execution_count": 55
        }
      ]
    },
    {
      "cell_type": "code",
      "metadata": {
        "id": "Znb6jgEwMtys",
        "colab_type": "code",
        "colab": {},
        "outputId": "9f89443b-819d-49b5-9c1f-6af9db722a64"
      },
      "source": [
        "spy.tail()"
      ],
      "execution_count": 0,
      "outputs": [
        {
          "output_type": "execute_result",
          "data": {
            "text/html": [
              "<div>\n",
              "<style scoped>\n",
              "    .dataframe tbody tr th:only-of-type {\n",
              "        vertical-align: middle;\n",
              "    }\n",
              "\n",
              "    .dataframe tbody tr th {\n",
              "        vertical-align: top;\n",
              "    }\n",
              "\n",
              "    .dataframe thead th {\n",
              "        text-align: right;\n",
              "    }\n",
              "</style>\n",
              "<table border=\"1\" class=\"dataframe\">\n",
              "  <thead>\n",
              "    <tr style=\"text-align: right;\">\n",
              "      <th></th>\n",
              "      <th>Date</th>\n",
              "      <th>Close</th>\n",
              "      <th>Volume</th>\n",
              "      <th>Year</th>\n",
              "      <th>SMA</th>\n",
              "      <th>SMA_Yesterday</th>\n",
              "      <th>Above_14D_SMA_Yesterday</th>\n",
              "      <th>Below_14D_SMA_Yesterday</th>\n",
              "      <th>Close_Higher_Than_Yesterday</th>\n",
              "      <th>Roll_Up</th>\n",
              "      <th>Roll_Down</th>\n",
              "      <th>Roll_Up1</th>\n",
              "      <th>Roll_Down1</th>\n",
              "      <th>RSI_Yesterday_EXP</th>\n",
              "      <th>Roll_Up2</th>\n",
              "      <th>Roll_Down2</th>\n",
              "      <th>RSI_Yesterday_SMA</th>\n",
              "    </tr>\n",
              "  </thead>\n",
              "  <tbody>\n",
              "    <tr>\n",
              "      <th>6687</th>\n",
              "      <td>2019-08-20</td>\n",
              "      <td>290.089996</td>\n",
              "      <td>51596400</td>\n",
              "      <td>2019</td>\n",
              "      <td>289.480711</td>\n",
              "      <td>290.004996</td>\n",
              "      <td>0</td>\n",
              "      <td>1</td>\n",
              "      <td>0</td>\n",
              "      <td>3.479981</td>\n",
              "      <td>0.000000</td>\n",
              "      <td>1.447046</td>\n",
              "      <td>1.454933</td>\n",
              "      <td>49.864107</td>\n",
              "      <td>1.622140</td>\n",
              "      <td>2.221427</td>\n",
              "      <td>42.204029</td>\n",
              "    </tr>\n",
              "    <tr>\n",
              "      <th>6688</th>\n",
              "      <td>2019-08-21</td>\n",
              "      <td>292.450012</td>\n",
              "      <td>49524700</td>\n",
              "      <td>2019</td>\n",
              "      <td>289.309997</td>\n",
              "      <td>289.480711</td>\n",
              "      <td>0</td>\n",
              "      <td>1</td>\n",
              "      <td>1</td>\n",
              "      <td>0.000000</td>\n",
              "      <td>2.239991</td>\n",
              "      <td>1.350576</td>\n",
              "      <td>1.507270</td>\n",
              "      <td>47.258529</td>\n",
              "      <td>1.622140</td>\n",
              "      <td>2.146426</td>\n",
              "      <td>43.043965</td>\n",
              "    </tr>\n",
              "    <tr>\n",
              "      <th>6689</th>\n",
              "      <td>2019-08-22</td>\n",
              "      <td>292.359985</td>\n",
              "      <td>51666400</td>\n",
              "      <td>2019</td>\n",
              "      <td>289.291425</td>\n",
              "      <td>289.309997</td>\n",
              "      <td>0</td>\n",
              "      <td>1</td>\n",
              "      <td>0</td>\n",
              "      <td>2.360016</td>\n",
              "      <td>0.000000</td>\n",
              "      <td>1.417872</td>\n",
              "      <td>1.406786</td>\n",
              "      <td>50.196246</td>\n",
              "      <td>1.790713</td>\n",
              "      <td>1.961426</td>\n",
              "      <td>47.725122</td>\n",
              "    </tr>\n",
              "    <tr>\n",
              "      <th>6690</th>\n",
              "      <td>2019-08-23</td>\n",
              "      <td>284.850006</td>\n",
              "      <td>149161500</td>\n",
              "      <td>2019</td>\n",
              "      <td>289.364997</td>\n",
              "      <td>289.291425</td>\n",
              "      <td>0</td>\n",
              "      <td>1</td>\n",
              "      <td>0</td>\n",
              "      <td>0.000000</td>\n",
              "      <td>0.090027</td>\n",
              "      <td>1.323348</td>\n",
              "      <td>1.319002</td>\n",
              "      <td>50.082231</td>\n",
              "      <td>1.790713</td>\n",
              "      <td>1.809285</td>\n",
              "      <td>49.742053</td>\n",
              "    </tr>\n",
              "    <tr>\n",
              "      <th>6691</th>\n",
              "      <td>2019-08-26</td>\n",
              "      <td>288.000000</td>\n",
              "      <td>72423800</td>\n",
              "      <td>2019</td>\n",
              "      <td>289.379283</td>\n",
              "      <td>289.364997</td>\n",
              "      <td>1</td>\n",
              "      <td>0</td>\n",
              "      <td>1</td>\n",
              "      <td>0.000000</td>\n",
              "      <td>7.509979</td>\n",
              "      <td>1.235124</td>\n",
              "      <td>1.731734</td>\n",
              "      <td>41.630720</td>\n",
              "      <td>1.790713</td>\n",
              "      <td>1.717141</td>\n",
              "      <td>51.048666</td>\n",
              "    </tr>\n",
              "  </tbody>\n",
              "</table>\n",
              "</div>"
            ],
            "text/plain": [
              "           Date       Close     Volume  Year         SMA  SMA_Yesterday  Above_14D_SMA_Yesterday  Below_14D_SMA_Yesterday Close_Higher_Than_Yesterday   Roll_Up  Roll_Down  Roll_Up1  Roll_Down1  RSI_Yesterday_EXP  Roll_Up2  Roll_Down2  RSI_Yesterday_SMA\n",
              "6687 2019-08-20  290.089996   51596400  2019  289.480711     290.004996                        0                        1                           0  3.479981   0.000000  1.447046    1.454933          49.864107  1.622140    2.221427          42.204029\n",
              "6688 2019-08-21  292.450012   49524700  2019  289.309997     289.480711                        0                        1                           1  0.000000   2.239991  1.350576    1.507270          47.258529  1.622140    2.146426          43.043965\n",
              "6689 2019-08-22  292.359985   51666400  2019  289.291425     289.309997                        0                        1                           0  2.360016   0.000000  1.417872    1.406786          50.196246  1.790713    1.961426          47.725122\n",
              "6690 2019-08-23  284.850006  149161500  2019  289.364997     289.291425                        0                        1                           0  0.000000   0.090027  1.323348    1.319002          50.082231  1.790713    1.809285          49.742053\n",
              "6691 2019-08-26  288.000000   72423800  2019  289.379283     289.364997                        1                        0                           1  0.000000   7.509979  1.235124    1.731734          41.630720  1.790713    1.717141          51.048666"
            ]
          },
          "metadata": {
            "tags": []
          },
          "execution_count": 56
        }
      ]
    },
    {
      "cell_type": "code",
      "metadata": {
        "id": "kwXDRqV6Mtyu",
        "colab_type": "code",
        "colab": {}
      },
      "source": [
        "spy['Overbought_Yesterday_EXP'] = spy['RSI_Yesterday_EXP'].shift(1) > 70.0\n",
        "spy['Oversold_Yesterday_EXP'] = spy['RSI_Yesterday_EXP'].shift(1) < 30.0\n",
        "\n",
        "spy['Overbought_Yesterday_SMA'] = spy['RSI_Yesterday_SMA'].shift(1) > 70.0\n",
        "spy['Oversold_Yesterday_SMA'] = spy['RSI_Yesterday_SMA'].shift(1) < 30.0"
      ],
      "execution_count": 0,
      "outputs": []
    },
    {
      "cell_type": "code",
      "metadata": {
        "id": "IEruQEEnMtyv",
        "colab_type": "code",
        "colab": {}
      },
      "source": [
        "spy['Overbought_Yesterday_EXP'].replace(to_replace=False,value=0, inplace=True)\n",
        "spy['Oversold_Yesterday_EXP'].replace(to_replace=False,value=0, inplace=True)\n",
        "\n",
        "spy['Overbought_Yesterday_SMA'].replace(to_replace=False,value=0, inplace=True)\n",
        "spy['Oversold_Yesterday_SMA'].replace(to_replace=False,value=0, inplace=True)"
      ],
      "execution_count": 0,
      "outputs": []
    },
    {
      "cell_type": "code",
      "metadata": {
        "scrolled": true,
        "id": "q7znTIeEMtyw",
        "colab_type": "code",
        "colab": {},
        "outputId": "c796ddd0-ff61-40dc-9142-c15ff250268e"
      },
      "source": [
        "spy.head()"
      ],
      "execution_count": 0,
      "outputs": [
        {
          "output_type": "execute_result",
          "data": {
            "text/html": [
              "<div>\n",
              "<style scoped>\n",
              "    .dataframe tbody tr th:only-of-type {\n",
              "        vertical-align: middle;\n",
              "    }\n",
              "\n",
              "    .dataframe tbody tr th {\n",
              "        vertical-align: top;\n",
              "    }\n",
              "\n",
              "    .dataframe thead th {\n",
              "        text-align: right;\n",
              "    }\n",
              "</style>\n",
              "<table border=\"1\" class=\"dataframe\">\n",
              "  <thead>\n",
              "    <tr style=\"text-align: right;\">\n",
              "      <th></th>\n",
              "      <th>Date</th>\n",
              "      <th>Close</th>\n",
              "      <th>Volume</th>\n",
              "      <th>Year</th>\n",
              "      <th>SMA</th>\n",
              "      <th>SMA_Yesterday</th>\n",
              "      <th>Above_14D_SMA_Yesterday</th>\n",
              "      <th>Below_14D_SMA_Yesterday</th>\n",
              "      <th>Close_Higher_Than_Yesterday</th>\n",
              "      <th>Roll_Up</th>\n",
              "      <th>Roll_Down</th>\n",
              "      <th>Roll_Up1</th>\n",
              "      <th>Roll_Down1</th>\n",
              "      <th>RSI_Yesterday_EXP</th>\n",
              "      <th>Roll_Up2</th>\n",
              "      <th>Roll_Down2</th>\n",
              "      <th>RSI_Yesterday_SMA</th>\n",
              "      <th>Overbought_Yesterday_EXP</th>\n",
              "      <th>Oversold_Yesterday_EXP</th>\n",
              "      <th>Overbought_Yesterday_SMA</th>\n",
              "      <th>Oversold_Yesterday_SMA</th>\n",
              "      <th>Oversold_EXP_And_Under_14D_SMA_Yesterday</th>\n",
              "      <th>Oversold_SMA_And_Under_14D_SMA_Yesterday</th>\n",
              "      <th>Volume_Yesterday</th>\n",
              "    </tr>\n",
              "  </thead>\n",
              "  <tbody>\n",
              "    <tr>\n",
              "      <th>0</th>\n",
              "      <td>1993-01-29</td>\n",
              "      <td>43.93750</td>\n",
              "      <td>1003200</td>\n",
              "      <td>1993</td>\n",
              "      <td>NaN</td>\n",
              "      <td>NaN</td>\n",
              "      <td>1</td>\n",
              "      <td>1</td>\n",
              "      <td>n</td>\n",
              "      <td>NaN</td>\n",
              "      <td>NaN</td>\n",
              "      <td>NaN</td>\n",
              "      <td>NaN</td>\n",
              "      <td>NaN</td>\n",
              "      <td>NaN</td>\n",
              "      <td>NaN</td>\n",
              "      <td>NaN</td>\n",
              "      <td>0.0</td>\n",
              "      <td>0.0</td>\n",
              "      <td>0.0</td>\n",
              "      <td>0.0</td>\n",
              "      <td>0.0</td>\n",
              "      <td>0.0</td>\n",
              "      <td>NaN</td>\n",
              "    </tr>\n",
              "    <tr>\n",
              "      <th>1</th>\n",
              "      <td>1993-02-01</td>\n",
              "      <td>44.25000</td>\n",
              "      <td>480500</td>\n",
              "      <td>1993</td>\n",
              "      <td>NaN</td>\n",
              "      <td>NaN</td>\n",
              "      <td>1</td>\n",
              "      <td>1</td>\n",
              "      <td>1</td>\n",
              "      <td>NaN</td>\n",
              "      <td>NaN</td>\n",
              "      <td>NaN</td>\n",
              "      <td>NaN</td>\n",
              "      <td>NaN</td>\n",
              "      <td>NaN</td>\n",
              "      <td>NaN</td>\n",
              "      <td>NaN</td>\n",
              "      <td>0.0</td>\n",
              "      <td>0.0</td>\n",
              "      <td>0.0</td>\n",
              "      <td>0.0</td>\n",
              "      <td>0.0</td>\n",
              "      <td>0.0</td>\n",
              "      <td>1003200.0</td>\n",
              "    </tr>\n",
              "    <tr>\n",
              "      <th>2</th>\n",
              "      <td>1993-02-02</td>\n",
              "      <td>44.34375</td>\n",
              "      <td>201300</td>\n",
              "      <td>1993</td>\n",
              "      <td>NaN</td>\n",
              "      <td>NaN</td>\n",
              "      <td>1</td>\n",
              "      <td>1</td>\n",
              "      <td>1</td>\n",
              "      <td>0.31250</td>\n",
              "      <td>0.0</td>\n",
              "      <td>0.312500</td>\n",
              "      <td>0.0</td>\n",
              "      <td>100.0</td>\n",
              "      <td>NaN</td>\n",
              "      <td>NaN</td>\n",
              "      <td>NaN</td>\n",
              "      <td>0.0</td>\n",
              "      <td>0.0</td>\n",
              "      <td>0.0</td>\n",
              "      <td>0.0</td>\n",
              "      <td>0.0</td>\n",
              "      <td>0.0</td>\n",
              "      <td>480500.0</td>\n",
              "    </tr>\n",
              "    <tr>\n",
              "      <th>3</th>\n",
              "      <td>1993-02-03</td>\n",
              "      <td>44.81250</td>\n",
              "      <td>529400</td>\n",
              "      <td>1993</td>\n",
              "      <td>NaN</td>\n",
              "      <td>NaN</td>\n",
              "      <td>1</td>\n",
              "      <td>1</td>\n",
              "      <td>1</td>\n",
              "      <td>0.09375</td>\n",
              "      <td>0.0</td>\n",
              "      <td>0.195833</td>\n",
              "      <td>0.0</td>\n",
              "      <td>100.0</td>\n",
              "      <td>NaN</td>\n",
              "      <td>NaN</td>\n",
              "      <td>NaN</td>\n",
              "      <td>1.0</td>\n",
              "      <td>0.0</td>\n",
              "      <td>0.0</td>\n",
              "      <td>0.0</td>\n",
              "      <td>0.0</td>\n",
              "      <td>0.0</td>\n",
              "      <td>201300.0</td>\n",
              "    </tr>\n",
              "    <tr>\n",
              "      <th>4</th>\n",
              "      <td>1993-02-04</td>\n",
              "      <td>45.00000</td>\n",
              "      <td>531500</td>\n",
              "      <td>1993</td>\n",
              "      <td>NaN</td>\n",
              "      <td>NaN</td>\n",
              "      <td>1</td>\n",
              "      <td>1</td>\n",
              "      <td>1</td>\n",
              "      <td>0.46875</td>\n",
              "      <td>0.0</td>\n",
              "      <td>0.299186</td>\n",
              "      <td>0.0</td>\n",
              "      <td>100.0</td>\n",
              "      <td>NaN</td>\n",
              "      <td>NaN</td>\n",
              "      <td>NaN</td>\n",
              "      <td>1.0</td>\n",
              "      <td>0.0</td>\n",
              "      <td>0.0</td>\n",
              "      <td>0.0</td>\n",
              "      <td>0.0</td>\n",
              "      <td>0.0</td>\n",
              "      <td>529400.0</td>\n",
              "    </tr>\n",
              "  </tbody>\n",
              "</table>\n",
              "</div>"
            ],
            "text/plain": [
              "        Date     Close   Volume  Year  SMA  SMA_Yesterday  Above_14D_SMA_Yesterday  Below_14D_SMA_Yesterday Close_Higher_Than_Yesterday  Roll_Up  Roll_Down  Roll_Up1  Roll_Down1  RSI_Yesterday_EXP  Roll_Up2  Roll_Down2  RSI_Yesterday_SMA  Overbought_Yesterday_EXP  Oversold_Yesterday_EXP  Overbought_Yesterday_SMA  Oversold_Yesterday_SMA  Oversold_EXP_And_Under_14D_SMA_Yesterday  Oversold_SMA_And_Under_14D_SMA_Yesterday  Volume_Yesterday\n",
              "0 1993-01-29  43.93750  1003200  1993  NaN            NaN                        1                        1                           n      NaN        NaN       NaN         NaN                NaN       NaN         NaN                NaN                       0.0                     0.0                       0.0                     0.0                                       0.0                                       0.0               NaN\n",
              "1 1993-02-01  44.25000   480500  1993  NaN            NaN                        1                        1                           1      NaN        NaN       NaN         NaN                NaN       NaN         NaN                NaN                       0.0                     0.0                       0.0                     0.0                                       0.0                                       0.0         1003200.0\n",
              "2 1993-02-02  44.34375   201300  1993  NaN            NaN                        1                        1                           1  0.31250        0.0  0.312500         0.0              100.0       NaN         NaN                NaN                       0.0                     0.0                       0.0                     0.0                                       0.0                                       0.0          480500.0\n",
              "3 1993-02-03  44.81250   529400  1993  NaN            NaN                        1                        1                           1  0.09375        0.0  0.195833         0.0              100.0       NaN         NaN                NaN                       1.0                     0.0                       0.0                     0.0                                       0.0                                       0.0          201300.0\n",
              "4 1993-02-04  45.00000   531500  1993  NaN            NaN                        1                        1                           1  0.46875        0.0  0.299186         0.0              100.0       NaN         NaN                NaN                       1.0                     0.0                       0.0                     0.0                                       0.0                                       0.0          529400.0"
            ]
          },
          "metadata": {
            "tags": []
          },
          "execution_count": 119
        }
      ]
    },
    {
      "cell_type": "code",
      "metadata": {
        "id": "vBKF9xq2Mtyz",
        "colab_type": "code",
        "colab": {}
      },
      "source": [
        "spy['Oversold_EXP_And_Under_14D_SMA_Yesterday'] = ((spy['Oversold_Yesterday_EXP'] ==1) & (spy['Below_14D_SMA_Yesterday'] == 0))\n",
        "spy['Oversold_SMA_And_Under_14D_SMA_Yesterday'] = ((spy['Oversold_Yesterday_SMA'] ==1) & (spy['Below_14D_SMA_Yesterday'] == 0))"
      ],
      "execution_count": 0,
      "outputs": []
    },
    {
      "cell_type": "code",
      "metadata": {
        "id": "5yDivu1sMty0",
        "colab_type": "code",
        "colab": {}
      },
      "source": [
        "spy['Oversold_EXP_And_Under_14D_SMA_Yesterday'].replace(to_replace=False,value=0, inplace=True)\n",
        "spy['Oversold_SMA_And_Under_14D_SMA_Yesterday'].replace(to_replace=False,value=0, inplace=True)"
      ],
      "execution_count": 0,
      "outputs": []
    },
    {
      "cell_type": "code",
      "metadata": {
        "id": "EiRc1DdtMty1",
        "colab_type": "code",
        "colab": {},
        "outputId": "de25ff15-1b6e-4ee4-f570-f16efc4f428e"
      },
      "source": [
        "spy.head()"
      ],
      "execution_count": 0,
      "outputs": [
        {
          "output_type": "execute_result",
          "data": {
            "text/html": [
              "<div>\n",
              "<style scoped>\n",
              "    .dataframe tbody tr th:only-of-type {\n",
              "        vertical-align: middle;\n",
              "    }\n",
              "\n",
              "    .dataframe tbody tr th {\n",
              "        vertical-align: top;\n",
              "    }\n",
              "\n",
              "    .dataframe thead th {\n",
              "        text-align: right;\n",
              "    }\n",
              "</style>\n",
              "<table border=\"1\" class=\"dataframe\">\n",
              "  <thead>\n",
              "    <tr style=\"text-align: right;\">\n",
              "      <th></th>\n",
              "      <th>Date</th>\n",
              "      <th>Close</th>\n",
              "      <th>Volume</th>\n",
              "      <th>Year</th>\n",
              "      <th>SMA</th>\n",
              "      <th>SMA_Yesterday</th>\n",
              "      <th>Above_14D_SMA_Yesterday</th>\n",
              "      <th>Below_14D_SMA_Yesterday</th>\n",
              "      <th>Close_Higher_Than_Yesterday</th>\n",
              "      <th>Roll_Up</th>\n",
              "      <th>Roll_Down</th>\n",
              "      <th>Roll_Up1</th>\n",
              "      <th>Roll_Down1</th>\n",
              "      <th>RSI_Yesterday_EXP</th>\n",
              "      <th>Roll_Up2</th>\n",
              "      <th>Roll_Down2</th>\n",
              "      <th>RSI_Yesterday_SMA</th>\n",
              "      <th>Overbought_Yesterday_EXP</th>\n",
              "      <th>Oversold_Yesterday_EXP</th>\n",
              "      <th>Overbought_Yesterday_SMA</th>\n",
              "      <th>Oversold_Yesterday_SMA</th>\n",
              "      <th>Oversold_EXP_And_Under_14D_SMA_Yesterday</th>\n",
              "      <th>Oversold_SMA_And_Under_14D_SMA_Yesterday</th>\n",
              "    </tr>\n",
              "  </thead>\n",
              "  <tbody>\n",
              "    <tr>\n",
              "      <th>0</th>\n",
              "      <td>1993-01-29</td>\n",
              "      <td>43.93750</td>\n",
              "      <td>1003200</td>\n",
              "      <td>1993</td>\n",
              "      <td>NaN</td>\n",
              "      <td>NaN</td>\n",
              "      <td>1</td>\n",
              "      <td>1</td>\n",
              "      <td>n</td>\n",
              "      <td>NaN</td>\n",
              "      <td>NaN</td>\n",
              "      <td>NaN</td>\n",
              "      <td>NaN</td>\n",
              "      <td>NaN</td>\n",
              "      <td>NaN</td>\n",
              "      <td>NaN</td>\n",
              "      <td>NaN</td>\n",
              "      <td>0.0</td>\n",
              "      <td>0.0</td>\n",
              "      <td>0.0</td>\n",
              "      <td>0.0</td>\n",
              "      <td>0.0</td>\n",
              "      <td>0.0</td>\n",
              "    </tr>\n",
              "    <tr>\n",
              "      <th>1</th>\n",
              "      <td>1993-02-01</td>\n",
              "      <td>44.25000</td>\n",
              "      <td>480500</td>\n",
              "      <td>1993</td>\n",
              "      <td>NaN</td>\n",
              "      <td>NaN</td>\n",
              "      <td>1</td>\n",
              "      <td>1</td>\n",
              "      <td>1</td>\n",
              "      <td>NaN</td>\n",
              "      <td>NaN</td>\n",
              "      <td>NaN</td>\n",
              "      <td>NaN</td>\n",
              "      <td>NaN</td>\n",
              "      <td>NaN</td>\n",
              "      <td>NaN</td>\n",
              "      <td>NaN</td>\n",
              "      <td>0.0</td>\n",
              "      <td>0.0</td>\n",
              "      <td>0.0</td>\n",
              "      <td>0.0</td>\n",
              "      <td>0.0</td>\n",
              "      <td>0.0</td>\n",
              "    </tr>\n",
              "    <tr>\n",
              "      <th>2</th>\n",
              "      <td>1993-02-02</td>\n",
              "      <td>44.34375</td>\n",
              "      <td>201300</td>\n",
              "      <td>1993</td>\n",
              "      <td>NaN</td>\n",
              "      <td>NaN</td>\n",
              "      <td>1</td>\n",
              "      <td>1</td>\n",
              "      <td>1</td>\n",
              "      <td>0.31250</td>\n",
              "      <td>0.0</td>\n",
              "      <td>0.312500</td>\n",
              "      <td>0.0</td>\n",
              "      <td>100.0</td>\n",
              "      <td>NaN</td>\n",
              "      <td>NaN</td>\n",
              "      <td>NaN</td>\n",
              "      <td>0.0</td>\n",
              "      <td>0.0</td>\n",
              "      <td>0.0</td>\n",
              "      <td>0.0</td>\n",
              "      <td>0.0</td>\n",
              "      <td>0.0</td>\n",
              "    </tr>\n",
              "    <tr>\n",
              "      <th>3</th>\n",
              "      <td>1993-02-03</td>\n",
              "      <td>44.81250</td>\n",
              "      <td>529400</td>\n",
              "      <td>1993</td>\n",
              "      <td>NaN</td>\n",
              "      <td>NaN</td>\n",
              "      <td>1</td>\n",
              "      <td>1</td>\n",
              "      <td>1</td>\n",
              "      <td>0.09375</td>\n",
              "      <td>0.0</td>\n",
              "      <td>0.199353</td>\n",
              "      <td>0.0</td>\n",
              "      <td>100.0</td>\n",
              "      <td>NaN</td>\n",
              "      <td>NaN</td>\n",
              "      <td>NaN</td>\n",
              "      <td>1.0</td>\n",
              "      <td>0.0</td>\n",
              "      <td>0.0</td>\n",
              "      <td>0.0</td>\n",
              "      <td>0.0</td>\n",
              "      <td>0.0</td>\n",
              "    </tr>\n",
              "    <tr>\n",
              "      <th>4</th>\n",
              "      <td>1993-02-04</td>\n",
              "      <td>45.00000</td>\n",
              "      <td>531500</td>\n",
              "      <td>1993</td>\n",
              "      <td>NaN</td>\n",
              "      <td>NaN</td>\n",
              "      <td>1</td>\n",
              "      <td>1</td>\n",
              "      <td>1</td>\n",
              "      <td>0.46875</td>\n",
              "      <td>0.0</td>\n",
              "      <td>0.295414</td>\n",
              "      <td>0.0</td>\n",
              "      <td>100.0</td>\n",
              "      <td>NaN</td>\n",
              "      <td>NaN</td>\n",
              "      <td>NaN</td>\n",
              "      <td>1.0</td>\n",
              "      <td>0.0</td>\n",
              "      <td>0.0</td>\n",
              "      <td>0.0</td>\n",
              "      <td>0.0</td>\n",
              "      <td>0.0</td>\n",
              "    </tr>\n",
              "  </tbody>\n",
              "</table>\n",
              "</div>"
            ],
            "text/plain": [
              "        Date     Close   Volume  Year  SMA  SMA_Yesterday  Above_14D_SMA_Yesterday  Below_14D_SMA_Yesterday Close_Higher_Than_Yesterday  Roll_Up  Roll_Down  Roll_Up1  Roll_Down1  RSI_Yesterday_EXP  Roll_Up2  Roll_Down2  RSI_Yesterday_SMA  Overbought_Yesterday_EXP  Oversold_Yesterday_EXP  Overbought_Yesterday_SMA  Oversold_Yesterday_SMA  Oversold_EXP_And_Under_14D_SMA_Yesterday  Oversold_SMA_And_Under_14D_SMA_Yesterday\n",
              "0 1993-01-29  43.93750  1003200  1993  NaN            NaN                        1                        1                           n      NaN        NaN       NaN         NaN                NaN       NaN         NaN                NaN                       0.0                     0.0                       0.0                     0.0                                       0.0                                       0.0\n",
              "1 1993-02-01  44.25000   480500  1993  NaN            NaN                        1                        1                           1      NaN        NaN       NaN         NaN                NaN       NaN         NaN                NaN                       0.0                     0.0                       0.0                     0.0                                       0.0                                       0.0\n",
              "2 1993-02-02  44.34375   201300  1993  NaN            NaN                        1                        1                           1  0.31250        0.0  0.312500         0.0              100.0       NaN         NaN                NaN                       0.0                     0.0                       0.0                     0.0                                       0.0                                       0.0\n",
              "3 1993-02-03  44.81250   529400  1993  NaN            NaN                        1                        1                           1  0.09375        0.0  0.199353         0.0              100.0       NaN         NaN                NaN                       1.0                     0.0                       0.0                     0.0                                       0.0                                       0.0\n",
              "4 1993-02-04  45.00000   531500  1993  NaN            NaN                        1                        1                           1  0.46875        0.0  0.295414         0.0              100.0       NaN         NaN                NaN                       1.0                     0.0                       0.0                     0.0                                       0.0                                       0.0"
            ]
          },
          "metadata": {
            "tags": []
          },
          "execution_count": 62
        }
      ]
    },
    {
      "cell_type": "code",
      "metadata": {
        "id": "znFFRwIqMty4",
        "colab_type": "code",
        "colab": {},
        "outputId": "3fceae8e-5e26-467c-e44e-19457a27b63b"
      },
      "source": [
        "spy.Oversold_EXP_And_Under_14D_SMA_Yesterday.value_counts()"
      ],
      "execution_count": 0,
      "outputs": [
        {
          "output_type": "execute_result",
          "data": {
            "text/plain": [
              "0.0    6613\n",
              "1.0      79\n",
              "Name: Oversold_EXP_And_Under_14D_SMA_Yesterday, dtype: int64"
            ]
          },
          "metadata": {
            "tags": []
          },
          "execution_count": 63
        }
      ]
    },
    {
      "cell_type": "code",
      "metadata": {
        "id": "gX8kuKgUMty6",
        "colab_type": "code",
        "colab": {},
        "outputId": "54a00bbc-aa52-49a4-c035-6b31755ef1ea"
      },
      "source": [
        "spy.Oversold_SMA_And_Under_14D_SMA_Yesterday.value_counts()"
      ],
      "execution_count": 0,
      "outputs": [
        {
          "output_type": "execute_result",
          "data": {
            "text/plain": [
              "0.0    6366\n",
              "1.0     326\n",
              "Name: Oversold_SMA_And_Under_14D_SMA_Yesterday, dtype: int64"
            ]
          },
          "metadata": {
            "tags": []
          },
          "execution_count": 64
        }
      ]
    },
    {
      "cell_type": "code",
      "metadata": {
        "id": "HmvZSVWsMtzA",
        "colab_type": "code",
        "colab": {}
      },
      "source": [
        "spy['Volume_Yesterday'] = spy['Volume'].shift(1)"
      ],
      "execution_count": 0,
      "outputs": []
    },
    {
      "cell_type": "code",
      "metadata": {
        "id": "GAqWAuXnMtzC",
        "colab_type": "code",
        "colab": {}
      },
      "source": [
        "spy_2019 = spy[spy['Year'] == 2019]\n",
        "spy_2018 = spy[spy['Year'] == 2018]\n",
        "spy_2017 = spy[spy['Year'] == 2017]\n",
        "spy_2016 = spy[spy['Year'] == 2016]\n",
        "spy_2015 = spy[spy['Year'] == 2015]\n",
        "spy_2014 = spy[spy['Year'] == 2014]\n",
        "spy_2013 = spy[spy['Year'] == 2013]\n",
        "spy_2012 = spy[spy['Year'] == 2012]\n",
        "spy_2011 = spy[spy['Year'] == 2011]\n",
        "spy_2010 = spy[spy['Year'] == 2010]\n",
        "spy_2009 = spy[spy['Year'] == 2009]\n",
        "spy_2008 = spy[spy['Year'] == 2008]\n",
        "spy_2007 = spy[spy['Year'] == 2007]\n",
        "spy_2006 = spy[spy['Year'] == 2006]\n",
        "spy_2005 = spy[spy['Year'] == 2005]\n",
        "spy_2004 = spy[spy['Year'] == 2004]\n",
        "spy_2003 = spy[spy['Year'] == 2003]\n",
        "spy_2002 = spy[spy['Year'] == 2002]\n",
        "spy_2001 = spy[spy['Year'] == 2001]\n",
        "spy_2000 = spy[spy['Year'] == 2000]\n",
        "spy_1999 = spy[spy['Year'] == 1999]\n",
        "spy_1998 = spy[spy['Year'] == 1998]\n",
        "spy_1997 = spy[spy['Year'] == 1997]\n",
        "spy_1996 = spy[spy['Year'] == 1996]\n",
        "spy_1995 = spy[spy['Year'] == 1995]\n",
        "spy_1994 = spy[spy['Year'] == 1994]\n",
        "spy_1993 = spy[spy['Year'] == 1993]"
      ],
      "execution_count": 0,
      "outputs": []
    },
    {
      "cell_type": "code",
      "metadata": {
        "id": "xbBTlkaXMtzE",
        "colab_type": "code",
        "colab": {}
      },
      "source": [
        "spy_1994_2013 = spy[(spy['Year'] >= 1994) & (spy['Year'] <=2013)]\n",
        "spy_1994_2017 = spy[(spy['Year'] >= 1994) & (spy['Year'] <=2017)]\n",
        "spy_2014_2019 = spy[(spy['Year'] >=2014) & (spy['Year'] <=2019)]"
      ],
      "execution_count": 0,
      "outputs": []
    },
    {
      "cell_type": "code",
      "metadata": {
        "id": "gXDfj6icMtzG",
        "colab_type": "code",
        "colab": {},
        "outputId": "296e9c70-7f4e-4b0d-fba7-3a127b96a269"
      },
      "source": [
        "spy_2010_2013 = pd.concat([spy_2010,spy_2011,spy_2012,spy_2013])\n",
        "spy_2010_2013.head()"
      ],
      "execution_count": 0,
      "outputs": [
        {
          "output_type": "execute_result",
          "data": {
            "text/html": [
              "<div>\n",
              "<style scoped>\n",
              "    .dataframe tbody tr th:only-of-type {\n",
              "        vertical-align: middle;\n",
              "    }\n",
              "\n",
              "    .dataframe tbody tr th {\n",
              "        vertical-align: top;\n",
              "    }\n",
              "\n",
              "    .dataframe thead th {\n",
              "        text-align: right;\n",
              "    }\n",
              "</style>\n",
              "<table border=\"1\" class=\"dataframe\">\n",
              "  <thead>\n",
              "    <tr style=\"text-align: right;\">\n",
              "      <th></th>\n",
              "      <th>Date</th>\n",
              "      <th>Close</th>\n",
              "      <th>Volume</th>\n",
              "      <th>Year</th>\n",
              "      <th>SMA</th>\n",
              "      <th>SMA_Yesterday</th>\n",
              "      <th>Above_14D_SMA_Yesterday</th>\n",
              "      <th>Below_14D_SMA_Yesterday</th>\n",
              "      <th>Close_Higher_Than_Yesterday</th>\n",
              "      <th>Roll_Up</th>\n",
              "      <th>Roll_Down</th>\n",
              "      <th>Roll_Up1</th>\n",
              "      <th>Roll_Down1</th>\n",
              "      <th>RSI_Yesterday_EXP</th>\n",
              "      <th>Roll_Up2</th>\n",
              "      <th>Roll_Down2</th>\n",
              "      <th>RSI_Yesterday_SMA</th>\n",
              "      <th>Overbought_Yesterday_EXP</th>\n",
              "      <th>Oversold_Yesterday_EXP</th>\n",
              "      <th>Overbought_Yesterday_SMA</th>\n",
              "      <th>Oversold_Yesterday_SMA</th>\n",
              "      <th>Oversold_EXP_And_Under_14D_SMA_Yesterday</th>\n",
              "      <th>Oversold_SMA_And_Under_14D_SMA_Yesterday</th>\n",
              "      <th>Volume_Yesterday</th>\n",
              "    </tr>\n",
              "  </thead>\n",
              "  <tbody>\n",
              "    <tr>\n",
              "      <th>4264</th>\n",
              "      <td>2010-01-04</td>\n",
              "      <td>113.330002</td>\n",
              "      <td>118944600</td>\n",
              "      <td>2010</td>\n",
              "      <td>111.799286</td>\n",
              "      <td>111.640714</td>\n",
              "      <td>1</td>\n",
              "      <td>0</td>\n",
              "      <td>1</td>\n",
              "      <td>0.000000</td>\n",
              "      <td>1.079995</td>\n",
              "      <td>0.245757</td>\n",
              "      <td>0.270829</td>\n",
              "      <td>47.573280</td>\n",
              "      <td>0.198571</td>\n",
              "      <td>0.182857</td>\n",
              "      <td>52.059927</td>\n",
              "      <td>0.0</td>\n",
              "      <td>0.0</td>\n",
              "      <td>1.0</td>\n",
              "      <td>0.0</td>\n",
              "      <td>0.0</td>\n",
              "      <td>0.0</td>\n",
              "      <td>90637900.0</td>\n",
              "    </tr>\n",
              "    <tr>\n",
              "      <th>4265</th>\n",
              "      <td>2010-01-05</td>\n",
              "      <td>113.629997</td>\n",
              "      <td>111579900</td>\n",
              "      <td>2010</td>\n",
              "      <td>111.925000</td>\n",
              "      <td>111.799286</td>\n",
              "      <td>0</td>\n",
              "      <td>1</td>\n",
              "      <td>1</td>\n",
              "      <td>1.890000</td>\n",
              "      <td>0.000000</td>\n",
              "      <td>0.451287</td>\n",
              "      <td>0.236975</td>\n",
              "      <td>65.569046</td>\n",
              "      <td>0.411428</td>\n",
              "      <td>0.182857</td>\n",
              "      <td>69.230771</td>\n",
              "      <td>0.0</td>\n",
              "      <td>0.0</td>\n",
              "      <td>0.0</td>\n",
              "      <td>0.0</td>\n",
              "      <td>0.0</td>\n",
              "      <td>0.0</td>\n",
              "      <td>118944600.0</td>\n",
              "    </tr>\n",
              "    <tr>\n",
              "      <th>4266</th>\n",
              "      <td>2010-01-06</td>\n",
              "      <td>113.709999</td>\n",
              "      <td>116074400</td>\n",
              "      <td>2010</td>\n",
              "      <td>112.093571</td>\n",
              "      <td>111.925000</td>\n",
              "      <td>0</td>\n",
              "      <td>1</td>\n",
              "      <td>1</td>\n",
              "      <td>0.299995</td>\n",
              "      <td>0.000000</td>\n",
              "      <td>0.432376</td>\n",
              "      <td>0.207353</td>\n",
              "      <td>67.587305</td>\n",
              "      <td>0.422857</td>\n",
              "      <td>0.182857</td>\n",
              "      <td>69.811330</td>\n",
              "      <td>0.0</td>\n",
              "      <td>0.0</td>\n",
              "      <td>0.0</td>\n",
              "      <td>0.0</td>\n",
              "      <td>0.0</td>\n",
              "      <td>0.0</td>\n",
              "      <td>111579900.0</td>\n",
              "    </tr>\n",
              "    <tr>\n",
              "      <th>4267</th>\n",
              "      <td>2010-01-07</td>\n",
              "      <td>114.190002</td>\n",
              "      <td>131091100</td>\n",
              "      <td>2010</td>\n",
              "      <td>112.284286</td>\n",
              "      <td>112.093571</td>\n",
              "      <td>0</td>\n",
              "      <td>1</td>\n",
              "      <td>1</td>\n",
              "      <td>0.080002</td>\n",
              "      <td>0.000000</td>\n",
              "      <td>0.388329</td>\n",
              "      <td>0.181434</td>\n",
              "      <td>68.156200</td>\n",
              "      <td>0.358571</td>\n",
              "      <td>0.182857</td>\n",
              "      <td>66.226886</td>\n",
              "      <td>0.0</td>\n",
              "      <td>0.0</td>\n",
              "      <td>0.0</td>\n",
              "      <td>0.0</td>\n",
              "      <td>0.0</td>\n",
              "      <td>0.0</td>\n",
              "      <td>116074400.0</td>\n",
              "    </tr>\n",
              "    <tr>\n",
              "      <th>4268</th>\n",
              "      <td>2010-01-08</td>\n",
              "      <td>114.570000</td>\n",
              "      <td>126402800</td>\n",
              "      <td>2010</td>\n",
              "      <td>112.597857</td>\n",
              "      <td>112.284286</td>\n",
              "      <td>0</td>\n",
              "      <td>1</td>\n",
              "      <td>1</td>\n",
              "      <td>0.480003</td>\n",
              "      <td>0.000000</td>\n",
              "      <td>0.399788</td>\n",
              "      <td>0.158755</td>\n",
              "      <td>71.576956</td>\n",
              "      <td>0.392857</td>\n",
              "      <td>0.182857</td>\n",
              "      <td>68.238230</td>\n",
              "      <td>0.0</td>\n",
              "      <td>0.0</td>\n",
              "      <td>0.0</td>\n",
              "      <td>0.0</td>\n",
              "      <td>0.0</td>\n",
              "      <td>0.0</td>\n",
              "      <td>131091100.0</td>\n",
              "    </tr>\n",
              "  </tbody>\n",
              "</table>\n",
              "</div>"
            ],
            "text/plain": [
              "           Date       Close     Volume  Year         SMA  SMA_Yesterday  Above_14D_SMA_Yesterday  Below_14D_SMA_Yesterday Close_Higher_Than_Yesterday   Roll_Up  Roll_Down  Roll_Up1  Roll_Down1  RSI_Yesterday_EXP  Roll_Up2  Roll_Down2  RSI_Yesterday_SMA  Overbought_Yesterday_EXP  Oversold_Yesterday_EXP  Overbought_Yesterday_SMA  Oversold_Yesterday_SMA  Oversold_EXP_And_Under_14D_SMA_Yesterday  Oversold_SMA_And_Under_14D_SMA_Yesterday  Volume_Yesterday\n",
              "4264 2010-01-04  113.330002  118944600  2010  111.799286     111.640714                        1                        0                           1  0.000000   1.079995  0.245757    0.270829          47.573280  0.198571    0.182857          52.059927                       0.0                     0.0                       1.0                     0.0                                       0.0                                       0.0        90637900.0\n",
              "4265 2010-01-05  113.629997  111579900  2010  111.925000     111.799286                        0                        1                           1  1.890000   0.000000  0.451287    0.236975          65.569046  0.411428    0.182857          69.230771                       0.0                     0.0                       0.0                     0.0                                       0.0                                       0.0       118944600.0\n",
              "4266 2010-01-06  113.709999  116074400  2010  112.093571     111.925000                        0                        1                           1  0.299995   0.000000  0.432376    0.207353          67.587305  0.422857    0.182857          69.811330                       0.0                     0.0                       0.0                     0.0                                       0.0                                       0.0       111579900.0\n",
              "4267 2010-01-07  114.190002  131091100  2010  112.284286     112.093571                        0                        1                           1  0.080002   0.000000  0.388329    0.181434          68.156200  0.358571    0.182857          66.226886                       0.0                     0.0                       0.0                     0.0                                       0.0                                       0.0       116074400.0\n",
              "4268 2010-01-08  114.570000  126402800  2010  112.597857     112.284286                        0                        1                           1  0.480003   0.000000  0.399788    0.158755          71.576956  0.392857    0.182857          68.238230                       0.0                     0.0                       0.0                     0.0                                       0.0                                       0.0       131091100.0"
            ]
          },
          "metadata": {
            "tags": []
          },
          "execution_count": 125
        }
      ]
    },
    {
      "cell_type": "code",
      "metadata": {
        "id": "88tdqrGAMtzJ",
        "colab_type": "code",
        "colab": {},
        "outputId": "a9e6709b-f34c-4703-c39a-6cb5524d8ee5"
      },
      "source": [
        "spy_2010_2013.columns"
      ],
      "execution_count": 0,
      "outputs": [
        {
          "output_type": "execute_result",
          "data": {
            "text/plain": [
              "Index(['Date', 'Close', 'Volume', 'Year', 'SMA', 'SMA_Yesterday', 'Above_14D_SMA_Yesterday', 'Below_14D_SMA_Yesterday', 'Close_Higher_Than_Yesterday', 'Roll_Up', 'Roll_Down', 'Roll_Up1', 'Roll_Down1', 'RSI_Yesterday_EXP', 'Roll_Up2', 'Roll_Down2', 'RSI_Yesterday_SMA', 'Overbought_Yesterday_EXP', 'Oversold_Yesterday_EXP', 'Overbought_Yesterday_SMA', 'Oversold_Yesterday_SMA', 'Oversold_EXP_And_Under_14D_SMA_Yesterday', 'Oversold_SMA_And_Under_14D_SMA_Yesterday', 'Volume_Yesterday'], dtype='object')"
            ]
          },
          "metadata": {
            "tags": []
          },
          "execution_count": 126
        }
      ]
    },
    {
      "cell_type": "code",
      "metadata": {
        "id": "arMcztS2MtzK",
        "colab_type": "code",
        "colab": {}
      },
      "source": [
        "# 2018 training data\n",
        "\n",
        "# 0.0091 ± 0.0183\tSMA_Yesterday\n",
        "# 0.0061 ± 0.0000\tOversold_SMA_And_Under_14D_SMA_Yesterday\n",
        "# 0.0061 ± 0.0000\tOversold_Yesterday_SMA\n",
        "# 0 ± 0.0000\tOversold_EXP_And_Under_14D_SMA_Yesterday\n",
        "# 0 ± 0.0000\tOversold_Yesterday_EXP\n",
        "# -0.0030 ± 0.0183\tOverbought_Yesterday_SMA\n",
        "# -0.0061 ± 0.0000\tAbove_14D_SMA_Yesterday\n",
        "# -0.0091 ± 0.0183\tOverbought_Yesterday_EXP\n",
        "# -0.0091 ± 0.0427\tRSI_Yesterday_SMA\n",
        "# -0.0091 ± 0.0305\tBelow_14D_SMA_Yesterday\n",
        "# -0.0122 ± 0.0488\tVolume_Yesterday\n",
        "# -0.0213 ± 0.0427\tRSI_Yesterday_EXP"
      ],
      "execution_count": 0,
      "outputs": []
    },
    {
      "cell_type": "code",
      "metadata": {
        "id": "wVpx7IuaMtzO",
        "colab_type": "code",
        "colab": {}
      },
      "source": [
        "# 1994-2013 training data\n",
        "\n",
        "# 0 ± 0.0000\tOversold_Yesterday_EXP\n",
        "# 0 ± 0.0000\tSMA_Yesterday\n",
        "# 0 ± 0.0000\tYear\n",
        "# -0.0040 ± 0.0000\tOversold_EXP_And_Under_14D_SMA_Yesterday\n",
        "# -0.0040 ± 0.0000\tOverbought_Yesterday_EXP\n",
        "# -0.0060 ± 0.0120\tOversold_SMA_And_Under_14D_SMA_Yesterday\n",
        "# -0.0159 ± 0.0159\tOverbought_Yesterday_SMA\n",
        "# -0.0199 ± 0.0000\tRSI_Yesterday_EXP\n",
        "# -0.0219 ± 0.0120\tVolume_Yesterday"
      ],
      "execution_count": 0,
      "outputs": []
    },
    {
      "cell_type": "code",
      "metadata": {
        "id": "eaFsg-ZMMtzQ",
        "colab_type": "code",
        "colab": {}
      },
      "source": [
        "# BELOW IS THE DROP FOR TRAIN 1994-2013 AND VAL 2019\n",
        "\n",
        "# 0.0823 ± 0.0427\tOverbought_Yesterday_SMA\n",
        "# 0.0671 ± 0.0366\tRSI_Yesterday_EXP\n",
        "# 0.0549 ± 0.0122\tRSI_Yesterday_SMA\n",
        "# 0.0335 ± 0.0061\tAbove_14D_SMA_Yesterday\n",
        "# 0.0305 ± 0.0000\tBelow_14D_SMA_Yesterday\n",
        "# 0.0061 ± 0.0122\tOverbought_Yesterday_EXP\n",
        "# 0 ± 0.0000\tVolume_Yesterday\n",
        "# 0 ± 0.0000\tOversold_SMA_And_Under_14D_SMA_Yesterday\n",
        "# 0 ± 0.0000\tOversold_EXP_And_Under_14D_SMA_Yesterday\n",
        "# 0 ± 0.0000\tOversold_Yesterday_EXP\n",
        "# 0 ± 0.0000\tSMA_Yesterday\n",
        "# -0.0030 ± 0.0061\tOversold_Yesterday_SMA\n",
        "\n",
        "# DROP BELOW AFTER TRAINING/VAL PERMUTATION IMPORTANCE\n",
        "\n",
        "# 0.0030 ± 0.0305\tOverbought_Yesterday_SMA\n",
        "# 0.0030 ± 0.0061\tOverbought_Yesterday_EXP\n",
        "# -0.0030 ± 0.0061\tBelow_14D_SMA_Yesterday\n",
        "# -0.0457 ± 0.0793\tRSI_Yesterday_SMA"
      ],
      "execution_count": 0,
      "outputs": []
    },
    {
      "cell_type": "code",
      "metadata": {
        "id": "Bc3xmc3MMtzR",
        "colab_type": "code",
        "colab": {}
      },
      "source": [
        "# 0.0183 ± 0.0122\tOverbought_Yesterday_SMAx\n",
        "# 0.0091 ± 0.0061\tBelow_14D_SMA_Yesterday\n",
        "# 0.0061 ± 0.0000\tOversold_SMA_And_Under_14D_SMA_Yesterday\n",
        "# 0.0061 ± 0.0122\tOverbought_Yesterday_EXP\n",
        "# 0 ± 0.0000\tOversold_EXP_And_Under_14D_SMA_Yesterday\n",
        "# 0 ± 0.0000\tSMA_Yesterday\n",
        "# 0 ± 0.0000\tYear\n",
        "# -0.0061 ± 0.0000\tOversold_Yesterday_SMA\n",
        "# -0.0061 ± 0.0122\tAbove_14D_SMA_Yesterday\n",
        "# -0.0091 ± 0.0061\tOversold_Yesterday_EXP\n",
        "# -0.0091 ± 0.0427\tRSI_Yesterday_EXP\n",
        "# -0.0122 ± 0.0000\tVolume_Yesterday\n",
        "# -0.0274 ± 0.0305\tRSI_Yesterday_SMAx"
      ],
      "execution_count": 0,
      "outputs": []
    },
    {
      "cell_type": "code",
      "metadata": {
        "id": "xg144Qs5MtzT",
        "colab_type": "code",
        "colab": {}
      },
      "source": [
        "target = 'Close_Higher_Than_Yesterday'\n",
        "# drop = ['Date','Year','SMA','Volume','Adj_Close','Roll_Up','Roll_Down','Oversold_And_Under_14D_SMA_Yesterday']\n",
        "# drop = ['Date','Year','SMA','Volume','Adj_Close','Roll_Up','Roll_Down', 'Above_14D_SMA_Yesterday',\n",
        "#         'Overbought_Yesterday','RSI']\n",
        "\n",
        "# drop = ['Date','Volume','SMA','Roll_Up','Roll_Up1','Roll_Up2','Roll_Down','Roll_Down1',\n",
        "#         'Close','Roll_Down2','RSI_Yesterday_SMA','Oversold_Yesterday_EXP','SMA_Yesterday',\n",
        "#         'Year','Oversold_EXP_And_Under_14D_SMA_Yesterday','Overbought_Yesterday_EXP',\n",
        "#         'Oversold_SMA_And_Under_14D_SMA_Yesterday','Overbought_Yesterday_SMA','RSI_Yesterday_EXP',\n",
        "#         'Volume_Yesterday']\n",
        "\n",
        "\n",
        "# drop = ['Date','Volume','SMA','Roll_Up','Roll_Up1','Roll_Up2','Roll_Down','Roll_Down1',\n",
        "#         'Close','Roll_Down2','RSI_Yesterday_EXP','Volume_Yesterday','Below_14D_SMA_Yesterday',\n",
        "#         'Year','RSI_Yesterday_SMA','Overbought_Yesterday_EXP','Above_14D_SMA_Yesterday',\n",
        "#         'Overbought_Yesterday_SMA'\n",
        "#         ]\n",
        "\n",
        "# BELOW ARE STANDARD DROPS (SOME CONTAIN FUTURE LEAKAGE)\n",
        "\n",
        "# drop = ['Date','Volume','SMA','Roll_Up','Roll_Up1','Roll_Up2','Roll_Down','Roll_Down1',\n",
        "#         'Close','Roll_Down2']\n",
        "\n",
        "# BELOW IS THE DROP FOR TRAIN 1994-2013 AND VAL 2019\n",
        "\n",
        "#1\n",
        "# drop = ['Date','Volume','SMA','Roll_Up','Roll_Up1','Roll_Up2','Roll_Down','Roll_Down1',\n",
        "#         'Close','Roll_Down2','Year','Volume_Yesterday','Oversold_SMA_And_Under_14D_SMA_Yesterday',\n",
        "#         'Oversold_EXP_And_Under_14D_SMA_Yesterday','Oversold_Yesterday_EXP','SMA_Yesterday',\n",
        "#         'Oversold_Yesterday_SMA','Overbought_Yesterday_SMA','Overbought_Yesterday_EXP',\n",
        "#         'Below_14D_SMA_Yesterday','RSI_Yesterday_SMA']\n",
        "\n",
        "#2\n",
        "# drop = ['Date','Volume','SMA','Roll_Up','Roll_Up1','Roll_Up2','Roll_Down','Roll_Down1',\n",
        "#         'Close','Roll_Down2','Overbought_Yesterday_EXP','Oversold_Yesterday_SMA',\n",
        "#         'Year','SMA_Yesterday','RSI_Yesterday_SMA','Oversold_EXP_And_Under_14D_SMA_Yesterday',\n",
        "#         'Oversold_SMA_And_Under_14D_SMA_Yesterday','Oversold_Yesterday_EXP','RSI_Yesterday_EXP',\n",
        "#         'Above_14D_SMA_Yesterday']\n",
        "\n",
        "#3\n",
        "drop = ['Date','Volume','SMA','Roll_Up','Roll_Up1','Roll_Up2','Roll_Down','Roll_Down1',\n",
        "        'Close','Roll_Down2','RSI_Yesterday_SMA','Overbought_Yesterday_SMA','Volume_Yesterday',\n",
        "        'Oversold_EXP_And_Under_14D_SMA_Yesterday','Year','SMA_Yesterday','Below_14D_SMA_Yesterday',\n",
        "        'Oversold_SMA_And_Under_14D_SMA_Yesterday','Overbought_Yesterday_EXP','Oversold_Yesterday_EXP',\n",
        "        'Oversold_Yesterday_SMA','Above_14D_SMA_Yesterday']\n",
        "\n",
        "train = spy_1994_2013.drop(columns=drop)\n",
        "test = spy_2015.drop(columns=drop)\n",
        "val = spy_2019.drop(columns=drop)\n",
        "\n",
        "X_val = val.drop(columns=target)\n",
        "y_val = val[target]\n",
        "\n",
        "X_test = test.drop(columns=target)\n",
        "y_test = test[target]\n",
        "\n",
        "X_train = train.drop(columns=target)\n",
        "y_train = train[target]"
      ],
      "execution_count": 0,
      "outputs": []
    },
    {
      "cell_type": "code",
      "metadata": {
        "id": "5DuBk7lSMtzV",
        "colab_type": "code",
        "colab": {},
        "outputId": "04a9d1b7-2792-4dcb-9f40-66d2b59b6036"
      },
      "source": [
        "y_val.value_counts()"
      ],
      "execution_count": 0,
      "outputs": [
        {
          "output_type": "execute_result",
          "data": {
            "text/plain": [
              "1    96\n",
              "0    68\n",
              "Name: Close_Higher_Than_Yesterday, dtype: int64"
            ]
          },
          "metadata": {
            "tags": []
          },
          "execution_count": 659
        }
      ]
    },
    {
      "cell_type": "code",
      "metadata": {
        "id": "Ny4Je0jSMtzW",
        "colab_type": "code",
        "colab": {},
        "outputId": "e5183f62-2ae4-40c2-ef78-14407645cdc4"
      },
      "source": [
        "y_train.value_counts()"
      ],
      "execution_count": 0,
      "outputs": [
        {
          "output_type": "execute_result",
          "data": {
            "text/plain": [
              "1    2723\n",
              "0    2313\n",
              "Name: Close_Higher_Than_Yesterday, dtype: int64"
            ]
          },
          "metadata": {
            "tags": []
          },
          "execution_count": 660
        }
      ]
    },
    {
      "cell_type": "code",
      "metadata": {
        "id": "KbNIO0RwMtzX",
        "colab_type": "code",
        "colab": {}
      },
      "source": [
        "from sklearn.ensemble import RandomForestClassifier\n",
        "from sklearn.pipeline import make_pipeline"
      ],
      "execution_count": 0,
      "outputs": []
    },
    {
      "cell_type": "code",
      "metadata": {
        "id": "H017a7u1MtzZ",
        "colab_type": "code",
        "colab": {},
        "outputId": "7c0cd374-81f5-42f6-e33e-bce49f0cf5f0"
      },
      "source": [
        "pipeline = make_pipeline(\n",
        "    RandomForestClassifier(n_estimators=100, random_state=42, n_jobs=-1)\n",
        ")\n",
        "\n",
        "pipeline.fit(X_train, y_train)\n",
        "print('Validation Accuracy', pipeline.score(X_val, y_val))"
      ],
      "execution_count": 0,
      "outputs": [
        {
          "output_type": "stream",
          "text": [
            "Validation Accuracy 0.6219512195121951\n"
          ],
          "name": "stdout"
        }
      ]
    },
    {
      "cell_type": "code",
      "metadata": {
        "id": "kPFM8dXkMtzc",
        "colab_type": "code",
        "colab": {},
        "outputId": "4007ff00-4852-44d4-d772-3ca91f5919d4"
      },
      "source": [
        "y_val.describe()"
      ],
      "execution_count": 0,
      "outputs": [
        {
          "output_type": "execute_result",
          "data": {
            "text/plain": [
              "count     164\n",
              "unique      2\n",
              "top         1\n",
              "freq       96\n",
              "Name: Close_Higher_Than_Yesterday, dtype: object"
            ]
          },
          "metadata": {
            "tags": []
          },
          "execution_count": 663
        }
      ]
    },
    {
      "cell_type": "code",
      "metadata": {
        "id": "-EtZQ2F3Mtzf",
        "colab_type": "code",
        "colab": {},
        "outputId": "64d82b71-059e-41bd-dda4-009c3b1e9819"
      },
      "source": [
        "y_pred=pipeline.predict(X_val)\n",
        "\n",
        "plot_confusion_matrix(y_val,y_pred)"
      ],
      "execution_count": 0,
      "outputs": [
        {
          "output_type": "execute_result",
          "data": {
            "text/plain": [
              "<matplotlib.axes._subplots.AxesSubplot at 0x2ce23031358>"
            ]
          },
          "metadata": {
            "tags": []
          },
          "execution_count": 664
        },
        {
          "output_type": "display_data",
          "data": {
            "image/png": "[encoded data removed]",
            "text/plain": [
              "<Figure size 432x288 with 2 Axes>"
            ]
          },
          "metadata": {
            "tags": [],
            "needs_background": "light"
          }
        }
      ]
    },
    {
      "cell_type": "code",
      "metadata": {
        "id": "SxGaD1-pMtzg",
        "colab_type": "code",
        "colab": {},
        "outputId": "ee7224da-6924-4723-8c02-14fd519002b6"
      },
      "source": [
        "print(classification_report(y_val, y_pred))"
      ],
      "execution_count": 0,
      "outputs": [
        {
          "output_type": "stream",
          "text": [
            "              precision    recall  f1-score   support\n",
            "\n",
            "           0       0.53      0.69      0.60        68\n",
            "           1       0.72      0.57      0.64        96\n",
            "\n",
            "   micro avg       0.62      0.62      0.62       164\n",
            "   macro avg       0.63      0.63      0.62       164\n",
            "weighted avg       0.65      0.62      0.62       164\n",
            "\n"
          ],
          "name": "stdout"
        }
      ]
    },
    {
      "cell_type": "markdown",
      "metadata": {
        "id": "qreZqXRNMtzi",
        "colab_type": "text"
      },
      "source": [
        "# Fit a model. Does it beat your baseline?"
      ]
    },
    {
      "cell_type": "markdown",
      "metadata": {
        "id": "yg2GvmtuMtzi",
        "colab_type": "text"
      },
      "source": [
        "### ROC AUC (GIVING GENERIC VALUES OF .5 ...)"
      ]
    },
    {
      "cell_type": "code",
      "metadata": {
        "id": "lbHJPIIsMtzj",
        "colab_type": "code",
        "colab": {}
      },
      "source": [
        "# from sklearn.metrics import roc_auc_score\n",
        "\n",
        "# y_pred_proba = np.full_like(y_val, fill_value=1.00)\n",
        "# roc_auc_score(y_val, y_pred_proba)\n",
        "\n",
        "# y_pred_proba = np.full_like(y_val, fill_value=0)\n",
        "# roc_auc_score(y_val, y_pred_proba)\n",
        "\n",
        "# y_pred_proba = np.full_like(y_val, fill_value=0.50)\n",
        "# roc_auc_score(y_val, y_pred_proba)"
      ],
      "execution_count": 0,
      "outputs": []
    },
    {
      "cell_type": "markdown",
      "metadata": {
        "id": "489aP3jEMtzm",
        "colab_type": "text"
      },
      "source": [
        "# BELOW THROWS ERROR:\n",
        "# UndefinedMetricWarning: No positive samples in y_true, true positive value should be meaningless"
      ]
    },
    {
      "cell_type": "code",
      "metadata": {
        "id": "ljrjVmLGMtzo",
        "colab_type": "code",
        "colab": {}
      },
      "source": [
        "# import matplotlib.pyplot as plt\n",
        "# from sklearn.metrics import roc_curve\n",
        "# fpr, tpr, thresholds = roc_curve(y_val=='Charged Off', y_pred_proba)\n",
        "# plt.plot(fpr, tpr)\n",
        "# plt.title('ROC curve')\n",
        "# plt.xlabel('False Positive Rate')\n",
        "# plt.ylabel('True Positive Rate');"
      ],
      "execution_count": 0,
      "outputs": []
    },
    {
      "cell_type": "code",
      "metadata": {
        "id": "_Y1vRgVmMtzp",
        "colab_type": "code",
        "colab": {},
        "outputId": "b8ab2a1a-9695-4c7b-acba-c1c7ff7b0bf3"
      },
      "source": [
        "y_val.value_counts()"
      ],
      "execution_count": 0,
      "outputs": [
        {
          "output_type": "execute_result",
          "data": {
            "text/plain": [
              "1    96\n",
              "0    68\n",
              "Name: Close_Higher_Than_Yesterday, dtype: int64"
            ]
          },
          "metadata": {
            "tags": []
          },
          "execution_count": 668
        }
      ]
    },
    {
      "cell_type": "code",
      "metadata": {
        "id": "wzHiXJTdMtzq",
        "colab_type": "code",
        "colab": {},
        "outputId": "84ef59a4-1b47-48ec-8f97-603058fb8206"
      },
      "source": [
        "import category_encoders as ce\n",
        "from sklearn.linear_model import LinearRegression\n",
        "from sklearn.pipeline import make_pipeline\n",
        "from sklearn.preprocessing import StandardScaler\n",
        "\n",
        "lr = make_pipeline(\n",
        "    ce.OrdinalEncoder(), # Not ideal for Linear Regression \n",
        "    StandardScaler(), \n",
        "    LinearRegression()\n",
        ")\n",
        "\n",
        "lr.fit(X_train, y_train)\n",
        "print('Linear Regression R^2', lr.score(X_val, y_val))"
      ],
      "execution_count": 0,
      "outputs": [
        {
          "output_type": "stream",
          "text": [
            "Linear Regression R^2 -0.008820121704945949\n"
          ],
          "name": "stdout"
        }
      ]
    },
    {
      "cell_type": "code",
      "metadata": {
        "id": "LUOJISNyMtzs",
        "colab_type": "code",
        "colab": {},
        "outputId": "03065db1-6152-43d9-f813-65d6f41d4f36"
      },
      "source": [
        "X_val.columns"
      ],
      "execution_count": 0,
      "outputs": [
        {
          "output_type": "execute_result",
          "data": {
            "text/plain": [
              "Index(['RSI_Yesterday_EXP'], dtype='object')"
            ]
          },
          "metadata": {
            "tags": []
          },
          "execution_count": 670
        }
      ]
    },
    {
      "cell_type": "code",
      "metadata": {
        "id": "qtO5D0coMtzu",
        "colab_type": "code",
        "colab": {},
        "outputId": "138055fa-adc6-4fe9-df03-33f25856a70d"
      },
      "source": [
        "X_val.RSI_Yesterday_EXP.value_counts()"
      ],
      "execution_count": 0,
      "outputs": [
        {
          "output_type": "execute_result",
          "data": {
            "text/plain": [
              "66.250941    1\n",
              "64.995882    1\n",
              "49.934516    1\n",
              "66.413925    1\n",
              "52.346811    1\n",
              "33.027272    1\n",
              "61.923501    1\n",
              "72.069442    1\n",
              "67.690145    1\n",
              "63.118631    1\n",
              "75.762480    1\n",
              "62.559991    1\n",
              "32.800641    1\n",
              "41.876480    1\n",
              "64.497058    1\n",
              "53.929987    1\n",
              "70.030815    1\n",
              "72.786860    1\n",
              "66.079734    1\n",
              "46.205535    1\n",
              "16.204142    1\n",
              "62.650318    1\n",
              "41.037607    1\n",
              "78.526594    1\n",
              "46.186289    1\n",
              "47.399152    1\n",
              "56.085905    1\n",
              "39.233029    1\n",
              "63.307480    1\n",
              "62.332329    1\n",
              "73.143364    1\n",
              "52.997099    1\n",
              "69.541180    1\n",
              "61.689173    1\n",
              "33.585081    1\n",
              "31.863544    1\n",
              "38.237449    1\n",
              "79.751835    1\n",
              "57.644014    1\n",
              "61.196524    1\n",
              "58.036994    1\n",
              "57.445755    1\n",
              "36.608374    1\n",
              "63.341861    1\n",
              "39.549322    1\n",
              "72.110179    1\n",
              "73.970539    1\n",
              "61.813928    1\n",
              "73.463224    1\n",
              "52.974894    1\n",
              "67.536891    1\n",
              "77.363824    1\n",
              "49.170897    1\n",
              "77.955396    1\n",
              "56.004027    1\n",
              "57.713052    1\n",
              "58.985043    1\n",
              "23.557179    1\n",
              "72.477280    1\n",
              "66.429245    1\n",
              "59.429897    1\n",
              "75.639324    1\n",
              "67.626082    1\n",
              "68.188860    1\n",
              "69.330708    1\n",
              "34.795042    1\n",
              "66.791348    1\n",
              "65.794701    1\n",
              "67.402627    1\n",
              "38.361220    1\n",
              "34.648058    1\n",
              "72.121737    1\n",
              "62.810185    1\n",
              "75.642765    1\n",
              "32.184456    1\n",
              "74.573640    1\n",
              "34.884847    1\n",
              "65.739880    1\n",
              "66.761844    1\n",
              "53.590965    1\n",
              "76.085545    1\n",
              "68.350483    1\n",
              "60.461062    1\n",
              "48.783892    1\n",
              "36.700569    1\n",
              "71.273966    1\n",
              "50.361858    1\n",
              "68.481835    1\n",
              "76.466911    1\n",
              "67.053186    1\n",
              "51.909942    1\n",
              "29.247805    1\n",
              "64.192557    1\n",
              "74.447168    1\n",
              "70.720771    1\n",
              "77.528711    1\n",
              "58.399673    1\n",
              "66.194925    1\n",
              "64.563171    1\n",
              "75.741131    1\n",
              "74.152509    1\n",
              "69.131533    1\n",
              "72.911840    1\n",
              "70.890650    1\n",
              "47.930849    1\n",
              "68.826614    1\n",
              "72.709878    1\n",
              "76.827453    1\n",
              "25.547250    1\n",
              "37.403589    1\n",
              "79.527316    1\n",
              "54.990240    1\n",
              "54.003467    1\n",
              "78.431132    1\n",
              "58.465794    1\n",
              "45.810184    1\n",
              "48.915767    1\n",
              "51.308882    1\n",
              "65.433249    1\n",
              "36.103484    1\n",
              "40.846293    1\n",
              "78.003934    1\n",
              "63.176032    1\n",
              "51.697324    1\n",
              "48.464289    1\n",
              "68.498011    1\n",
              "58.827679    1\n",
              "64.431161    1\n",
              "62.353834    1\n",
              "53.044700    1\n",
              "74.711232    1\n",
              "58.627558    1\n",
              "28.129243    1\n",
              "80.803896    1\n",
              "71.590531    1\n",
              "76.472016    1\n",
              "74.500520    1\n",
              "76.010116    1\n",
              "45.746490    1\n",
              "53.210041    1\n",
              "44.330356    1\n",
              "36.207737    1\n",
              "35.895968    1\n",
              "67.460463    1\n",
              "67.461327    1\n",
              "75.815907    1\n",
              "69.640017    1\n",
              "24.399292    1\n",
              "61.361955    1\n",
              "70.334767    1\n",
              "70.466596    1\n",
              "57.314309    1\n",
              "75.598218    1\n",
              "69.993469    1\n",
              "62.099565    1\n",
              "52.921890    1\n",
              "44.524867    1\n",
              "45.196316    1\n",
              "45.446163    1\n",
              "31.265657    1\n",
              "74.836918    1\n",
              "67.864428    1\n",
              "48.459912    1\n",
              "76.188317    1\n",
              "Name: RSI_Yesterday_EXP, dtype: int64"
            ]
          },
          "metadata": {
            "tags": []
          },
          "execution_count": 675
        }
      ]
    },
    {
      "cell_type": "code",
      "metadata": {
        "scrolled": true,
        "id": "h4ZhMDqlMtzx",
        "colab_type": "code",
        "colab": {},
        "outputId": "70155178-e304-4df7-a473-c7ff62503266"
      },
      "source": [
        "X_val_example = X_val[X_val['RSI_Yesterday_EXP'] <= 30]\n",
        "X_val_example"
      ],
      "execution_count": 0,
      "outputs": [
        {
          "output_type": "execute_result",
          "data": {
            "text/html": [
              "<div>\n",
              "<style scoped>\n",
              "    .dataframe tbody tr th:only-of-type {\n",
              "        vertical-align: middle;\n",
              "    }\n",
              "\n",
              "    .dataframe tbody tr th {\n",
              "        vertical-align: top;\n",
              "    }\n",
              "\n",
              "    .dataframe thead th {\n",
              "        text-align: right;\n",
              "    }\n",
              "</style>\n",
              "<table border=\"1\" class=\"dataframe\">\n",
              "  <thead>\n",
              "    <tr style=\"text-align: right;\">\n",
              "      <th></th>\n",
              "      <th>RSI_Yesterday_EXP</th>\n",
              "    </tr>\n",
              "  </thead>\n",
              "  <tbody>\n",
              "    <tr>\n",
              "      <th>6619</th>\n",
              "      <td>23.557179</td>\n",
              "    </tr>\n",
              "    <tr>\n",
              "      <th>6630</th>\n",
              "      <td>29.247805</td>\n",
              "    </tr>\n",
              "    <tr>\n",
              "      <th>6632</th>\n",
              "      <td>25.547250</td>\n",
              "    </tr>\n",
              "    <tr>\n",
              "      <th>6633</th>\n",
              "      <td>24.399292</td>\n",
              "    </tr>\n",
              "    <tr>\n",
              "      <th>6676</th>\n",
              "      <td>28.129243</td>\n",
              "    </tr>\n",
              "    <tr>\n",
              "      <th>6677</th>\n",
              "      <td>16.204142</td>\n",
              "    </tr>\n",
              "  </tbody>\n",
              "</table>\n",
              "</div>"
            ],
            "text/plain": [
              "      RSI_Yesterday_EXP\n",
              "6619          23.557179\n",
              "6630          29.247805\n",
              "6632          25.547250\n",
              "6633          24.399292\n",
              "6676          28.129243\n",
              "6677          16.204142"
            ]
          },
          "metadata": {
            "tags": []
          },
          "execution_count": 676
        }
      ]
    },
    {
      "cell_type": "code",
      "metadata": {
        "scrolled": false,
        "id": "o-y8DQTKMtz1",
        "colab_type": "code",
        "colab": {},
        "outputId": "5b619985-260d-4e1f-eadb-a851e750369d"
      },
      "source": [
        "example = X_val_example.iloc[[0]]\n",
        "example"
      ],
      "execution_count": 0,
      "outputs": [
        {
          "output_type": "execute_result",
          "data": {
            "text/html": [
              "<div>\n",
              "<style scoped>\n",
              "    .dataframe tbody tr th:only-of-type {\n",
              "        vertical-align: middle;\n",
              "    }\n",
              "\n",
              "    .dataframe tbody tr th {\n",
              "        vertical-align: top;\n",
              "    }\n",
              "\n",
              "    .dataframe thead th {\n",
              "        text-align: right;\n",
              "    }\n",
              "</style>\n",
              "<table border=\"1\" class=\"dataframe\">\n",
              "  <thead>\n",
              "    <tr style=\"text-align: right;\">\n",
              "      <th></th>\n",
              "      <th>RSI_Yesterday_EXP</th>\n",
              "    </tr>\n",
              "  </thead>\n",
              "  <tbody>\n",
              "    <tr>\n",
              "      <th>6619</th>\n",
              "      <td>23.557179</td>\n",
              "    </tr>\n",
              "  </tbody>\n",
              "</table>\n",
              "</div>"
            ],
            "text/plain": [
              "      RSI_Yesterday_EXP\n",
              "6619          23.557179"
            ]
          },
          "metadata": {
            "tags": []
          },
          "execution_count": 677
        }
      ]
    },
    {
      "cell_type": "code",
      "metadata": {
        "id": "Q-4Lu7M1Mtz3",
        "colab_type": "code",
        "colab": {},
        "outputId": "37a19685-5c48-49cf-b5ba-538390c50e40"
      },
      "source": [
        "pred = lr.predict(example)[0]\n",
        "print(f'Predicted Probability Close Higher Today: {pred:.2f}')"
      ],
      "execution_count": 0,
      "outputs": [
        {
          "output_type": "stream",
          "text": [
            "Predicted Probability Close Higher Today: 0.58\n"
          ],
          "name": "stdout"
        }
      ]
    },
    {
      "cell_type": "code",
      "metadata": {
        "scrolled": true,
        "id": "y6gxE7RLMtz4",
        "colab_type": "code",
        "colab": {},
        "outputId": "9182929b-01d0-4cd1-a5d7-4b7cc6499d0b"
      },
      "source": [
        "example2 = X_val_example.iloc[[1]]\n",
        "pred2 = lr.predict(example2)[0]\n",
        "print(f'Predicted Probability Close Higher Today: {pred2:.2f}')"
      ],
      "execution_count": 0,
      "outputs": [
        {
          "output_type": "stream",
          "text": [
            "Predicted Probability Close Higher Today: 0.57\n"
          ],
          "name": "stdout"
        }
      ]
    },
    {
      "cell_type": "code",
      "metadata": {
        "id": "-c7yS_NJMtz6",
        "colab_type": "code",
        "colab": {},
        "outputId": "49a492ac-a0df-4b0b-9067-51a2c613dc37"
      },
      "source": [
        "example2"
      ],
      "execution_count": 0,
      "outputs": [
        {
          "output_type": "execute_result",
          "data": {
            "text/html": [
              "<div>\n",
              "<style scoped>\n",
              "    .dataframe tbody tr th:only-of-type {\n",
              "        vertical-align: middle;\n",
              "    }\n",
              "\n",
              "    .dataframe tbody tr th {\n",
              "        vertical-align: top;\n",
              "    }\n",
              "\n",
              "    .dataframe thead th {\n",
              "        text-align: right;\n",
              "    }\n",
              "</style>\n",
              "<table border=\"1\" class=\"dataframe\">\n",
              "  <thead>\n",
              "    <tr style=\"text-align: right;\">\n",
              "      <th></th>\n",
              "      <th>RSI_Yesterday_EXP</th>\n",
              "    </tr>\n",
              "  </thead>\n",
              "  <tbody>\n",
              "    <tr>\n",
              "      <th>6630</th>\n",
              "      <td>29.247805</td>\n",
              "    </tr>\n",
              "  </tbody>\n",
              "</table>\n",
              "</div>"
            ],
            "text/plain": [
              "      RSI_Yesterday_EXP\n",
              "6630          29.247805"
            ]
          },
          "metadata": {
            "tags": []
          },
          "execution_count": 680
        }
      ]
    },
    {
      "cell_type": "code",
      "metadata": {
        "id": "NnxsYsTKMtz7",
        "colab_type": "code",
        "colab": {},
        "outputId": "e734f9ba-7cb3-4e9a-8663-46fa76ac7691"
      },
      "source": [
        "example3 = X_val.iloc[[4]]\n",
        "pred3 = lr.predict(example3)[0]\n",
        "print(f'Predicted Probability Close Higher Today: {pred3:.2f}')"
      ],
      "execution_count": 0,
      "outputs": [
        {
          "output_type": "stream",
          "text": [
            "Predicted Probability Close Higher Today: 0.54\n"
          ],
          "name": "stdout"
        }
      ]
    },
    {
      "cell_type": "code",
      "metadata": {
        "id": "xxSTLlAVMtz8",
        "colab_type": "code",
        "colab": {},
        "outputId": "530194ef-c465-4a16-8ee6-0641303f5d44"
      },
      "source": [
        "example3"
      ],
      "execution_count": 0,
      "outputs": [
        {
          "output_type": "execute_result",
          "data": {
            "text/html": [
              "<div>\n",
              "<style scoped>\n",
              "    .dataframe tbody tr th:only-of-type {\n",
              "        vertical-align: middle;\n",
              "    }\n",
              "\n",
              "    .dataframe tbody tr th {\n",
              "        vertical-align: top;\n",
              "    }\n",
              "\n",
              "    .dataframe thead th {\n",
              "        text-align: right;\n",
              "    }\n",
              "</style>\n",
              "<table border=\"1\" class=\"dataframe\">\n",
              "  <thead>\n",
              "    <tr style=\"text-align: right;\">\n",
              "      <th></th>\n",
              "      <th>RSI_Yesterday_EXP</th>\n",
              "    </tr>\n",
              "  </thead>\n",
              "  <tbody>\n",
              "    <tr>\n",
              "      <th>6532</th>\n",
              "      <td>54.99024</td>\n",
              "    </tr>\n",
              "  </tbody>\n",
              "</table>\n",
              "</div>"
            ],
            "text/plain": [
              "      RSI_Yesterday_EXP\n",
              "6532           54.99024"
            ]
          },
          "metadata": {
            "tags": []
          },
          "execution_count": 682
        }
      ]
    },
    {
      "cell_type": "code",
      "metadata": {
        "id": "JXfMzuynMtz9",
        "colab_type": "code",
        "colab": {}
      },
      "source": [
        "import matplotlib.pyplot as plt\n",
        "plt.rcParams['figure.dpi'] = 72"
      ],
      "execution_count": 0,
      "outputs": []
    },
    {
      "cell_type": "code",
      "metadata": {
        "id": "uA9qzVzOMt0B",
        "colab_type": "code",
        "colab": {},
        "outputId": "6e70a95f-498e-4c22-ec35-b6faa7df1a68"
      },
      "source": [
        "# conda install -c conda-forge category_encoders\n",
        "# pip install category_encoders\n",
        "# pip install plotly==4.1.0\n",
        "# conda install -c conda-forge eli5 \n",
        "\n",
        "import eli5\n",
        "from eli5.sklearn import PermutationImportance\n",
        "\n",
        "model = RandomForestClassifier(n_estimators=100, random_state=42, n_jobs=-1)\n",
        "model.fit(X_train, y_train)\n",
        "\n",
        "permuter = PermutationImportance(\n",
        "    model, scoring='accuracy', n_iter=2, random_state=42\n",
        ")\n",
        "\n",
        "permuter.fit(X_val, y_val)\n",
        "feature_names = X_val.columns.tolist()\n",
        "eli5.show_weights(\n",
        "    permuter,\n",
        "    top=None,\n",
        "    feature_names = feature_names\n",
        ")"
      ],
      "execution_count": 0,
      "outputs": [
        {
          "output_type": "execute_result",
          "data": {
            "text/html": [
              "\n",
              "    <style>\n",
              "    table.eli5-weights tr:hover {\n",
              "        filter: brightness(85%);\n",
              "    }\n",
              "</style>\n",
              "\n",
              "\n",
              "\n",
              "    \n",
              "\n",
              "    \n",
              "\n",
              "    \n",
              "\n",
              "    \n",
              "\n",
              "    \n",
              "\n",
              "    \n",
              "\n",
              "\n",
              "    \n",
              "\n",
              "    \n",
              "\n",
              "    \n",
              "\n",
              "    \n",
              "\n",
              "    \n",
              "\n",
              "    \n",
              "\n",
              "\n",
              "    \n",
              "\n",
              "    \n",
              "\n",
              "    \n",
              "\n",
              "    \n",
              "\n",
              "    \n",
              "        <table class=\"eli5-weights eli5-feature-importances\" style=\"border-collapse: collapse; border: none; margin-top: 0em; table-layout: auto;\">\n",
              "    <thead>\n",
              "    <tr style=\"border: none;\">\n",
              "        <th style=\"padding: 0 1em 0 0.5em; text-align: right; border: none;\">Weight</th>\n",
              "        <th style=\"padding: 0 0.5em 0 0.5em; text-align: left; border: none;\">Feature</th>\n",
              "    </tr>\n",
              "    </thead>\n",
              "    <tbody>\n",
              "    \n",
              "        <tr style=\"background-color: hsl(120, 100.00%, 80.00%); border: none;\">\n",
              "            <td style=\"padding: 0 1em 0 0.5em; text-align: right; border: none;\">\n",
              "                0.1098\n",
              "                \n",
              "                    &plusmn; 0.0000\n",
              "                \n",
              "            </td>\n",
              "            <td style=\"padding: 0 0.5em 0 0.5em; text-align: left; border: none;\">\n",
              "                RSI_Yesterday_EXP\n",
              "            </td>\n",
              "        </tr>\n",
              "    \n",
              "    \n",
              "    </tbody>\n",
              "</table>\n",
              "    \n",
              "\n",
              "    \n",
              "\n",
              "\n",
              "    \n",
              "\n",
              "    \n",
              "\n",
              "    \n",
              "\n",
              "    \n",
              "\n",
              "    \n",
              "\n",
              "    \n",
              "\n",
              "\n",
              "\n"
            ],
            "text/plain": [
              "<IPython.core.display.HTML object>"
            ]
          },
          "metadata": {
            "tags": []
          },
          "execution_count": 684
        }
      ]
    },
    {
      "cell_type": "markdown",
      "metadata": {
        "id": "Q_JVT0TSMt0C",
        "colab_type": "text"
      },
      "source": [
        "# DO XGBOOST IN COLAB"
      ]
    },
    {
      "cell_type": "code",
      "metadata": {
        "id": "Nv_SJsmPMt0C",
        "colab_type": "code",
        "colab": {}
      },
      "source": [
        "# !conda install -c mndrake xgboost"
      ],
      "execution_count": 0,
      "outputs": []
    },
    {
      "cell_type": "code",
      "metadata": {
        "id": "krA3Ocm8Mt0D",
        "colab_type": "code",
        "colab": {}
      },
      "source": [
        "from sklearn.metrics import r2_score\n",
        "from xgboost import XGBRegressor\n",
        "\n",
        "gb = make_pipeline(\n",
        "    ce.OrdinalEncoder(), \n",
        "    XGBRegressor(n_estimators=200, objective='reg:squarederror', n_jobs=-1)\n",
        ")\n",
        "\n",
        "gb.fit(X_train, y_train_log)\n",
        "y_pred_log = gb.predict(X_val)\n",
        "y_pred = np.expm1(y_pred_log)\n",
        "print('Gradient Boosting R^2', r2_score(y_val, y_pred))"
      ],
      "execution_count": 0,
      "outputs": []
    },
    {
      "cell_type": "code",
      "metadata": {
        "id": "UV_TuG52Mt0E",
        "colab_type": "code",
        "colab": {}
      },
      "source": [
        "pip install pdpbox"
      ],
      "execution_count": 0,
      "outputs": []
    },
    {
      "cell_type": "code",
      "metadata": {
        "id": "VAwKw4q3Mt0F",
        "colab_type": "code",
        "colab": {}
      },
      "source": [
        "from pdpbox.pdp import pdp_isolate, pdp_plot\n",
        "\n",
        "feature = 'Close'\n",
        "\n",
        "isolated = pdp_isolate(\n",
        "    model=gb, \n",
        "    dataset=X_val, \n",
        "    model_features=X_val.columns, \n",
        "    feature=feature\n",
        ")\n",
        "\n",
        "pdp_plot(isolated, feature_name=feature);"
      ],
      "execution_count": 0,
      "outputs": []
    },
    {
      "cell_type": "markdown",
      "metadata": {
        "id": "8LYrYIjBMt0H",
        "colab_type": "text"
      },
      "source": [
        "# Share at least 1 visualization on Slack."
      ]
    },
    {
      "cell_type": "code",
      "metadata": {
        "id": "utgstTFZMt0H",
        "colab_type": "code",
        "colab": {}
      },
      "source": [
        "spy.iloc[[2]].to_string()"
      ],
      "execution_count": 0,
      "outputs": []
    },
    {
      "cell_type": "code",
      "metadata": {
        "id": "CJ6JaFNVMt0I",
        "colab_type": "code",
        "colab": {}
      },
      "source": [
        "spy.iloc[[2]]"
      ],
      "execution_count": 0,
      "outputs": []
    }
  ]
}