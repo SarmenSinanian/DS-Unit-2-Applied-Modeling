{
  "nbformat": 4,
  "nbformat_minor": 0,
  "metadata": {
    "colab": {
      "name": "Sarmen-Sinanian-assignment_applied_modeling_2.ipynb",
      "version": "0.3.2",
      "provenance": [],
      "collapsed_sections": [],
      "include_colab_link": true
    },
    "kernelspec": {
      "display_name": "Python 3",
      "language": "python",
      "name": "python3"
    },
    "language_info": {
      "codemirror_mode": {
        "name": "ipython",
        "version": 3
      },
      "file_extension": ".py",
      "mimetype": "text/x-python",
      "name": "python",
      "nbconvert_exporter": "python",
      "pygments_lexer": "ipython3",
      "version": "3.7.3"
    }
  },
  "cells": [
    {
      "cell_type": "markdown",
      "metadata": {
        "id": "view-in-github",
        "colab_type": "text"
      },
      "source": [
        "<a href=\"https://colab.research.google.com/github/SarmenSinanian/DS-Unit-2-Applied-Modeling/blob/master/Sarmen_Sinanian_assignment_applied_modeling_2.ipynb\" target=\"_parent\"><img src=\"https://colab.research.google.com/assets/colab-badge.svg\" alt=\"Open In Colab\"/></a>"
      ]
    },
    {
      "cell_type": "markdown",
      "metadata": {
        "colab_type": "text",
        "id": "nCc3XZEyG3XV"
      },
      "source": [
        "Lambda School Data Science, Unit 2: Predictive Modeling\n",
        "\n",
        "# Applied Modeling, Module 2\n",
        "\n",
        "You will use your portfolio project dataset for all assignments this sprint.\n",
        "\n",
        "## Assignment\n",
        "\n",
        "Complete these tasks for your project, and document your work.\n",
        "\n",
        "- [ ] Plot the distribution of your target. \n",
        "    - Regression problem: Is your target skewed? Then, log-transform it.\n",
        "    - Classification: Are your classes imbalanced? Then, don't use just accuracy. And try `class_balance` parameter in scikit-learn.\n",
        "- [ ] Continue to clean and explore your data. Make exploratory visualizations.\n",
        "- [ ] Fit a model. Does it beat your baseline?\n",
        "- [ ] Share at least 1 visualization on Slack.\n",
        "\n",
        "You need to complete an initial model today, because the rest of the week, we're making model interpretation visualizations.\n",
        "\n",
        "\n",
        "## Reading\n",
        "\n",
        "### Today\n",
        "- [imbalance-learn](https://github.com/scikit-learn-contrib/imbalanced-learn)\n",
        "- [Learning from Imbalanced Classes](https://www.svds.com/tbt-learning-imbalanced-classes/)\n",
        "- [Machine Learning Meets Economics](http://blog.mldb.ai/blog/posts/2016/01/ml-meets-economics/)\n",
        "- [ROC curves and Area Under the Curve explained](https://www.dataschool.io/roc-curves-and-auc-explained/)\n",
        "- [The philosophical argument for using ROC curves](https://lukeoakdenrayner.wordpress.com/2018/01/07/the-philosophical-argument-for-using-roc-curves/)\n",
        "\n",
        "\n",
        "### Yesterday\n",
        "- [Attacking discrimination with smarter machine learning](https://research.google.com/bigpicture/attacking-discrimination-in-ml/), by Google Research, with  interactive visualizations. _\"A threshold classifier essentially makes a yes/no decision, putting things in one category or another. We look at how these classifiers work, ways they can potentially be unfair, and how you might turn an unfair classifier into a fairer one. As an illustrative example, we focus on loan granting scenarios where a bank may grant or deny a loan based on a single, automatically computed number such as a credit score.\"_\n",
        "- [How Shopify Capital Uses Quantile Regression To Help Merchants Succeed](https://engineering.shopify.com/blogs/engineering/how-shopify-uses-machine-learning-to-help-our-merchants-grow-their-business)\n",
        "- [Maximizing Scarce Maintenance Resources with Data: Applying predictive modeling, precision at k, and clustering to optimize impact](https://towardsdatascience.com/maximizing-scarce-maintenance-resources-with-data-8f3491133050), **by Lambda DS3 student** Michael Brady. His blog post extends the Tanzania Waterpumps scenario, far beyond what's in the lecture notebook.\n",
        "- [Notebook about how to calculate expected value from a confusion matrix by treating it as a cost-benefit matrix](https://github.com/podopie/DAT18NYC/blob/master/classes/13-expected_value_cost_benefit_analysis.ipynb)\n",
        "- [Simple guide to confusion matrix terminology](https://www.dataschool.io/simple-guide-to-confusion-matrix-terminology/) by Kevin Markham, with video\n",
        "- [Visualizing Machine Learning Thresholds to Make Better Business Decisions](https://blog.insightdatascience.com/visualizing-machine-learning-thresholds-to-make-better-business-decisions-4ab07f823415)\n",
        "\n",
        "\n",
        "\n",
        "\n"
      ]
    },
    {
      "cell_type": "code",
      "metadata": {
        "colab_type": "code",
        "id": "wM0ChIkGuVAp",
        "scrolled": true,
        "colab": {}
      },
      "source": [
        "# conda install -c conda-forge category_encoders"
      ],
      "execution_count": 0,
      "outputs": []
    },
    {
      "cell_type": "code",
      "metadata": {
        "id": "1NSMlGL4cI0_",
        "colab_type": "code",
        "colab": {}
      },
      "source": [
        "# conda update -n base -c defaults conda"
      ],
      "execution_count": 0,
      "outputs": []
    },
    {
      "cell_type": "code",
      "metadata": {
        "scrolled": true,
        "id": "9Zzz-GsTcI1B",
        "colab_type": "code",
        "colab": {}
      },
      "source": [
        "# pip install --upgrade category_encoders"
      ],
      "execution_count": 0,
      "outputs": []
    },
    {
      "cell_type": "code",
      "metadata": {
        "id": "wZkbEu8gcI1D",
        "colab_type": "code",
        "colab": {}
      },
      "source": [
        "import pandas as pd\n",
        "import numpy as np"
      ],
      "execution_count": 0,
      "outputs": []
    },
    {
      "cell_type": "markdown",
      "metadata": {
        "id": "DJtqW9Fc7rmx",
        "colab_type": "text"
      },
      "source": [
        "# DATASET FROM KAGGLE(HUGE STOCK MARKET DATASET): https://www.kaggle.com/borismarjanovic/price-volume-data-for-all-us-stocks-etfs"
      ]
    },
    {
      "cell_type": "markdown",
      "metadata": {
        "id": "E1kt65MWcI1F",
        "colab_type": "text"
      },
      "source": [
        "# ASSIGNMENT 1 BELOW (ASSIGNMENT 2 FURTHER DOWN)"
      ]
    },
    {
      "cell_type": "code",
      "metadata": {
        "id": "eO76HWAacI1G",
        "colab_type": "code",
        "colab": {}
      },
      "source": [
        ""
      ],
      "execution_count": 0,
      "outputs": []
    },
    {
      "cell_type": "code",
      "metadata": {
        "id": "jK86NJ6ecI1I",
        "colab_type": "code",
        "colab": {}
      },
      "source": [
        "columns = ['Date','Close','Volume']"
      ],
      "execution_count": 0,
      "outputs": []
    },
    {
      "cell_type": "code",
      "metadata": {
        "id": "Zt-SL0eccI1K",
        "colab_type": "code",
        "colab": {}
      },
      "source": [
        "spy = pd.read_csv(f'E:\\Desktop\\Lambda School\\Data Sets\\Data Visualization and Storytelling Project\\price-volume-data-for-all-us-stocks-etfs\\Data\\ETFs\\\\spy.us.txt',\n",
        "                          usecols = columns)"
      ],
      "execution_count": 0,
      "outputs": []
    },
    {
      "cell_type": "code",
      "metadata": {
        "id": "RJPMpvc0cI1M",
        "colab_type": "code",
        "colab": {},
        "outputId": "47f7a196-9d1f-4c8c-9d79-12ec58f313da"
      },
      "source": [
        "spy.head()"
      ],
      "execution_count": 0,
      "outputs": [
        {
          "output_type": "execute_result",
          "data": {
            "text/html": [
              "<div>\n",
              "<style scoped>\n",
              "    .dataframe tbody tr th:only-of-type {\n",
              "        vertical-align: middle;\n",
              "    }\n",
              "\n",
              "    .dataframe tbody tr th {\n",
              "        vertical-align: top;\n",
              "    }\n",
              "\n",
              "    .dataframe thead th {\n",
              "        text-align: right;\n",
              "    }\n",
              "</style>\n",
              "<table border=\"1\" class=\"dataframe\">\n",
              "  <thead>\n",
              "    <tr style=\"text-align: right;\">\n",
              "      <th></th>\n",
              "      <th>Date</th>\n",
              "      <th>Close</th>\n",
              "      <th>Volume</th>\n",
              "    </tr>\n",
              "  </thead>\n",
              "  <tbody>\n",
              "    <tr>\n",
              "      <th>0</th>\n",
              "      <td>2005-02-25</td>\n",
              "      <td>105.79</td>\n",
              "      <td>70221808</td>\n",
              "    </tr>\n",
              "    <tr>\n",
              "      <th>1</th>\n",
              "      <td>2005-02-28</td>\n",
              "      <td>105.08</td>\n",
              "      <td>79695344</td>\n",
              "    </tr>\n",
              "    <tr>\n",
              "      <th>2</th>\n",
              "      <td>2005-03-01</td>\n",
              "      <td>105.62</td>\n",
              "      <td>54607412</td>\n",
              "    </tr>\n",
              "    <tr>\n",
              "      <th>3</th>\n",
              "      <td>2005-03-02</td>\n",
              "      <td>105.57</td>\n",
              "      <td>73733090</td>\n",
              "    </tr>\n",
              "    <tr>\n",
              "      <th>4</th>\n",
              "      <td>2005-03-03</td>\n",
              "      <td>105.61</td>\n",
              "      <td>71286823</td>\n",
              "    </tr>\n",
              "  </tbody>\n",
              "</table>\n",
              "</div>"
            ],
            "text/plain": [
              "         Date   Close    Volume\n",
              "0  2005-02-25  105.79  70221808\n",
              "1  2005-02-28  105.08  79695344\n",
              "2  2005-03-01  105.62  54607412\n",
              "3  2005-03-02  105.57  73733090\n",
              "4  2005-03-03  105.61  71286823"
            ]
          },
          "metadata": {
            "tags": []
          },
          "execution_count": 7
        }
      ]
    },
    {
      "cell_type": "code",
      "metadata": {
        "id": "HTIJWU6jcI1Q",
        "colab_type": "code",
        "colab": {},
        "outputId": "0c1f0092-674d-48ed-b31c-20c77e69e163"
      },
      "source": [
        "spy.describe()"
      ],
      "execution_count": 0,
      "outputs": [
        {
          "output_type": "execute_result",
          "data": {
            "text/html": [
              "<div>\n",
              "<style scoped>\n",
              "    .dataframe tbody tr th:only-of-type {\n",
              "        vertical-align: middle;\n",
              "    }\n",
              "\n",
              "    .dataframe tbody tr th {\n",
              "        vertical-align: top;\n",
              "    }\n",
              "\n",
              "    .dataframe thead th {\n",
              "        text-align: right;\n",
              "    }\n",
              "</style>\n",
              "<table border=\"1\" class=\"dataframe\">\n",
              "  <thead>\n",
              "    <tr style=\"text-align: right;\">\n",
              "      <th></th>\n",
              "      <th>Close</th>\n",
              "      <th>Volume</th>\n",
              "    </tr>\n",
              "  </thead>\n",
              "  <tbody>\n",
              "    <tr>\n",
              "      <th>count</th>\n",
              "      <td>3201.000000</td>\n",
              "      <td>3.201000e+03</td>\n",
              "    </tr>\n",
              "    <tr>\n",
              "      <th>mean</th>\n",
              "      <td>141.275289</td>\n",
              "      <td>1.680534e+08</td>\n",
              "    </tr>\n",
              "    <tr>\n",
              "      <th>std</th>\n",
              "      <td>46.534009</td>\n",
              "      <td>1.180913e+08</td>\n",
              "    </tr>\n",
              "    <tr>\n",
              "      <th>min</th>\n",
              "      <td>59.334000</td>\n",
              "      <td>1.752828e+07</td>\n",
              "    </tr>\n",
              "    <tr>\n",
              "      <th>25%</th>\n",
              "      <td>107.720000</td>\n",
              "      <td>8.523352e+07</td>\n",
              "    </tr>\n",
              "    <tr>\n",
              "      <th>50%</th>\n",
              "      <td>123.550000</td>\n",
              "      <td>1.336313e+08</td>\n",
              "    </tr>\n",
              "    <tr>\n",
              "      <th>75%</th>\n",
              "      <td>183.700000</td>\n",
              "      <td>2.131654e+08</td>\n",
              "    </tr>\n",
              "    <tr>\n",
              "      <th>max</th>\n",
              "      <td>259.110000</td>\n",
              "      <td>1.000440e+09</td>\n",
              "    </tr>\n",
              "  </tbody>\n",
              "</table>\n",
              "</div>"
            ],
            "text/plain": [
              "             Close        Volume\n",
              "count  3201.000000  3.201000e+03\n",
              "mean    141.275289  1.680534e+08\n",
              "std      46.534009  1.180913e+08\n",
              "min      59.334000  1.752828e+07\n",
              "25%     107.720000  8.523352e+07\n",
              "50%     123.550000  1.336313e+08\n",
              "75%     183.700000  2.131654e+08\n",
              "max     259.110000  1.000440e+09"
            ]
          },
          "metadata": {
            "tags": []
          },
          "execution_count": 8
        }
      ]
    },
    {
      "cell_type": "code",
      "metadata": {
        "id": "BSNB0hgpcI1S",
        "colab_type": "code",
        "colab": {},
        "outputId": "0cfe5fb3-0fdb-4ec3-d167-9955893879c6"
      },
      "source": [
        "spy.shape"
      ],
      "execution_count": 0,
      "outputs": [
        {
          "output_type": "execute_result",
          "data": {
            "text/plain": [
              "(3201, 3)"
            ]
          },
          "metadata": {
            "tags": []
          },
          "execution_count": 9
        }
      ]
    },
    {
      "cell_type": "markdown",
      "metadata": {
        "colab_type": "text",
        "id": "vCFxE6hqF3P9"
      },
      "source": [
        "# Choose your target. Which column in your tabular dataset will you predict?\n"
      ]
    },
    {
      "cell_type": "code",
      "metadata": {
        "id": "HrO-xnvtcI1V",
        "colab_type": "code",
        "colab": {}
      },
      "source": [
        "# PRICE(CLOSE) IS THE TARGET\n",
        "# THIS--->***OR PRICE(CLOSE) NEXT DAY ABOVE/BELOW PREVIOUS DAY BASED ON ROLLING MEAN(SMA) OR RELATIVE STRENGTH (RSI)***"
      ],
      "execution_count": 0,
      "outputs": []
    },
    {
      "cell_type": "markdown",
      "metadata": {
        "colab_type": "text",
        "id": "iGhy2o9MF5iK"
      },
      "source": [
        "# Choose which observations you will use to train, validate, and test your model. And which observations, if any, to exclude.\n"
      ]
    },
    {
      "cell_type": "code",
      "metadata": {
        "id": "XK46QbWxcI1Y",
        "colab_type": "code",
        "colab": {},
        "outputId": "2e8cf6e9-f113-4b92-9b5d-d46f2551423c"
      },
      "source": [
        "spy.isna().sum()"
      ],
      "execution_count": 0,
      "outputs": [
        {
          "output_type": "execute_result",
          "data": {
            "text/plain": [
              "Date      0\n",
              "Close     0\n",
              "Volume    0\n",
              "dtype: int64"
            ]
          },
          "metadata": {
            "tags": []
          },
          "execution_count": 11
        }
      ]
    },
    {
      "cell_type": "markdown",
      "metadata": {
        "id": "N6PXUVfWcI1a",
        "colab_type": "text"
      },
      "source": [
        "### *WILL USE ALL SPY (S&P 500 ETF) DATA*"
      ]
    },
    {
      "cell_type": "markdown",
      "metadata": {
        "colab_type": "text",
        "id": "KwGWGEUZF5e4"
      },
      "source": [
        "# Determine whether your problem is regression or classification.\n"
      ]
    },
    {
      "cell_type": "markdown",
      "metadata": {
        "id": "63AxHR4xcI1b",
        "colab_type": "text"
      },
      "source": [
        "### *CLASSIFICATION (IS THIS TICKER OVER/UNDER THE X_DAY ROLLING MEAN ***AND*** ALSO OVER/UNDER BOUGHT ON THE RSI?)*\n",
        "### *AKA 3 WAY CONFUSION MATRIX WITH UNDER TO BOTH AS THE HIGHEST LIKELIHOOD PREDICTOR OF NEXT DAY/WEEKS/MONTHS POSITIVE RETURNS*"
      ]
    },
    {
      "cell_type": "markdown",
      "metadata": {
        "colab_type": "text",
        "id": "OE4NpAxhF5bJ"
      },
      "source": [
        "# Choose your evaluation metric."
      ]
    },
    {
      "cell_type": "markdown",
      "metadata": {
        "id": "SuhP-Lk5cI1d",
        "colab_type": "text"
      },
      "source": [
        "### WILL USE ACCURACY SCORE"
      ]
    },
    {
      "cell_type": "markdown",
      "metadata": {
        "colab_type": "text",
        "id": "k2-7u08UF5Xo"
      },
      "source": [
        "# Begin with baselines: majority class baseline for classification, or mean baseline for regression, with your metric of choice.\n"
      ]
    },
    {
      "cell_type": "code",
      "metadata": {
        "id": "rEQMJnfjcI1f",
        "colab_type": "code",
        "colab": {},
        "outputId": "935e6a0a-2fbd-494b-f09b-ef639284fbdc"
      },
      "source": [
        "spy.head()"
      ],
      "execution_count": 0,
      "outputs": [
        {
          "output_type": "execute_result",
          "data": {
            "text/html": [
              "<div>\n",
              "<style scoped>\n",
              "    .dataframe tbody tr th:only-of-type {\n",
              "        vertical-align: middle;\n",
              "    }\n",
              "\n",
              "    .dataframe tbody tr th {\n",
              "        vertical-align: top;\n",
              "    }\n",
              "\n",
              "    .dataframe thead th {\n",
              "        text-align: right;\n",
              "    }\n",
              "</style>\n",
              "<table border=\"1\" class=\"dataframe\">\n",
              "  <thead>\n",
              "    <tr style=\"text-align: right;\">\n",
              "      <th></th>\n",
              "      <th>Date</th>\n",
              "      <th>Close</th>\n",
              "      <th>Volume</th>\n",
              "    </tr>\n",
              "  </thead>\n",
              "  <tbody>\n",
              "    <tr>\n",
              "      <th>0</th>\n",
              "      <td>2005-02-25</td>\n",
              "      <td>105.79</td>\n",
              "      <td>70221808</td>\n",
              "    </tr>\n",
              "    <tr>\n",
              "      <th>1</th>\n",
              "      <td>2005-02-28</td>\n",
              "      <td>105.08</td>\n",
              "      <td>79695344</td>\n",
              "    </tr>\n",
              "    <tr>\n",
              "      <th>2</th>\n",
              "      <td>2005-03-01</td>\n",
              "      <td>105.62</td>\n",
              "      <td>54607412</td>\n",
              "    </tr>\n",
              "    <tr>\n",
              "      <th>3</th>\n",
              "      <td>2005-03-02</td>\n",
              "      <td>105.57</td>\n",
              "      <td>73733090</td>\n",
              "    </tr>\n",
              "    <tr>\n",
              "      <th>4</th>\n",
              "      <td>2005-03-03</td>\n",
              "      <td>105.61</td>\n",
              "      <td>71286823</td>\n",
              "    </tr>\n",
              "  </tbody>\n",
              "</table>\n",
              "</div>"
            ],
            "text/plain": [
              "         Date   Close    Volume\n",
              "0  2005-02-25  105.79  70221808\n",
              "1  2005-02-28  105.08  79695344\n",
              "2  2005-03-01  105.62  54607412\n",
              "3  2005-03-02  105.57  73733090\n",
              "4  2005-03-03  105.61  71286823"
            ]
          },
          "metadata": {
            "tags": []
          },
          "execution_count": 12
        }
      ]
    },
    {
      "cell_type": "code",
      "metadata": {
        "id": "HXlOn9m5cI1i",
        "colab_type": "code",
        "colab": {},
        "outputId": "5c17a9a6-1556-468e-ab3a-ed2cc200b96e"
      },
      "source": [
        "spy.dtypes"
      ],
      "execution_count": 0,
      "outputs": [
        {
          "output_type": "execute_result",
          "data": {
            "text/plain": [
              "Date       object\n",
              "Close     float64\n",
              "Volume      int64\n",
              "dtype: object"
            ]
          },
          "metadata": {
            "tags": []
          },
          "execution_count": 13
        }
      ]
    },
    {
      "cell_type": "code",
      "metadata": {
        "id": "YJU-gnlzcI1l",
        "colab_type": "code",
        "colab": {}
      },
      "source": [
        "from sklearn.model_selection import train_test_split"
      ],
      "execution_count": 0,
      "outputs": []
    },
    {
      "cell_type": "code",
      "metadata": {
        "id": "1x-18K5AcI1n",
        "colab_type": "code",
        "colab": {}
      },
      "source": [
        "spy['Date'] = pd.to_datetime(spy['Date'])\n",
        "spy['Year'] = spy['Date'].dt.year"
      ],
      "execution_count": 0,
      "outputs": []
    },
    {
      "cell_type": "code",
      "metadata": {
        "id": "tRYhU0BwcI1p",
        "colab_type": "code",
        "colab": {},
        "outputId": "4e4deb49-3f1e-4d45-8b68-cfea3565c783"
      },
      "source": [
        "spy.head()"
      ],
      "execution_count": 0,
      "outputs": [
        {
          "output_type": "execute_result",
          "data": {
            "text/html": [
              "<div>\n",
              "<style scoped>\n",
              "    .dataframe tbody tr th:only-of-type {\n",
              "        vertical-align: middle;\n",
              "    }\n",
              "\n",
              "    .dataframe tbody tr th {\n",
              "        vertical-align: top;\n",
              "    }\n",
              "\n",
              "    .dataframe thead th {\n",
              "        text-align: right;\n",
              "    }\n",
              "</style>\n",
              "<table border=\"1\" class=\"dataframe\">\n",
              "  <thead>\n",
              "    <tr style=\"text-align: right;\">\n",
              "      <th></th>\n",
              "      <th>Date</th>\n",
              "      <th>Close</th>\n",
              "      <th>Volume</th>\n",
              "      <th>Year</th>\n",
              "    </tr>\n",
              "  </thead>\n",
              "  <tbody>\n",
              "    <tr>\n",
              "      <th>0</th>\n",
              "      <td>2005-02-25</td>\n",
              "      <td>105.79</td>\n",
              "      <td>70221808</td>\n",
              "      <td>2005</td>\n",
              "    </tr>\n",
              "    <tr>\n",
              "      <th>1</th>\n",
              "      <td>2005-02-28</td>\n",
              "      <td>105.08</td>\n",
              "      <td>79695344</td>\n",
              "      <td>2005</td>\n",
              "    </tr>\n",
              "    <tr>\n",
              "      <th>2</th>\n",
              "      <td>2005-03-01</td>\n",
              "      <td>105.62</td>\n",
              "      <td>54607412</td>\n",
              "      <td>2005</td>\n",
              "    </tr>\n",
              "    <tr>\n",
              "      <th>3</th>\n",
              "      <td>2005-03-02</td>\n",
              "      <td>105.57</td>\n",
              "      <td>73733090</td>\n",
              "      <td>2005</td>\n",
              "    </tr>\n",
              "    <tr>\n",
              "      <th>4</th>\n",
              "      <td>2005-03-03</td>\n",
              "      <td>105.61</td>\n",
              "      <td>71286823</td>\n",
              "      <td>2005</td>\n",
              "    </tr>\n",
              "  </tbody>\n",
              "</table>\n",
              "</div>"
            ],
            "text/plain": [
              "        Date   Close    Volume  Year\n",
              "0 2005-02-25  105.79  70221808  2005\n",
              "1 2005-02-28  105.08  79695344  2005\n",
              "2 2005-03-01  105.62  54607412  2005\n",
              "3 2005-03-02  105.57  73733090  2005\n",
              "4 2005-03-03  105.61  71286823  2005"
            ]
          },
          "metadata": {
            "tags": []
          },
          "execution_count": 16
        }
      ]
    },
    {
      "cell_type": "code",
      "metadata": {
        "id": "cWRnbH6icI1t",
        "colab_type": "code",
        "colab": {},
        "outputId": "0b230952-f1a4-4657-f8cd-388dff46e90c"
      },
      "source": [
        "spy.dtypes"
      ],
      "execution_count": 0,
      "outputs": [
        {
          "output_type": "execute_result",
          "data": {
            "text/plain": [
              "Date      datetime64[ns]\n",
              "Close            float64\n",
              "Volume             int64\n",
              "Year               int64\n",
              "dtype: object"
            ]
          },
          "metadata": {
            "tags": []
          },
          "execution_count": 17
        }
      ]
    },
    {
      "cell_type": "markdown",
      "metadata": {
        "id": "D6eQXNdvcI1w",
        "colab_type": "text"
      },
      "source": [
        "### *NEITHER .ROLLING_MEAN NOR .ROLLING WORK*"
      ]
    },
    {
      "cell_type": "code",
      "metadata": {
        "id": "Xzz9sorHcI1x",
        "colab_type": "code",
        "colab": {}
      },
      "source": [
        "# spy['SMA'] = spy['Close'].rolling(window = 14, min_periods = 14, axis = 0)"
      ],
      "execution_count": 0,
      "outputs": []
    },
    {
      "cell_type": "code",
      "metadata": {
        "id": "9JNK7zZfcI1z",
        "colab_type": "code",
        "colab": {}
      },
      "source": [
        "# spy['SMA'] = pd.rolling_mean(spy['Close'], min_periods = 14, window = 14)"
      ],
      "execution_count": 0,
      "outputs": []
    },
    {
      "cell_type": "code",
      "metadata": {
        "id": "j9bZAXGDcI10",
        "colab_type": "code",
        "colab": {},
        "outputId": "8ab38a91-004a-4eaa-a64d-d60c209d7872"
      },
      "source": [
        "spy.isnull().sum()"
      ],
      "execution_count": 0,
      "outputs": [
        {
          "output_type": "execute_result",
          "data": {
            "text/plain": [
              "Date      0\n",
              "Close     0\n",
              "Volume    0\n",
              "Year      0\n",
              "dtype: int64"
            ]
          },
          "metadata": {
            "tags": []
          },
          "execution_count": 20
        }
      ]
    },
    {
      "cell_type": "code",
      "metadata": {
        "id": "eEh3AyDAcI12",
        "colab_type": "code",
        "colab": {},
        "outputId": "0bb63ebc-0609-4d22-ddf5-be1c774cd026"
      },
      "source": [
        "spy.head()"
      ],
      "execution_count": 0,
      "outputs": [
        {
          "output_type": "execute_result",
          "data": {
            "text/html": [
              "<div>\n",
              "<style scoped>\n",
              "    .dataframe tbody tr th:only-of-type {\n",
              "        vertical-align: middle;\n",
              "    }\n",
              "\n",
              "    .dataframe tbody tr th {\n",
              "        vertical-align: top;\n",
              "    }\n",
              "\n",
              "    .dataframe thead th {\n",
              "        text-align: right;\n",
              "    }\n",
              "</style>\n",
              "<table border=\"1\" class=\"dataframe\">\n",
              "  <thead>\n",
              "    <tr style=\"text-align: right;\">\n",
              "      <th></th>\n",
              "      <th>Date</th>\n",
              "      <th>Close</th>\n",
              "      <th>Volume</th>\n",
              "      <th>Year</th>\n",
              "    </tr>\n",
              "  </thead>\n",
              "  <tbody>\n",
              "    <tr>\n",
              "      <th>0</th>\n",
              "      <td>2005-02-25</td>\n",
              "      <td>105.79</td>\n",
              "      <td>70221808</td>\n",
              "      <td>2005</td>\n",
              "    </tr>\n",
              "    <tr>\n",
              "      <th>1</th>\n",
              "      <td>2005-02-28</td>\n",
              "      <td>105.08</td>\n",
              "      <td>79695344</td>\n",
              "      <td>2005</td>\n",
              "    </tr>\n",
              "    <tr>\n",
              "      <th>2</th>\n",
              "      <td>2005-03-01</td>\n",
              "      <td>105.62</td>\n",
              "      <td>54607412</td>\n",
              "      <td>2005</td>\n",
              "    </tr>\n",
              "    <tr>\n",
              "      <th>3</th>\n",
              "      <td>2005-03-02</td>\n",
              "      <td>105.57</td>\n",
              "      <td>73733090</td>\n",
              "      <td>2005</td>\n",
              "    </tr>\n",
              "    <tr>\n",
              "      <th>4</th>\n",
              "      <td>2005-03-03</td>\n",
              "      <td>105.61</td>\n",
              "      <td>71286823</td>\n",
              "      <td>2005</td>\n",
              "    </tr>\n",
              "  </tbody>\n",
              "</table>\n",
              "</div>"
            ],
            "text/plain": [
              "        Date   Close    Volume  Year\n",
              "0 2005-02-25  105.79  70221808  2005\n",
              "1 2005-02-28  105.08  79695344  2005\n",
              "2 2005-03-01  105.62  54607412  2005\n",
              "3 2005-03-02  105.57  73733090  2005\n",
              "4 2005-03-03  105.61  71286823  2005"
            ]
          },
          "metadata": {
            "tags": []
          },
          "execution_count": 21
        }
      ]
    },
    {
      "cell_type": "code",
      "metadata": {
        "id": "ojYhMO-hcI14",
        "colab_type": "code",
        "colab": {},
        "outputId": "bf4a3c52-3319-46d9-a27c-c6ca5dccf506"
      },
      "source": [
        "spy.head()"
      ],
      "execution_count": 0,
      "outputs": [
        {
          "output_type": "execute_result",
          "data": {
            "text/html": [
              "<div>\n",
              "<style scoped>\n",
              "    .dataframe tbody tr th:only-of-type {\n",
              "        vertical-align: middle;\n",
              "    }\n",
              "\n",
              "    .dataframe tbody tr th {\n",
              "        vertical-align: top;\n",
              "    }\n",
              "\n",
              "    .dataframe thead th {\n",
              "        text-align: right;\n",
              "    }\n",
              "</style>\n",
              "<table border=\"1\" class=\"dataframe\">\n",
              "  <thead>\n",
              "    <tr style=\"text-align: right;\">\n",
              "      <th></th>\n",
              "      <th>Date</th>\n",
              "      <th>Close</th>\n",
              "      <th>Volume</th>\n",
              "      <th>Year</th>\n",
              "    </tr>\n",
              "  </thead>\n",
              "  <tbody>\n",
              "    <tr>\n",
              "      <th>0</th>\n",
              "      <td>2005-02-25</td>\n",
              "      <td>105.79</td>\n",
              "      <td>70221808</td>\n",
              "      <td>2005</td>\n",
              "    </tr>\n",
              "    <tr>\n",
              "      <th>1</th>\n",
              "      <td>2005-02-28</td>\n",
              "      <td>105.08</td>\n",
              "      <td>79695344</td>\n",
              "      <td>2005</td>\n",
              "    </tr>\n",
              "    <tr>\n",
              "      <th>2</th>\n",
              "      <td>2005-03-01</td>\n",
              "      <td>105.62</td>\n",
              "      <td>54607412</td>\n",
              "      <td>2005</td>\n",
              "    </tr>\n",
              "    <tr>\n",
              "      <th>3</th>\n",
              "      <td>2005-03-02</td>\n",
              "      <td>105.57</td>\n",
              "      <td>73733090</td>\n",
              "      <td>2005</td>\n",
              "    </tr>\n",
              "    <tr>\n",
              "      <th>4</th>\n",
              "      <td>2005-03-03</td>\n",
              "      <td>105.61</td>\n",
              "      <td>71286823</td>\n",
              "      <td>2005</td>\n",
              "    </tr>\n",
              "  </tbody>\n",
              "</table>\n",
              "</div>"
            ],
            "text/plain": [
              "        Date   Close    Volume  Year\n",
              "0 2005-02-25  105.79  70221808  2005\n",
              "1 2005-02-28  105.08  79695344  2005\n",
              "2 2005-03-01  105.62  54607412  2005\n",
              "3 2005-03-02  105.57  73733090  2005\n",
              "4 2005-03-03  105.61  71286823  2005"
            ]
          },
          "metadata": {
            "tags": []
          },
          "execution_count": 22
        }
      ]
    },
    {
      "cell_type": "markdown",
      "metadata": {
        "colab_type": "text",
        "id": "LbrRvck-cI16"
      },
      "source": [
        "# Begin with baselines: majority class baseline for classification, or mean baseline for regression, with your metric of choice.\n"
      ]
    },
    {
      "cell_type": "code",
      "metadata": {
        "id": "H3Il7H0NcI16",
        "colab_type": "code",
        "colab": {}
      },
      "source": [
        "spy['SMA'] = spy.Close.rolling(window=14).mean()"
      ],
      "execution_count": 0,
      "outputs": []
    },
    {
      "cell_type": "code",
      "metadata": {
        "id": "9Z0a0GQ-cI18",
        "colab_type": "code",
        "colab": {},
        "outputId": "bd3efa73-22b2-4b77-d092-74f7913d0235"
      },
      "source": [
        "spy.head(14)"
      ],
      "execution_count": 0,
      "outputs": [
        {
          "output_type": "execute_result",
          "data": {
            "text/html": [
              "<div>\n",
              "<style scoped>\n",
              "    .dataframe tbody tr th:only-of-type {\n",
              "        vertical-align: middle;\n",
              "    }\n",
              "\n",
              "    .dataframe tbody tr th {\n",
              "        vertical-align: top;\n",
              "    }\n",
              "\n",
              "    .dataframe thead th {\n",
              "        text-align: right;\n",
              "    }\n",
              "</style>\n",
              "<table border=\"1\" class=\"dataframe\">\n",
              "  <thead>\n",
              "    <tr style=\"text-align: right;\">\n",
              "      <th></th>\n",
              "      <th>Date</th>\n",
              "      <th>Close</th>\n",
              "      <th>Volume</th>\n",
              "      <th>Year</th>\n",
              "      <th>SMA</th>\n",
              "    </tr>\n",
              "  </thead>\n",
              "  <tbody>\n",
              "    <tr>\n",
              "      <th>0</th>\n",
              "      <td>2005-02-25</td>\n",
              "      <td>105.79</td>\n",
              "      <td>70221808</td>\n",
              "      <td>2005</td>\n",
              "      <td>NaN</td>\n",
              "    </tr>\n",
              "    <tr>\n",
              "      <th>1</th>\n",
              "      <td>2005-02-28</td>\n",
              "      <td>105.08</td>\n",
              "      <td>79695344</td>\n",
              "      <td>2005</td>\n",
              "      <td>NaN</td>\n",
              "    </tr>\n",
              "    <tr>\n",
              "      <th>2</th>\n",
              "      <td>2005-03-01</td>\n",
              "      <td>105.62</td>\n",
              "      <td>54607412</td>\n",
              "      <td>2005</td>\n",
              "      <td>NaN</td>\n",
              "    </tr>\n",
              "    <tr>\n",
              "      <th>3</th>\n",
              "      <td>2005-03-02</td>\n",
              "      <td>105.57</td>\n",
              "      <td>73733090</td>\n",
              "      <td>2005</td>\n",
              "      <td>NaN</td>\n",
              "    </tr>\n",
              "    <tr>\n",
              "      <th>4</th>\n",
              "      <td>2005-03-03</td>\n",
              "      <td>105.61</td>\n",
              "      <td>71286823</td>\n",
              "      <td>2005</td>\n",
              "      <td>NaN</td>\n",
              "    </tr>\n",
              "    <tr>\n",
              "      <th>5</th>\n",
              "      <td>2005-03-04</td>\n",
              "      <td>106.93</td>\n",
              "      <td>64483624</td>\n",
              "      <td>2005</td>\n",
              "      <td>NaN</td>\n",
              "    </tr>\n",
              "    <tr>\n",
              "      <th>6</th>\n",
              "      <td>2005-03-07</td>\n",
              "      <td>106.97</td>\n",
              "      <td>50288014</td>\n",
              "      <td>2005</td>\n",
              "      <td>NaN</td>\n",
              "    </tr>\n",
              "    <tr>\n",
              "      <th>7</th>\n",
              "      <td>2005-03-08</td>\n",
              "      <td>106.55</td>\n",
              "      <td>51274973</td>\n",
              "      <td>2005</td>\n",
              "      <td>NaN</td>\n",
              "    </tr>\n",
              "    <tr>\n",
              "      <th>8</th>\n",
              "      <td>2005-03-09</td>\n",
              "      <td>105.39</td>\n",
              "      <td>84491113</td>\n",
              "      <td>2005</td>\n",
              "      <td>NaN</td>\n",
              "    </tr>\n",
              "    <tr>\n",
              "      <th>9</th>\n",
              "      <td>2005-03-10</td>\n",
              "      <td>105.62</td>\n",
              "      <td>74962248</td>\n",
              "      <td>2005</td>\n",
              "      <td>NaN</td>\n",
              "    </tr>\n",
              "    <tr>\n",
              "      <th>10</th>\n",
              "      <td>2005-03-11</td>\n",
              "      <td>104.88</td>\n",
              "      <td>66729930</td>\n",
              "      <td>2005</td>\n",
              "      <td>NaN</td>\n",
              "    </tr>\n",
              "    <tr>\n",
              "      <th>11</th>\n",
              "      <td>2005-03-14</td>\n",
              "      <td>105.54</td>\n",
              "      <td>41713280</td>\n",
              "      <td>2005</td>\n",
              "      <td>NaN</td>\n",
              "    </tr>\n",
              "    <tr>\n",
              "      <th>12</th>\n",
              "      <td>2005-03-15</td>\n",
              "      <td>104.65</td>\n",
              "      <td>71730138</td>\n",
              "      <td>2005</td>\n",
              "      <td>NaN</td>\n",
              "    </tr>\n",
              "    <tr>\n",
              "      <th>13</th>\n",
              "      <td>2005-03-16</td>\n",
              "      <td>103.77</td>\n",
              "      <td>88074366</td>\n",
              "      <td>2005</td>\n",
              "      <td>105.569286</td>\n",
              "    </tr>\n",
              "  </tbody>\n",
              "</table>\n",
              "</div>"
            ],
            "text/plain": [
              "         Date   Close    Volume  Year         SMA\n",
              "0  2005-02-25  105.79  70221808  2005         NaN\n",
              "1  2005-02-28  105.08  79695344  2005         NaN\n",
              "2  2005-03-01  105.62  54607412  2005         NaN\n",
              "3  2005-03-02  105.57  73733090  2005         NaN\n",
              "4  2005-03-03  105.61  71286823  2005         NaN\n",
              "5  2005-03-04  106.93  64483624  2005         NaN\n",
              "6  2005-03-07  106.97  50288014  2005         NaN\n",
              "7  2005-03-08  106.55  51274973  2005         NaN\n",
              "8  2005-03-09  105.39  84491113  2005         NaN\n",
              "9  2005-03-10  105.62  74962248  2005         NaN\n",
              "10 2005-03-11  104.88  66729930  2005         NaN\n",
              "11 2005-03-14  105.54  41713280  2005         NaN\n",
              "12 2005-03-15  104.65  71730138  2005         NaN\n",
              "13 2005-03-16  103.77  88074366  2005  105.569286"
            ]
          },
          "metadata": {
            "tags": []
          },
          "execution_count": 24
        }
      ]
    },
    {
      "cell_type": "code",
      "metadata": {
        "id": "gQ9V9YvCcI1-",
        "colab_type": "code",
        "colab": {},
        "outputId": "c2d841e1-d33a-472f-e931-dd2d5edba6ed"
      },
      "source": [
        "spy.tail()"
      ],
      "execution_count": 0,
      "outputs": [
        {
          "output_type": "execute_result",
          "data": {
            "text/html": [
              "<div>\n",
              "<style scoped>\n",
              "    .dataframe tbody tr th:only-of-type {\n",
              "        vertical-align: middle;\n",
              "    }\n",
              "\n",
              "    .dataframe tbody tr th {\n",
              "        vertical-align: top;\n",
              "    }\n",
              "\n",
              "    .dataframe thead th {\n",
              "        text-align: right;\n",
              "    }\n",
              "</style>\n",
              "<table border=\"1\" class=\"dataframe\">\n",
              "  <thead>\n",
              "    <tr style=\"text-align: right;\">\n",
              "      <th></th>\n",
              "      <th>Date</th>\n",
              "      <th>Close</th>\n",
              "      <th>Volume</th>\n",
              "      <th>Year</th>\n",
              "      <th>SMA</th>\n",
              "    </tr>\n",
              "  </thead>\n",
              "  <tbody>\n",
              "    <tr>\n",
              "      <th>3196</th>\n",
              "      <td>2017-11-06</td>\n",
              "      <td>258.85</td>\n",
              "      <td>49529148</td>\n",
              "      <td>2017</td>\n",
              "      <td>256.870714</td>\n",
              "    </tr>\n",
              "    <tr>\n",
              "      <th>3197</th>\n",
              "      <td>2017-11-07</td>\n",
              "      <td>258.67</td>\n",
              "      <td>57218448</td>\n",
              "      <td>2017</td>\n",
              "      <td>257.081429</td>\n",
              "    </tr>\n",
              "    <tr>\n",
              "      <th>3198</th>\n",
              "      <td>2017-11-08</td>\n",
              "      <td>259.11</td>\n",
              "      <td>50277699</td>\n",
              "      <td>2017</td>\n",
              "      <td>257.318571</td>\n",
              "    </tr>\n",
              "    <tr>\n",
              "      <th>3199</th>\n",
              "      <td>2017-11-09</td>\n",
              "      <td>258.17</td>\n",
              "      <td>94537282</td>\n",
              "      <td>2017</td>\n",
              "      <td>257.394286</td>\n",
              "    </tr>\n",
              "    <tr>\n",
              "      <th>3200</th>\n",
              "      <td>2017-11-10</td>\n",
              "      <td>258.09</td>\n",
              "      <td>59862364</td>\n",
              "      <td>2017</td>\n",
              "      <td>257.535714</td>\n",
              "    </tr>\n",
              "  </tbody>\n",
              "</table>\n",
              "</div>"
            ],
            "text/plain": [
              "           Date   Close    Volume  Year         SMA\n",
              "3196 2017-11-06  258.85  49529148  2017  256.870714\n",
              "3197 2017-11-07  258.67  57218448  2017  257.081429\n",
              "3198 2017-11-08  259.11  50277699  2017  257.318571\n",
              "3199 2017-11-09  258.17  94537282  2017  257.394286\n",
              "3200 2017-11-10  258.09  59862364  2017  257.535714"
            ]
          },
          "metadata": {
            "tags": []
          },
          "execution_count": 25
        }
      ]
    },
    {
      "cell_type": "code",
      "metadata": {
        "id": "tUoX-TlPcI2A",
        "colab_type": "code",
        "colab": {},
        "outputId": "883a5082-81f1-40b4-80b9-2ee1129a0840"
      },
      "source": [
        "spy.isna().sum()"
      ],
      "execution_count": 0,
      "outputs": [
        {
          "output_type": "execute_result",
          "data": {
            "text/plain": [
              "Date       0\n",
              "Close      0\n",
              "Volume     0\n",
              "Year       0\n",
              "SMA       13\n",
              "dtype: int64"
            ]
          },
          "metadata": {
            "tags": []
          },
          "execution_count": 26
        }
      ]
    },
    {
      "cell_type": "code",
      "metadata": {
        "id": "inzwhURgcI2C",
        "colab_type": "code",
        "colab": {},
        "outputId": "02c14316-5e4b-4691-a446-4db90b59927d"
      },
      "source": [
        "spy.dtypes"
      ],
      "execution_count": 0,
      "outputs": [
        {
          "output_type": "execute_result",
          "data": {
            "text/plain": [
              "Date      datetime64[ns]\n",
              "Close            float64\n",
              "Volume             int64\n",
              "Year               int64\n",
              "SMA              float64\n",
              "dtype: object"
            ]
          },
          "metadata": {
            "tags": []
          },
          "execution_count": 27
        }
      ]
    },
    {
      "cell_type": "code",
      "metadata": {
        "id": "uprQ6ftbcI2E",
        "colab_type": "code",
        "colab": {}
      },
      "source": [
        "# spy['Close_Higher'] = np.where(spy['Close'] > spy['Close'].shift(-1), 'True','False')"
      ],
      "execution_count": 0,
      "outputs": []
    },
    {
      "cell_type": "code",
      "metadata": {
        "id": "SWHjjV4scI2G",
        "colab_type": "code",
        "colab": {}
      },
      "source": [
        "# spy_numeric = ['Close']"
      ],
      "execution_count": 0,
      "outputs": []
    },
    {
      "cell_type": "code",
      "metadata": {
        "id": "bMMadVu2cI2J",
        "colab_type": "code",
        "colab": {}
      },
      "source": [
        "spy['Above_14D_SMA_Yesterday'] = np.where(spy['SMA'].shift(1)>spy['Close'].shift(1), 0,1)"
      ],
      "execution_count": 0,
      "outputs": []
    },
    {
      "cell_type": "code",
      "metadata": {
        "id": "dsU3VwpYcI2K",
        "colab_type": "code",
        "colab": {}
      },
      "source": [
        "# spy['Above_14D_SMA_Yesterday'] = np.where(spy['SMA']>spy['Close'], 'True','False')"
      ],
      "execution_count": 0,
      "outputs": []
    },
    {
      "cell_type": "code",
      "metadata": {
        "scrolled": true,
        "id": "02eqg27HcI2M",
        "colab_type": "code",
        "colab": {},
        "outputId": "36075f8f-9b74-46f2-8296-556c1b218463"
      },
      "source": [
        "spy.Above_14D_SMA_Yesterday.value_counts(normalize=True)"
      ],
      "execution_count": 0,
      "outputs": [
        {
          "output_type": "execute_result",
          "data": {
            "text/plain": [
              "1    0.62543\n",
              "0    0.37457\n",
              "Name: Above_14D_SMA_Yesterday, dtype: float64"
            ]
          },
          "metadata": {
            "tags": []
          },
          "execution_count": 32
        }
      ]
    },
    {
      "cell_type": "code",
      "metadata": {
        "id": "1D044HV0cI2P",
        "colab_type": "code",
        "colab": {}
      },
      "source": [
        "spy_numeric_diff = spy[['Close']].diff()[1:]\n",
        "# cond1 = spy_numeric_diff[['Close']] >=0\n",
        "spy['Close_Higher_Than_Yesterday'] = np.insert(np.where(spy_numeric_diff[['Close']] >=0, '1','0'), 0, np.nan)"
      ],
      "execution_count": 0,
      "outputs": []
    },
    {
      "cell_type": "code",
      "metadata": {
        "id": "ApRsgTQRcI2Q",
        "colab_type": "code",
        "colab": {},
        "outputId": "7d686cbd-96e1-42a1-8256-154badcc997a"
      },
      "source": [
        "spy.Close_Higher_Than_Yesterday.value_counts(normalize=True)"
      ],
      "execution_count": 0,
      "outputs": [
        {
          "output_type": "execute_result",
          "data": {
            "text/plain": [
              "1    0.549516\n",
              "0    0.450172\n",
              "n    0.000312\n",
              "Name: Close_Higher_Than_Yesterday, dtype: float64"
            ]
          },
          "metadata": {
            "tags": []
          },
          "execution_count": 34
        }
      ]
    },
    {
      "cell_type": "code",
      "metadata": {
        "id": "8Lk66I_zcI2S",
        "colab_type": "code",
        "colab": {}
      },
      "source": [
        "y_train = spy['Close_Higher_Than_Yesterday']"
      ],
      "execution_count": 0,
      "outputs": []
    },
    {
      "cell_type": "code",
      "metadata": {
        "id": "Jc-fHKgacI2U",
        "colab_type": "code",
        "colab": {}
      },
      "source": [
        "majority_class = y_train.mode()[0]"
      ],
      "execution_count": 0,
      "outputs": []
    },
    {
      "cell_type": "code",
      "metadata": {
        "id": "gBKtJtpdcI2X",
        "colab_type": "code",
        "colab": {}
      },
      "source": [
        "y_pred = [majority_class]*len(y_train)"
      ],
      "execution_count": 0,
      "outputs": []
    },
    {
      "cell_type": "code",
      "metadata": {
        "id": "LfBDGTUQcI2Z",
        "colab_type": "code",
        "colab": {},
        "outputId": "0828b23f-7e29-4013-b2b1-f3d8235dd5a2"
      },
      "source": [
        "from sklearn.metrics import accuracy_score\n",
        "accuracy_score(y_train, y_pred)"
      ],
      "execution_count": 0,
      "outputs": [
        {
          "output_type": "execute_result",
          "data": {
            "text/plain": [
              "0.5495157763199"
            ]
          },
          "metadata": {
            "tags": []
          },
          "execution_count": 38
        }
      ]
    },
    {
      "cell_type": "markdown",
      "metadata": {
        "colab_type": "text",
        "id": "QdLb-a_MF5ST"
      },
      "source": [
        "# Begin to clean and explore your data."
      ]
    },
    {
      "cell_type": "markdown",
      "metadata": {
        "id": "AYCk7yLBcI2c",
        "colab_type": "text"
      },
      "source": [
        "### *I BELIEVE THIS IS ALREADY DONE*"
      ]
    },
    {
      "cell_type": "code",
      "metadata": {
        "id": "4tHD8PIxcI2c",
        "colab_type": "code",
        "colab": {}
      },
      "source": [
        "spy_2017 = spy[spy['Year'] == 2017]\n",
        "spy_2016 = spy[spy['Year'] == 2016]\n",
        "spy_2015 = spy[spy['Year'] == 2015]\n",
        "spy_2014 = spy[spy['Year'] == 2014]\n",
        "spy_2013 = spy[spy['Year'] == 2013]\n",
        "spy_2012 = spy[spy['Year'] == 2012]\n",
        "spy_2011 = spy[spy['Year'] == 2011]\n",
        "spy_2010 = spy[spy['Year'] == 2010]\n",
        "spy_2009 = spy[spy['Year'] == 2009]\n",
        "spy_2008 = spy[spy['Year'] == 2008]\n",
        "spy_2007 = spy[spy['Year'] == 2007]\n",
        "spy_2006 = spy[spy['Year'] == 2006]\n",
        "spy_2005 = spy[spy['Year'] == 2005]"
      ],
      "execution_count": 0,
      "outputs": []
    },
    {
      "cell_type": "markdown",
      "metadata": {
        "id": "w_HwwvjgcI2f",
        "colab_type": "text"
      },
      "source": [
        "# END ASSIGNMENT 1"
      ]
    },
    {
      "cell_type": "markdown",
      "metadata": {
        "id": "-0K1Tg35cI2h",
        "colab_type": "text"
      },
      "source": [
        "# ASSIGNMENT 2 BELOW"
      ]
    },
    {
      "cell_type": "markdown",
      "metadata": {
        "id": "ixwcvW6kcI2h",
        "colab_type": "text"
      },
      "source": [
        "# You need to complete an initial model today, because the rest of the week, we're making model interpretation visualizations."
      ]
    },
    {
      "cell_type": "markdown",
      "metadata": {
        "id": "C3FR8DKxcI2i",
        "colab_type": "text"
      },
      "source": [
        "# Plot the distribution of your target.\n",
        "### Regression problem: Is your target skewed? Then, log-transform it.\n",
        "### Classification: Are your classes imbalanced? Then, don't use just accuracy. And try class_balance parameter in scikit-learn.\n",
        "\n",
        "\n",
        " "
      ]
    },
    {
      "cell_type": "code",
      "metadata": {
        "id": "gNKpBTK2cI2i",
        "colab_type": "code",
        "colab": {},
        "outputId": "4aeba588-25e0-4383-b2a9-c63e49b6c638"
      },
      "source": [
        "spy.tail(25)"
      ],
      "execution_count": 0,
      "outputs": [
        {
          "output_type": "execute_result",
          "data": {
            "text/html": [
              "<div>\n",
              "<style scoped>\n",
              "    .dataframe tbody tr th:only-of-type {\n",
              "        vertical-align: middle;\n",
              "    }\n",
              "\n",
              "    .dataframe tbody tr th {\n",
              "        vertical-align: top;\n",
              "    }\n",
              "\n",
              "    .dataframe thead th {\n",
              "        text-align: right;\n",
              "    }\n",
              "</style>\n",
              "<table border=\"1\" class=\"dataframe\">\n",
              "  <thead>\n",
              "    <tr style=\"text-align: right;\">\n",
              "      <th></th>\n",
              "      <th>Date</th>\n",
              "      <th>Close</th>\n",
              "      <th>Volume</th>\n",
              "      <th>Year</th>\n",
              "      <th>SMA</th>\n",
              "      <th>Above_14D_SMA_Yesterday</th>\n",
              "      <th>Close_Higher_Than_Yesterday</th>\n",
              "    </tr>\n",
              "  </thead>\n",
              "  <tbody>\n",
              "    <tr>\n",
              "      <th>3176</th>\n",
              "      <td>2017-10-09</td>\n",
              "      <td>253.95</td>\n",
              "      <td>35700286</td>\n",
              "      <td>2017</td>\n",
              "      <td>251.417857</td>\n",
              "      <td>1</td>\n",
              "      <td>0</td>\n",
              "    </tr>\n",
              "    <tr>\n",
              "      <th>3177</th>\n",
              "      <td>2017-10-10</td>\n",
              "      <td>254.62</td>\n",
              "      <td>42854696</td>\n",
              "      <td>2017</td>\n",
              "      <td>251.743571</td>\n",
              "      <td>1</td>\n",
              "      <td>1</td>\n",
              "    </tr>\n",
              "    <tr>\n",
              "      <th>3178</th>\n",
              "      <td>2017-10-11</td>\n",
              "      <td>255.02</td>\n",
              "      <td>47525531</td>\n",
              "      <td>2017</td>\n",
              "      <td>252.145714</td>\n",
              "      <td>1</td>\n",
              "      <td>1</td>\n",
              "    </tr>\n",
              "    <tr>\n",
              "      <th>3179</th>\n",
              "      <td>2017-10-12</td>\n",
              "      <td>254.64</td>\n",
              "      <td>46830626</td>\n",
              "      <td>2017</td>\n",
              "      <td>252.517143</td>\n",
              "      <td>1</td>\n",
              "      <td>0</td>\n",
              "    </tr>\n",
              "    <tr>\n",
              "      <th>3180</th>\n",
              "      <td>2017-10-13</td>\n",
              "      <td>254.95</td>\n",
              "      <td>54633114</td>\n",
              "      <td>2017</td>\n",
              "      <td>252.947143</td>\n",
              "      <td>1</td>\n",
              "      <td>1</td>\n",
              "    </tr>\n",
              "    <tr>\n",
              "      <th>3181</th>\n",
              "      <td>2017-10-16</td>\n",
              "      <td>255.29</td>\n",
              "      <td>38098302</td>\n",
              "      <td>2017</td>\n",
              "      <td>253.390714</td>\n",
              "      <td>1</td>\n",
              "      <td>1</td>\n",
              "    </tr>\n",
              "    <tr>\n",
              "      <th>3182</th>\n",
              "      <td>2017-10-17</td>\n",
              "      <td>255.47</td>\n",
              "      <td>31458749</td>\n",
              "      <td>2017</td>\n",
              "      <td>253.777857</td>\n",
              "      <td>1</td>\n",
              "      <td>1</td>\n",
              "    </tr>\n",
              "    <tr>\n",
              "      <th>3183</th>\n",
              "      <td>2017-10-18</td>\n",
              "      <td>255.72</td>\n",
              "      <td>40619940</td>\n",
              "      <td>2017</td>\n",
              "      <td>254.161429</td>\n",
              "      <td>1</td>\n",
              "      <td>1</td>\n",
              "    </tr>\n",
              "    <tr>\n",
              "      <th>3184</th>\n",
              "      <td>2017-10-19</td>\n",
              "      <td>255.79</td>\n",
              "      <td>61697632</td>\n",
              "      <td>2017</td>\n",
              "      <td>254.487143</td>\n",
              "      <td>1</td>\n",
              "      <td>1</td>\n",
              "    </tr>\n",
              "    <tr>\n",
              "      <th>3185</th>\n",
              "      <td>2017-10-20</td>\n",
              "      <td>257.11</td>\n",
              "      <td>89076124</td>\n",
              "      <td>2017</td>\n",
              "      <td>254.829286</td>\n",
              "      <td>1</td>\n",
              "      <td>1</td>\n",
              "    </tr>\n",
              "    <tr>\n",
              "      <th>3186</th>\n",
              "      <td>2017-10-23</td>\n",
              "      <td>256.11</td>\n",
              "      <td>63839591</td>\n",
              "      <td>2017</td>\n",
              "      <td>255.061429</td>\n",
              "      <td>1</td>\n",
              "      <td>0</td>\n",
              "    </tr>\n",
              "    <tr>\n",
              "      <th>3187</th>\n",
              "      <td>2017-10-24</td>\n",
              "      <td>256.56</td>\n",
              "      <td>65036277</td>\n",
              "      <td>2017</td>\n",
              "      <td>255.304286</td>\n",
              "      <td>1</td>\n",
              "      <td>1</td>\n",
              "    </tr>\n",
              "    <tr>\n",
              "      <th>3188</th>\n",
              "      <td>2017-10-25</td>\n",
              "      <td>255.29</td>\n",
              "      <td>103490465</td>\n",
              "      <td>2017</td>\n",
              "      <td>255.349286</td>\n",
              "      <td>1</td>\n",
              "      <td>0</td>\n",
              "    </tr>\n",
              "    <tr>\n",
              "      <th>3189</th>\n",
              "      <td>2017-10-26</td>\n",
              "      <td>255.62</td>\n",
              "      <td>69644570</td>\n",
              "      <td>2017</td>\n",
              "      <td>255.438571</td>\n",
              "      <td>0</td>\n",
              "      <td>1</td>\n",
              "    </tr>\n",
              "    <tr>\n",
              "      <th>3190</th>\n",
              "      <td>2017-10-27</td>\n",
              "      <td>257.71</td>\n",
              "      <td>85253763</td>\n",
              "      <td>2017</td>\n",
              "      <td>255.707143</td>\n",
              "      <td>1</td>\n",
              "      <td>1</td>\n",
              "    </tr>\n",
              "    <tr>\n",
              "      <th>3191</th>\n",
              "      <td>2017-10-30</td>\n",
              "      <td>256.75</td>\n",
              "      <td>54260547</td>\n",
              "      <td>2017</td>\n",
              "      <td>255.859286</td>\n",
              "      <td>1</td>\n",
              "      <td>0</td>\n",
              "    </tr>\n",
              "    <tr>\n",
              "      <th>3192</th>\n",
              "      <td>2017-10-31</td>\n",
              "      <td>257.15</td>\n",
              "      <td>59437242</td>\n",
              "      <td>2017</td>\n",
              "      <td>256.011429</td>\n",
              "      <td>1</td>\n",
              "      <td>1</td>\n",
              "    </tr>\n",
              "    <tr>\n",
              "      <th>3193</th>\n",
              "      <td>2017-11-01</td>\n",
              "      <td>257.49</td>\n",
              "      <td>54173392</td>\n",
              "      <td>2017</td>\n",
              "      <td>256.215000</td>\n",
              "      <td>1</td>\n",
              "      <td>1</td>\n",
              "    </tr>\n",
              "    <tr>\n",
              "      <th>3194</th>\n",
              "      <td>2017-11-02</td>\n",
              "      <td>257.59</td>\n",
              "      <td>56424826</td>\n",
              "      <td>2017</td>\n",
              "      <td>256.403571</td>\n",
              "      <td>1</td>\n",
              "      <td>1</td>\n",
              "    </tr>\n",
              "    <tr>\n",
              "      <th>3195</th>\n",
              "      <td>2017-11-03</td>\n",
              "      <td>258.45</td>\n",
              "      <td>59578151</td>\n",
              "      <td>2017</td>\n",
              "      <td>256.629286</td>\n",
              "      <td>1</td>\n",
              "      <td>1</td>\n",
              "    </tr>\n",
              "    <tr>\n",
              "      <th>3196</th>\n",
              "      <td>2017-11-06</td>\n",
              "      <td>258.85</td>\n",
              "      <td>49529148</td>\n",
              "      <td>2017</td>\n",
              "      <td>256.870714</td>\n",
              "      <td>1</td>\n",
              "      <td>1</td>\n",
              "    </tr>\n",
              "    <tr>\n",
              "      <th>3197</th>\n",
              "      <td>2017-11-07</td>\n",
              "      <td>258.67</td>\n",
              "      <td>57218448</td>\n",
              "      <td>2017</td>\n",
              "      <td>257.081429</td>\n",
              "      <td>1</td>\n",
              "      <td>0</td>\n",
              "    </tr>\n",
              "    <tr>\n",
              "      <th>3198</th>\n",
              "      <td>2017-11-08</td>\n",
              "      <td>259.11</td>\n",
              "      <td>50277699</td>\n",
              "      <td>2017</td>\n",
              "      <td>257.318571</td>\n",
              "      <td>1</td>\n",
              "      <td>1</td>\n",
              "    </tr>\n",
              "    <tr>\n",
              "      <th>3199</th>\n",
              "      <td>2017-11-09</td>\n",
              "      <td>258.17</td>\n",
              "      <td>94537282</td>\n",
              "      <td>2017</td>\n",
              "      <td>257.394286</td>\n",
              "      <td>1</td>\n",
              "      <td>0</td>\n",
              "    </tr>\n",
              "    <tr>\n",
              "      <th>3200</th>\n",
              "      <td>2017-11-10</td>\n",
              "      <td>258.09</td>\n",
              "      <td>59862364</td>\n",
              "      <td>2017</td>\n",
              "      <td>257.535714</td>\n",
              "      <td>1</td>\n",
              "      <td>0</td>\n",
              "    </tr>\n",
              "  </tbody>\n",
              "</table>\n",
              "</div>"
            ],
            "text/plain": [
              "           Date   Close     Volume  Year         SMA  Above_14D_SMA_Yesterday  \\\n",
              "3176 2017-10-09  253.95   35700286  2017  251.417857                        1   \n",
              "3177 2017-10-10  254.62   42854696  2017  251.743571                        1   \n",
              "3178 2017-10-11  255.02   47525531  2017  252.145714                        1   \n",
              "3179 2017-10-12  254.64   46830626  2017  252.517143                        1   \n",
              "3180 2017-10-13  254.95   54633114  2017  252.947143                        1   \n",
              "3181 2017-10-16  255.29   38098302  2017  253.390714                        1   \n",
              "3182 2017-10-17  255.47   31458749  2017  253.777857                        1   \n",
              "3183 2017-10-18  255.72   40619940  2017  254.161429                        1   \n",
              "3184 2017-10-19  255.79   61697632  2017  254.487143                        1   \n",
              "3185 2017-10-20  257.11   89076124  2017  254.829286                        1   \n",
              "3186 2017-10-23  256.11   63839591  2017  255.061429                        1   \n",
              "3187 2017-10-24  256.56   65036277  2017  255.304286                        1   \n",
              "3188 2017-10-25  255.29  103490465  2017  255.349286                        1   \n",
              "3189 2017-10-26  255.62   69644570  2017  255.438571                        0   \n",
              "3190 2017-10-27  257.71   85253763  2017  255.707143                        1   \n",
              "3191 2017-10-30  256.75   54260547  2017  255.859286                        1   \n",
              "3192 2017-10-31  257.15   59437242  2017  256.011429                        1   \n",
              "3193 2017-11-01  257.49   54173392  2017  256.215000                        1   \n",
              "3194 2017-11-02  257.59   56424826  2017  256.403571                        1   \n",
              "3195 2017-11-03  258.45   59578151  2017  256.629286                        1   \n",
              "3196 2017-11-06  258.85   49529148  2017  256.870714                        1   \n",
              "3197 2017-11-07  258.67   57218448  2017  257.081429                        1   \n",
              "3198 2017-11-08  259.11   50277699  2017  257.318571                        1   \n",
              "3199 2017-11-09  258.17   94537282  2017  257.394286                        1   \n",
              "3200 2017-11-10  258.09   59862364  2017  257.535714                        1   \n",
              "\n",
              "     Close_Higher_Than_Yesterday  \n",
              "3176                           0  \n",
              "3177                           1  \n",
              "3178                           1  \n",
              "3179                           0  \n",
              "3180                           1  \n",
              "3181                           1  \n",
              "3182                           1  \n",
              "3183                           1  \n",
              "3184                           1  \n",
              "3185                           1  \n",
              "3186                           0  \n",
              "3187                           1  \n",
              "3188                           0  \n",
              "3189                           1  \n",
              "3190                           1  \n",
              "3191                           0  \n",
              "3192                           1  \n",
              "3193                           1  \n",
              "3194                           1  \n",
              "3195                           1  \n",
              "3196                           1  \n",
              "3197                           0  \n",
              "3198                           1  \n",
              "3199                           0  \n",
              "3200                           0  "
            ]
          },
          "metadata": {
            "tags": []
          },
          "execution_count": 40
        }
      ]
    },
    {
      "cell_type": "code",
      "metadata": {
        "id": "G-PeoBZFcI2l",
        "colab_type": "code",
        "colab": {},
        "outputId": "7808ebb6-ecba-44f8-b63f-d694ec593bba"
      },
      "source": [
        "spy_2010_2013 = pd.concat([spy_2010,spy_2011,spy_2012,spy_2013])\n",
        "spy_2010_2013.describe()"
      ],
      "execution_count": 0,
      "outputs": [
        {
          "output_type": "execute_result",
          "data": {
            "text/html": [
              "<div>\n",
              "<style scoped>\n",
              "    .dataframe tbody tr th:only-of-type {\n",
              "        vertical-align: middle;\n",
              "    }\n",
              "\n",
              "    .dataframe tbody tr th {\n",
              "        vertical-align: top;\n",
              "    }\n",
              "\n",
              "    .dataframe thead th {\n",
              "        text-align: right;\n",
              "    }\n",
              "</style>\n",
              "<table border=\"1\" class=\"dataframe\">\n",
              "  <thead>\n",
              "    <tr style=\"text-align: right;\">\n",
              "      <th></th>\n",
              "      <th>Close</th>\n",
              "      <th>Volume</th>\n",
              "      <th>Year</th>\n",
              "      <th>SMA</th>\n",
              "      <th>Above_14D_SMA_Yesterday</th>\n",
              "    </tr>\n",
              "  </thead>\n",
              "  <tbody>\n",
              "    <tr>\n",
              "      <th>count</th>\n",
              "      <td>1005.000000</td>\n",
              "      <td>1.005000e+03</td>\n",
              "      <td>1005.000000</td>\n",
              "      <td>1005.000000</td>\n",
              "      <td>1005.000000</td>\n",
              "    </tr>\n",
              "    <tr>\n",
              "      <th>mean</th>\n",
              "      <td>121.391877</td>\n",
              "      <td>1.927986e+08</td>\n",
              "      <td>2011.499502</td>\n",
              "      <td>120.927391</td>\n",
              "      <td>0.652736</td>\n",
              "    </tr>\n",
              "    <tr>\n",
              "      <th>std</th>\n",
              "      <td>20.154631</td>\n",
              "      <td>9.634992e+07</td>\n",
              "      <td>1.119925</td>\n",
              "      <td>19.797861</td>\n",
              "      <td>0.476337</td>\n",
              "    </tr>\n",
              "    <tr>\n",
              "      <th>min</th>\n",
              "      <td>89.032000</td>\n",
              "      <td>4.891006e+07</td>\n",
              "      <td>2010.000000</td>\n",
              "      <td>92.474286</td>\n",
              "      <td>0.000000</td>\n",
              "    </tr>\n",
              "    <tr>\n",
              "      <th>25%</th>\n",
              "      <td>105.150000</td>\n",
              "      <td>1.312990e+08</td>\n",
              "      <td>2010.000000</td>\n",
              "      <td>104.547143</td>\n",
              "      <td>0.000000</td>\n",
              "    </tr>\n",
              "    <tr>\n",
              "      <th>50%</th>\n",
              "      <td>117.280000</td>\n",
              "      <td>1.688957e+08</td>\n",
              "      <td>2011.000000</td>\n",
              "      <td>116.840714</td>\n",
              "      <td>1.000000</td>\n",
              "    </tr>\n",
              "    <tr>\n",
              "      <th>75%</th>\n",
              "      <td>132.340000</td>\n",
              "      <td>2.318239e+08</td>\n",
              "      <td>2013.000000</td>\n",
              "      <td>130.978571</td>\n",
              "      <td>1.000000</td>\n",
              "    </tr>\n",
              "    <tr>\n",
              "      <th>max</th>\n",
              "      <td>171.330000</td>\n",
              "      <td>8.161358e+08</td>\n",
              "      <td>2013.000000</td>\n",
              "      <td>167.793571</td>\n",
              "      <td>1.000000</td>\n",
              "    </tr>\n",
              "  </tbody>\n",
              "</table>\n",
              "</div>"
            ],
            "text/plain": [
              "             Close        Volume         Year          SMA  \\\n",
              "count  1005.000000  1.005000e+03  1005.000000  1005.000000   \n",
              "mean    121.391877  1.927986e+08  2011.499502   120.927391   \n",
              "std      20.154631  9.634992e+07     1.119925    19.797861   \n",
              "min      89.032000  4.891006e+07  2010.000000    92.474286   \n",
              "25%     105.150000  1.312990e+08  2010.000000   104.547143   \n",
              "50%     117.280000  1.688957e+08  2011.000000   116.840714   \n",
              "75%     132.340000  2.318239e+08  2013.000000   130.978571   \n",
              "max     171.330000  8.161358e+08  2013.000000   167.793571   \n",
              "\n",
              "       Above_14D_SMA_Yesterday  \n",
              "count              1005.000000  \n",
              "mean                  0.652736  \n",
              "std                   0.476337  \n",
              "min                   0.000000  \n",
              "25%                   0.000000  \n",
              "50%                   1.000000  \n",
              "75%                   1.000000  \n",
              "max                   1.000000  "
            ]
          },
          "metadata": {
            "tags": []
          },
          "execution_count": 41
        }
      ]
    },
    {
      "cell_type": "code",
      "metadata": {
        "id": "aJVFOhrscI2o",
        "colab_type": "code",
        "colab": {}
      },
      "source": [
        "target = ['Close_Higher_Than_Yesterday']\n",
        "drop = ['Date','Year']\n",
        "\n",
        "\n",
        "train = spy_2010_2013.drop(columns=drop)\n",
        "test = spy_2015.drop(columns=drop)\n",
        "val = spy_2016.drop(columns=drop)\n",
        "\n",
        "X_val = val.drop(columns=target)\n",
        "y_val = val[target]\n",
        "\n",
        "X_test = test.drop(columns=target)\n",
        "y_test = test[target]\n",
        "\n",
        "X_train = train.drop(columns=target)\n",
        "y_train = train[target]"
      ],
      "execution_count": 0,
      "outputs": []
    },
    {
      "cell_type": "code",
      "metadata": {
        "id": "OTMvh21OcI2q",
        "colab_type": "code",
        "colab": {},
        "outputId": "8d3d1a49-15e9-4c24-ae53-7961178608d5"
      },
      "source": [
        "X_test.head()"
      ],
      "execution_count": 0,
      "outputs": [
        {
          "output_type": "execute_result",
          "data": {
            "text/html": [
              "<div>\n",
              "<style scoped>\n",
              "    .dataframe tbody tr th:only-of-type {\n",
              "        vertical-align: middle;\n",
              "    }\n",
              "\n",
              "    .dataframe tbody tr th {\n",
              "        vertical-align: top;\n",
              "    }\n",
              "\n",
              "    .dataframe thead th {\n",
              "        text-align: right;\n",
              "    }\n",
              "</style>\n",
              "<table border=\"1\" class=\"dataframe\">\n",
              "  <thead>\n",
              "    <tr style=\"text-align: right;\">\n",
              "      <th></th>\n",
              "      <th>Close</th>\n",
              "      <th>Volume</th>\n",
              "      <th>SMA</th>\n",
              "      <th>Above_14D_SMA_Yesterday</th>\n",
              "    </tr>\n",
              "  </thead>\n",
              "  <tbody>\n",
              "    <tr>\n",
              "      <th>2479</th>\n",
              "      <td>194.29</td>\n",
              "      <td>128412379</td>\n",
              "      <td>193.648571</td>\n",
              "      <td>1</td>\n",
              "    </tr>\n",
              "    <tr>\n",
              "      <th>2480</th>\n",
              "      <td>190.77</td>\n",
              "      <td>179275209</td>\n",
              "      <td>193.777857</td>\n",
              "      <td>1</td>\n",
              "    </tr>\n",
              "    <tr>\n",
              "      <th>2481</th>\n",
              "      <td>188.99</td>\n",
              "      <td>221124902</td>\n",
              "      <td>193.875000</td>\n",
              "      <td>0</td>\n",
              "    </tr>\n",
              "    <tr>\n",
              "      <th>2482</th>\n",
              "      <td>191.31</td>\n",
              "      <td>132486300</td>\n",
              "      <td>194.244286</td>\n",
              "      <td>0</td>\n",
              "    </tr>\n",
              "    <tr>\n",
              "      <th>2483</th>\n",
              "      <td>194.74</td>\n",
              "      <td>155582723</td>\n",
              "      <td>194.597857</td>\n",
              "      <td>0</td>\n",
              "    </tr>\n",
              "  </tbody>\n",
              "</table>\n",
              "</div>"
            ],
            "text/plain": [
              "       Close     Volume         SMA  Above_14D_SMA_Yesterday\n",
              "2479  194.29  128412379  193.648571                        1\n",
              "2480  190.77  179275209  193.777857                        1\n",
              "2481  188.99  221124902  193.875000                        0\n",
              "2482  191.31  132486300  194.244286                        0\n",
              "2483  194.74  155582723  194.597857                        0"
            ]
          },
          "metadata": {
            "tags": []
          },
          "execution_count": 43
        }
      ]
    },
    {
      "cell_type": "code",
      "metadata": {
        "id": "nngqcNnLcI2s",
        "colab_type": "code",
        "colab": {}
      },
      "source": [
        "from sklearn.ensemble import RandomForestClassifier\n",
        "from sklearn.pipeline import make_pipeline"
      ],
      "execution_count": 0,
      "outputs": []
    },
    {
      "cell_type": "code",
      "metadata": {
        "id": "D4NA4SZGcI2z",
        "colab_type": "code",
        "colab": {},
        "outputId": "87ad33b6-11ad-45ea-ead5-631673ed6ead"
      },
      "source": [
        "pipeline = make_pipeline(\n",
        "    RandomForestClassifier(n_estimators=100, random_state=42, n_jobs=-1)\n",
        ")\n",
        "\n",
        "pipeline.fit(X_train, y_train)\n",
        "print('Validation Accuracy', pipeline.score(X_val, y_val))"
      ],
      "execution_count": 0,
      "outputs": [
        {
          "output_type": "stream",
          "text": [
            "C:\\Users\\Sarmen\\Anaconda3\\lib\\site-packages\\sklearn\\pipeline.py:267: DataConversionWarning: A column-vector y was passed when a 1d array was expected. Please change the shape of y to (n_samples,), for example using ravel().\n",
            "  self._final_estimator.fit(Xt, y, **fit_params)\n"
          ],
          "name": "stderr"
        },
        {
          "output_type": "stream",
          "text": [
            "Validation Accuracy 0.5119047619047619\n"
          ],
          "name": "stdout"
        }
      ]
    },
    {
      "cell_type": "code",
      "metadata": {
        "id": "IdEvwVHacI20",
        "colab_type": "code",
        "colab": {},
        "outputId": "be6df00b-3d20-4b34-e600-5ffa466a8949"
      },
      "source": [
        "from sklearn.metrics import confusion_matrix\n",
        "from sklearn.utils.multiclass import unique_labels\n",
        "\n",
        "y_pred = pipeline.predict(X_val)\n",
        "\n",
        "confusion_matrix(y_val, y_pred)"
      ],
      "execution_count": 0,
      "outputs": [
        {
          "output_type": "execute_result",
          "data": {
            "text/plain": [
              "array([[ 27,  89],\n",
              "       [ 34, 102]], dtype=int64)"
            ]
          },
          "metadata": {
            "tags": []
          },
          "execution_count": 46
        }
      ]
    },
    {
      "cell_type": "code",
      "metadata": {
        "id": "4VvJzegAcI21",
        "colab_type": "code",
        "colab": {},
        "outputId": "b794afdf-39a7-49e0-96b2-3fe06671658a"
      },
      "source": [
        "def plot_confusion_matrix(y_true, y_pred):\n",
        "    labels = unique_labels(y_true)\n",
        "    columns = [f'Predicted {label}' for label in labels]\n",
        "    index = [f'Actual {label}' for label in labels]\n",
        "    return columns, index\n",
        "\n",
        "plot_confusion_matrix(y_val, y_pred)"
      ],
      "execution_count": 0,
      "outputs": [
        {
          "output_type": "execute_result",
          "data": {
            "text/plain": [
              "(['Predicted 0', 'Predicted 1'], ['Actual 0', 'Actual 1'])"
            ]
          },
          "metadata": {
            "tags": []
          },
          "execution_count": 47
        }
      ]
    },
    {
      "cell_type": "code",
      "metadata": {
        "id": "6XKtNSRNcI23",
        "colab_type": "code",
        "colab": {},
        "outputId": "e2e641ca-26c8-4068-8858-81f33b80d05c"
      },
      "source": [
        "def plot_confusion_matrix(y_true, y_pred):\n",
        "    labels = unique_labels(y_true)\n",
        "    columns = [f'Predicted {label}' for label in labels]\n",
        "    index = [f'Actual {label}' for label in labels]\n",
        "    table = pd.DataFrame(confusion_matrix(y_true, y_pred),\n",
        "                         columns=columns, index=index)\n",
        "    return table\n",
        "\n",
        "plot_confusion_matrix(y_val, y_pred)"
      ],
      "execution_count": 0,
      "outputs": [
        {
          "output_type": "execute_result",
          "data": {
            "text/html": [
              "<div>\n",
              "<style scoped>\n",
              "    .dataframe tbody tr th:only-of-type {\n",
              "        vertical-align: middle;\n",
              "    }\n",
              "\n",
              "    .dataframe tbody tr th {\n",
              "        vertical-align: top;\n",
              "    }\n",
              "\n",
              "    .dataframe thead th {\n",
              "        text-align: right;\n",
              "    }\n",
              "</style>\n",
              "<table border=\"1\" class=\"dataframe\">\n",
              "  <thead>\n",
              "    <tr style=\"text-align: right;\">\n",
              "      <th></th>\n",
              "      <th>Predicted 0</th>\n",
              "      <th>Predicted 1</th>\n",
              "    </tr>\n",
              "  </thead>\n",
              "  <tbody>\n",
              "    <tr>\n",
              "      <th>Actual 0</th>\n",
              "      <td>27</td>\n",
              "      <td>89</td>\n",
              "    </tr>\n",
              "    <tr>\n",
              "      <th>Actual 1</th>\n",
              "      <td>34</td>\n",
              "      <td>102</td>\n",
              "    </tr>\n",
              "  </tbody>\n",
              "</table>\n",
              "</div>"
            ],
            "text/plain": [
              "          Predicted 0  Predicted 1\n",
              "Actual 0           27           89\n",
              "Actual 1           34          102"
            ]
          },
          "metadata": {
            "tags": []
          },
          "execution_count": 58
        }
      ]
    },
    {
      "cell_type": "code",
      "metadata": {
        "id": "wOkuffOxcI25",
        "colab_type": "code",
        "colab": {},
        "outputId": "19903fb7-e025-4d18-acf8-a231fdb8bd9e"
      },
      "source": [
        "import seaborn as sns\n",
        "\n",
        "def plot_confusion_matrix(y_true, y_pred):\n",
        "    labels = unique_labels(y_true)\n",
        "    columns = [f'Predicted {label}' for label in labels]\n",
        "    index = [f'Actual {label}' for label in labels]\n",
        "    table = pd.DataFrame(confusion_matrix(y_true, y_pred),\n",
        "                         columns=columns, index=index)\n",
        "    return sns.heatmap(table, annot=True, fmt='d', cmap='viridis')\n",
        "\n",
        "plot_confusion_matrix(y_val, y_pred);"
      ],
      "execution_count": 0,
      "outputs": [
        {
          "output_type": "display_data",
          "data": {
            "image/png": "[encoded data removed]",
            "text/plain": [
              "<Figure size 432x288 with 2 Axes>"
            ]
          },
          "metadata": {
            "tags": [],
            "needs_background": "light"
          }
        }
      ]
    },
    {
      "cell_type": "code",
      "metadata": {
        "id": "dC2u-2KkcI27",
        "colab_type": "code",
        "colab": {},
        "outputId": "2c74abd4-0cdd-4ab1-cfdf-0942d9d1ef92"
      },
      "source": [
        "from sklearn.metrics import classification_report\n",
        "print(classification_report(y_val, y_pred))"
      ],
      "execution_count": 0,
      "outputs": [
        {
          "output_type": "stream",
          "text": [
            "              precision    recall  f1-score   support\n",
            "\n",
            "           0       0.44      0.23      0.31       116\n",
            "           1       0.53      0.75      0.62       136\n",
            "\n",
            "   micro avg       0.51      0.51      0.51       252\n",
            "   macro avg       0.49      0.49      0.46       252\n",
            "weighted avg       0.49      0.51      0.48       252\n",
            "\n"
          ],
          "name": "stdout"
        }
      ]
    },
    {
      "cell_type": "markdown",
      "metadata": {
        "id": "ZCJvv7QicI28",
        "colab_type": "text"
      },
      "source": [
        "# Continue to clean and explore your data. Make exploratory visualizations."
      ]
    },
    {
      "cell_type": "code",
      "metadata": {
        "id": "hgSwn_1EcI29",
        "colab_type": "code",
        "colab": {}
      },
      "source": [
        "# def RSI"
      ],
      "execution_count": 0,
      "outputs": []
    },
    {
      "cell_type": "code",
      "metadata": {
        "id": "WOohgsllcI2-",
        "colab_type": "code",
        "colab": {}
      },
      "source": [
        "# # dUp= delta[delta > 0]\n",
        "# # dDown= delta[delta < 0]\n",
        "\n",
        "# # dUp = dUp.reindex_like(delta, fill_value=0)\n",
        "# # dDown = dDown.reindex_like(delta, fill_value=0)\n",
        "\n",
        "# # # Get data\n",
        "# # data = pd.DataReader('AAPL', 'yahoo', start, end)\n",
        "# # # Get just the close\n",
        "# # close = data['Adj Close']\n",
        "\n",
        "# Close = spy['Close']\n",
        "\n",
        "# # # Get the difference in price from previous step\n",
        "# # delta = close.diff()\n",
        "\n",
        "# delta = Close.diff()\n",
        "\n",
        "\n",
        "# dUp, dDown = delta.copy(), delta.copy()\n",
        "\n",
        "\n",
        "\n",
        "# # dUp[dUp < 0] = 0\n",
        "# # dDown[dDown > 0] = 0\n",
        "\n",
        "# dUp[dUp < 0] = 0\n",
        "# dDown[dDown > 0] = 0\n",
        "\n",
        "\n",
        "# spy['dUp'] = dUp\n",
        "# spy['dDown'] = dDown.abs()\n",
        "# spy.head()\n",
        "\n",
        "# spy['dUp'] = spy['dUp'].rolling(14)\n",
        "\n",
        "# # RolUp = dUp.rolling(14)\n",
        "# # RolDown = dDown.rolling(14)\n",
        "# # RolDown = RolDown.abs()\n",
        "\n",
        "# # RS = RolUp / RolDown"
      ],
      "execution_count": 0,
      "outputs": []
    },
    {
      "cell_type": "code",
      "metadata": {
        "id": "C-CaOCg5cI2_",
        "colab_type": "code",
        "colab": {},
        "outputId": "b3946959-a9d6-4f51-eea7-d00016675e24"
      },
      "source": [
        "# import pandas.io.data\n",
        "import pandas as pd\n",
        "# import datetime\n",
        "# import matplotlib.pyplot as plt\n",
        "\n",
        "# # Window length for moving average\n",
        "# window_length = 14\n",
        "\n",
        "# # Dates\n",
        "# start = datetime.datetime(2010, 1, 1)\n",
        "# end = datetime.datetime(2013, 1, 27)\n",
        "\n",
        "# # # Get data\n",
        "# # data = pd.DataReader('AAPL', 'yahoo', start, end)\n",
        "# # # Get just the close\n",
        "# # close = data['Adj Close']\n",
        "\n",
        "Close = spy['Close']\n",
        "\n",
        "# # Get the difference in price from previous step\n",
        "# delta = close.diff()\n",
        "\n",
        "delta = Close.diff()\n",
        "\n",
        "# # Get rid of the first row, which is NaN since it did not have a previous \n",
        "# # row to calculate the differences\n",
        "delta = delta[1:] \n",
        "\n",
        "# # Make the positive gains (up) and negative gains (down) Series\n",
        "up, down = delta.copy(), delta.copy()\n",
        "up[up < 0] = 0\n",
        "down[down > 0] = 0\n",
        "\n",
        "# # Calculate the EWMA\n",
        "# roll_up1 = pandas.stats.moments.ewma(up, window_length)\n",
        "# roll_down1 = pandas.stats.moments.ewma(down.abs(), window_length)\n",
        "\n",
        "# roll_up1 = up.ewm(14)\n",
        "# roll_down1 = down.ewm(14)\n",
        "\n",
        "# roll_up1,roll_down1\n",
        "\n",
        "spy['Roll_Up'] = up\n",
        "spy['Roll_Down'] = down.abs()\n",
        "\n",
        "spy['Roll_Up'] = spy['Roll_Up'].ewm(com=14).mean()\n",
        "spy['Roll_Down'] = spy['Roll_Down'].ewm(com=14).mean()\n",
        "\n",
        "# spy.tail()\n",
        "\n",
        "# # Calculate the RSI based on EWMA\n",
        "# RS1 = roll_up1 / roll_down1\n",
        "# RSI1 = 100.0 - (100.0 / (1.0 + RS1))\n",
        "\n",
        "RS1 = spy['Roll_Up'] / spy['Roll_Down']\n",
        "RSI1 = 100.0 - (100.0 / (1.0 + RS1))\n",
        "\n",
        "spy['RSI'] = RSI1\n",
        "# spy.tail()\n",
        "\n",
        "# # Calculate the SMA\n",
        "# roll_up2 = pandas.rolling_mean(up, window_length)\n",
        "# roll_down2 = pandas.rolling_mean(down.abs(), window_length)\n",
        "\n",
        "# # Calculate the RSI based on SMA\n",
        "# RS2 = roll_up2 / roll_down2\n",
        "# RSI2 = 100.0 - (100.0 / (1.0 + RS2))\n",
        "\n",
        "# # Compare graphically\n",
        "# plt.figure()\n",
        "# RSI1.plot()\n",
        "# RSI2.plot()\n",
        "# plt.legend(['RSI via EWMA', 'RSI via SMA'])\n",
        "# plt.show()\n",
        "# up.head()\n",
        "\n",
        "spy.tail()"
      ],
      "execution_count": 0,
      "outputs": [
        {
          "output_type": "execute_result",
          "data": {
            "text/html": [
              "<div>\n",
              "<style scoped>\n",
              "    .dataframe tbody tr th:only-of-type {\n",
              "        vertical-align: middle;\n",
              "    }\n",
              "\n",
              "    .dataframe tbody tr th {\n",
              "        vertical-align: top;\n",
              "    }\n",
              "\n",
              "    .dataframe thead th {\n",
              "        text-align: right;\n",
              "    }\n",
              "</style>\n",
              "<table border=\"1\" class=\"dataframe\">\n",
              "  <thead>\n",
              "    <tr style=\"text-align: right;\">\n",
              "      <th></th>\n",
              "      <th>Date</th>\n",
              "      <th>Close</th>\n",
              "      <th>Volume</th>\n",
              "      <th>Year</th>\n",
              "      <th>SMA</th>\n",
              "      <th>Above_14D_SMA_Yesterday</th>\n",
              "      <th>Close_Higher_Than_Yesterday</th>\n",
              "      <th>Roll_Up</th>\n",
              "      <th>Roll_Down</th>\n",
              "      <th>RSI</th>\n",
              "    </tr>\n",
              "  </thead>\n",
              "  <tbody>\n",
              "    <tr>\n",
              "      <th>3196</th>\n",
              "      <td>2017-11-06</td>\n",
              "      <td>258.85</td>\n",
              "      <td>49529148</td>\n",
              "      <td>2017</td>\n",
              "      <td>256.870714</td>\n",
              "      <td>1</td>\n",
              "      <td>1</td>\n",
              "      <td>0.453531</td>\n",
              "      <td>0.178283</td>\n",
              "      <td>71.782366</td>\n",
              "    </tr>\n",
              "    <tr>\n",
              "      <th>3197</th>\n",
              "      <td>2017-11-07</td>\n",
              "      <td>258.67</td>\n",
              "      <td>57218448</td>\n",
              "      <td>2017</td>\n",
              "      <td>257.081429</td>\n",
              "      <td>1</td>\n",
              "      <td>0</td>\n",
              "      <td>0.423295</td>\n",
              "      <td>0.178397</td>\n",
              "      <td>70.350758</td>\n",
              "    </tr>\n",
              "    <tr>\n",
              "      <th>3198</th>\n",
              "      <td>2017-11-08</td>\n",
              "      <td>259.11</td>\n",
              "      <td>50277699</td>\n",
              "      <td>2017</td>\n",
              "      <td>257.318571</td>\n",
              "      <td>1</td>\n",
              "      <td>1</td>\n",
              "      <td>0.424409</td>\n",
              "      <td>0.166504</td>\n",
              "      <td>71.822566</td>\n",
              "    </tr>\n",
              "    <tr>\n",
              "      <th>3199</th>\n",
              "      <td>2017-11-09</td>\n",
              "      <td>258.17</td>\n",
              "      <td>94537282</td>\n",
              "      <td>2017</td>\n",
              "      <td>257.394286</td>\n",
              "      <td>1</td>\n",
              "      <td>0</td>\n",
              "      <td>0.396115</td>\n",
              "      <td>0.218071</td>\n",
              "      <td>64.494358</td>\n",
              "    </tr>\n",
              "    <tr>\n",
              "      <th>3200</th>\n",
              "      <td>2017-11-10</td>\n",
              "      <td>258.09</td>\n",
              "      <td>59862364</td>\n",
              "      <td>2017</td>\n",
              "      <td>257.535714</td>\n",
              "      <td>1</td>\n",
              "      <td>0</td>\n",
              "      <td>0.369707</td>\n",
              "      <td>0.208866</td>\n",
              "      <td>63.899844</td>\n",
              "    </tr>\n",
              "  </tbody>\n",
              "</table>\n",
              "</div>"
            ],
            "text/plain": [
              "           Date   Close    Volume  Year         SMA  Above_14D_SMA_Yesterday  \\\n",
              "3196 2017-11-06  258.85  49529148  2017  256.870714                        1   \n",
              "3197 2017-11-07  258.67  57218448  2017  257.081429                        1   \n",
              "3198 2017-11-08  259.11  50277699  2017  257.318571                        1   \n",
              "3199 2017-11-09  258.17  94537282  2017  257.394286                        1   \n",
              "3200 2017-11-10  258.09  59862364  2017  257.535714                        1   \n",
              "\n",
              "     Close_Higher_Than_Yesterday   Roll_Up  Roll_Down        RSI  \n",
              "3196                           1  0.453531   0.178283  71.782366  \n",
              "3197                           0  0.423295   0.178397  70.350758  \n",
              "3198                           1  0.424409   0.166504  71.822566  \n",
              "3199                           0  0.396115   0.218071  64.494358  \n",
              "3200                           0  0.369707   0.208866  63.899844  "
            ]
          },
          "metadata": {
            "tags": []
          },
          "execution_count": 52
        }
      ]
    },
    {
      "cell_type": "code",
      "metadata": {
        "id": "NV7ZwxRtcI3B",
        "colab_type": "code",
        "colab": {}
      },
      "source": [
        "spy['Overbought'] = spy['RSI'] > 70.0\n",
        "spy['Oversold'] = spy['RSI'] < 30.0"
      ],
      "execution_count": 0,
      "outputs": []
    },
    {
      "cell_type": "code",
      "metadata": {
        "id": "v_MN_XF_cI3D",
        "colab_type": "code",
        "colab": {},
        "outputId": "5f2baa18-fa29-4752-eac3-df666dd1f9e3"
      },
      "source": [
        "spy.head()"
      ],
      "execution_count": 0,
      "outputs": [
        {
          "output_type": "execute_result",
          "data": {
            "text/html": [
              "<div>\n",
              "<style scoped>\n",
              "    .dataframe tbody tr th:only-of-type {\n",
              "        vertical-align: middle;\n",
              "    }\n",
              "\n",
              "    .dataframe tbody tr th {\n",
              "        vertical-align: top;\n",
              "    }\n",
              "\n",
              "    .dataframe thead th {\n",
              "        text-align: right;\n",
              "    }\n",
              "</style>\n",
              "<table border=\"1\" class=\"dataframe\">\n",
              "  <thead>\n",
              "    <tr style=\"text-align: right;\">\n",
              "      <th></th>\n",
              "      <th>Date</th>\n",
              "      <th>Close</th>\n",
              "      <th>Volume</th>\n",
              "      <th>Year</th>\n",
              "      <th>SMA</th>\n",
              "      <th>Above_14D_SMA_Yesterday</th>\n",
              "      <th>Close_Higher_Than_Yesterday</th>\n",
              "      <th>Roll_Up</th>\n",
              "      <th>Roll_Down</th>\n",
              "      <th>RSI</th>\n",
              "      <th>Overbought</th>\n",
              "      <th>Oversold</th>\n",
              "    </tr>\n",
              "  </thead>\n",
              "  <tbody>\n",
              "    <tr>\n",
              "      <th>0</th>\n",
              "      <td>2005-02-25</td>\n",
              "      <td>105.79</td>\n",
              "      <td>70221808</td>\n",
              "      <td>2005</td>\n",
              "      <td>NaN</td>\n",
              "      <td>1</td>\n",
              "      <td>n</td>\n",
              "      <td>NaN</td>\n",
              "      <td>NaN</td>\n",
              "      <td>NaN</td>\n",
              "      <td>False</td>\n",
              "      <td>False</td>\n",
              "    </tr>\n",
              "    <tr>\n",
              "      <th>1</th>\n",
              "      <td>2005-02-28</td>\n",
              "      <td>105.08</td>\n",
              "      <td>79695344</td>\n",
              "      <td>2005</td>\n",
              "      <td>NaN</td>\n",
              "      <td>1</td>\n",
              "      <td>0</td>\n",
              "      <td>0.000000</td>\n",
              "      <td>0.710000</td>\n",
              "      <td>0.000000</td>\n",
              "      <td>False</td>\n",
              "      <td>True</td>\n",
              "    </tr>\n",
              "    <tr>\n",
              "      <th>2</th>\n",
              "      <td>2005-03-01</td>\n",
              "      <td>105.62</td>\n",
              "      <td>54607412</td>\n",
              "      <td>2005</td>\n",
              "      <td>NaN</td>\n",
              "      <td>1</td>\n",
              "      <td>1</td>\n",
              "      <td>0.279310</td>\n",
              "      <td>0.342759</td>\n",
              "      <td>44.900222</td>\n",
              "      <td>False</td>\n",
              "      <td>False</td>\n",
              "    </tr>\n",
              "    <tr>\n",
              "      <th>3</th>\n",
              "      <td>2005-03-02</td>\n",
              "      <td>105.57</td>\n",
              "      <td>73733090</td>\n",
              "      <td>2005</td>\n",
              "      <td>NaN</td>\n",
              "      <td>1</td>\n",
              "      <td>0</td>\n",
              "      <td>0.179715</td>\n",
              "      <td>0.238368</td>\n",
              "      <td>42.985482</td>\n",
              "      <td>False</td>\n",
              "      <td>False</td>\n",
              "    </tr>\n",
              "    <tr>\n",
              "      <th>4</th>\n",
              "      <td>2005-03-03</td>\n",
              "      <td>105.61</td>\n",
              "      <td>71286823</td>\n",
              "      <td>2005</td>\n",
              "      <td>NaN</td>\n",
              "      <td>1</td>\n",
              "      <td>1</td>\n",
              "      <td>0.141093</td>\n",
              "      <td>0.172474</td>\n",
              "      <td>44.996003</td>\n",
              "      <td>False</td>\n",
              "      <td>False</td>\n",
              "    </tr>\n",
              "  </tbody>\n",
              "</table>\n",
              "</div>"
            ],
            "text/plain": [
              "        Date   Close    Volume  Year  SMA  Above_14D_SMA_Yesterday  \\\n",
              "0 2005-02-25  105.79  70221808  2005  NaN                        1   \n",
              "1 2005-02-28  105.08  79695344  2005  NaN                        1   \n",
              "2 2005-03-01  105.62  54607412  2005  NaN                        1   \n",
              "3 2005-03-02  105.57  73733090  2005  NaN                        1   \n",
              "4 2005-03-03  105.61  71286823  2005  NaN                        1   \n",
              "\n",
              "  Close_Higher_Than_Yesterday   Roll_Up  Roll_Down        RSI  Overbought  \\\n",
              "0                           n       NaN        NaN        NaN       False   \n",
              "1                           0  0.000000   0.710000   0.000000       False   \n",
              "2                           1  0.279310   0.342759  44.900222       False   \n",
              "3                           0  0.179715   0.238368  42.985482       False   \n",
              "4                           1  0.141093   0.172474  44.996003       False   \n",
              "\n",
              "   Oversold  \n",
              "0     False  \n",
              "1      True  \n",
              "2     False  \n",
              "3     False  \n",
              "4     False  "
            ]
          },
          "metadata": {
            "tags": []
          },
          "execution_count": 54
        }
      ]
    },
    {
      "cell_type": "code",
      "metadata": {
        "id": "SykFNo3TcI3E",
        "colab_type": "code",
        "colab": {}
      },
      "source": [
        ""
      ],
      "execution_count": 0,
      "outputs": []
    },
    {
      "cell_type": "code",
      "metadata": {
        "id": "XnFP1VK4cI3F",
        "colab_type": "code",
        "colab": {}
      },
      "source": [
        "# delta.head()"
      ],
      "execution_count": 0,
      "outputs": []
    },
    {
      "cell_type": "code",
      "metadata": {
        "id": "BbyoeZhlcI3G",
        "colab_type": "code",
        "colab": {}
      },
      "source": [
        "# spy.head()"
      ],
      "execution_count": 0,
      "outputs": []
    },
    {
      "cell_type": "code",
      "metadata": {
        "id": "QRDfTO30cI3H",
        "colab_type": "code",
        "colab": {}
      },
      "source": [
        ""
      ],
      "execution_count": 0,
      "outputs": []
    },
    {
      "cell_type": "code",
      "metadata": {
        "id": "1gH-X-nIcI3I",
        "colab_type": "code",
        "colab": {}
      },
      "source": [
        ""
      ],
      "execution_count": 0,
      "outputs": []
    },
    {
      "cell_type": "code",
      "metadata": {
        "id": "VSse7z1IcI3K",
        "colab_type": "code",
        "colab": {}
      },
      "source": [
        "spy_2017 = spy[spy['Year'] == 2017]\n",
        "spy_2016 = spy[spy['Year'] == 2016]\n",
        "spy_2015 = spy[spy['Year'] == 2015]\n",
        "spy_2014 = spy[spy['Year'] == 2014]\n",
        "spy_2013 = spy[spy['Year'] == 2013]\n",
        "spy_2012 = spy[spy['Year'] == 2012]\n",
        "spy_2011 = spy[spy['Year'] == 2011]\n",
        "spy_2010 = spy[spy['Year'] == 2010]\n",
        "spy_2009 = spy[spy['Year'] == 2009]\n",
        "spy_2008 = spy[spy['Year'] == 2008]\n",
        "spy_2007 = spy[spy['Year'] == 2007]\n",
        "spy_2006 = spy[spy['Year'] == 2006]\n",
        "spy_2005 = spy[spy['Year'] == 2005]"
      ],
      "execution_count": 0,
      "outputs": []
    },
    {
      "cell_type": "code",
      "metadata": {
        "id": "KYgCZnuZcI3L",
        "colab_type": "code",
        "colab": {}
      },
      "source": [
        "spy_2010_2013 = pd.concat([spy_2010,spy_2011,spy_2012,spy_2013])"
      ],
      "execution_count": 0,
      "outputs": []
    },
    {
      "cell_type": "code",
      "metadata": {
        "id": "Y5g98PSCcI3O",
        "colab_type": "code",
        "colab": {}
      },
      "source": [
        "target = ['Close_Higher_Than_Yesterday']\n",
        "drop = ['Date','Year','SMA','Volume','Close','Roll_Up','Roll_Down']\n",
        "\n",
        "\n",
        "train = spy_2010_2013.drop(columns=drop)\n",
        "test = spy_2015.drop(columns=drop)\n",
        "val = spy_2016.drop(columns=drop)\n",
        "\n",
        "X_val = val.drop(columns=target)\n",
        "y_val = val[target]\n",
        "\n",
        "X_test = test.drop(columns=target)\n",
        "y_test = test[target]\n",
        "\n",
        "X_train = train.drop(columns=target)\n",
        "y_train = train[target]"
      ],
      "execution_count": 0,
      "outputs": []
    },
    {
      "cell_type": "code",
      "metadata": {
        "id": "k2jOut5JcI3P",
        "colab_type": "code",
        "colab": {},
        "outputId": "c6d37487-01ce-4e06-d7e2-53ef539b56be"
      },
      "source": [
        "X_test.head()"
      ],
      "execution_count": 0,
      "outputs": [
        {
          "output_type": "execute_result",
          "data": {
            "text/html": [
              "<div>\n",
              "<style scoped>\n",
              "    .dataframe tbody tr th:only-of-type {\n",
              "        vertical-align: middle;\n",
              "    }\n",
              "\n",
              "    .dataframe tbody tr th {\n",
              "        vertical-align: top;\n",
              "    }\n",
              "\n",
              "    .dataframe thead th {\n",
              "        text-align: right;\n",
              "    }\n",
              "</style>\n",
              "<table border=\"1\" class=\"dataframe\">\n",
              "  <thead>\n",
              "    <tr style=\"text-align: right;\">\n",
              "      <th></th>\n",
              "      <th>Above_14D_SMA_Yesterday</th>\n",
              "      <th>RSI</th>\n",
              "      <th>Overbought</th>\n",
              "      <th>Oversold</th>\n",
              "    </tr>\n",
              "  </thead>\n",
              "  <tbody>\n",
              "    <tr>\n",
              "      <th>2479</th>\n",
              "      <td>1</td>\n",
              "      <td>52.606022</td>\n",
              "      <td>False</td>\n",
              "      <td>False</td>\n",
              "    </tr>\n",
              "    <tr>\n",
              "      <th>2480</th>\n",
              "      <td>1</td>\n",
              "      <td>42.909503</td>\n",
              "      <td>False</td>\n",
              "      <td>False</td>\n",
              "    </tr>\n",
              "    <tr>\n",
              "      <th>2481</th>\n",
              "      <td>0</td>\n",
              "      <td>39.013365</td>\n",
              "      <td>False</td>\n",
              "      <td>False</td>\n",
              "    </tr>\n",
              "    <tr>\n",
              "      <th>2482</th>\n",
              "      <td>0</td>\n",
              "      <td>45.876155</td>\n",
              "      <td>False</td>\n",
              "      <td>False</td>\n",
              "    </tr>\n",
              "    <tr>\n",
              "      <th>2483</th>\n",
              "      <td>0</td>\n",
              "      <td>54.064304</td>\n",
              "      <td>False</td>\n",
              "      <td>False</td>\n",
              "    </tr>\n",
              "  </tbody>\n",
              "</table>\n",
              "</div>"
            ],
            "text/plain": [
              "      Above_14D_SMA_Yesterday        RSI  Overbought  Oversold\n",
              "2479                        1  52.606022       False     False\n",
              "2480                        1  42.909503       False     False\n",
              "2481                        0  39.013365       False     False\n",
              "2482                        0  45.876155       False     False\n",
              "2483                        0  54.064304       False     False"
            ]
          },
          "metadata": {
            "tags": []
          },
          "execution_count": 78
        }
      ]
    },
    {
      "cell_type": "code",
      "metadata": {
        "id": "zKtH-yyscI3Q",
        "colab_type": "code",
        "colab": {}
      },
      "source": [
        "from sklearn.ensemble import RandomForestClassifier\n",
        "from sklearn.pipeline import make_pipeline"
      ],
      "execution_count": 0,
      "outputs": []
    },
    {
      "cell_type": "code",
      "metadata": {
        "id": "Lp5ZrNrGcI3R",
        "colab_type": "code",
        "colab": {},
        "outputId": "a75bc02f-1048-4b57-d41e-f935e29907ff"
      },
      "source": [
        "pipeline = make_pipeline(\n",
        "    RandomForestClassifier(n_estimators=100, random_state=42, n_jobs=-1)\n",
        ")\n",
        "\n",
        "pipeline.fit(X_train, y_train)\n",
        "print('Validation Accuracy', pipeline.score(X_val, y_val))"
      ],
      "execution_count": 0,
      "outputs": [
        {
          "output_type": "stream",
          "text": [
            "C:\\Users\\Sarmen\\Anaconda3\\lib\\site-packages\\sklearn\\pipeline.py:267: DataConversionWarning: A column-vector y was passed when a 1d array was expected. Please change the shape of y to (n_samples,), for example using ravel().\n",
            "  self._final_estimator.fit(Xt, y, **fit_params)\n"
          ],
          "name": "stderr"
        },
        {
          "output_type": "stream",
          "text": [
            "Validation Accuracy 0.6031746031746031\n"
          ],
          "name": "stdout"
        }
      ]
    },
    {
      "cell_type": "code",
      "metadata": {
        "id": "lLGCGeobcI3T",
        "colab_type": "code",
        "colab": {}
      },
      "source": [
        ""
      ],
      "execution_count": 0,
      "outputs": []
    },
    {
      "cell_type": "code",
      "metadata": {
        "id": "L_CtfUGbcI3V",
        "colab_type": "code",
        "colab": {}
      },
      "source": [
        ""
      ],
      "execution_count": 0,
      "outputs": []
    },
    {
      "cell_type": "markdown",
      "metadata": {
        "id": "YEWVC86pcI3W",
        "colab_type": "text"
      },
      "source": [
        "# Fit a model. Does it beat your baseline?"
      ]
    },
    {
      "cell_type": "code",
      "metadata": {
        "id": "0KOENWe_cI3X",
        "colab_type": "code",
        "colab": {}
      },
      "source": [
        ""
      ],
      "execution_count": 0,
      "outputs": []
    },
    {
      "cell_type": "markdown",
      "metadata": {
        "id": "ZaGNQePFcI3Y",
        "colab_type": "text"
      },
      "source": [
        "# Share at least 1 visualization on Slack."
      ]
    },
    {
      "cell_type": "code",
      "metadata": {
        "id": "FgeVQpiOcI3Y",
        "colab_type": "code",
        "colab": {}
      },
      "source": [
        ""
      ],
      "execution_count": 0,
      "outputs": []
    }
  ]
}