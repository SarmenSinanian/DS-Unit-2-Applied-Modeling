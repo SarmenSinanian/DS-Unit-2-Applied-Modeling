{
  "nbformat": 4,
  "nbformat_minor": 0,
  "metadata": {
    "colab": {
      "name": "Sarmen-Sinanian-assignment_applied_modeling_PROJECT V1.0.ipynb",
      "version": "0.3.2",
      "provenance": [],
      "collapsed_sections": [],
      "include_colab_link": true
    },
    "kernelspec": {
      "display_name": "Python 3",
      "language": "python",
      "name": "python3"
    },
    "language_info": {
      "codemirror_mode": {
        "name": "ipython",
        "version": 3
      },
      "file_extension": ".py",
      "mimetype": "text/x-python",
      "name": "python",
      "nbconvert_exporter": "python",
      "pygments_lexer": "ipython3",
      "version": "3.7.3"
    }
  },
  "cells": [
    {
      "cell_type": "markdown",
      "metadata": {
        "id": "view-in-github",
        "colab_type": "text"
      },
      "source": [
        "<a href=\"https://colab.research.google.com/github/SarmenSinanian/DS-Unit-2-Applied-Modeling/blob/master/Sarmen_Sinanian_assignment_applied_modeling_PROJECT_V1_0.ipynb\" target=\"_parent\"><img src=\"https://colab.research.google.com/assets/colab-badge.svg\" alt=\"Open In Colab\"/></a>"
      ]
    },
    {
      "cell_type": "markdown",
      "metadata": {
        "colab_type": "text",
        "id": "nCc3XZEyG3XV"
      },
      "source": [
        "Lambda School Data Science, Unit 2: Predictive Modeling\n",
        "\n",
        "# Applied Modeling, Module 2\n",
        "\n",
        "You will use your portfolio project dataset for all assignments this sprint.\n",
        "\n",
        "## Assignment\n",
        "\n",
        "Complete these tasks for your project, and document your work.\n",
        "\n",
        "- [ ] Plot the distribution of your target. \n",
        "    - Regression problem: Is your target skewed? Then, log-transform it.\n",
        "    - Classification: Are your classes imbalanced? Then, don't use just accuracy. And try `class_balance` parameter in scikit-learn.\n",
        "- [ ] Continue to clean and explore your data. Make exploratory visualizations.\n",
        "- [ ] Fit a model. Does it beat your baseline?\n",
        "- [ ] Share at least 1 visualization on Slack.\n",
        "\n",
        "You need to complete an initial model today, because the rest of the week, we're making model interpretation visualizations.\n",
        "\n",
        "\n",
        "## Reading\n",
        "\n",
        "### Today\n",
        "- [imbalance-learn](https://github.com/scikit-learn-contrib/imbalanced-learn)\n",
        "- [Learning from Imbalanced Classes](https://www.svds.com/tbt-learning-imbalanced-classes/)\n",
        "- [Machine Learning Meets Economics](http://blog.mldb.ai/blog/posts/2016/01/ml-meets-economics/)\n",
        "- [ROC curves and Area Under the Curve explained](https://www.dataschool.io/roc-curves-and-auc-explained/)\n",
        "- [The philosophical argument for using ROC curves](https://lukeoakdenrayner.wordpress.com/2018/01/07/the-philosophical-argument-for-using-roc-curves/)\n",
        "\n",
        "\n",
        "### Yesterday\n",
        "- [Attacking discrimination with smarter machine learning](https://research.google.com/bigpicture/attacking-discrimination-in-ml/), by Google Research, with  interactive visualizations. _\"A threshold classifier essentially makes a yes/no decision, putting things in one category or another. We look at how these classifiers work, ways they can potentially be unfair, and how you might turn an unfair classifier into a fairer one. As an illustrative example, we focus on loan granting scenarios where a bank may grant or deny a loan based on a single, automatically computed number such as a credit score.\"_\n",
        "- [How Shopify Capital Uses Quantile Regression To Help Merchants Succeed](https://engineering.shopify.com/blogs/engineering/how-shopify-uses-machine-learning-to-help-our-merchants-grow-their-business)\n",
        "- [Maximizing Scarce Maintenance Resources with Data: Applying predictive modeling, precision at k, and clustering to optimize impact](https://towardsdatascience.com/maximizing-scarce-maintenance-resources-with-data-8f3491133050), **by Lambda DS3 student** Michael Brady. His blog post extends the Tanzania Waterpumps scenario, far beyond what's in the lecture notebook.\n",
        "- [Notebook about how to calculate expected value from a confusion matrix by treating it as a cost-benefit matrix](https://github.com/podopie/DAT18NYC/blob/master/classes/13-expected_value_cost_benefit_analysis.ipynb)\n",
        "- [Simple guide to confusion matrix terminology](https://www.dataschool.io/simple-guide-to-confusion-matrix-terminology/) by Kevin Markham, with video\n",
        "- [Visualizing Machine Learning Thresholds to Make Better Business Decisions](https://blog.insightdatascience.com/visualizing-machine-learning-thresholds-to-make-better-business-decisions-4ab07f823415)\n",
        "\n",
        "\n",
        "\n",
        "\n"
      ]
    },
    {
      "cell_type": "code",
      "metadata": {
        "colab_type": "code",
        "id": "wM0ChIkGuVAp",
        "scrolled": true,
        "colab": {}
      },
      "source": [
        "# conda install -c conda-forge category_encoders"
      ],
      "execution_count": 0,
      "outputs": []
    },
    {
      "cell_type": "code",
      "metadata": {
        "id": "NIQAUQDb-Cxf",
        "colab_type": "code",
        "colab": {}
      },
      "source": [
        "# conda update -n base -c defaults conda"
      ],
      "execution_count": 0,
      "outputs": []
    },
    {
      "cell_type": "code",
      "metadata": {
        "scrolled": true,
        "id": "JIOI0xZ7-Cxi",
        "colab_type": "code",
        "colab": {}
      },
      "source": [
        "# pip install --upgrade category_encoders"
      ],
      "execution_count": 0,
      "outputs": []
    },
    {
      "cell_type": "code",
      "metadata": {
        "id": "mV9dSd92-Cxk",
        "colab_type": "code",
        "colab": {}
      },
      "source": [
        "import pandas as pd\n",
        "import numpy as np\n",
        "import matplotlib.pyplot as plt\n"
      ],
      "execution_count": 0,
      "outputs": []
    },
    {
      "cell_type": "markdown",
      "metadata": {
        "id": "GnCRgpL4-Cxm",
        "colab_type": "text"
      },
      "source": [
        "# ASSIGNMENT 1 BELOW (ASSIGNMENT 2 FURTHER DOWN)"
      ]
    },
    {
      "cell_type": "code",
      "metadata": {
        "id": "glKlTbmy-Cxn",
        "colab_type": "code",
        "colab": {}
      },
      "source": [
        ""
      ],
      "execution_count": 0,
      "outputs": []
    },
    {
      "cell_type": "code",
      "metadata": {
        "id": "9wtmVmc1-Cxp",
        "colab_type": "code",
        "colab": {}
      },
      "source": [
        "columns = ['Date','Adj Close','Volume']"
      ],
      "execution_count": 0,
      "outputs": []
    },
    {
      "cell_type": "markdown",
      "metadata": {
        "id": "q1F7xeue-Cxr",
        "colab_type": "text"
      },
      "source": [
        "# BELOW DATASET FROM https://query1.finance.yahoo.com/v7/finance/download/SPY?period1=728294400&period2=1566889200&interval=1d&events=history&crumb=ixT1ci5YI3E"
      ]
    },
    {
      "cell_type": "code",
      "metadata": {
        "id": "YICbU8RD-Cxs",
        "colab_type": "code",
        "colab": {}
      },
      "source": [
        "spy = pd.read_csv(r'E:\\Desktop\\Lambda School\\Assignments\\Unit 2 Sprint 7 PROJECT\\SPY.csv',\n",
        "                  usecols = columns)"
      ],
      "execution_count": 0,
      "outputs": []
    },
    {
      "cell_type": "code",
      "metadata": {
        "id": "_0i8PAA2-Cxu",
        "colab_type": "code",
        "colab": {},
        "outputId": "9e4b17ea-ec8f-4102-b36c-fc10508f229b"
      },
      "source": [
        "spy.head()"
      ],
      "execution_count": 0,
      "outputs": [
        {
          "output_type": "execute_result",
          "data": {
            "text/html": [
              "<div>\n",
              "<style scoped>\n",
              "    .dataframe tbody tr th:only-of-type {\n",
              "        vertical-align: middle;\n",
              "    }\n",
              "\n",
              "    .dataframe tbody tr th {\n",
              "        vertical-align: top;\n",
              "    }\n",
              "\n",
              "    .dataframe thead th {\n",
              "        text-align: right;\n",
              "    }\n",
              "</style>\n",
              "<table border=\"1\" class=\"dataframe\">\n",
              "  <thead>\n",
              "    <tr style=\"text-align: right;\">\n",
              "      <th></th>\n",
              "      <th>Date</th>\n",
              "      <th>Adj Close</th>\n",
              "      <th>Volume</th>\n",
              "    </tr>\n",
              "  </thead>\n",
              "  <tbody>\n",
              "    <tr>\n",
              "      <th>0</th>\n",
              "      <td>1993-01-29</td>\n",
              "      <td>26.706757</td>\n",
              "      <td>1003200</td>\n",
              "    </tr>\n",
              "    <tr>\n",
              "      <th>1</th>\n",
              "      <td>1993-02-01</td>\n",
              "      <td>26.896694</td>\n",
              "      <td>480500</td>\n",
              "    </tr>\n",
              "    <tr>\n",
              "      <th>2</th>\n",
              "      <td>1993-02-02</td>\n",
              "      <td>26.953669</td>\n",
              "      <td>201300</td>\n",
              "    </tr>\n",
              "    <tr>\n",
              "      <th>3</th>\n",
              "      <td>1993-02-03</td>\n",
              "      <td>27.238594</td>\n",
              "      <td>529400</td>\n",
              "    </tr>\n",
              "    <tr>\n",
              "      <th>4</th>\n",
              "      <td>1993-02-04</td>\n",
              "      <td>27.352570</td>\n",
              "      <td>531500</td>\n",
              "    </tr>\n",
              "  </tbody>\n",
              "</table>\n",
              "</div>"
            ],
            "text/plain": [
              "         Date  Adj Close   Volume\n",
              "0  1993-01-29  26.706757  1003200\n",
              "1  1993-02-01  26.896694   480500\n",
              "2  1993-02-02  26.953669   201300\n",
              "3  1993-02-03  27.238594   529400\n",
              "4  1993-02-04  27.352570   531500"
            ]
          },
          "metadata": {
            "tags": []
          },
          "execution_count": 7
        }
      ]
    },
    {
      "cell_type": "code",
      "metadata": {
        "id": "rAtxWq1Z-Cxy",
        "colab_type": "code",
        "colab": {}
      },
      "source": [
        "spy['Date'] = pd.to_datetime(spy['Date'])"
      ],
      "execution_count": 0,
      "outputs": []
    },
    {
      "cell_type": "code",
      "metadata": {
        "id": "jwgY_znT-Cx0",
        "colab_type": "code",
        "colab": {},
        "outputId": "f4ffd56c-dd6b-4538-d056-ae93c4850666"
      },
      "source": [
        "spy.dtypes"
      ],
      "execution_count": 0,
      "outputs": [
        {
          "output_type": "execute_result",
          "data": {
            "text/plain": [
              "Date         datetime64[ns]\n",
              "Adj Close           float64\n",
              "Volume                int64\n",
              "dtype: object"
            ]
          },
          "metadata": {
            "tags": []
          },
          "execution_count": 9
        }
      ]
    },
    {
      "cell_type": "code",
      "metadata": {
        "id": "hkAJCSw_-Cx3",
        "colab_type": "code",
        "colab": {},
        "outputId": "dea1b823-6807-495d-91fb-756a11f5f70a"
      },
      "source": [
        "plt.plot_date(spy['Date'], spy['Adj Close'])"
      ],
      "execution_count": 0,
      "outputs": [
        {
          "output_type": "stream",
          "text": [
            "C:\\Users\\Sarmen\\Anaconda3\\lib\\site-packages\\pandas\\plotting\\_converter.py:129: FutureWarning: Using an implicitly registered datetime converter for a matplotlib plotting method. The converter was registered by pandas on import. Future versions of pandas will require you to explicitly register matplotlib converters.\n",
            "\n",
            "To register the converters:\n",
            "\t>>> from pandas.plotting import register_matplotlib_converters\n",
            "\t>>> register_matplotlib_converters()\n",
            "  warnings.warn(msg, FutureWarning)\n"
          ],
          "name": "stderr"
        },
        {
          "output_type": "execute_result",
          "data": {
            "text/plain": [
              "[<matplotlib.lines.Line2D at 0x19553cba4a8>]"
            ]
          },
          "metadata": {
            "tags": []
          },
          "execution_count": 10
        },
        {
          "output_type": "display_data",
          "data": {
            "image/png": "[encoded data removed]",
            "text/plain": [
              "<Figure size 432x288 with 1 Axes>"
            ]
          },
          "metadata": {
            "tags": [],
            "needs_background": "light"
          }
        }
      ]
    },
    {
      "cell_type": "code",
      "metadata": {
        "id": "VzRJS4Xx-Cx7",
        "colab_type": "code",
        "colab": {}
      },
      "source": [
        "# spy = pd.read_csv(f'E:\\Desktop\\Lambda School\\Data Sets\\Data Visualization and Storytelling Project\\price-volume-data-for-all-us-stocks-etfs\\Data\\ETFs\\\\spy.us.txt',\n",
        "#                           usecols = columns)"
      ],
      "execution_count": 0,
      "outputs": []
    },
    {
      "cell_type": "code",
      "metadata": {
        "id": "tVVAxlHz-Cx9",
        "colab_type": "code",
        "colab": {}
      },
      "source": [
        "spy.columns = ['Date','Adj_Close','Volume']"
      ],
      "execution_count": 0,
      "outputs": []
    },
    {
      "cell_type": "code",
      "metadata": {
        "id": "BxFSKxlp-Cx_",
        "colab_type": "code",
        "colab": {},
        "outputId": "c41a2d81-6cf5-4837-a810-8952c3ea0acf"
      },
      "source": [
        "spy.head()"
      ],
      "execution_count": 0,
      "outputs": [
        {
          "output_type": "execute_result",
          "data": {
            "text/html": [
              "<div>\n",
              "<style scoped>\n",
              "    .dataframe tbody tr th:only-of-type {\n",
              "        vertical-align: middle;\n",
              "    }\n",
              "\n",
              "    .dataframe tbody tr th {\n",
              "        vertical-align: top;\n",
              "    }\n",
              "\n",
              "    .dataframe thead th {\n",
              "        text-align: right;\n",
              "    }\n",
              "</style>\n",
              "<table border=\"1\" class=\"dataframe\">\n",
              "  <thead>\n",
              "    <tr style=\"text-align: right;\">\n",
              "      <th></th>\n",
              "      <th>Date</th>\n",
              "      <th>Adj_Close</th>\n",
              "      <th>Volume</th>\n",
              "    </tr>\n",
              "  </thead>\n",
              "  <tbody>\n",
              "    <tr>\n",
              "      <th>0</th>\n",
              "      <td>1993-01-29</td>\n",
              "      <td>26.706757</td>\n",
              "      <td>1003200</td>\n",
              "    </tr>\n",
              "    <tr>\n",
              "      <th>1</th>\n",
              "      <td>1993-02-01</td>\n",
              "      <td>26.896694</td>\n",
              "      <td>480500</td>\n",
              "    </tr>\n",
              "    <tr>\n",
              "      <th>2</th>\n",
              "      <td>1993-02-02</td>\n",
              "      <td>26.953669</td>\n",
              "      <td>201300</td>\n",
              "    </tr>\n",
              "    <tr>\n",
              "      <th>3</th>\n",
              "      <td>1993-02-03</td>\n",
              "      <td>27.238594</td>\n",
              "      <td>529400</td>\n",
              "    </tr>\n",
              "    <tr>\n",
              "      <th>4</th>\n",
              "      <td>1993-02-04</td>\n",
              "      <td>27.352570</td>\n",
              "      <td>531500</td>\n",
              "    </tr>\n",
              "  </tbody>\n",
              "</table>\n",
              "</div>"
            ],
            "text/plain": [
              "        Date  Adj_Close   Volume\n",
              "0 1993-01-29  26.706757  1003200\n",
              "1 1993-02-01  26.896694   480500\n",
              "2 1993-02-02  26.953669   201300\n",
              "3 1993-02-03  27.238594   529400\n",
              "4 1993-02-04  27.352570   531500"
            ]
          },
          "metadata": {
            "tags": []
          },
          "execution_count": 13
        }
      ]
    },
    {
      "cell_type": "code",
      "metadata": {
        "id": "nKg-_Cjt-CyC",
        "colab_type": "code",
        "colab": {},
        "outputId": "a43bdb83-73f0-4f32-900b-8a14e0409be7"
      },
      "source": [
        "spy.describe()"
      ],
      "execution_count": 0,
      "outputs": [
        {
          "output_type": "execute_result",
          "data": {
            "text/html": [
              "<div>\n",
              "<style scoped>\n",
              "    .dataframe tbody tr th:only-of-type {\n",
              "        vertical-align: middle;\n",
              "    }\n",
              "\n",
              "    .dataframe tbody tr th {\n",
              "        vertical-align: top;\n",
              "    }\n",
              "\n",
              "    .dataframe thead th {\n",
              "        text-align: right;\n",
              "    }\n",
              "</style>\n",
              "<table border=\"1\" class=\"dataframe\">\n",
              "  <thead>\n",
              "    <tr style=\"text-align: right;\">\n",
              "      <th></th>\n",
              "      <th>Adj_Close</th>\n",
              "      <th>Volume</th>\n",
              "    </tr>\n",
              "  </thead>\n",
              "  <tbody>\n",
              "    <tr>\n",
              "      <th>count</th>\n",
              "      <td>6692.000000</td>\n",
              "      <td>6.692000e+03</td>\n",
              "    </tr>\n",
              "    <tr>\n",
              "      <th>mean</th>\n",
              "      <td>111.609154</td>\n",
              "      <td>8.431367e+07</td>\n",
              "    </tr>\n",
              "    <tr>\n",
              "      <th>std</th>\n",
              "      <td>65.611232</td>\n",
              "      <td>9.810203e+07</td>\n",
              "    </tr>\n",
              "    <tr>\n",
              "      <th>min</th>\n",
              "      <td>26.383823</td>\n",
              "      <td>5.200000e+03</td>\n",
              "    </tr>\n",
              "    <tr>\n",
              "      <th>25%</th>\n",
              "      <td>71.542696</td>\n",
              "      <td>7.017450e+06</td>\n",
              "    </tr>\n",
              "    <tr>\n",
              "      <th>50%</th>\n",
              "      <td>93.903874</td>\n",
              "      <td>5.707685e+07</td>\n",
              "    </tr>\n",
              "    <tr>\n",
              "      <th>75%</th>\n",
              "      <td>128.059433</td>\n",
              "      <td>1.226404e+08</td>\n",
              "    </tr>\n",
              "    <tr>\n",
              "      <th>max</th>\n",
              "      <td>302.010010</td>\n",
              "      <td>8.710263e+08</td>\n",
              "    </tr>\n",
              "  </tbody>\n",
              "</table>\n",
              "</div>"
            ],
            "text/plain": [
              "         Adj_Close        Volume\n",
              "count  6692.000000  6.692000e+03\n",
              "mean    111.609154  8.431367e+07\n",
              "std      65.611232  9.810203e+07\n",
              "min      26.383823  5.200000e+03\n",
              "25%      71.542696  7.017450e+06\n",
              "50%      93.903874  5.707685e+07\n",
              "75%     128.059433  1.226404e+08\n",
              "max     302.010010  8.710263e+08"
            ]
          },
          "metadata": {
            "tags": []
          },
          "execution_count": 14
        }
      ]
    },
    {
      "cell_type": "code",
      "metadata": {
        "id": "hn1Qpo5l-CyE",
        "colab_type": "code",
        "colab": {},
        "outputId": "91e01d29-a08d-42d6-d38d-fd5bcc98a342"
      },
      "source": [
        "spy.shape"
      ],
      "execution_count": 0,
      "outputs": [
        {
          "output_type": "execute_result",
          "data": {
            "text/plain": [
              "(6692, 3)"
            ]
          },
          "metadata": {
            "tags": []
          },
          "execution_count": 15
        }
      ]
    },
    {
      "cell_type": "markdown",
      "metadata": {
        "colab_type": "text",
        "id": "vCFxE6hqF3P9"
      },
      "source": [
        "# Choose your target. Which column in your tabular dataset will you predict?\n"
      ]
    },
    {
      "cell_type": "code",
      "metadata": {
        "id": "6PGXSCh1-CyH",
        "colab_type": "code",
        "colab": {}
      },
      "source": [
        "# PRICE(CLOSE) IS THE TARGET\n",
        "# THIS--->***OR PRICE(CLOSE) NEXT DAY ABOVE/BELOW PREVIOUS DAY BASED ON ROLLING MEAN(SMA) OR RELATIVE STRENGTH (RSI)***"
      ],
      "execution_count": 0,
      "outputs": []
    },
    {
      "cell_type": "markdown",
      "metadata": {
        "colab_type": "text",
        "id": "iGhy2o9MF5iK"
      },
      "source": [
        "# Choose which observations you will use to train, validate, and test your model. And which observations, if any, to exclude.\n"
      ]
    },
    {
      "cell_type": "code",
      "metadata": {
        "id": "rIqoJpEs-CyK",
        "colab_type": "code",
        "colab": {},
        "outputId": "b16b2a6d-cf60-46aa-e7dc-093b7acb2665"
      },
      "source": [
        "spy.isna().sum()"
      ],
      "execution_count": 0,
      "outputs": [
        {
          "output_type": "execute_result",
          "data": {
            "text/plain": [
              "Date         0\n",
              "Adj_Close    0\n",
              "Volume       0\n",
              "dtype: int64"
            ]
          },
          "metadata": {
            "tags": []
          },
          "execution_count": 17
        }
      ]
    },
    {
      "cell_type": "markdown",
      "metadata": {
        "id": "TrugTXSx-CyM",
        "colab_type": "text"
      },
      "source": [
        "### *WILL USE ALL SPY (S&P 500 ETF) DATA*"
      ]
    },
    {
      "cell_type": "markdown",
      "metadata": {
        "colab_type": "text",
        "id": "KwGWGEUZF5e4"
      },
      "source": [
        "# Determine whether your problem is regression or classification.\n"
      ]
    },
    {
      "cell_type": "markdown",
      "metadata": {
        "id": "Er219XVB-CyQ",
        "colab_type": "text"
      },
      "source": [
        "### *CLASSIFICATION (IS THIS TICKER OVER/UNDER THE X_DAY ROLLING MEAN ***AND*** ALSO OVER/UNDER BOUGHT ON THE RSI?)*\n",
        "### *AKA 3 WAY CONFUSION MATRIX WITH UNDER TO BOTH AS THE HIGHEST LIKELIHOOD PREDICTOR OF NEXT DAY/WEEKS/MONTHS POSITIVE RETURNS*"
      ]
    },
    {
      "cell_type": "markdown",
      "metadata": {
        "colab_type": "text",
        "id": "OE4NpAxhF5bJ"
      },
      "source": [
        "# Choose your evaluation metric."
      ]
    },
    {
      "cell_type": "markdown",
      "metadata": {
        "id": "BxseotNT-CyS",
        "colab_type": "text"
      },
      "source": [
        "### WILL USE ACCURACY SCORE"
      ]
    },
    {
      "cell_type": "markdown",
      "metadata": {
        "colab_type": "text",
        "id": "k2-7u08UF5Xo"
      },
      "source": [
        "# Begin with baselines: majority class baseline for classification, or mean baseline for regression, with your metric of choice.\n"
      ]
    },
    {
      "cell_type": "code",
      "metadata": {
        "id": "DdOADK_a-CyU",
        "colab_type": "code",
        "colab": {},
        "outputId": "e1670c4e-1e9d-4d2b-ae61-1a12b52467c9"
      },
      "source": [
        "spy.head()"
      ],
      "execution_count": 0,
      "outputs": [
        {
          "output_type": "execute_result",
          "data": {
            "text/html": [
              "<div>\n",
              "<style scoped>\n",
              "    .dataframe tbody tr th:only-of-type {\n",
              "        vertical-align: middle;\n",
              "    }\n",
              "\n",
              "    .dataframe tbody tr th {\n",
              "        vertical-align: top;\n",
              "    }\n",
              "\n",
              "    .dataframe thead th {\n",
              "        text-align: right;\n",
              "    }\n",
              "</style>\n",
              "<table border=\"1\" class=\"dataframe\">\n",
              "  <thead>\n",
              "    <tr style=\"text-align: right;\">\n",
              "      <th></th>\n",
              "      <th>Date</th>\n",
              "      <th>Adj_Close</th>\n",
              "      <th>Volume</th>\n",
              "    </tr>\n",
              "  </thead>\n",
              "  <tbody>\n",
              "    <tr>\n",
              "      <th>0</th>\n",
              "      <td>1993-01-29</td>\n",
              "      <td>26.706757</td>\n",
              "      <td>1003200</td>\n",
              "    </tr>\n",
              "    <tr>\n",
              "      <th>1</th>\n",
              "      <td>1993-02-01</td>\n",
              "      <td>26.896694</td>\n",
              "      <td>480500</td>\n",
              "    </tr>\n",
              "    <tr>\n",
              "      <th>2</th>\n",
              "      <td>1993-02-02</td>\n",
              "      <td>26.953669</td>\n",
              "      <td>201300</td>\n",
              "    </tr>\n",
              "    <tr>\n",
              "      <th>3</th>\n",
              "      <td>1993-02-03</td>\n",
              "      <td>27.238594</td>\n",
              "      <td>529400</td>\n",
              "    </tr>\n",
              "    <tr>\n",
              "      <th>4</th>\n",
              "      <td>1993-02-04</td>\n",
              "      <td>27.352570</td>\n",
              "      <td>531500</td>\n",
              "    </tr>\n",
              "  </tbody>\n",
              "</table>\n",
              "</div>"
            ],
            "text/plain": [
              "        Date  Adj_Close   Volume\n",
              "0 1993-01-29  26.706757  1003200\n",
              "1 1993-02-01  26.896694   480500\n",
              "2 1993-02-02  26.953669   201300\n",
              "3 1993-02-03  27.238594   529400\n",
              "4 1993-02-04  27.352570   531500"
            ]
          },
          "metadata": {
            "tags": []
          },
          "execution_count": 18
        }
      ]
    },
    {
      "cell_type": "code",
      "metadata": {
        "id": "DXooOjMd-CyW",
        "colab_type": "code",
        "colab": {},
        "outputId": "a86e505e-f392-4dde-de51-beb35c9d6dc8"
      },
      "source": [
        "spy.dtypes"
      ],
      "execution_count": 0,
      "outputs": [
        {
          "output_type": "execute_result",
          "data": {
            "text/plain": [
              "Date         datetime64[ns]\n",
              "Adj_Close           float64\n",
              "Volume                int64\n",
              "dtype: object"
            ]
          },
          "metadata": {
            "tags": []
          },
          "execution_count": 19
        }
      ]
    },
    {
      "cell_type": "code",
      "metadata": {
        "id": "oqImIj9S-CyY",
        "colab_type": "code",
        "colab": {}
      },
      "source": [
        "from sklearn.model_selection import train_test_split"
      ],
      "execution_count": 0,
      "outputs": []
    },
    {
      "cell_type": "code",
      "metadata": {
        "id": "7wKLWYvl-Cya",
        "colab_type": "code",
        "colab": {}
      },
      "source": [
        "spy['Date'] = pd.to_datetime(spy['Date'])\n",
        "spy['Year'] = spy['Date'].dt.year"
      ],
      "execution_count": 0,
      "outputs": []
    },
    {
      "cell_type": "code",
      "metadata": {
        "id": "anqMXSLq-Cyd",
        "colab_type": "code",
        "colab": {},
        "outputId": "e9802324-ec40-4130-f862-31fe898580ae"
      },
      "source": [
        "spy.head()"
      ],
      "execution_count": 0,
      "outputs": [
        {
          "output_type": "execute_result",
          "data": {
            "text/html": [
              "<div>\n",
              "<style scoped>\n",
              "    .dataframe tbody tr th:only-of-type {\n",
              "        vertical-align: middle;\n",
              "    }\n",
              "\n",
              "    .dataframe tbody tr th {\n",
              "        vertical-align: top;\n",
              "    }\n",
              "\n",
              "    .dataframe thead th {\n",
              "        text-align: right;\n",
              "    }\n",
              "</style>\n",
              "<table border=\"1\" class=\"dataframe\">\n",
              "  <thead>\n",
              "    <tr style=\"text-align: right;\">\n",
              "      <th></th>\n",
              "      <th>Date</th>\n",
              "      <th>Adj_Close</th>\n",
              "      <th>Volume</th>\n",
              "      <th>Year</th>\n",
              "    </tr>\n",
              "  </thead>\n",
              "  <tbody>\n",
              "    <tr>\n",
              "      <th>0</th>\n",
              "      <td>1993-01-29</td>\n",
              "      <td>26.706757</td>\n",
              "      <td>1003200</td>\n",
              "      <td>1993</td>\n",
              "    </tr>\n",
              "    <tr>\n",
              "      <th>1</th>\n",
              "      <td>1993-02-01</td>\n",
              "      <td>26.896694</td>\n",
              "      <td>480500</td>\n",
              "      <td>1993</td>\n",
              "    </tr>\n",
              "    <tr>\n",
              "      <th>2</th>\n",
              "      <td>1993-02-02</td>\n",
              "      <td>26.953669</td>\n",
              "      <td>201300</td>\n",
              "      <td>1993</td>\n",
              "    </tr>\n",
              "    <tr>\n",
              "      <th>3</th>\n",
              "      <td>1993-02-03</td>\n",
              "      <td>27.238594</td>\n",
              "      <td>529400</td>\n",
              "      <td>1993</td>\n",
              "    </tr>\n",
              "    <tr>\n",
              "      <th>4</th>\n",
              "      <td>1993-02-04</td>\n",
              "      <td>27.352570</td>\n",
              "      <td>531500</td>\n",
              "      <td>1993</td>\n",
              "    </tr>\n",
              "  </tbody>\n",
              "</table>\n",
              "</div>"
            ],
            "text/plain": [
              "        Date  Adj_Close   Volume  Year\n",
              "0 1993-01-29  26.706757  1003200  1993\n",
              "1 1993-02-01  26.896694   480500  1993\n",
              "2 1993-02-02  26.953669   201300  1993\n",
              "3 1993-02-03  27.238594   529400  1993\n",
              "4 1993-02-04  27.352570   531500  1993"
            ]
          },
          "metadata": {
            "tags": []
          },
          "execution_count": 22
        }
      ]
    },
    {
      "cell_type": "code",
      "metadata": {
        "id": "8UvMftWD-Cyf",
        "colab_type": "code",
        "colab": {},
        "outputId": "876c014b-2370-43cb-95e5-b35af114f754"
      },
      "source": [
        "spy.dtypes"
      ],
      "execution_count": 0,
      "outputs": [
        {
          "output_type": "execute_result",
          "data": {
            "text/plain": [
              "Date         datetime64[ns]\n",
              "Adj_Close           float64\n",
              "Volume                int64\n",
              "Year                  int64\n",
              "dtype: object"
            ]
          },
          "metadata": {
            "tags": []
          },
          "execution_count": 23
        }
      ]
    },
    {
      "cell_type": "markdown",
      "metadata": {
        "id": "5v5j1e_g-Cyh",
        "colab_type": "text"
      },
      "source": [
        "### *NEITHER .ROLLING_MEAN NOR .ROLLING WORK*"
      ]
    },
    {
      "cell_type": "code",
      "metadata": {
        "id": "niZtR2Mz-Cyi",
        "colab_type": "code",
        "colab": {}
      },
      "source": [
        "# spy['SMA'] = spy['Close'].rolling(window = 14, min_periods = 14, axis = 0)"
      ],
      "execution_count": 0,
      "outputs": []
    },
    {
      "cell_type": "code",
      "metadata": {
        "id": "QhBinGM0-Cyk",
        "colab_type": "code",
        "colab": {}
      },
      "source": [
        "# spy['SMA'] = pd.rolling_mean(spy['Close'], min_periods = 14, window = 14)"
      ],
      "execution_count": 0,
      "outputs": []
    },
    {
      "cell_type": "code",
      "metadata": {
        "id": "1y_nSMHJ-Cym",
        "colab_type": "code",
        "colab": {},
        "outputId": "2a987c98-4a27-4236-fecf-4ee082012641"
      },
      "source": [
        "spy.isnull().sum()"
      ],
      "execution_count": 0,
      "outputs": [
        {
          "output_type": "execute_result",
          "data": {
            "text/plain": [
              "Date         0\n",
              "Adj_Close    0\n",
              "Volume       0\n",
              "Year         0\n",
              "dtype: int64"
            ]
          },
          "metadata": {
            "tags": []
          },
          "execution_count": 26
        }
      ]
    },
    {
      "cell_type": "code",
      "metadata": {
        "id": "YhS6sToZ-Cyo",
        "colab_type": "code",
        "colab": {},
        "outputId": "07463364-32f5-424c-d393-fbdc5dfd95a6"
      },
      "source": [
        "spy.head()"
      ],
      "execution_count": 0,
      "outputs": [
        {
          "output_type": "execute_result",
          "data": {
            "text/html": [
              "<div>\n",
              "<style scoped>\n",
              "    .dataframe tbody tr th:only-of-type {\n",
              "        vertical-align: middle;\n",
              "    }\n",
              "\n",
              "    .dataframe tbody tr th {\n",
              "        vertical-align: top;\n",
              "    }\n",
              "\n",
              "    .dataframe thead th {\n",
              "        text-align: right;\n",
              "    }\n",
              "</style>\n",
              "<table border=\"1\" class=\"dataframe\">\n",
              "  <thead>\n",
              "    <tr style=\"text-align: right;\">\n",
              "      <th></th>\n",
              "      <th>Date</th>\n",
              "      <th>Adj_Close</th>\n",
              "      <th>Volume</th>\n",
              "      <th>Year</th>\n",
              "    </tr>\n",
              "  </thead>\n",
              "  <tbody>\n",
              "    <tr>\n",
              "      <th>0</th>\n",
              "      <td>1993-01-29</td>\n",
              "      <td>26.706757</td>\n",
              "      <td>1003200</td>\n",
              "      <td>1993</td>\n",
              "    </tr>\n",
              "    <tr>\n",
              "      <th>1</th>\n",
              "      <td>1993-02-01</td>\n",
              "      <td>26.896694</td>\n",
              "      <td>480500</td>\n",
              "      <td>1993</td>\n",
              "    </tr>\n",
              "    <tr>\n",
              "      <th>2</th>\n",
              "      <td>1993-02-02</td>\n",
              "      <td>26.953669</td>\n",
              "      <td>201300</td>\n",
              "      <td>1993</td>\n",
              "    </tr>\n",
              "    <tr>\n",
              "      <th>3</th>\n",
              "      <td>1993-02-03</td>\n",
              "      <td>27.238594</td>\n",
              "      <td>529400</td>\n",
              "      <td>1993</td>\n",
              "    </tr>\n",
              "    <tr>\n",
              "      <th>4</th>\n",
              "      <td>1993-02-04</td>\n",
              "      <td>27.352570</td>\n",
              "      <td>531500</td>\n",
              "      <td>1993</td>\n",
              "    </tr>\n",
              "  </tbody>\n",
              "</table>\n",
              "</div>"
            ],
            "text/plain": [
              "        Date  Adj_Close   Volume  Year\n",
              "0 1993-01-29  26.706757  1003200  1993\n",
              "1 1993-02-01  26.896694   480500  1993\n",
              "2 1993-02-02  26.953669   201300  1993\n",
              "3 1993-02-03  27.238594   529400  1993\n",
              "4 1993-02-04  27.352570   531500  1993"
            ]
          },
          "metadata": {
            "tags": []
          },
          "execution_count": 27
        }
      ]
    },
    {
      "cell_type": "code",
      "metadata": {
        "id": "4DlL4YVm-Cyr",
        "colab_type": "code",
        "colab": {},
        "outputId": "8e9fed01-be40-4071-b78f-d16988e5cf9b"
      },
      "source": [
        "spy.head()"
      ],
      "execution_count": 0,
      "outputs": [
        {
          "output_type": "execute_result",
          "data": {
            "text/html": [
              "<div>\n",
              "<style scoped>\n",
              "    .dataframe tbody tr th:only-of-type {\n",
              "        vertical-align: middle;\n",
              "    }\n",
              "\n",
              "    .dataframe tbody tr th {\n",
              "        vertical-align: top;\n",
              "    }\n",
              "\n",
              "    .dataframe thead th {\n",
              "        text-align: right;\n",
              "    }\n",
              "</style>\n",
              "<table border=\"1\" class=\"dataframe\">\n",
              "  <thead>\n",
              "    <tr style=\"text-align: right;\">\n",
              "      <th></th>\n",
              "      <th>Date</th>\n",
              "      <th>Adj_Close</th>\n",
              "      <th>Volume</th>\n",
              "      <th>Year</th>\n",
              "    </tr>\n",
              "  </thead>\n",
              "  <tbody>\n",
              "    <tr>\n",
              "      <th>0</th>\n",
              "      <td>1993-01-29</td>\n",
              "      <td>26.706757</td>\n",
              "      <td>1003200</td>\n",
              "      <td>1993</td>\n",
              "    </tr>\n",
              "    <tr>\n",
              "      <th>1</th>\n",
              "      <td>1993-02-01</td>\n",
              "      <td>26.896694</td>\n",
              "      <td>480500</td>\n",
              "      <td>1993</td>\n",
              "    </tr>\n",
              "    <tr>\n",
              "      <th>2</th>\n",
              "      <td>1993-02-02</td>\n",
              "      <td>26.953669</td>\n",
              "      <td>201300</td>\n",
              "      <td>1993</td>\n",
              "    </tr>\n",
              "    <tr>\n",
              "      <th>3</th>\n",
              "      <td>1993-02-03</td>\n",
              "      <td>27.238594</td>\n",
              "      <td>529400</td>\n",
              "      <td>1993</td>\n",
              "    </tr>\n",
              "    <tr>\n",
              "      <th>4</th>\n",
              "      <td>1993-02-04</td>\n",
              "      <td>27.352570</td>\n",
              "      <td>531500</td>\n",
              "      <td>1993</td>\n",
              "    </tr>\n",
              "  </tbody>\n",
              "</table>\n",
              "</div>"
            ],
            "text/plain": [
              "        Date  Adj_Close   Volume  Year\n",
              "0 1993-01-29  26.706757  1003200  1993\n",
              "1 1993-02-01  26.896694   480500  1993\n",
              "2 1993-02-02  26.953669   201300  1993\n",
              "3 1993-02-03  27.238594   529400  1993\n",
              "4 1993-02-04  27.352570   531500  1993"
            ]
          },
          "metadata": {
            "tags": []
          },
          "execution_count": 28
        }
      ]
    },
    {
      "cell_type": "markdown",
      "metadata": {
        "colab_type": "text",
        "id": "Le2HVM1z-Cyv"
      },
      "source": [
        "# Begin with baselines: majority class baseline for classification, or mean baseline for regression, with your metric of choice.\n"
      ]
    },
    {
      "cell_type": "code",
      "metadata": {
        "id": "8Ygs1pQG-Cyw",
        "colab_type": "code",
        "colab": {}
      },
      "source": [
        "spy['SMA'] = spy.Adj_Close.rolling(window=14).mean()"
      ],
      "execution_count": 0,
      "outputs": []
    },
    {
      "cell_type": "code",
      "metadata": {
        "id": "RAz_JgRE-Cyy",
        "colab_type": "code",
        "colab": {},
        "outputId": "b271eadd-ed9e-4048-f6af-a3a1a094b66e"
      },
      "source": [
        "spy.head(14)"
      ],
      "execution_count": 0,
      "outputs": [
        {
          "output_type": "execute_result",
          "data": {
            "text/html": [
              "<div>\n",
              "<style scoped>\n",
              "    .dataframe tbody tr th:only-of-type {\n",
              "        vertical-align: middle;\n",
              "    }\n",
              "\n",
              "    .dataframe tbody tr th {\n",
              "        vertical-align: top;\n",
              "    }\n",
              "\n",
              "    .dataframe thead th {\n",
              "        text-align: right;\n",
              "    }\n",
              "</style>\n",
              "<table border=\"1\" class=\"dataframe\">\n",
              "  <thead>\n",
              "    <tr style=\"text-align: right;\">\n",
              "      <th></th>\n",
              "      <th>Date</th>\n",
              "      <th>Adj_Close</th>\n",
              "      <th>Volume</th>\n",
              "      <th>Year</th>\n",
              "      <th>SMA</th>\n",
              "    </tr>\n",
              "  </thead>\n",
              "  <tbody>\n",
              "    <tr>\n",
              "      <th>0</th>\n",
              "      <td>1993-01-29</td>\n",
              "      <td>26.706757</td>\n",
              "      <td>1003200</td>\n",
              "      <td>1993</td>\n",
              "      <td>NaN</td>\n",
              "    </tr>\n",
              "    <tr>\n",
              "      <th>1</th>\n",
              "      <td>1993-02-01</td>\n",
              "      <td>26.896694</td>\n",
              "      <td>480500</td>\n",
              "      <td>1993</td>\n",
              "      <td>NaN</td>\n",
              "    </tr>\n",
              "    <tr>\n",
              "      <th>2</th>\n",
              "      <td>1993-02-02</td>\n",
              "      <td>26.953669</td>\n",
              "      <td>201300</td>\n",
              "      <td>1993</td>\n",
              "      <td>NaN</td>\n",
              "    </tr>\n",
              "    <tr>\n",
              "      <th>3</th>\n",
              "      <td>1993-02-03</td>\n",
              "      <td>27.238594</td>\n",
              "      <td>529400</td>\n",
              "      <td>1993</td>\n",
              "      <td>NaN</td>\n",
              "    </tr>\n",
              "    <tr>\n",
              "      <th>4</th>\n",
              "      <td>1993-02-04</td>\n",
              "      <td>27.352570</td>\n",
              "      <td>531500</td>\n",
              "      <td>1993</td>\n",
              "      <td>NaN</td>\n",
              "    </tr>\n",
              "    <tr>\n",
              "      <th>5</th>\n",
              "      <td>1993-02-05</td>\n",
              "      <td>27.333586</td>\n",
              "      <td>492100</td>\n",
              "      <td>1993</td>\n",
              "      <td>NaN</td>\n",
              "    </tr>\n",
              "    <tr>\n",
              "      <th>6</th>\n",
              "      <td>1993-02-08</td>\n",
              "      <td>27.333586</td>\n",
              "      <td>596100</td>\n",
              "      <td>1993</td>\n",
              "      <td>NaN</td>\n",
              "    </tr>\n",
              "    <tr>\n",
              "      <th>7</th>\n",
              "      <td>1993-02-09</td>\n",
              "      <td>27.143635</td>\n",
              "      <td>122100</td>\n",
              "      <td>1993</td>\n",
              "      <td>NaN</td>\n",
              "    </tr>\n",
              "    <tr>\n",
              "      <th>8</th>\n",
              "      <td>1993-02-10</td>\n",
              "      <td>27.181616</td>\n",
              "      <td>379600</td>\n",
              "      <td>1993</td>\n",
              "      <td>NaN</td>\n",
              "    </tr>\n",
              "    <tr>\n",
              "      <th>9</th>\n",
              "      <td>1993-02-11</td>\n",
              "      <td>27.314577</td>\n",
              "      <td>19500</td>\n",
              "      <td>1993</td>\n",
              "      <td>NaN</td>\n",
              "    </tr>\n",
              "    <tr>\n",
              "      <th>10</th>\n",
              "      <td>1993-02-12</td>\n",
              "      <td>27.105640</td>\n",
              "      <td>42500</td>\n",
              "      <td>1993</td>\n",
              "      <td>NaN</td>\n",
              "    </tr>\n",
              "    <tr>\n",
              "      <th>11</th>\n",
              "      <td>1993-02-16</td>\n",
              "      <td>26.421825</td>\n",
              "      <td>374800</td>\n",
              "      <td>1993</td>\n",
              "      <td>NaN</td>\n",
              "    </tr>\n",
              "    <tr>\n",
              "      <th>12</th>\n",
              "      <td>1993-02-17</td>\n",
              "      <td>26.402828</td>\n",
              "      <td>210900</td>\n",
              "      <td>1993</td>\n",
              "      <td>NaN</td>\n",
              "    </tr>\n",
              "    <tr>\n",
              "      <th>13</th>\n",
              "      <td>1993-02-18</td>\n",
              "      <td>26.383823</td>\n",
              "      <td>378100</td>\n",
              "      <td>1993</td>\n",
              "      <td>26.983529</td>\n",
              "    </tr>\n",
              "  </tbody>\n",
              "</table>\n",
              "</div>"
            ],
            "text/plain": [
              "         Date  Adj_Close   Volume  Year        SMA\n",
              "0  1993-01-29  26.706757  1003200  1993        NaN\n",
              "1  1993-02-01  26.896694   480500  1993        NaN\n",
              "2  1993-02-02  26.953669   201300  1993        NaN\n",
              "3  1993-02-03  27.238594   529400  1993        NaN\n",
              "4  1993-02-04  27.352570   531500  1993        NaN\n",
              "5  1993-02-05  27.333586   492100  1993        NaN\n",
              "6  1993-02-08  27.333586   596100  1993        NaN\n",
              "7  1993-02-09  27.143635   122100  1993        NaN\n",
              "8  1993-02-10  27.181616   379600  1993        NaN\n",
              "9  1993-02-11  27.314577    19500  1993        NaN\n",
              "10 1993-02-12  27.105640    42500  1993        NaN\n",
              "11 1993-02-16  26.421825   374800  1993        NaN\n",
              "12 1993-02-17  26.402828   210900  1993        NaN\n",
              "13 1993-02-18  26.383823   378100  1993  26.983529"
            ]
          },
          "metadata": {
            "tags": []
          },
          "execution_count": 30
        }
      ]
    },
    {
      "cell_type": "code",
      "metadata": {
        "id": "B9mHUiqI-Cyz",
        "colab_type": "code",
        "colab": {},
        "outputId": "869b4ec8-7c11-41f9-f562-679b358079c7"
      },
      "source": [
        "spy.tail()"
      ],
      "execution_count": 0,
      "outputs": [
        {
          "output_type": "execute_result",
          "data": {
            "text/html": [
              "<div>\n",
              "<style scoped>\n",
              "    .dataframe tbody tr th:only-of-type {\n",
              "        vertical-align: middle;\n",
              "    }\n",
              "\n",
              "    .dataframe tbody tr th {\n",
              "        vertical-align: top;\n",
              "    }\n",
              "\n",
              "    .dataframe thead th {\n",
              "        text-align: right;\n",
              "    }\n",
              "</style>\n",
              "<table border=\"1\" class=\"dataframe\">\n",
              "  <thead>\n",
              "    <tr style=\"text-align: right;\">\n",
              "      <th></th>\n",
              "      <th>Date</th>\n",
              "      <th>Adj_Close</th>\n",
              "      <th>Volume</th>\n",
              "      <th>Year</th>\n",
              "      <th>SMA</th>\n",
              "    </tr>\n",
              "  </thead>\n",
              "  <tbody>\n",
              "    <tr>\n",
              "      <th>6687</th>\n",
              "      <td>2019-08-20</td>\n",
              "      <td>290.089996</td>\n",
              "      <td>51596400</td>\n",
              "      <td>2019</td>\n",
              "      <td>289.480711</td>\n",
              "    </tr>\n",
              "    <tr>\n",
              "      <th>6688</th>\n",
              "      <td>2019-08-21</td>\n",
              "      <td>292.450012</td>\n",
              "      <td>49524700</td>\n",
              "      <td>2019</td>\n",
              "      <td>289.309997</td>\n",
              "    </tr>\n",
              "    <tr>\n",
              "      <th>6689</th>\n",
              "      <td>2019-08-22</td>\n",
              "      <td>292.359985</td>\n",
              "      <td>51666400</td>\n",
              "      <td>2019</td>\n",
              "      <td>289.291425</td>\n",
              "    </tr>\n",
              "    <tr>\n",
              "      <th>6690</th>\n",
              "      <td>2019-08-23</td>\n",
              "      <td>284.850006</td>\n",
              "      <td>149161500</td>\n",
              "      <td>2019</td>\n",
              "      <td>289.364997</td>\n",
              "    </tr>\n",
              "    <tr>\n",
              "      <th>6691</th>\n",
              "      <td>2019-08-26</td>\n",
              "      <td>288.000000</td>\n",
              "      <td>72423800</td>\n",
              "      <td>2019</td>\n",
              "      <td>289.379283</td>\n",
              "    </tr>\n",
              "  </tbody>\n",
              "</table>\n",
              "</div>"
            ],
            "text/plain": [
              "           Date   Adj_Close     Volume  Year         SMA\n",
              "6687 2019-08-20  290.089996   51596400  2019  289.480711\n",
              "6688 2019-08-21  292.450012   49524700  2019  289.309997\n",
              "6689 2019-08-22  292.359985   51666400  2019  289.291425\n",
              "6690 2019-08-23  284.850006  149161500  2019  289.364997\n",
              "6691 2019-08-26  288.000000   72423800  2019  289.379283"
            ]
          },
          "metadata": {
            "tags": []
          },
          "execution_count": 31
        }
      ]
    },
    {
      "cell_type": "code",
      "metadata": {
        "id": "wlgNLTtr-Cy1",
        "colab_type": "code",
        "colab": {},
        "outputId": "90d4b4b5-fe4e-4d4b-ba70-7e2807e333db"
      },
      "source": [
        "spy.isna().sum()"
      ],
      "execution_count": 0,
      "outputs": [
        {
          "output_type": "execute_result",
          "data": {
            "text/plain": [
              "Date          0\n",
              "Adj_Close     0\n",
              "Volume        0\n",
              "Year          0\n",
              "SMA          13\n",
              "dtype: int64"
            ]
          },
          "metadata": {
            "tags": []
          },
          "execution_count": 32
        }
      ]
    },
    {
      "cell_type": "code",
      "metadata": {
        "id": "nQ0W3Kgt-Cy6",
        "colab_type": "code",
        "colab": {},
        "outputId": "962bb372-4bf5-4147-94c2-dfd8796c43ce"
      },
      "source": [
        "spy.dtypes"
      ],
      "execution_count": 0,
      "outputs": [
        {
          "output_type": "execute_result",
          "data": {
            "text/plain": [
              "Date         datetime64[ns]\n",
              "Adj_Close           float64\n",
              "Volume                int64\n",
              "Year                  int64\n",
              "SMA                 float64\n",
              "dtype: object"
            ]
          },
          "metadata": {
            "tags": []
          },
          "execution_count": 33
        }
      ]
    },
    {
      "cell_type": "code",
      "metadata": {
        "id": "UmnfdHjg-Cy8",
        "colab_type": "code",
        "colab": {}
      },
      "source": [
        "# spy['Close_Higher'] = np.where(spy['Close'] > spy['Close'].shift(-1), 'True','False')"
      ],
      "execution_count": 0,
      "outputs": []
    },
    {
      "cell_type": "code",
      "metadata": {
        "id": "Ho3_YUfV-Cy-",
        "colab_type": "code",
        "colab": {}
      },
      "source": [
        "# spy_numeric = ['Close']"
      ],
      "execution_count": 0,
      "outputs": []
    },
    {
      "cell_type": "code",
      "metadata": {
        "id": "oKKZEweh-CzA",
        "colab_type": "code",
        "colab": {}
      },
      "source": [
        "spy['Above_14D_SMA_Yesterday'] = np.where(spy['SMA'].shift(1)>spy['Adj_Close'].shift(1), 0,1)"
      ],
      "execution_count": 0,
      "outputs": []
    },
    {
      "cell_type": "code",
      "metadata": {
        "id": "CigJTXAh-CzC",
        "colab_type": "code",
        "colab": {}
      },
      "source": [
        "# spy['Above_14D_SMA_Yesterday'] = np.where(spy['SMA']>spy['Close'], 'True','False')"
      ],
      "execution_count": 0,
      "outputs": []
    },
    {
      "cell_type": "code",
      "metadata": {
        "scrolled": true,
        "id": "knWWVceR-CzE",
        "colab_type": "code",
        "colab": {},
        "outputId": "6c5a50b0-21e4-49c1-9705-051701b541a6"
      },
      "source": [
        "spy.Above_14D_SMA_Yesterday.value_counts(normalize=True)"
      ],
      "execution_count": 0,
      "outputs": [
        {
          "output_type": "execute_result",
          "data": {
            "text/plain": [
              "1    0.62104\n",
              "0    0.37896\n",
              "Name: Above_14D_SMA_Yesterday, dtype: float64"
            ]
          },
          "metadata": {
            "tags": []
          },
          "execution_count": 38
        }
      ]
    },
    {
      "cell_type": "code",
      "metadata": {
        "id": "NOm5tNIL-CzG",
        "colab_type": "code",
        "colab": {}
      },
      "source": [
        "spy_numeric_diff = spy[['Adj_Close']].diff()[1:]\n",
        "# cond1 = spy_numeric_diff[['Close']] >=0\n",
        "spy['Close_Higher_Than_Yesterday'] = np.insert(np.where(spy_numeric_diff[['Adj_Close']] >=0, '1','0'), 0, np.nan)"
      ],
      "execution_count": 0,
      "outputs": []
    },
    {
      "cell_type": "code",
      "metadata": {
        "id": "C3DIyU94-CzI",
        "colab_type": "code",
        "colab": {},
        "outputId": "f546f84d-5ab2-4268-a490-fb5393d2910e"
      },
      "source": [
        "spy.Close_Higher_Than_Yesterday.value_counts(normalize=True)"
      ],
      "execution_count": 0,
      "outputs": [
        {
          "output_type": "execute_result",
          "data": {
            "text/plain": [
              "1    0.546473\n",
              "0    0.453377\n",
              "n    0.000149\n",
              "Name: Close_Higher_Than_Yesterday, dtype: float64"
            ]
          },
          "metadata": {
            "tags": []
          },
          "execution_count": 40
        }
      ]
    },
    {
      "cell_type": "code",
      "metadata": {
        "id": "rDNXlwUx-CzM",
        "colab_type": "code",
        "colab": {}
      },
      "source": [
        "y_train = spy['Close_Higher_Than_Yesterday']"
      ],
      "execution_count": 0,
      "outputs": []
    },
    {
      "cell_type": "code",
      "metadata": {
        "id": "FWyr0Yyl-CzN",
        "colab_type": "code",
        "colab": {}
      },
      "source": [
        "majority_class = y_train.mode()[0]"
      ],
      "execution_count": 0,
      "outputs": []
    },
    {
      "cell_type": "code",
      "metadata": {
        "id": "iH98CVaV-CzQ",
        "colab_type": "code",
        "colab": {}
      },
      "source": [
        "y_pred = [majority_class]*len(y_train)"
      ],
      "execution_count": 0,
      "outputs": []
    },
    {
      "cell_type": "code",
      "metadata": {
        "id": "O-WBqEqC-CzU",
        "colab_type": "code",
        "colab": {},
        "outputId": "4338f220-0f97-4777-8070-07742a129942"
      },
      "source": [
        "from sklearn.metrics import accuracy_score\n",
        "accuracy_score(y_train, y_pred)"
      ],
      "execution_count": 0,
      "outputs": [
        {
          "output_type": "execute_result",
          "data": {
            "text/plain": [
              "0.5464734010759116"
            ]
          },
          "metadata": {
            "tags": []
          },
          "execution_count": 44
        }
      ]
    },
    {
      "cell_type": "markdown",
      "metadata": {
        "colab_type": "text",
        "id": "QdLb-a_MF5ST"
      },
      "source": [
        "# Begin to clean and explore your data."
      ]
    },
    {
      "cell_type": "markdown",
      "metadata": {
        "id": "_rcGA2lf-CzW",
        "colab_type": "text"
      },
      "source": [
        "### *I BELIEVE THIS IS ALREADY DONE*"
      ]
    },
    {
      "cell_type": "code",
      "metadata": {
        "id": "_3ipwEdt-CzX",
        "colab_type": "code",
        "colab": {}
      },
      "source": [
        "spy_2019 = spy[spy['Year'] == 2019]\n",
        "spy_2018 = spy[spy['Year'] == 2018]\n",
        "spy_2017 = spy[spy['Year'] == 2017]\n",
        "spy_2016 = spy[spy['Year'] == 2016]\n",
        "spy_2015 = spy[spy['Year'] == 2015]\n",
        "spy_2014 = spy[spy['Year'] == 2014]\n",
        "spy_2013 = spy[spy['Year'] == 2013]\n",
        "spy_2012 = spy[spy['Year'] == 2012]\n",
        "spy_2011 = spy[spy['Year'] == 2011]\n",
        "spy_2010 = spy[spy['Year'] == 2010]\n",
        "spy_2009 = spy[spy['Year'] == 2009]\n",
        "spy_2008 = spy[spy['Year'] == 2008]\n",
        "spy_2007 = spy[spy['Year'] == 2007]\n",
        "spy_2006 = spy[spy['Year'] == 2006]\n",
        "spy_2005 = spy[spy['Year'] == 2005]\n",
        "spy_2004 = spy[spy['Year'] == 2004]\n",
        "spy_2003 = spy[spy['Year'] == 2003]\n",
        "spy_2002 = spy[spy['Year'] == 2002]\n",
        "spy_2001 = spy[spy['Year'] == 2001]\n",
        "spy_2000 = spy[spy['Year'] == 2000]\n",
        "spy_1999 = spy[spy['Year'] == 1999]\n",
        "spy_1998 = spy[spy['Year'] == 1998]\n",
        "spy_1997 = spy[spy['Year'] == 1997]\n",
        "spy_1996 = spy[spy['Year'] == 1996]\n",
        "spy_1995 = spy[spy['Year'] == 1995]\n",
        "spy_1994 = spy[spy['Year'] == 1994]\n",
        "spy_1993 = spy[spy['Year'] == 1993]"
      ],
      "execution_count": 0,
      "outputs": []
    },
    {
      "cell_type": "markdown",
      "metadata": {
        "id": "sJWXhTNh-CzY",
        "colab_type": "text"
      },
      "source": [
        "# END ASSIGNMENT 1"
      ]
    },
    {
      "cell_type": "markdown",
      "metadata": {
        "id": "3MhizKkM-CzZ",
        "colab_type": "text"
      },
      "source": [
        "# ASSIGNMENT 2 BELOW"
      ]
    },
    {
      "cell_type": "markdown",
      "metadata": {
        "id": "jL98koh6-CzZ",
        "colab_type": "text"
      },
      "source": [
        "# You need to complete an initial model today, because the rest of the week, we're making model interpretation visualizations."
      ]
    },
    {
      "cell_type": "markdown",
      "metadata": {
        "id": "2Jd09i_5-Cza",
        "colab_type": "text"
      },
      "source": [
        "# Plot the distribution of your target.\n",
        "### Regression problem: Is your target skewed? Then, log-transform it.\n",
        "### Classification: Are your classes imbalanced? Then, don't use just accuracy. And try class_balance parameter in scikit-learn.\n",
        "\n",
        "\n",
        " "
      ]
    },
    {
      "cell_type": "code",
      "metadata": {
        "id": "R1DCvnJQ-Cza",
        "colab_type": "code",
        "colab": {},
        "outputId": "1698363f-2320-48df-871a-5fad49345b3b"
      },
      "source": [
        "spy.tail(25)"
      ],
      "execution_count": 0,
      "outputs": [
        {
          "output_type": "execute_result",
          "data": {
            "text/html": [
              "<div>\n",
              "<style scoped>\n",
              "    .dataframe tbody tr th:only-of-type {\n",
              "        vertical-align: middle;\n",
              "    }\n",
              "\n",
              "    .dataframe tbody tr th {\n",
              "        vertical-align: top;\n",
              "    }\n",
              "\n",
              "    .dataframe thead th {\n",
              "        text-align: right;\n",
              "    }\n",
              "</style>\n",
              "<table border=\"1\" class=\"dataframe\">\n",
              "  <thead>\n",
              "    <tr style=\"text-align: right;\">\n",
              "      <th></th>\n",
              "      <th>Date</th>\n",
              "      <th>Adj_Close</th>\n",
              "      <th>Volume</th>\n",
              "      <th>Year</th>\n",
              "      <th>SMA</th>\n",
              "      <th>Above_14D_SMA_Yesterday</th>\n",
              "      <th>Close_Higher_Than_Yesterday</th>\n",
              "    </tr>\n",
              "  </thead>\n",
              "  <tbody>\n",
              "    <tr>\n",
              "      <th>6667</th>\n",
              "      <td>2019-07-23</td>\n",
              "      <td>300.029999</td>\n",
              "      <td>44564500</td>\n",
              "      <td>2019</td>\n",
              "      <td>298.717139</td>\n",
              "      <td>0</td>\n",
              "      <td>1</td>\n",
              "    </tr>\n",
              "    <tr>\n",
              "      <th>6668</th>\n",
              "      <td>2019-07-24</td>\n",
              "      <td>301.440002</td>\n",
              "      <td>47213200</td>\n",
              "      <td>2019</td>\n",
              "      <td>298.905711</td>\n",
              "      <td>1</td>\n",
              "      <td>1</td>\n",
              "    </tr>\n",
              "    <tr>\n",
              "      <th>6669</th>\n",
              "      <td>2019-07-25</td>\n",
              "      <td>300.000000</td>\n",
              "      <td>55394100</td>\n",
              "      <td>2019</td>\n",
              "      <td>299.015712</td>\n",
              "      <td>1</td>\n",
              "      <td>0</td>\n",
              "    </tr>\n",
              "    <tr>\n",
              "      <th>6670</th>\n",
              "      <td>2019-07-26</td>\n",
              "      <td>302.010010</td>\n",
              "      <td>45084100</td>\n",
              "      <td>2019</td>\n",
              "      <td>299.386427</td>\n",
              "      <td>1</td>\n",
              "      <td>1</td>\n",
              "    </tr>\n",
              "    <tr>\n",
              "      <th>6671</th>\n",
              "      <td>2019-07-29</td>\n",
              "      <td>301.459991</td>\n",
              "      <td>38126500</td>\n",
              "      <td>2019</td>\n",
              "      <td>299.691426</td>\n",
              "      <td>1</td>\n",
              "      <td>0</td>\n",
              "    </tr>\n",
              "    <tr>\n",
              "      <th>6672</th>\n",
              "      <td>2019-07-30</td>\n",
              "      <td>300.720001</td>\n",
              "      <td>45849000</td>\n",
              "      <td>2019</td>\n",
              "      <td>299.842141</td>\n",
              "      <td>1</td>\n",
              "      <td>0</td>\n",
              "    </tr>\n",
              "    <tr>\n",
              "      <th>6673</th>\n",
              "      <td>2019-07-31</td>\n",
              "      <td>297.429993</td>\n",
              "      <td>104245200</td>\n",
              "      <td>2019</td>\n",
              "      <td>299.707855</td>\n",
              "      <td>1</td>\n",
              "      <td>0</td>\n",
              "    </tr>\n",
              "    <tr>\n",
              "      <th>6674</th>\n",
              "      <td>2019-08-01</td>\n",
              "      <td>294.839996</td>\n",
              "      <td>142646600</td>\n",
              "      <td>2019</td>\n",
              "      <td>299.292855</td>\n",
              "      <td>0</td>\n",
              "      <td>0</td>\n",
              "    </tr>\n",
              "    <tr>\n",
              "      <th>6675</th>\n",
              "      <td>2019-08-02</td>\n",
              "      <td>292.619995</td>\n",
              "      <td>116749700</td>\n",
              "      <td>2019</td>\n",
              "      <td>298.712141</td>\n",
              "      <td>0</td>\n",
              "      <td>0</td>\n",
              "    </tr>\n",
              "    <tr>\n",
              "      <th>6676</th>\n",
              "      <td>2019-08-05</td>\n",
              "      <td>283.820007</td>\n",
              "      <td>178745400</td>\n",
              "      <td>2019</td>\n",
              "      <td>297.572141</td>\n",
              "      <td>0</td>\n",
              "      <td>0</td>\n",
              "    </tr>\n",
              "    <tr>\n",
              "      <th>6677</th>\n",
              "      <td>2019-08-06</td>\n",
              "      <td>287.799988</td>\n",
              "      <td>120711700</td>\n",
              "      <td>2019</td>\n",
              "      <td>296.862141</td>\n",
              "      <td>0</td>\n",
              "      <td>1</td>\n",
              "    </tr>\n",
              "    <tr>\n",
              "      <th>6678</th>\n",
              "      <td>2019-08-07</td>\n",
              "      <td>287.970001</td>\n",
              "      <td>140572300</td>\n",
              "      <td>2019</td>\n",
              "      <td>296.086428</td>\n",
              "      <td>0</td>\n",
              "      <td>1</td>\n",
              "    </tr>\n",
              "    <tr>\n",
              "      <th>6679</th>\n",
              "      <td>2019-08-08</td>\n",
              "      <td>293.619995</td>\n",
              "      <td>87713900</td>\n",
              "      <td>2019</td>\n",
              "      <td>295.832855</td>\n",
              "      <td>0</td>\n",
              "      <td>1</td>\n",
              "    </tr>\n",
              "    <tr>\n",
              "      <th>6680</th>\n",
              "      <td>2019-08-09</td>\n",
              "      <td>291.619995</td>\n",
              "      <td>93730000</td>\n",
              "      <td>2019</td>\n",
              "      <td>295.384284</td>\n",
              "      <td>0</td>\n",
              "      <td>0</td>\n",
              "    </tr>\n",
              "    <tr>\n",
              "      <th>6681</th>\n",
              "      <td>2019-08-12</td>\n",
              "      <td>288.070007</td>\n",
              "      <td>62629500</td>\n",
              "      <td>2019</td>\n",
              "      <td>294.529999</td>\n",
              "      <td>0</td>\n",
              "      <td>0</td>\n",
              "    </tr>\n",
              "    <tr>\n",
              "      <th>6682</th>\n",
              "      <td>2019-08-13</td>\n",
              "      <td>292.549988</td>\n",
              "      <td>94299800</td>\n",
              "      <td>2019</td>\n",
              "      <td>293.894998</td>\n",
              "      <td>0</td>\n",
              "      <td>1</td>\n",
              "    </tr>\n",
              "    <tr>\n",
              "      <th>6683</th>\n",
              "      <td>2019-08-14</td>\n",
              "      <td>283.899994</td>\n",
              "      <td>135622100</td>\n",
              "      <td>2019</td>\n",
              "      <td>292.744997</td>\n",
              "      <td>0</td>\n",
              "      <td>0</td>\n",
              "    </tr>\n",
              "    <tr>\n",
              "      <th>6684</th>\n",
              "      <td>2019-08-15</td>\n",
              "      <td>284.649994</td>\n",
              "      <td>99556600</td>\n",
              "      <td>2019</td>\n",
              "      <td>291.504996</td>\n",
              "      <td>0</td>\n",
              "      <td>1</td>\n",
              "    </tr>\n",
              "    <tr>\n",
              "      <th>6685</th>\n",
              "      <td>2019-08-16</td>\n",
              "      <td>288.850006</td>\n",
              "      <td>83018300</td>\n",
              "      <td>2019</td>\n",
              "      <td>290.604283</td>\n",
              "      <td>0</td>\n",
              "      <td>1</td>\n",
              "    </tr>\n",
              "    <tr>\n",
              "      <th>6686</th>\n",
              "      <td>2019-08-19</td>\n",
              "      <td>292.329987</td>\n",
              "      <td>53571800</td>\n",
              "      <td>2019</td>\n",
              "      <td>290.004996</td>\n",
              "      <td>0</td>\n",
              "      <td>1</td>\n",
              "    </tr>\n",
              "    <tr>\n",
              "      <th>6687</th>\n",
              "      <td>2019-08-20</td>\n",
              "      <td>290.089996</td>\n",
              "      <td>51596400</td>\n",
              "      <td>2019</td>\n",
              "      <td>289.480711</td>\n",
              "      <td>1</td>\n",
              "      <td>0</td>\n",
              "    </tr>\n",
              "    <tr>\n",
              "      <th>6688</th>\n",
              "      <td>2019-08-21</td>\n",
              "      <td>292.450012</td>\n",
              "      <td>49524700</td>\n",
              "      <td>2019</td>\n",
              "      <td>289.309997</td>\n",
              "      <td>1</td>\n",
              "      <td>1</td>\n",
              "    </tr>\n",
              "    <tr>\n",
              "      <th>6689</th>\n",
              "      <td>2019-08-22</td>\n",
              "      <td>292.359985</td>\n",
              "      <td>51666400</td>\n",
              "      <td>2019</td>\n",
              "      <td>289.291425</td>\n",
              "      <td>1</td>\n",
              "      <td>0</td>\n",
              "    </tr>\n",
              "    <tr>\n",
              "      <th>6690</th>\n",
              "      <td>2019-08-23</td>\n",
              "      <td>284.850006</td>\n",
              "      <td>149161500</td>\n",
              "      <td>2019</td>\n",
              "      <td>289.364997</td>\n",
              "      <td>1</td>\n",
              "      <td>0</td>\n",
              "    </tr>\n",
              "    <tr>\n",
              "      <th>6691</th>\n",
              "      <td>2019-08-26</td>\n",
              "      <td>288.000000</td>\n",
              "      <td>72423800</td>\n",
              "      <td>2019</td>\n",
              "      <td>289.379283</td>\n",
              "      <td>0</td>\n",
              "      <td>1</td>\n",
              "    </tr>\n",
              "  </tbody>\n",
              "</table>\n",
              "</div>"
            ],
            "text/plain": [
              "           Date   Adj_Close     Volume  Year         SMA  \\\n",
              "6667 2019-07-23  300.029999   44564500  2019  298.717139   \n",
              "6668 2019-07-24  301.440002   47213200  2019  298.905711   \n",
              "6669 2019-07-25  300.000000   55394100  2019  299.015712   \n",
              "6670 2019-07-26  302.010010   45084100  2019  299.386427   \n",
              "6671 2019-07-29  301.459991   38126500  2019  299.691426   \n",
              "6672 2019-07-30  300.720001   45849000  2019  299.842141   \n",
              "6673 2019-07-31  297.429993  104245200  2019  299.707855   \n",
              "6674 2019-08-01  294.839996  142646600  2019  299.292855   \n",
              "6675 2019-08-02  292.619995  116749700  2019  298.712141   \n",
              "6676 2019-08-05  283.820007  178745400  2019  297.572141   \n",
              "6677 2019-08-06  287.799988  120711700  2019  296.862141   \n",
              "6678 2019-08-07  287.970001  140572300  2019  296.086428   \n",
              "6679 2019-08-08  293.619995   87713900  2019  295.832855   \n",
              "6680 2019-08-09  291.619995   93730000  2019  295.384284   \n",
              "6681 2019-08-12  288.070007   62629500  2019  294.529999   \n",
              "6682 2019-08-13  292.549988   94299800  2019  293.894998   \n",
              "6683 2019-08-14  283.899994  135622100  2019  292.744997   \n",
              "6684 2019-08-15  284.649994   99556600  2019  291.504996   \n",
              "6685 2019-08-16  288.850006   83018300  2019  290.604283   \n",
              "6686 2019-08-19  292.329987   53571800  2019  290.004996   \n",
              "6687 2019-08-20  290.089996   51596400  2019  289.480711   \n",
              "6688 2019-08-21  292.450012   49524700  2019  289.309997   \n",
              "6689 2019-08-22  292.359985   51666400  2019  289.291425   \n",
              "6690 2019-08-23  284.850006  149161500  2019  289.364997   \n",
              "6691 2019-08-26  288.000000   72423800  2019  289.379283   \n",
              "\n",
              "      Above_14D_SMA_Yesterday Close_Higher_Than_Yesterday  \n",
              "6667                        0                           1  \n",
              "6668                        1                           1  \n",
              "6669                        1                           0  \n",
              "6670                        1                           1  \n",
              "6671                        1                           0  \n",
              "6672                        1                           0  \n",
              "6673                        1                           0  \n",
              "6674                        0                           0  \n",
              "6675                        0                           0  \n",
              "6676                        0                           0  \n",
              "6677                        0                           1  \n",
              "6678                        0                           1  \n",
              "6679                        0                           1  \n",
              "6680                        0                           0  \n",
              "6681                        0                           0  \n",
              "6682                        0                           1  \n",
              "6683                        0                           0  \n",
              "6684                        0                           1  \n",
              "6685                        0                           1  \n",
              "6686                        0                           1  \n",
              "6687                        1                           0  \n",
              "6688                        1                           1  \n",
              "6689                        1                           0  \n",
              "6690                        1                           0  \n",
              "6691                        0                           1  "
            ]
          },
          "metadata": {
            "tags": []
          },
          "execution_count": 46
        }
      ]
    },
    {
      "cell_type": "code",
      "metadata": {
        "id": "regQtMOR-Czc",
        "colab_type": "code",
        "colab": {},
        "outputId": "4f909993-d9de-45f9-abf9-9a2559e92262"
      },
      "source": [
        "spy_2010_2013 = pd.concat([spy_2010,spy_2011,spy_2012,spy_2013])\n",
        "spy_2010_2013.describe()"
      ],
      "execution_count": 0,
      "outputs": [
        {
          "output_type": "execute_result",
          "data": {
            "text/html": [
              "<div>\n",
              "<style scoped>\n",
              "    .dataframe tbody tr th:only-of-type {\n",
              "        vertical-align: middle;\n",
              "    }\n",
              "\n",
              "    .dataframe tbody tr th {\n",
              "        vertical-align: top;\n",
              "    }\n",
              "\n",
              "    .dataframe thead th {\n",
              "        text-align: right;\n",
              "    }\n",
              "</style>\n",
              "<table border=\"1\" class=\"dataframe\">\n",
              "  <thead>\n",
              "    <tr style=\"text-align: right;\">\n",
              "      <th></th>\n",
              "      <th>Adj_Close</th>\n",
              "      <th>Volume</th>\n",
              "      <th>Year</th>\n",
              "      <th>SMA</th>\n",
              "      <th>Above_14D_SMA_Yesterday</th>\n",
              "    </tr>\n",
              "  </thead>\n",
              "  <tbody>\n",
              "    <tr>\n",
              "      <th>count</th>\n",
              "      <td>1006.000000</td>\n",
              "      <td>1.006000e+03</td>\n",
              "      <td>1006.000000</td>\n",
              "      <td>1006.000000</td>\n",
              "      <td>1006.000000</td>\n",
              "    </tr>\n",
              "    <tr>\n",
              "      <th>mean</th>\n",
              "      <td>117.153569</td>\n",
              "      <td>1.732549e+08</td>\n",
              "      <td>2011.499006</td>\n",
              "      <td>116.692673</td>\n",
              "      <td>0.655070</td>\n",
              "    </tr>\n",
              "    <tr>\n",
              "      <th>std</th>\n",
              "      <td>19.806880</td>\n",
              "      <td>8.381083e+07</td>\n",
              "      <td>1.119479</td>\n",
              "      <td>19.475775</td>\n",
              "      <td>0.475582</td>\n",
              "    </tr>\n",
              "    <tr>\n",
              "      <th>min</th>\n",
              "      <td>85.226967</td>\n",
              "      <td>4.536880e+07</td>\n",
              "      <td>2010.000000</td>\n",
              "      <td>88.523356</td>\n",
              "      <td>0.000000</td>\n",
              "    </tr>\n",
              "    <tr>\n",
              "      <th>25%</th>\n",
              "      <td>100.767940</td>\n",
              "      <td>1.193304e+08</td>\n",
              "      <td>2010.250000</td>\n",
              "      <td>100.621274</td>\n",
              "      <td>0.000000</td>\n",
              "    </tr>\n",
              "    <tr>\n",
              "      <th>50%</th>\n",
              "      <td>113.469593</td>\n",
              "      <td>1.528885e+08</td>\n",
              "      <td>2011.000000</td>\n",
              "      <td>113.022845</td>\n",
              "      <td>1.000000</td>\n",
              "    </tr>\n",
              "    <tr>\n",
              "      <th>75%</th>\n",
              "      <td>127.992760</td>\n",
              "      <td>2.095557e+08</td>\n",
              "      <td>2012.750000</td>\n",
              "      <td>126.698444</td>\n",
              "      <td>1.000000</td>\n",
              "    </tr>\n",
              "    <tr>\n",
              "      <th>max</th>\n",
              "      <td>165.726135</td>\n",
              "      <td>7.178287e+08</td>\n",
              "      <td>2013.000000</td>\n",
              "      <td>162.317449</td>\n",
              "      <td>1.000000</td>\n",
              "    </tr>\n",
              "  </tbody>\n",
              "</table>\n",
              "</div>"
            ],
            "text/plain": [
              "         Adj_Close        Volume         Year          SMA  \\\n",
              "count  1006.000000  1.006000e+03  1006.000000  1006.000000   \n",
              "mean    117.153569  1.732549e+08  2011.499006   116.692673   \n",
              "std      19.806880  8.381083e+07     1.119479    19.475775   \n",
              "min      85.226967  4.536880e+07  2010.000000    88.523356   \n",
              "25%     100.767940  1.193304e+08  2010.250000   100.621274   \n",
              "50%     113.469593  1.528885e+08  2011.000000   113.022845   \n",
              "75%     127.992760  2.095557e+08  2012.750000   126.698444   \n",
              "max     165.726135  7.178287e+08  2013.000000   162.317449   \n",
              "\n",
              "       Above_14D_SMA_Yesterday  \n",
              "count              1006.000000  \n",
              "mean                  0.655070  \n",
              "std                   0.475582  \n",
              "min                   0.000000  \n",
              "25%                   0.000000  \n",
              "50%                   1.000000  \n",
              "75%                   1.000000  \n",
              "max                   1.000000  "
            ]
          },
          "metadata": {
            "tags": []
          },
          "execution_count": 47
        }
      ]
    },
    {
      "cell_type": "code",
      "metadata": {
        "id": "zZLWEsq1-Czd",
        "colab_type": "code",
        "colab": {}
      },
      "source": [
        "target = ['Close_Higher_Than_Yesterday']\n",
        "drop = ['Date','Year']\n",
        "\n",
        "\n",
        "train = spy_2010_2013.drop(columns=drop)\n",
        "test = spy_2017.drop(columns=drop)\n",
        "val = spy_2019.drop(columns=drop)\n",
        "\n",
        "X_val = val.drop(columns=target)\n",
        "y_val = val[target]\n",
        "\n",
        "X_test = test.drop(columns=target)\n",
        "y_test = test[target]\n",
        "\n",
        "X_train = train.drop(columns=target)\n",
        "y_train = train[target]"
      ],
      "execution_count": 0,
      "outputs": []
    },
    {
      "cell_type": "code",
      "metadata": {
        "id": "fLEkEJ_l-Cze",
        "colab_type": "code",
        "colab": {},
        "outputId": "9f263172-8889-4b96-e87d-e7577f01d033"
      },
      "source": [
        "X_test.head()"
      ],
      "execution_count": 0,
      "outputs": [
        {
          "output_type": "execute_result",
          "data": {
            "text/html": [
              "<div>\n",
              "<style scoped>\n",
              "    .dataframe tbody tr th:only-of-type {\n",
              "        vertical-align: middle;\n",
              "    }\n",
              "\n",
              "    .dataframe tbody tr th {\n",
              "        vertical-align: top;\n",
              "    }\n",
              "\n",
              "    .dataframe thead th {\n",
              "        text-align: right;\n",
              "    }\n",
              "</style>\n",
              "<table border=\"1\" class=\"dataframe\">\n",
              "  <thead>\n",
              "    <tr style=\"text-align: right;\">\n",
              "      <th></th>\n",
              "      <th>Adj_Close</th>\n",
              "      <th>Volume</th>\n",
              "      <th>SMA</th>\n",
              "      <th>Above_14D_SMA_Yesterday</th>\n",
              "    </tr>\n",
              "  </thead>\n",
              "  <tbody>\n",
              "    <tr>\n",
              "      <th>6026</th>\n",
              "      <td>214.830276</td>\n",
              "      <td>91366500</td>\n",
              "      <td>214.879511</td>\n",
              "      <td>0</td>\n",
              "    </tr>\n",
              "    <tr>\n",
              "      <th>6027</th>\n",
              "      <td>216.108322</td>\n",
              "      <td>78744400</td>\n",
              "      <td>214.890042</td>\n",
              "      <td>0</td>\n",
              "    </tr>\n",
              "    <tr>\n",
              "      <th>6028</th>\n",
              "      <td>215.936646</td>\n",
              "      <td>78379000</td>\n",
              "      <td>215.015637</td>\n",
              "      <td>1</td>\n",
              "    </tr>\n",
              "    <tr>\n",
              "      <th>6029</th>\n",
              "      <td>216.709229</td>\n",
              "      <td>71559900</td>\n",
              "      <td>215.133430</td>\n",
              "      <td>1</td>\n",
              "    </tr>\n",
              "    <tr>\n",
              "      <th>6030</th>\n",
              "      <td>215.993881</td>\n",
              "      <td>46939700</td>\n",
              "      <td>215.230171</td>\n",
              "      <td>1</td>\n",
              "    </tr>\n",
              "  </tbody>\n",
              "</table>\n",
              "</div>"
            ],
            "text/plain": [
              "       Adj_Close    Volume         SMA  Above_14D_SMA_Yesterday\n",
              "6026  214.830276  91366500  214.879511                        0\n",
              "6027  216.108322  78744400  214.890042                        0\n",
              "6028  215.936646  78379000  215.015637                        1\n",
              "6029  216.709229  71559900  215.133430                        1\n",
              "6030  215.993881  46939700  215.230171                        1"
            ]
          },
          "metadata": {
            "tags": []
          },
          "execution_count": 49
        }
      ]
    },
    {
      "cell_type": "code",
      "metadata": {
        "id": "QR4yqo_A-Czg",
        "colab_type": "code",
        "colab": {}
      },
      "source": [
        "from sklearn.ensemble import RandomForestClassifier\n",
        "from sklearn.pipeline import make_pipeline"
      ],
      "execution_count": 0,
      "outputs": []
    },
    {
      "cell_type": "code",
      "metadata": {
        "id": "N6NyKVdu-Czj",
        "colab_type": "code",
        "colab": {},
        "outputId": "76783fb7-76e9-4202-f021-29d66ad1b6a9"
      },
      "source": [
        "pipeline = make_pipeline(\n",
        "    RandomForestClassifier(n_estimators=100, random_state=42, n_jobs=-1)\n",
        ")\n",
        "\n",
        "pipeline.fit(X_train, y_train)\n",
        "print('Validation Accuracy', pipeline.score(X_val, y_val))"
      ],
      "execution_count": 0,
      "outputs": [
        {
          "output_type": "stream",
          "text": [
            "C:\\Users\\Sarmen\\Anaconda3\\lib\\site-packages\\sklearn\\pipeline.py:267: DataConversionWarning: A column-vector y was passed when a 1d array was expected. Please change the shape of y to (n_samples,), for example using ravel().\n",
            "  self._final_estimator.fit(Xt, y, **fit_params)\n"
          ],
          "name": "stderr"
        },
        {
          "output_type": "stream",
          "text": [
            "Validation Accuracy 0.524390243902439\n"
          ],
          "name": "stdout"
        }
      ]
    },
    {
      "cell_type": "code",
      "metadata": {
        "id": "xhSM-7mg-Czl",
        "colab_type": "code",
        "colab": {},
        "outputId": "d13c1206-3795-40d3-ee58-b4e0fb470867"
      },
      "source": [
        "from sklearn.metrics import confusion_matrix\n",
        "from sklearn.utils.multiclass import unique_labels\n",
        "\n",
        "y_pred = pipeline.predict(X_val)\n",
        "\n",
        "confusion_matrix(y_val, y_pred)"
      ],
      "execution_count": 0,
      "outputs": [
        {
          "output_type": "execute_result",
          "data": {
            "text/plain": [
              "array([[28, 40],\n",
              "       [38, 58]], dtype=int64)"
            ]
          },
          "metadata": {
            "tags": []
          },
          "execution_count": 52
        }
      ]
    },
    {
      "cell_type": "code",
      "metadata": {
        "id": "w476inE9-Czm",
        "colab_type": "code",
        "colab": {},
        "outputId": "654a4b9e-8b48-45c6-d602-2f76216af148"
      },
      "source": [
        "def plot_confusion_matrix(y_true, y_pred):\n",
        "    labels = unique_labels(y_true)\n",
        "    columns = [f'Predicted {label}' for label in labels]\n",
        "    index = [f'Actual {label}' for label in labels]\n",
        "    return columns, index\n",
        "\n",
        "plot_confusion_matrix(y_val, y_pred)"
      ],
      "execution_count": 0,
      "outputs": [
        {
          "output_type": "execute_result",
          "data": {
            "text/plain": [
              "(['Predicted 0', 'Predicted 1'], ['Actual 0', 'Actual 1'])"
            ]
          },
          "metadata": {
            "tags": []
          },
          "execution_count": 53
        }
      ]
    },
    {
      "cell_type": "code",
      "metadata": {
        "id": "6akPx9oN-Czn",
        "colab_type": "code",
        "colab": {},
        "outputId": "5081d72c-79af-49ad-e515-b4d358b2461a"
      },
      "source": [
        "def plot_confusion_matrix(y_true, y_pred):\n",
        "    labels = unique_labels(y_true)\n",
        "    columns = [f'Predicted {label}' for label in labels]\n",
        "    index = [f'Actual {label}' for label in labels]\n",
        "    table = pd.DataFrame(confusion_matrix(y_true, y_pred),\n",
        "                         columns=columns, index=index)\n",
        "    return table\n",
        "\n",
        "plot_confusion_matrix(y_val, y_pred)"
      ],
      "execution_count": 0,
      "outputs": [
        {
          "output_type": "execute_result",
          "data": {
            "text/html": [
              "<div>\n",
              "<style scoped>\n",
              "    .dataframe tbody tr th:only-of-type {\n",
              "        vertical-align: middle;\n",
              "    }\n",
              "\n",
              "    .dataframe tbody tr th {\n",
              "        vertical-align: top;\n",
              "    }\n",
              "\n",
              "    .dataframe thead th {\n",
              "        text-align: right;\n",
              "    }\n",
              "</style>\n",
              "<table border=\"1\" class=\"dataframe\">\n",
              "  <thead>\n",
              "    <tr style=\"text-align: right;\">\n",
              "      <th></th>\n",
              "      <th>Predicted 0</th>\n",
              "      <th>Predicted 1</th>\n",
              "    </tr>\n",
              "  </thead>\n",
              "  <tbody>\n",
              "    <tr>\n",
              "      <th>Actual 0</th>\n",
              "      <td>28</td>\n",
              "      <td>40</td>\n",
              "    </tr>\n",
              "    <tr>\n",
              "      <th>Actual 1</th>\n",
              "      <td>38</td>\n",
              "      <td>58</td>\n",
              "    </tr>\n",
              "  </tbody>\n",
              "</table>\n",
              "</div>"
            ],
            "text/plain": [
              "          Predicted 0  Predicted 1\n",
              "Actual 0           28           40\n",
              "Actual 1           38           58"
            ]
          },
          "metadata": {
            "tags": []
          },
          "execution_count": 54
        }
      ]
    },
    {
      "cell_type": "code",
      "metadata": {
        "id": "XeRX8xRZ-Czq",
        "colab_type": "code",
        "colab": {},
        "outputId": "1474ac1e-e9c6-4e64-bf1a-c09246218900"
      },
      "source": [
        "import seaborn as sns\n",
        "\n",
        "def plot_confusion_matrix(y_true, y_pred):\n",
        "    labels = unique_labels(y_true)\n",
        "    columns = [f'Predicted {label}' for label in labels]\n",
        "    index = [f'Actual {label}' for label in labels]\n",
        "    table = pd.DataFrame(confusion_matrix(y_true, y_pred),\n",
        "                         columns=columns, index=index)\n",
        "    return sns.heatmap(table, annot=True, fmt='d', cmap='viridis')\n",
        "\n",
        "plot_confusion_matrix(y_val, y_pred);"
      ],
      "execution_count": 0,
      "outputs": [
        {
          "output_type": "display_data",
          "data": {
            "image/png": "[encoded data removed]",
            "text/plain": [
              "<Figure size 432x288 with 2 Axes>"
            ]
          },
          "metadata": {
            "tags": [],
            "needs_background": "light"
          }
        }
      ]
    },
    {
      "cell_type": "code",
      "metadata": {
        "id": "Nvug_s5o-Czs",
        "colab_type": "code",
        "colab": {},
        "outputId": "4860b055-0fe0-4089-d256-d34908816334"
      },
      "source": [
        "from sklearn.metrics import classification_report\n",
        "print(classification_report(y_val, y_pred))"
      ],
      "execution_count": 0,
      "outputs": [
        {
          "output_type": "stream",
          "text": [
            "              precision    recall  f1-score   support\n",
            "\n",
            "           0       0.42      0.41      0.42        68\n",
            "           1       0.59      0.60      0.60        96\n",
            "\n",
            "   micro avg       0.52      0.52      0.52       164\n",
            "   macro avg       0.51      0.51      0.51       164\n",
            "weighted avg       0.52      0.52      0.52       164\n",
            "\n"
          ],
          "name": "stdout"
        }
      ]
    },
    {
      "cell_type": "markdown",
      "metadata": {
        "id": "HzTiJm2B-Czt",
        "colab_type": "text"
      },
      "source": [
        "# Continue to clean and explore your data. Make exploratory visualizations."
      ]
    },
    {
      "cell_type": "code",
      "metadata": {
        "id": "Tx1-voND-Czt",
        "colab_type": "code",
        "colab": {}
      },
      "source": [
        "# def RSI"
      ],
      "execution_count": 0,
      "outputs": []
    },
    {
      "cell_type": "code",
      "metadata": {
        "id": "W2Nd0bqd-Czv",
        "colab_type": "code",
        "colab": {}
      },
      "source": [
        "# # dUp= delta[delta > 0]\n",
        "# # dDown= delta[delta < 0]\n",
        "\n",
        "# # dUp = dUp.reindex_like(delta, fill_value=0)\n",
        "# # dDown = dDown.reindex_like(delta, fill_value=0)\n",
        "\n",
        "# # # Get data\n",
        "# # data = pd.DataReader('AAPL', 'yahoo', start, end)\n",
        "# # # Get just the close\n",
        "# # close = data['Adj Close']\n",
        "\n",
        "# Close = spy['Close']\n",
        "\n",
        "# # # Get the difference in price from previous step\n",
        "# # delta = close.diff()\n",
        "\n",
        "# delta = Close.diff()\n",
        "\n",
        "\n",
        "# dUp, dDown = delta.copy(), delta.copy()\n",
        "\n",
        "\n",
        "\n",
        "# # dUp[dUp < 0] = 0\n",
        "# # dDown[dDown > 0] = 0\n",
        "\n",
        "# dUp[dUp < 0] = 0\n",
        "# dDown[dDown > 0] = 0\n",
        "\n",
        "\n",
        "# spy['dUp'] = dUp\n",
        "# spy['dDown'] = dDown.abs()\n",
        "# spy.head()\n",
        "\n",
        "# spy['dUp'] = spy['dUp'].rolling(14)\n",
        "\n",
        "# # RolUp = dUp.rolling(14)\n",
        "# # RolDown = dDown.rolling(14)\n",
        "# # RolDown = RolDown.abs()\n",
        "\n",
        "# # RS = RolUp / RolDown"
      ],
      "execution_count": 0,
      "outputs": []
    },
    {
      "cell_type": "code",
      "metadata": {
        "id": "4xn4CLTE-Czx",
        "colab_type": "code",
        "colab": {},
        "outputId": "7e31e27b-89cc-44d2-a280-f5c05211a3c4"
      },
      "source": [
        "# import pandas.io.data\n",
        "import pandas as pd\n",
        "# import datetime\n",
        "# import matplotlib.pyplot as plt\n",
        "\n",
        "# # Window length for moving average\n",
        "# window_length = 14\n",
        "\n",
        "# # Dates\n",
        "# start = datetime.datetime(2010, 1, 1)\n",
        "# end = datetime.datetime(2013, 1, 27)\n",
        "\n",
        "# # # Get data\n",
        "# # data = pd.DataReader('AAPL', 'yahoo', start, end)\n",
        "# # # Get just the close\n",
        "# # close = data['Adj Close']\n",
        "\n",
        "Close = spy['Adj_Close']\n",
        "\n",
        "# # Get the difference in price from previous step\n",
        "# delta = close.diff()\n",
        "\n",
        "delta = Close.diff()\n",
        "\n",
        "# # Get rid of the first row, which is NaN since it did not have a previous \n",
        "# # row to calculate the differences\n",
        "delta = delta[1:] \n",
        "\n",
        "# # Make the positive gains (up) and negative gains (down) Series\n",
        "up, down = delta.copy(), delta.copy()\n",
        "up[up < 0] = 0\n",
        "down[down > 0] = 0\n",
        "\n",
        "# # Calculate the EWMA\n",
        "# roll_up1 = pandas.stats.moments.ewma(up, window_length)\n",
        "# roll_down1 = pandas.stats.moments.ewma(down.abs(), window_length)\n",
        "\n",
        "# roll_up1 = up.ewm(14)\n",
        "# roll_down1 = down.ewm(14)\n",
        "\n",
        "# roll_up1,roll_down1\n",
        "\n",
        "spy['Roll_Up'] = up\n",
        "spy['Roll_Down'] = down.abs()\n",
        "\n",
        "spy['Roll_Up'] = spy['Roll_Up'].ewm(com=14).mean()\n",
        "spy['Roll_Down'] = spy['Roll_Down'].ewm(com=14).mean()\n",
        "\n",
        "# spy.tail()\n",
        "\n",
        "# # Calculate the RSI based on EWMA\n",
        "# RS1 = roll_up1 / roll_down1\n",
        "# RSI1 = 100.0 - (100.0 / (1.0 + RS1))\n",
        "\n",
        "RS1 = spy['Roll_Up'] / spy['Roll_Down']\n",
        "RSI1 = 100.0 - (100.0 / (1.0 + RS1))\n",
        "\n",
        "spy['RSI'] = RSI1\n",
        "# spy.tail()\n",
        "\n",
        "# # Calculate the SMA\n",
        "# roll_up2 = pandas.rolling_mean(up, window_length)\n",
        "# roll_down2 = pandas.rolling_mean(down.abs(), window_length)\n",
        "\n",
        "# # Calculate the RSI based on SMA\n",
        "# RS2 = roll_up2 / roll_down2\n",
        "# RSI2 = 100.0 - (100.0 / (1.0 + RS2))\n",
        "\n",
        "# # Compare graphically\n",
        "# plt.figure()\n",
        "# RSI1.plot()\n",
        "# RSI2.plot()\n",
        "# plt.legend(['RSI via EWMA', 'RSI via SMA'])\n",
        "# plt.show()\n",
        "# up.head()\n",
        "\n",
        "spy.tail()"
      ],
      "execution_count": 0,
      "outputs": [
        {
          "output_type": "execute_result",
          "data": {
            "text/html": [
              "<div>\n",
              "<style scoped>\n",
              "    .dataframe tbody tr th:only-of-type {\n",
              "        vertical-align: middle;\n",
              "    }\n",
              "\n",
              "    .dataframe tbody tr th {\n",
              "        vertical-align: top;\n",
              "    }\n",
              "\n",
              "    .dataframe thead th {\n",
              "        text-align: right;\n",
              "    }\n",
              "</style>\n",
              "<table border=\"1\" class=\"dataframe\">\n",
              "  <thead>\n",
              "    <tr style=\"text-align: right;\">\n",
              "      <th></th>\n",
              "      <th>Date</th>\n",
              "      <th>Adj_Close</th>\n",
              "      <th>Volume</th>\n",
              "      <th>Year</th>\n",
              "      <th>SMA</th>\n",
              "      <th>Above_14D_SMA_Yesterday</th>\n",
              "      <th>Close_Higher_Than_Yesterday</th>\n",
              "      <th>Roll_Up</th>\n",
              "      <th>Roll_Down</th>\n",
              "      <th>RSI</th>\n",
              "    </tr>\n",
              "  </thead>\n",
              "  <tbody>\n",
              "    <tr>\n",
              "      <th>6687</th>\n",
              "      <td>2019-08-20</td>\n",
              "      <td>290.089996</td>\n",
              "      <td>51596400</td>\n",
              "      <td>2019</td>\n",
              "      <td>289.480711</td>\n",
              "      <td>1</td>\n",
              "      <td>0</td>\n",
              "      <td>1.350305</td>\n",
              "      <td>1.501479</td>\n",
              "      <td>47.349492</td>\n",
              "    </tr>\n",
              "    <tr>\n",
              "      <th>6688</th>\n",
              "      <td>2019-08-21</td>\n",
              "      <td>292.450012</td>\n",
              "      <td>49524700</td>\n",
              "      <td>2019</td>\n",
              "      <td>289.309997</td>\n",
              "      <td>1</td>\n",
              "      <td>1</td>\n",
              "      <td>1.417619</td>\n",
              "      <td>1.401380</td>\n",
              "      <td>50.288029</td>\n",
              "    </tr>\n",
              "    <tr>\n",
              "      <th>6689</th>\n",
              "      <td>2019-08-22</td>\n",
              "      <td>292.359985</td>\n",
              "      <td>51666400</td>\n",
              "      <td>2019</td>\n",
              "      <td>289.291425</td>\n",
              "      <td>1</td>\n",
              "      <td>0</td>\n",
              "      <td>1.323111</td>\n",
              "      <td>1.313957</td>\n",
              "      <td>50.173577</td>\n",
              "    </tr>\n",
              "    <tr>\n",
              "      <th>6690</th>\n",
              "      <td>2019-08-23</td>\n",
              "      <td>284.850006</td>\n",
              "      <td>149161500</td>\n",
              "      <td>2019</td>\n",
              "      <td>289.364997</td>\n",
              "      <td>1</td>\n",
              "      <td>0</td>\n",
              "      <td>1.234904</td>\n",
              "      <td>1.727025</td>\n",
              "      <td>41.692561</td>\n",
              "    </tr>\n",
              "    <tr>\n",
              "      <th>6691</th>\n",
              "      <td>2019-08-26</td>\n",
              "      <td>288.000000</td>\n",
              "      <td>72423800</td>\n",
              "      <td>2019</td>\n",
              "      <td>289.379283</td>\n",
              "      <td>0</td>\n",
              "      <td>1</td>\n",
              "      <td>1.362577</td>\n",
              "      <td>1.611890</td>\n",
              "      <td>45.809110</td>\n",
              "    </tr>\n",
              "  </tbody>\n",
              "</table>\n",
              "</div>"
            ],
            "text/plain": [
              "           Date   Adj_Close     Volume  Year         SMA  \\\n",
              "6687 2019-08-20  290.089996   51596400  2019  289.480711   \n",
              "6688 2019-08-21  292.450012   49524700  2019  289.309997   \n",
              "6689 2019-08-22  292.359985   51666400  2019  289.291425   \n",
              "6690 2019-08-23  284.850006  149161500  2019  289.364997   \n",
              "6691 2019-08-26  288.000000   72423800  2019  289.379283   \n",
              "\n",
              "      Above_14D_SMA_Yesterday Close_Higher_Than_Yesterday   Roll_Up  \\\n",
              "6687                        1                           0  1.350305   \n",
              "6688                        1                           1  1.417619   \n",
              "6689                        1                           0  1.323111   \n",
              "6690                        1                           0  1.234904   \n",
              "6691                        0                           1  1.362577   \n",
              "\n",
              "      Roll_Down        RSI  \n",
              "6687   1.501479  47.349492  \n",
              "6688   1.401380  50.288029  \n",
              "6689   1.313957  50.173577  \n",
              "6690   1.727025  41.692561  \n",
              "6691   1.611890  45.809110  "
            ]
          },
          "metadata": {
            "tags": []
          },
          "execution_count": 59
        }
      ]
    },
    {
      "cell_type": "code",
      "metadata": {
        "id": "vGgp7QzA-Czy",
        "colab_type": "code",
        "colab": {}
      },
      "source": [
        "spy['Overbought_Yesterday'] = spy['RSI'].shift(1) > 60.0\n",
        "spy['Oversold_Yesterday'] = spy['RSI'].shift(1) < 40.0"
      ],
      "execution_count": 0,
      "outputs": []
    },
    {
      "cell_type": "code",
      "metadata": {
        "id": "ka9hxfHM-Cz0",
        "colab_type": "code",
        "colab": {}
      },
      "source": [
        "spy['Overbought_Yesterday'].replace(to_replace=False,value=0, inplace=True)\n",
        "spy['Oversold_Yesterday'].replace(to_replace=False,value=0, inplace=True)"
      ],
      "execution_count": 0,
      "outputs": []
    },
    {
      "cell_type": "code",
      "metadata": {
        "scrolled": true,
        "id": "ca9xOwqp-Cz2",
        "colab_type": "code",
        "colab": {},
        "outputId": "fc373c84-94c1-4c82-d315-7ea2e713844f"
      },
      "source": [
        "spy.head()"
      ],
      "execution_count": 0,
      "outputs": [
        {
          "output_type": "execute_result",
          "data": {
            "text/html": [
              "<div>\n",
              "<style scoped>\n",
              "    .dataframe tbody tr th:only-of-type {\n",
              "        vertical-align: middle;\n",
              "    }\n",
              "\n",
              "    .dataframe tbody tr th {\n",
              "        vertical-align: top;\n",
              "    }\n",
              "\n",
              "    .dataframe thead th {\n",
              "        text-align: right;\n",
              "    }\n",
              "</style>\n",
              "<table border=\"1\" class=\"dataframe\">\n",
              "  <thead>\n",
              "    <tr style=\"text-align: right;\">\n",
              "      <th></th>\n",
              "      <th>Date</th>\n",
              "      <th>Adj_Close</th>\n",
              "      <th>Volume</th>\n",
              "      <th>Year</th>\n",
              "      <th>SMA</th>\n",
              "      <th>Above_14D_SMA_Yesterday</th>\n",
              "      <th>Close_Higher_Than_Yesterday</th>\n",
              "      <th>Roll_Up</th>\n",
              "      <th>Roll_Down</th>\n",
              "      <th>RSI</th>\n",
              "      <th>Overbought_Yesterday</th>\n",
              "      <th>Oversold_Yesterday</th>\n",
              "    </tr>\n",
              "  </thead>\n",
              "  <tbody>\n",
              "    <tr>\n",
              "      <th>0</th>\n",
              "      <td>1993-01-29</td>\n",
              "      <td>26.706757</td>\n",
              "      <td>1003200</td>\n",
              "      <td>1993</td>\n",
              "      <td>NaN</td>\n",
              "      <td>1</td>\n",
              "      <td>n</td>\n",
              "      <td>NaN</td>\n",
              "      <td>NaN</td>\n",
              "      <td>NaN</td>\n",
              "      <td>0.0</td>\n",
              "      <td>0.0</td>\n",
              "    </tr>\n",
              "    <tr>\n",
              "      <th>1</th>\n",
              "      <td>1993-02-01</td>\n",
              "      <td>26.896694</td>\n",
              "      <td>480500</td>\n",
              "      <td>1993</td>\n",
              "      <td>NaN</td>\n",
              "      <td>1</td>\n",
              "      <td>1</td>\n",
              "      <td>0.189937</td>\n",
              "      <td>0.0</td>\n",
              "      <td>100.0</td>\n",
              "      <td>0.0</td>\n",
              "      <td>0.0</td>\n",
              "    </tr>\n",
              "    <tr>\n",
              "      <th>2</th>\n",
              "      <td>1993-02-02</td>\n",
              "      <td>26.953669</td>\n",
              "      <td>201300</td>\n",
              "      <td>1993</td>\n",
              "      <td>NaN</td>\n",
              "      <td>1</td>\n",
              "      <td>1</td>\n",
              "      <td>0.121164</td>\n",
              "      <td>0.0</td>\n",
              "      <td>100.0</td>\n",
              "      <td>1.0</td>\n",
              "      <td>0.0</td>\n",
              "    </tr>\n",
              "    <tr>\n",
              "      <th>3</th>\n",
              "      <td>1993-02-03</td>\n",
              "      <td>27.238594</td>\n",
              "      <td>529400</td>\n",
              "      <td>1993</td>\n",
              "      <td>NaN</td>\n",
              "      <td>1</td>\n",
              "      <td>1</td>\n",
              "      <td>0.179557</td>\n",
              "      <td>0.0</td>\n",
              "      <td>100.0</td>\n",
              "      <td>1.0</td>\n",
              "      <td>0.0</td>\n",
              "    </tr>\n",
              "    <tr>\n",
              "      <th>4</th>\n",
              "      <td>1993-02-04</td>\n",
              "      <td>27.352570</td>\n",
              "      <td>531500</td>\n",
              "      <td>1993</td>\n",
              "      <td>NaN</td>\n",
              "      <td>1</td>\n",
              "      <td>1</td>\n",
              "      <td>0.161428</td>\n",
              "      <td>0.0</td>\n",
              "      <td>100.0</td>\n",
              "      <td>1.0</td>\n",
              "      <td>0.0</td>\n",
              "    </tr>\n",
              "  </tbody>\n",
              "</table>\n",
              "</div>"
            ],
            "text/plain": [
              "        Date  Adj_Close   Volume  Year  SMA  Above_14D_SMA_Yesterday  \\\n",
              "0 1993-01-29  26.706757  1003200  1993  NaN                        1   \n",
              "1 1993-02-01  26.896694   480500  1993  NaN                        1   \n",
              "2 1993-02-02  26.953669   201300  1993  NaN                        1   \n",
              "3 1993-02-03  27.238594   529400  1993  NaN                        1   \n",
              "4 1993-02-04  27.352570   531500  1993  NaN                        1   \n",
              "\n",
              "  Close_Higher_Than_Yesterday   Roll_Up  Roll_Down    RSI  \\\n",
              "0                           n       NaN        NaN    NaN   \n",
              "1                           1  0.189937        0.0  100.0   \n",
              "2                           1  0.121164        0.0  100.0   \n",
              "3                           1  0.179557        0.0  100.0   \n",
              "4                           1  0.161428        0.0  100.0   \n",
              "\n",
              "   Overbought_Yesterday  Oversold_Yesterday  \n",
              "0                   0.0                 0.0  \n",
              "1                   0.0                 0.0  \n",
              "2                   1.0                 0.0  \n",
              "3                   1.0                 0.0  \n",
              "4                   1.0                 0.0  "
            ]
          },
          "metadata": {
            "tags": []
          },
          "execution_count": 62
        }
      ]
    },
    {
      "cell_type": "code",
      "metadata": {
        "id": "8TVpwe0A-Cz4",
        "colab_type": "code",
        "colab": {}
      },
      "source": [
        "spy['Oversold_And_Under_14D_SMA_Yesterday'] = ((spy['Overbought_Yesterday'] ==1) & (spy['Above_14D_SMA_Yesterday'] == 0))"
      ],
      "execution_count": 0,
      "outputs": []
    },
    {
      "cell_type": "code",
      "metadata": {
        "id": "qjsiAhQj-Cz5",
        "colab_type": "code",
        "colab": {}
      },
      "source": [
        "spy['Oversold_And_Under_14D_SMA_Yesterday'].replace(to_replace=False,value=0, inplace=True)"
      ],
      "execution_count": 0,
      "outputs": []
    },
    {
      "cell_type": "code",
      "metadata": {
        "id": "jghdF7SK-Cz7",
        "colab_type": "code",
        "colab": {},
        "outputId": "e90787be-fa15-4af9-f754-9202c2fb4dd3"
      },
      "source": [
        "spy.head()"
      ],
      "execution_count": 0,
      "outputs": [
        {
          "output_type": "execute_result",
          "data": {
            "text/html": [
              "<div>\n",
              "<style scoped>\n",
              "    .dataframe tbody tr th:only-of-type {\n",
              "        vertical-align: middle;\n",
              "    }\n",
              "\n",
              "    .dataframe tbody tr th {\n",
              "        vertical-align: top;\n",
              "    }\n",
              "\n",
              "    .dataframe thead th {\n",
              "        text-align: right;\n",
              "    }\n",
              "</style>\n",
              "<table border=\"1\" class=\"dataframe\">\n",
              "  <thead>\n",
              "    <tr style=\"text-align: right;\">\n",
              "      <th></th>\n",
              "      <th>Date</th>\n",
              "      <th>Adj_Close</th>\n",
              "      <th>Volume</th>\n",
              "      <th>Year</th>\n",
              "      <th>SMA</th>\n",
              "      <th>Above_14D_SMA_Yesterday</th>\n",
              "      <th>Close_Higher_Than_Yesterday</th>\n",
              "      <th>Roll_Up</th>\n",
              "      <th>Roll_Down</th>\n",
              "      <th>RSI</th>\n",
              "      <th>Overbought_Yesterday</th>\n",
              "      <th>Oversold_Yesterday</th>\n",
              "      <th>Oversold_And_Under_14D_SMA_Yesterday</th>\n",
              "    </tr>\n",
              "  </thead>\n",
              "  <tbody>\n",
              "    <tr>\n",
              "      <th>0</th>\n",
              "      <td>1993-01-29</td>\n",
              "      <td>26.706757</td>\n",
              "      <td>1003200</td>\n",
              "      <td>1993</td>\n",
              "      <td>NaN</td>\n",
              "      <td>1</td>\n",
              "      <td>n</td>\n",
              "      <td>NaN</td>\n",
              "      <td>NaN</td>\n",
              "      <td>NaN</td>\n",
              "      <td>0.0</td>\n",
              "      <td>0.0</td>\n",
              "      <td>0.0</td>\n",
              "    </tr>\n",
              "    <tr>\n",
              "      <th>1</th>\n",
              "      <td>1993-02-01</td>\n",
              "      <td>26.896694</td>\n",
              "      <td>480500</td>\n",
              "      <td>1993</td>\n",
              "      <td>NaN</td>\n",
              "      <td>1</td>\n",
              "      <td>1</td>\n",
              "      <td>0.189937</td>\n",
              "      <td>0.0</td>\n",
              "      <td>100.0</td>\n",
              "      <td>0.0</td>\n",
              "      <td>0.0</td>\n",
              "      <td>0.0</td>\n",
              "    </tr>\n",
              "    <tr>\n",
              "      <th>2</th>\n",
              "      <td>1993-02-02</td>\n",
              "      <td>26.953669</td>\n",
              "      <td>201300</td>\n",
              "      <td>1993</td>\n",
              "      <td>NaN</td>\n",
              "      <td>1</td>\n",
              "      <td>1</td>\n",
              "      <td>0.121164</td>\n",
              "      <td>0.0</td>\n",
              "      <td>100.0</td>\n",
              "      <td>1.0</td>\n",
              "      <td>0.0</td>\n",
              "      <td>0.0</td>\n",
              "    </tr>\n",
              "    <tr>\n",
              "      <th>3</th>\n",
              "      <td>1993-02-03</td>\n",
              "      <td>27.238594</td>\n",
              "      <td>529400</td>\n",
              "      <td>1993</td>\n",
              "      <td>NaN</td>\n",
              "      <td>1</td>\n",
              "      <td>1</td>\n",
              "      <td>0.179557</td>\n",
              "      <td>0.0</td>\n",
              "      <td>100.0</td>\n",
              "      <td>1.0</td>\n",
              "      <td>0.0</td>\n",
              "      <td>0.0</td>\n",
              "    </tr>\n",
              "    <tr>\n",
              "      <th>4</th>\n",
              "      <td>1993-02-04</td>\n",
              "      <td>27.352570</td>\n",
              "      <td>531500</td>\n",
              "      <td>1993</td>\n",
              "      <td>NaN</td>\n",
              "      <td>1</td>\n",
              "      <td>1</td>\n",
              "      <td>0.161428</td>\n",
              "      <td>0.0</td>\n",
              "      <td>100.0</td>\n",
              "      <td>1.0</td>\n",
              "      <td>0.0</td>\n",
              "      <td>0.0</td>\n",
              "    </tr>\n",
              "  </tbody>\n",
              "</table>\n",
              "</div>"
            ],
            "text/plain": [
              "        Date  Adj_Close   Volume  Year  SMA  Above_14D_SMA_Yesterday  \\\n",
              "0 1993-01-29  26.706757  1003200  1993  NaN                        1   \n",
              "1 1993-02-01  26.896694   480500  1993  NaN                        1   \n",
              "2 1993-02-02  26.953669   201300  1993  NaN                        1   \n",
              "3 1993-02-03  27.238594   529400  1993  NaN                        1   \n",
              "4 1993-02-04  27.352570   531500  1993  NaN                        1   \n",
              "\n",
              "  Close_Higher_Than_Yesterday   Roll_Up  Roll_Down    RSI  \\\n",
              "0                           n       NaN        NaN    NaN   \n",
              "1                           1  0.189937        0.0  100.0   \n",
              "2                           1  0.121164        0.0  100.0   \n",
              "3                           1  0.179557        0.0  100.0   \n",
              "4                           1  0.161428        0.0  100.0   \n",
              "\n",
              "   Overbought_Yesterday  Oversold_Yesterday  \\\n",
              "0                   0.0                 0.0   \n",
              "1                   0.0                 0.0   \n",
              "2                   1.0                 0.0   \n",
              "3                   1.0                 0.0   \n",
              "4                   1.0                 0.0   \n",
              "\n",
              "   Oversold_And_Under_14D_SMA_Yesterday  \n",
              "0                                   0.0  \n",
              "1                                   0.0  \n",
              "2                                   0.0  \n",
              "3                                   0.0  \n",
              "4                                   0.0  "
            ]
          },
          "metadata": {
            "tags": []
          },
          "execution_count": 65
        }
      ]
    },
    {
      "cell_type": "code",
      "metadata": {
        "id": "lasTkd5h-Cz9",
        "colab_type": "code",
        "colab": {}
      },
      "source": [
        "# delta.head()"
      ],
      "execution_count": 0,
      "outputs": []
    },
    {
      "cell_type": "code",
      "metadata": {
        "id": "WDSWMWRa-Cz-",
        "colab_type": "code",
        "colab": {}
      },
      "source": [
        "# spy.head()"
      ],
      "execution_count": 0,
      "outputs": []
    },
    {
      "cell_type": "code",
      "metadata": {
        "id": "ESA63Aot-Cz_",
        "colab_type": "code",
        "colab": {},
        "outputId": "80e7247b-18ee-4c9e-f609-2906e467edb5"
      },
      "source": [
        "spy.Oversold_And_Under_14D_SMA_Yesterday.value_counts()"
      ],
      "execution_count": 0,
      "outputs": [
        {
          "output_type": "execute_result",
          "data": {
            "text/plain": [
              "0.0    6666\n",
              "1.0      26\n",
              "Name: Oversold_And_Under_14D_SMA_Yesterday, dtype: int64"
            ]
          },
          "metadata": {
            "tags": []
          },
          "execution_count": 68
        }
      ]
    },
    {
      "cell_type": "code",
      "metadata": {
        "id": "-h2yrKam-C0B",
        "colab_type": "code",
        "colab": {}
      },
      "source": [
        ""
      ],
      "execution_count": 0,
      "outputs": []
    },
    {
      "cell_type": "code",
      "metadata": {
        "id": "Ulxy3KzE-C0C",
        "colab_type": "code",
        "colab": {}
      },
      "source": [
        "spy_2019 = spy[spy['Year'] == 2019]\n",
        "spy_2018 = spy[spy['Year'] == 2018]\n",
        "spy_2017 = spy[spy['Year'] == 2017]\n",
        "spy_2016 = spy[spy['Year'] == 2016]\n",
        "spy_2015 = spy[spy['Year'] == 2015]\n",
        "spy_2014 = spy[spy['Year'] == 2014]\n",
        "spy_2013 = spy[spy['Year'] == 2013]\n",
        "spy_2012 = spy[spy['Year'] == 2012]\n",
        "spy_2011 = spy[spy['Year'] == 2011]\n",
        "spy_2010 = spy[spy['Year'] == 2010]\n",
        "spy_2009 = spy[spy['Year'] == 2009]\n",
        "spy_2008 = spy[spy['Year'] == 2008]\n",
        "spy_2007 = spy[spy['Year'] == 2007]\n",
        "spy_2006 = spy[spy['Year'] == 2006]\n",
        "spy_2005 = spy[spy['Year'] == 2005]\n",
        "spy_2004 = spy[spy['Year'] == 2004]\n",
        "spy_2003 = spy[spy['Year'] == 2003]\n",
        "spy_2002 = spy[spy['Year'] == 2002]\n",
        "spy_2001 = spy[spy['Year'] == 2001]\n",
        "spy_2000 = spy[spy['Year'] == 2000]\n",
        "spy_1999 = spy[spy['Year'] == 1999]\n",
        "spy_1998 = spy[spy['Year'] == 1998]\n",
        "spy_1997 = spy[spy['Year'] == 1997]\n",
        "spy_1996 = spy[spy['Year'] == 1996]\n",
        "spy_1995 = spy[spy['Year'] == 1995]\n",
        "spy_1994 = spy[spy['Year'] == 1994]\n",
        "spy_1993 = spy[spy['Year'] == 1993]"
      ],
      "execution_count": 0,
      "outputs": []
    },
    {
      "cell_type": "code",
      "metadata": {
        "id": "vTKb2mn1-C0D",
        "colab_type": "code",
        "colab": {}
      },
      "source": [
        "spy_1994_2013 = spy[(spy['Year'] >= 1994) & (spy['Year'] <=2013)]"
      ],
      "execution_count": 0,
      "outputs": []
    },
    {
      "cell_type": "code",
      "metadata": {
        "id": "gc4lwIEj-C0F",
        "colab_type": "code",
        "colab": {},
        "outputId": "79639a62-bc2a-441f-b879-ee92947742d0"
      },
      "source": [
        "spy_2010_2013 = pd.concat([spy_2010,spy_2011,spy_2012,spy_2013])\n",
        "spy_2010_2013.head()"
      ],
      "execution_count": 0,
      "outputs": [
        {
          "output_type": "execute_result",
          "data": {
            "text/html": [
              "<div>\n",
              "<style scoped>\n",
              "    .dataframe tbody tr th:only-of-type {\n",
              "        vertical-align: middle;\n",
              "    }\n",
              "\n",
              "    .dataframe tbody tr th {\n",
              "        vertical-align: top;\n",
              "    }\n",
              "\n",
              "    .dataframe thead th {\n",
              "        text-align: right;\n",
              "    }\n",
              "</style>\n",
              "<table border=\"1\" class=\"dataframe\">\n",
              "  <thead>\n",
              "    <tr style=\"text-align: right;\">\n",
              "      <th></th>\n",
              "      <th>Date</th>\n",
              "      <th>Adj_Close</th>\n",
              "      <th>Volume</th>\n",
              "      <th>Year</th>\n",
              "      <th>SMA</th>\n",
              "      <th>Above_14D_SMA_Yesterday</th>\n",
              "      <th>Close_Higher_Than_Yesterday</th>\n",
              "      <th>Roll_Up</th>\n",
              "      <th>Roll_Down</th>\n",
              "      <th>RSI</th>\n",
              "      <th>Overbought_Yesterday</th>\n",
              "      <th>Oversold_Yesterday</th>\n",
              "      <th>Oversold_And_Under_14D_SMA_Yesterday</th>\n",
              "    </tr>\n",
              "  </thead>\n",
              "  <tbody>\n",
              "    <tr>\n",
              "      <th>4264</th>\n",
              "      <td>2010-01-04</td>\n",
              "      <td>93.675278</td>\n",
              "      <td>118944600</td>\n",
              "      <td>2010</td>\n",
              "      <td>92.269357</td>\n",
              "      <td>1</td>\n",
              "      <td>1</td>\n",
              "      <td>0.368288</td>\n",
              "      <td>0.218026</td>\n",
              "      <td>62.814054</td>\n",
              "      <td>0.0</td>\n",
              "      <td>0.0</td>\n",
              "      <td>0.0</td>\n",
              "    </tr>\n",
              "    <tr>\n",
              "      <th>4265</th>\n",
              "      <td>2010-01-05</td>\n",
              "      <td>93.923241</td>\n",
              "      <td>111579900</td>\n",
              "      <td>2010</td>\n",
              "      <td>92.408639</td>\n",
              "      <td>1</td>\n",
              "      <td>1</td>\n",
              "      <td>0.360266</td>\n",
              "      <td>0.203491</td>\n",
              "      <td>63.904444</td>\n",
              "      <td>1.0</td>\n",
              "      <td>0.0</td>\n",
              "      <td>0.0</td>\n",
              "    </tr>\n",
              "    <tr>\n",
              "      <th>4266</th>\n",
              "      <td>2010-01-06</td>\n",
              "      <td>93.989357</td>\n",
              "      <td>116074400</td>\n",
              "      <td>2010</td>\n",
              "      <td>92.583177</td>\n",
              "      <td>1</td>\n",
              "      <td>1</td>\n",
              "      <td>0.340656</td>\n",
              "      <td>0.189925</td>\n",
              "      <td>64.204303</td>\n",
              "      <td>1.0</td>\n",
              "      <td>0.0</td>\n",
              "      <td>0.0</td>\n",
              "    </tr>\n",
              "    <tr>\n",
              "      <th>4267</th>\n",
              "      <td>2010-01-07</td>\n",
              "      <td>94.386139</td>\n",
              "      <td>131091100</td>\n",
              "      <td>2010</td>\n",
              "      <td>92.776076</td>\n",
              "      <td>1</td>\n",
              "      <td>1</td>\n",
              "      <td>0.344398</td>\n",
              "      <td>0.177264</td>\n",
              "      <td>66.019413</td>\n",
              "      <td>1.0</td>\n",
              "      <td>0.0</td>\n",
              "      <td>0.0</td>\n",
              "    </tr>\n",
              "    <tr>\n",
              "      <th>4268</th>\n",
              "      <td>2010-01-08</td>\n",
              "      <td>94.700218</td>\n",
              "      <td>126402800</td>\n",
              "      <td>2010</td>\n",
              "      <td>93.070099</td>\n",
              "      <td>1</td>\n",
              "      <td>1</td>\n",
              "      <td>0.342377</td>\n",
              "      <td>0.165446</td>\n",
              "      <td>67.420504</td>\n",
              "      <td>1.0</td>\n",
              "      <td>0.0</td>\n",
              "      <td>0.0</td>\n",
              "    </tr>\n",
              "  </tbody>\n",
              "</table>\n",
              "</div>"
            ],
            "text/plain": [
              "           Date  Adj_Close     Volume  Year        SMA  \\\n",
              "4264 2010-01-04  93.675278  118944600  2010  92.269357   \n",
              "4265 2010-01-05  93.923241  111579900  2010  92.408639   \n",
              "4266 2010-01-06  93.989357  116074400  2010  92.583177   \n",
              "4267 2010-01-07  94.386139  131091100  2010  92.776076   \n",
              "4268 2010-01-08  94.700218  126402800  2010  93.070099   \n",
              "\n",
              "      Above_14D_SMA_Yesterday Close_Higher_Than_Yesterday   Roll_Up  \\\n",
              "4264                        1                           1  0.368288   \n",
              "4265                        1                           1  0.360266   \n",
              "4266                        1                           1  0.340656   \n",
              "4267                        1                           1  0.344398   \n",
              "4268                        1                           1  0.342377   \n",
              "\n",
              "      Roll_Down        RSI  Overbought_Yesterday  Oversold_Yesterday  \\\n",
              "4264   0.218026  62.814054                   0.0                 0.0   \n",
              "4265   0.203491  63.904444                   1.0                 0.0   \n",
              "4266   0.189925  64.204303                   1.0                 0.0   \n",
              "4267   0.177264  66.019413                   1.0                 0.0   \n",
              "4268   0.165446  67.420504                   1.0                 0.0   \n",
              "\n",
              "      Oversold_And_Under_14D_SMA_Yesterday  \n",
              "4264                                   0.0  \n",
              "4265                                   0.0  \n",
              "4266                                   0.0  \n",
              "4267                                   0.0  \n",
              "4268                                   0.0  "
            ]
          },
          "metadata": {
            "tags": []
          },
          "execution_count": 71
        }
      ]
    },
    {
      "cell_type": "code",
      "metadata": {
        "id": "u1mM4Goc-C0H",
        "colab_type": "code",
        "colab": {},
        "outputId": "28b7292c-f1c6-47b6-bfd3-b1755222071c"
      },
      "source": [
        "spy_2010_2013.columns"
      ],
      "execution_count": 0,
      "outputs": [
        {
          "output_type": "execute_result",
          "data": {
            "text/plain": [
              "Index(['Date', 'Adj_Close', 'Volume', 'Year', 'SMA', 'Above_14D_SMA_Yesterday',\n",
              "       'Close_Higher_Than_Yesterday', 'Roll_Up', 'Roll_Down', 'RSI',\n",
              "       'Overbought_Yesterday', 'Oversold_Yesterday',\n",
              "       'Oversold_And_Under_14D_SMA_Yesterday'],\n",
              "      dtype='object')"
            ]
          },
          "metadata": {
            "tags": []
          },
          "execution_count": 72
        }
      ]
    },
    {
      "cell_type": "code",
      "metadata": {
        "id": "O9dasbGq-C0I",
        "colab_type": "code",
        "colab": {}
      },
      "source": [
        "target = 'Close_Higher_Than_Yesterday'\n",
        "drop = ['Date','Year','SMA','Volume','Adj_Close','Roll_Up','Roll_Down']\n",
        "# drop = ['Date','Year','SMA','Volume','Adj_Close','Roll_Up','Roll_Down', 'Above_14D_SMA_Yesterday',\n",
        "#         'Overbought_Yesterday','RSI']\n",
        "\n",
        "\n",
        "train = spy_1994_2013.drop(columns=drop)\n",
        "test = spy_2015.drop(columns=drop)\n",
        "val = spy_2017.drop(columns=drop)\n",
        "\n",
        "X_val = val.drop(columns=target)\n",
        "y_val = val[target]\n",
        "\n",
        "X_test = test.drop(columns=target)\n",
        "y_test = test[target]\n",
        "\n",
        "X_train = train.drop(columns=target)\n",
        "y_train = train[target]"
      ],
      "execution_count": 0,
      "outputs": []
    },
    {
      "cell_type": "markdown",
      "metadata": {
        "id": "pzS8ZFC4-C0J",
        "colab_type": "text"
      },
      "source": [
        "# BELOW THROWS ERROR WHEN USING Y STRATIFICATION"
      ]
    },
    {
      "cell_type": "code",
      "metadata": {
        "id": "r_fxtibz-C0K",
        "colab_type": "code",
        "colab": {}
      },
      "source": [
        "# target = 'Close_Higher_Than_Yesterday'\n",
        "# drop = ['Date','Year','SMA','Volume','Close','Roll_Up','Roll_Down']\n",
        "# features = ['Above_14D_SMA_Yesterday', 'Close_Higher_Than_Yesterday', 'RSI', 'Overbought_Yesterday', \n",
        "#             'Oversold_Yesterday', 'Oversold_And_Under_14D_SMA_Yesterday']\n",
        "\n",
        "# X = spy[features]\n",
        "# y = spy[target]\n",
        "\n",
        "# X_trainval, X_test, y_trainval, y_test = train_test_split(\n",
        "#     X, y, test_size=.33, random_state=42)\n",
        "\n",
        "# X_train, X_val, y_train, y_val = train_test_split(\n",
        "#     X_trainval, y_trainval, test_size=.33, \n",
        "#     random_state=42)\n",
        "\n",
        "# print('X_train shape', X_train.shape)\n",
        "# print('y_train shape', y_train.shape)\n",
        "# print('X_val shape', X_val.shape)\n",
        "# print('y_val shape', y_val.shape)\n",
        "# print('X_test shape', X_test.shape)\n",
        "# print('y_test shape', y_test.shape)"
      ],
      "execution_count": 0,
      "outputs": []
    },
    {
      "cell_type": "code",
      "metadata": {
        "id": "w-gKL_8N-C0M",
        "colab_type": "code",
        "colab": {},
        "outputId": "e7ea4b39-508e-44b4-f6dc-6b32443864e7"
      },
      "source": [
        "X_test.Oversold_Yesterday.value_counts()"
      ],
      "execution_count": 0,
      "outputs": [
        {
          "output_type": "execute_result",
          "data": {
            "text/plain": [
              "0.0    235\n",
              "1.0     17\n",
              "Name: Oversold_Yesterday, dtype: int64"
            ]
          },
          "metadata": {
            "tags": []
          },
          "execution_count": 75
        }
      ]
    },
    {
      "cell_type": "code",
      "metadata": {
        "id": "ajsOEe84-C0O",
        "colab_type": "code",
        "colab": {},
        "outputId": "8d49b3de-842c-4aef-81cb-fc21a2b79da2"
      },
      "source": [
        "y_val.value_counts()"
      ],
      "execution_count": 0,
      "outputs": [
        {
          "output_type": "execute_result",
          "data": {
            "text/plain": [
              "1    144\n",
              "0    107\n",
              "Name: Close_Higher_Than_Yesterday, dtype: int64"
            ]
          },
          "metadata": {
            "tags": []
          },
          "execution_count": 76
        }
      ]
    },
    {
      "cell_type": "code",
      "metadata": {
        "id": "_YEI5shR-C0R",
        "colab_type": "code",
        "colab": {},
        "outputId": "88da1e7c-84da-4c6a-93c6-d7ef73afd0c3"
      },
      "source": [
        "y_train.value_counts()"
      ],
      "execution_count": 0,
      "outputs": [
        {
          "output_type": "execute_result",
          "data": {
            "text/plain": [
              "1    2750\n",
              "0    2286\n",
              "Name: Close_Higher_Than_Yesterday, dtype: int64"
            ]
          },
          "metadata": {
            "tags": []
          },
          "execution_count": 77
        }
      ]
    },
    {
      "cell_type": "code",
      "metadata": {
        "id": "xZIrUS_x-C0S",
        "colab_type": "code",
        "colab": {}
      },
      "source": [
        "from sklearn.ensemble import RandomForestClassifier\n",
        "from sklearn.pipeline import make_pipeline"
      ],
      "execution_count": 0,
      "outputs": []
    },
    {
      "cell_type": "code",
      "metadata": {
        "id": "Kks4rYXx-C0T",
        "colab_type": "code",
        "colab": {},
        "outputId": "9d20c3bb-3d67-4212-b950-0da94166fc04"
      },
      "source": [
        "pipeline = make_pipeline(\n",
        "    RandomForestClassifier(n_estimators=100, random_state=42, n_jobs=-1)\n",
        ")\n",
        "\n",
        "pipeline.fit(X_train, y_train)\n",
        "print('Validation Accuracy', pipeline.score(X_val, y_val))"
      ],
      "execution_count": 0,
      "outputs": [
        {
          "output_type": "stream",
          "text": [
            "Validation Accuracy 0.6693227091633466\n"
          ],
          "name": "stdout"
        }
      ]
    },
    {
      "cell_type": "code",
      "metadata": {
        "id": "0PVnXGGe-C0V",
        "colab_type": "code",
        "colab": {}
      },
      "source": [
        ""
      ],
      "execution_count": 0,
      "outputs": []
    },
    {
      "cell_type": "markdown",
      "metadata": {
        "id": "waRbsWAN-C0W",
        "colab_type": "text"
      },
      "source": [
        "# Fit a model. Does it beat your baseline?"
      ]
    },
    {
      "cell_type": "code",
      "metadata": {
        "id": "rdfvvvkI-C0X",
        "colab_type": "code",
        "colab": {}
      },
      "source": [
        ""
      ],
      "execution_count": 0,
      "outputs": []
    },
    {
      "cell_type": "markdown",
      "metadata": {
        "id": "t_4rLVx3-C0Z",
        "colab_type": "text"
      },
      "source": [
        "### ROC AUC"
      ]
    },
    {
      "cell_type": "code",
      "metadata": {
        "id": "mQNGQC-u-C0Z",
        "colab_type": "code",
        "colab": {},
        "outputId": "08580ac5-cd4d-472e-b79c-a3a73d93294b"
      },
      "source": [
        "from sklearn.metrics import roc_auc_score\n",
        "\n",
        "y_pred_proba = np.full_like(y_val, fill_value=1.00)\n",
        "roc_auc_score(y_val, y_pred_proba)"
      ],
      "execution_count": 0,
      "outputs": [
        {
          "output_type": "execute_result",
          "data": {
            "text/plain": [
              "0.5"
            ]
          },
          "metadata": {
            "tags": []
          },
          "execution_count": 80
        }
      ]
    },
    {
      "cell_type": "code",
      "metadata": {
        "id": "yNSg8JkZ-C0b",
        "colab_type": "code",
        "colab": {},
        "outputId": "b470fa8c-8d7a-40c3-8eeb-cadfb630dc03"
      },
      "source": [
        "y_pred_proba = np.full_like(y_val, fill_value=0)\n",
        "roc_auc_score(y_val, y_pred_proba)"
      ],
      "execution_count": 0,
      "outputs": [
        {
          "output_type": "execute_result",
          "data": {
            "text/plain": [
              "0.5"
            ]
          },
          "metadata": {
            "tags": []
          },
          "execution_count": 81
        }
      ]
    },
    {
      "cell_type": "code",
      "metadata": {
        "id": "tnokjLe5-C0c",
        "colab_type": "code",
        "colab": {},
        "outputId": "ed07d4f9-799d-4e30-c12a-5b1a51ab40bc"
      },
      "source": [
        "y_pred_proba = np.full_like(y_val, fill_value=0.50)\n",
        "roc_auc_score(y_val, y_pred_proba)"
      ],
      "execution_count": 0,
      "outputs": [
        {
          "output_type": "execute_result",
          "data": {
            "text/plain": [
              "0.5"
            ]
          },
          "metadata": {
            "tags": []
          },
          "execution_count": 82
        }
      ]
    },
    {
      "cell_type": "code",
      "metadata": {
        "scrolled": true,
        "id": "3t01oCeV-C0f",
        "colab_type": "code",
        "colab": {}
      },
      "source": [
        "# y_val"
      ],
      "execution_count": 0,
      "outputs": []
    },
    {
      "cell_type": "markdown",
      "metadata": {
        "id": "HTgVRynw-C0g",
        "colab_type": "text"
      },
      "source": [
        "# BELOW THROWS ERROR:\n",
        "# UndefinedMetricWarning: No positive samples in y_true, true positive value should be meaningless"
      ]
    },
    {
      "cell_type": "code",
      "metadata": {
        "id": "kUpWvatv-C0h",
        "colab_type": "code",
        "colab": {}
      },
      "source": [
        "# import matplotlib.pyplot as plt\n",
        "# from sklearn.metrics import roc_curve\n",
        "# fpr, tpr, thresholds = roc_curve(y_val=='Charged Off', y_pred_proba)\n",
        "# plt.plot(fpr, tpr)\n",
        "# plt.title('ROC curve')\n",
        "# plt.xlabel('False Positive Rate')\n",
        "# plt.ylabel('True Positive Rate');"
      ],
      "execution_count": 0,
      "outputs": []
    },
    {
      "cell_type": "code",
      "metadata": {
        "id": "bZFWygeC-C0i",
        "colab_type": "code",
        "colab": {},
        "outputId": "a6def205-df65-4d84-f255-5e030ea3a7b4"
      },
      "source": [
        "y_val.value_counts()"
      ],
      "execution_count": 0,
      "outputs": [
        {
          "output_type": "execute_result",
          "data": {
            "text/plain": [
              "1    144\n",
              "0    107\n",
              "Name: Close_Higher_Than_Yesterday, dtype: int64"
            ]
          },
          "metadata": {
            "tags": []
          },
          "execution_count": 85
        }
      ]
    },
    {
      "cell_type": "markdown",
      "metadata": {
        "id": "WVorXnGt-C0k",
        "colab_type": "text"
      },
      "source": [
        "# BELOW THROWS ERROR:\n",
        "#  ValueError: color kwarg must have one color per data set. 708 data sets and 1 colors were provided"
      ]
    },
    {
      "cell_type": "code",
      "metadata": {
        "id": "jt4uWcqd-C0k",
        "colab_type": "code",
        "colab": {}
      },
      "source": [
        "# from ipywidgets import interact, fixed\n",
        "# from sklearn.metrics import roc_auc_score, roc_curve\n",
        "# from sklearn.utils.multiclass import unique_labels\n",
        "\n",
        "# def set_threshold(y_true, y_pred_proba, threshold=0.5):\n",
        "#     \"\"\"\n",
        "#     For binary classification problems. \n",
        "#     y_pred_proba : predicted probability of class 1\n",
        "#     \"\"\"\n",
        "    \n",
        "#     # Apply threshold to predicted probabilities\n",
        "#     # to get discrete predictions\n",
        "#     class_0, class_1 = unique_labels(y_true)\n",
        "#     y_pred = np.full_like(y_true, fill_value=class_0)\n",
        "#     y_pred[y_pred_proba > threshold] = class_1\n",
        "    \n",
        "#     # Plot distribution of predicted probabilities\n",
        "#     ax = sns.distplot(y_pred_proba)\n",
        "#     ax.axvline(threshold, color='red')\n",
        "#     plt.title('Distribution of predicted probabilities')\n",
        "#     plt.show()\n",
        "\n",
        "#     # Calculate true positive rate and false positive rate\n",
        "#     true_positives = (y_pred==y_true) & (y_pred==class_1)\n",
        "#     false_positives = (y_pred!=y_true) & (y_pred==class_1)\n",
        "#     actual_positives = (y_true==class_1)\n",
        "#     actual_negatives = (y_true==class_0)\n",
        "#     true_positive_rate = true_positives.sum() / actual_positives.sum()\n",
        "#     false_positive_rate = false_positives.sum() / actual_negatives.sum()\n",
        "#     print('False Positive Rate', false_positive_rate)\n",
        "#     print('True Positive Rate', true_positive_rate)\n",
        "    \n",
        "#     # Plot ROC curve\n",
        "#     fpr, tpr, thresholds = roc_curve(y_true==class_1, y_pred_proba)\n",
        "#     plt.plot(fpr, tpr)\n",
        "#     plt.title('ROC curve')\n",
        "#     plt.xlabel('False Positive Rate')\n",
        "#     plt.ylabel('True Positive Rate')\n",
        "    \n",
        "#     # Plot point on ROC curve for the current threshold\n",
        "#     plt.scatter(false_positive_rate, true_positive_rate)\n",
        "#     plt.show()\n",
        "    \n",
        "#     # Show ROC AUC score\n",
        "#     print('Area under the Receiver Operating Characteristic curve:', \n",
        "#           roc_auc_score(y_true, y_pred_proba))\n",
        "    \n",
        "#     # Show confusion matrix & classification report\n",
        "#     plot_confusion_matrix(y_true, y_pred)\n",
        "#     print(classification_report(y_true, y_pred))\n",
        "\n",
        "# interact(set_threshold, \n",
        "#          y_true=fixed(y_val), \n",
        "#          y_pred_proba=fixed(y_pred_proba), \n",
        "#          threshold=(0,1,0.05));"
      ],
      "execution_count": 0,
      "outputs": []
    },
    {
      "cell_type": "code",
      "metadata": {
        "id": "DXDcB9gk-C0l",
        "colab_type": "code",
        "colab": {},
        "outputId": "81cbec2b-d0d7-44ac-f331-6dcb052334a9"
      },
      "source": [
        "import category_encoders as ce\n",
        "from sklearn.linear_model import LinearRegression\n",
        "from sklearn.pipeline import make_pipeline\n",
        "from sklearn.preprocessing import StandardScaler\n",
        "\n",
        "lr = make_pipeline(\n",
        "    ce.OrdinalEncoder(), # Not ideal for Linear Regression \n",
        "    StandardScaler(), \n",
        "    LinearRegression()\n",
        ")\n",
        "\n",
        "lr.fit(X_train, y_train)\n",
        "print('Linear Regression R^2', lr.score(X_val, y_val))"
      ],
      "execution_count": 0,
      "outputs": [
        {
          "output_type": "stream",
          "text": [
            "Linear Regression R^2 0.22984174626089782\n"
          ],
          "name": "stdout"
        },
        {
          "output_type": "stream",
          "text": [
            "C:\\Users\\Sarmen\\Anaconda3\\lib\\site-packages\\sklearn\\preprocessing\\data.py:645: DataConversionWarning: Data with input dtype int32, float64 were all converted to float64 by StandardScaler.\n",
            "  return self.partial_fit(X, y)\n",
            "C:\\Users\\Sarmen\\Anaconda3\\lib\\site-packages\\sklearn\\base.py:467: DataConversionWarning: Data with input dtype int32, float64 were all converted to float64 by StandardScaler.\n",
            "  return self.fit(X, y, **fit_params).transform(X)\n",
            "C:\\Users\\Sarmen\\Anaconda3\\lib\\site-packages\\sklearn\\pipeline.py:511: DataConversionWarning: Data with input dtype int32, float64 were all converted to float64 by StandardScaler.\n",
            "  Xt = transform.transform(Xt)\n"
          ],
          "name": "stderr"
        }
      ]
    },
    {
      "cell_type": "code",
      "metadata": {
        "id": "f1O0wyuC-C0m",
        "colab_type": "code",
        "colab": {},
        "outputId": "4519701a-810f-4522-f81c-9a04068bb442"
      },
      "source": [
        "spy_2016_oversold_and_under = X_val[X_val['Oversold_And_Under_14D_SMA_Yesterday'] == 1]\n",
        "spy_2016_oversold_and_under"
      ],
      "execution_count": 0,
      "outputs": [
        {
          "output_type": "execute_result",
          "data": {
            "text/html": [
              "<div>\n",
              "<style scoped>\n",
              "    .dataframe tbody tr th:only-of-type {\n",
              "        vertical-align: middle;\n",
              "    }\n",
              "\n",
              "    .dataframe tbody tr th {\n",
              "        vertical-align: top;\n",
              "    }\n",
              "\n",
              "    .dataframe thead th {\n",
              "        text-align: right;\n",
              "    }\n",
              "</style>\n",
              "<table border=\"1\" class=\"dataframe\">\n",
              "  <thead>\n",
              "    <tr style=\"text-align: right;\">\n",
              "      <th></th>\n",
              "      <th>Above_14D_SMA_Yesterday</th>\n",
              "      <th>RSI</th>\n",
              "      <th>Overbought_Yesterday</th>\n",
              "      <th>Oversold_Yesterday</th>\n",
              "      <th>Oversold_And_Under_14D_SMA_Yesterday</th>\n",
              "    </tr>\n",
              "  </thead>\n",
              "  <tbody>\n",
              "    <tr>\n",
              "      <th>6027</th>\n",
              "      <td>0</td>\n",
              "      <td>64.071568</td>\n",
              "      <td>1.0</td>\n",
              "      <td>0.0</td>\n",
              "      <td>1.0</td>\n",
              "    </tr>\n",
              "    <tr>\n",
              "      <th>6071</th>\n",
              "      <td>0</td>\n",
              "      <td>62.982641</td>\n",
              "      <td>1.0</td>\n",
              "      <td>0.0</td>\n",
              "      <td>1.0</td>\n",
              "    </tr>\n",
              "    <tr>\n",
              "      <th>6072</th>\n",
              "      <td>0</td>\n",
              "      <td>65.678755</td>\n",
              "      <td>1.0</td>\n",
              "      <td>0.0</td>\n",
              "      <td>1.0</td>\n",
              "    </tr>\n",
              "    <tr>\n",
              "      <th>6075</th>\n",
              "      <td>0</td>\n",
              "      <td>67.159021</td>\n",
              "      <td>1.0</td>\n",
              "      <td>0.0</td>\n",
              "      <td>1.0</td>\n",
              "    </tr>\n",
              "    <tr>\n",
              "      <th>6079</th>\n",
              "      <td>0</td>\n",
              "      <td>46.821773</td>\n",
              "      <td>1.0</td>\n",
              "      <td>0.0</td>\n",
              "      <td>1.0</td>\n",
              "    </tr>\n",
              "    <tr>\n",
              "      <th>6232</th>\n",
              "      <td>0</td>\n",
              "      <td>64.042051</td>\n",
              "      <td>1.0</td>\n",
              "      <td>0.0</td>\n",
              "      <td>1.0</td>\n",
              "    </tr>\n",
              "    <tr>\n",
              "      <th>6246</th>\n",
              "      <td>0</td>\n",
              "      <td>51.760300</td>\n",
              "      <td>1.0</td>\n",
              "      <td>0.0</td>\n",
              "      <td>1.0</td>\n",
              "    </tr>\n",
              "  </tbody>\n",
              "</table>\n",
              "</div>"
            ],
            "text/plain": [
              "      Above_14D_SMA_Yesterday        RSI  Overbought_Yesterday  \\\n",
              "6027                        0  64.071568                   1.0   \n",
              "6071                        0  62.982641                   1.0   \n",
              "6072                        0  65.678755                   1.0   \n",
              "6075                        0  67.159021                   1.0   \n",
              "6079                        0  46.821773                   1.0   \n",
              "6232                        0  64.042051                   1.0   \n",
              "6246                        0  51.760300                   1.0   \n",
              "\n",
              "      Oversold_Yesterday  Oversold_And_Under_14D_SMA_Yesterday  \n",
              "6027                 0.0                                   1.0  \n",
              "6071                 0.0                                   1.0  \n",
              "6072                 0.0                                   1.0  \n",
              "6075                 0.0                                   1.0  \n",
              "6079                 0.0                                   1.0  \n",
              "6232                 0.0                                   1.0  \n",
              "6246                 0.0                                   1.0  "
            ]
          },
          "metadata": {
            "tags": []
          },
          "execution_count": 88
        }
      ]
    },
    {
      "cell_type": "code",
      "metadata": {
        "id": "w8oR_o0o-C0n",
        "colab_type": "code",
        "colab": {},
        "outputId": "7d7fbf09-4e7e-4997-9055-53689fe30447"
      },
      "source": [
        "example = spy_2016_oversold_and_under.iloc[[0]]\n",
        "example"
      ],
      "execution_count": 0,
      "outputs": [
        {
          "output_type": "execute_result",
          "data": {
            "text/html": [
              "<div>\n",
              "<style scoped>\n",
              "    .dataframe tbody tr th:only-of-type {\n",
              "        vertical-align: middle;\n",
              "    }\n",
              "\n",
              "    .dataframe tbody tr th {\n",
              "        vertical-align: top;\n",
              "    }\n",
              "\n",
              "    .dataframe thead th {\n",
              "        text-align: right;\n",
              "    }\n",
              "</style>\n",
              "<table border=\"1\" class=\"dataframe\">\n",
              "  <thead>\n",
              "    <tr style=\"text-align: right;\">\n",
              "      <th></th>\n",
              "      <th>Above_14D_SMA_Yesterday</th>\n",
              "      <th>RSI</th>\n",
              "      <th>Overbought_Yesterday</th>\n",
              "      <th>Oversold_Yesterday</th>\n",
              "      <th>Oversold_And_Under_14D_SMA_Yesterday</th>\n",
              "    </tr>\n",
              "  </thead>\n",
              "  <tbody>\n",
              "    <tr>\n",
              "      <th>6027</th>\n",
              "      <td>0</td>\n",
              "      <td>64.071568</td>\n",
              "      <td>1.0</td>\n",
              "      <td>0.0</td>\n",
              "      <td>1.0</td>\n",
              "    </tr>\n",
              "  </tbody>\n",
              "</table>\n",
              "</div>"
            ],
            "text/plain": [
              "      Above_14D_SMA_Yesterday        RSI  Overbought_Yesterday  \\\n",
              "6027                        0  64.071568                   1.0   \n",
              "\n",
              "      Oversold_Yesterday  Oversold_And_Under_14D_SMA_Yesterday  \n",
              "6027                 0.0                                   1.0  "
            ]
          },
          "metadata": {
            "tags": []
          },
          "execution_count": 89
        }
      ]
    },
    {
      "cell_type": "code",
      "metadata": {
        "id": "UqaMIlqG-C0o",
        "colab_type": "code",
        "colab": {},
        "outputId": "d2624b5f-cd77-4ac8-c053-905bd07dfbc1"
      },
      "source": [
        "X_train.columns"
      ],
      "execution_count": 0,
      "outputs": [
        {
          "output_type": "execute_result",
          "data": {
            "text/plain": [
              "Index(['Above_14D_SMA_Yesterday', 'RSI', 'Overbought_Yesterday',\n",
              "       'Oversold_Yesterday', 'Oversold_And_Under_14D_SMA_Yesterday'],\n",
              "      dtype='object')"
            ]
          },
          "metadata": {
            "tags": []
          },
          "execution_count": 90
        }
      ]
    },
    {
      "cell_type": "code",
      "metadata": {
        "id": "Oab4u5OQ-C0p",
        "colab_type": "code",
        "colab": {},
        "outputId": "08863281-a198-4846-8679-98df5489804a"
      },
      "source": [
        "pred = lr.predict(example)[0]\n",
        "print(f'Predicted Probability Close Higher Today: {pred:.2f}%')"
      ],
      "execution_count": 0,
      "outputs": [
        {
          "output_type": "stream",
          "text": [
            "Predicted Probability Close Higher Today: 0.78%\n"
          ],
          "name": "stdout"
        },
        {
          "output_type": "stream",
          "text": [
            "C:\\Users\\Sarmen\\Anaconda3\\lib\\site-packages\\sklearn\\pipeline.py:331: DataConversionWarning: Data with input dtype int32, float64 were all converted to float64 by StandardScaler.\n",
            "  Xt = transform.transform(Xt)\n"
          ],
          "name": "stderr"
        }
      ]
    },
    {
      "cell_type": "code",
      "metadata": {
        "scrolled": true,
        "id": "E_009gAF-C0q",
        "colab_type": "code",
        "colab": {}
      },
      "source": [
        "# def predict(model, example, log=False):\n",
        "#     print('Vary income, hold other features constant', '\\n')\n",
        "#     example = example.copy()\n",
        "#     preds = []\n",
        "#     for income in range(20000, 200000, 20000):\n",
        "#         example['Annual Income'] = income\n",
        "#         pred = model.predict(example)[0]\n",
        "#         if log:\n",
        "#             pred = np.expm1(pred)\n",
        "#         print(f'Predicted Interest Rate: {pred:.3f}%')\n",
        "#         print(example.to_string(), '\\n')\n",
        "#         preds.append(pred)\n",
        "#     print('Difference between predictions')\n",
        "#     print(np.diff(preds))\n",
        "        \n",
        "# predict(lr, example)"
      ],
      "execution_count": 0,
      "outputs": []
    },
    {
      "cell_type": "code",
      "metadata": {
        "id": "8E4TKCkn-C0s",
        "colab_type": "code",
        "colab": {}
      },
      "source": [
        ""
      ],
      "execution_count": 0,
      "outputs": []
    },
    {
      "cell_type": "code",
      "metadata": {
        "id": "nuzymsZl-C0t",
        "colab_type": "code",
        "colab": {},
        "outputId": "1b136790-b9ae-4691-810f-3ef0606f8fab"
      },
      "source": [
        "# over_and_under = spy[spy['Oversold_And_Under_14D_SMA_Yesterday'] == 1] \n",
        "example3 = X_val.iloc[[2]]\n",
        "pred3 = lr.predict(example3)[0]"
      ],
      "execution_count": 0,
      "outputs": [
        {
          "output_type": "stream",
          "text": [
            "C:\\Users\\Sarmen\\Anaconda3\\lib\\site-packages\\sklearn\\pipeline.py:331: DataConversionWarning: Data with input dtype int32, float64 were all converted to float64 by StandardScaler.\n",
            "  Xt = transform.transform(Xt)\n"
          ],
          "name": "stderr"
        }
      ]
    },
    {
      "cell_type": "code",
      "metadata": {
        "id": "jqvY3lih-C0u",
        "colab_type": "code",
        "colab": {},
        "outputId": "411b2a02-275e-4753-9689-e3cb92b22dae"
      },
      "source": [
        "X_val.iloc[[2]]"
      ],
      "execution_count": 0,
      "outputs": [
        {
          "output_type": "execute_result",
          "data": {
            "text/html": [
              "<div>\n",
              "<style scoped>\n",
              "    .dataframe tbody tr th:only-of-type {\n",
              "        vertical-align: middle;\n",
              "    }\n",
              "\n",
              "    .dataframe tbody tr th {\n",
              "        vertical-align: top;\n",
              "    }\n",
              "\n",
              "    .dataframe thead th {\n",
              "        text-align: right;\n",
              "    }\n",
              "</style>\n",
              "<table border=\"1\" class=\"dataframe\">\n",
              "  <thead>\n",
              "    <tr style=\"text-align: right;\">\n",
              "      <th></th>\n",
              "      <th>Above_14D_SMA_Yesterday</th>\n",
              "      <th>RSI</th>\n",
              "      <th>Overbought_Yesterday</th>\n",
              "      <th>Oversold_Yesterday</th>\n",
              "      <th>Oversold_And_Under_14D_SMA_Yesterday</th>\n",
              "    </tr>\n",
              "  </thead>\n",
              "  <tbody>\n",
              "    <tr>\n",
              "      <th>6028</th>\n",
              "      <td>1</td>\n",
              "      <td>63.195101</td>\n",
              "      <td>1.0</td>\n",
              "      <td>0.0</td>\n",
              "      <td>0.0</td>\n",
              "    </tr>\n",
              "  </tbody>\n",
              "</table>\n",
              "</div>"
            ],
            "text/plain": [
              "      Above_14D_SMA_Yesterday        RSI  Overbought_Yesterday  \\\n",
              "6028                        1  63.195101                   1.0   \n",
              "\n",
              "      Oversold_Yesterday  Oversold_And_Under_14D_SMA_Yesterday  \n",
              "6028                 0.0                                   0.0  "
            ]
          },
          "metadata": {
            "tags": []
          },
          "execution_count": 94
        }
      ]
    },
    {
      "cell_type": "code",
      "metadata": {
        "id": "VJUemvcI-C0v",
        "colab_type": "code",
        "colab": {},
        "outputId": "8e88464a-f399-4e33-9584-389aea5168df"
      },
      "source": [
        "example2 = X_val.iloc[[2]]\n",
        "# predict(lr, example2)\n",
        "pred2 = lr.predict(example2)[0]\n",
        "print(f'Predicted Probability Close Higher Today: {pred2:.2f}%')"
      ],
      "execution_count": 0,
      "outputs": [
        {
          "output_type": "stream",
          "text": [
            "Predicted Probability Close Higher Today: 0.42%\n"
          ],
          "name": "stdout"
        },
        {
          "output_type": "stream",
          "text": [
            "C:\\Users\\Sarmen\\Anaconda3\\lib\\site-packages\\sklearn\\pipeline.py:331: DataConversionWarning: Data with input dtype int32, float64 were all converted to float64 by StandardScaler.\n",
            "  Xt = transform.transform(Xt)\n"
          ],
          "name": "stderr"
        }
      ]
    },
    {
      "cell_type": "code",
      "metadata": {
        "id": "S3pUf0WU-C0w",
        "colab_type": "code",
        "colab": {}
      },
      "source": [
        "import matplotlib.pyplot as plt\n",
        "plt.rcParams['figure.dpi'] = 72"
      ],
      "execution_count": 0,
      "outputs": []
    },
    {
      "cell_type": "code",
      "metadata": {
        "id": "rVcmbmsI-C0y",
        "colab_type": "code",
        "colab": {},
        "outputId": "75b8d6d2-dfab-409d-cf67-8dae7cd44f51"
      },
      "source": [
        "conda install -c conda-forge category_encoders\n"
      ],
      "execution_count": 0,
      "outputs": [
        {
          "output_type": "stream",
          "text": [
            "Collecting package metadata (repodata.json): ...working... done\n",
            "Solving environment: ...working... done\n",
            "\n",
            "# All requested packages already installed.\n",
            "\n",
            "\n",
            "Note: you may need to restart the kernel to use updated packages.\n"
          ],
          "name": "stdout"
        }
      ]
    },
    {
      "cell_type": "code",
      "metadata": {
        "id": "88NCf-Vm-C0y",
        "colab_type": "code",
        "colab": {},
        "outputId": "3bd64a90-0a72-4270-dda3-4f043d9fa0eb"
      },
      "source": [
        "pip install category_encoders"
      ],
      "execution_count": 0,
      "outputs": [
        {
          "output_type": "stream",
          "text": [
            "Requirement already satisfied: category_encoders in c:\\users\\sarmen\\anaconda3\\lib\\site-packages (2.0.0)\n",
            "Requirement already satisfied: numpy>=1.11.3 in c:\\users\\sarmen\\anaconda3\\lib\\site-packages (from category_encoders) (1.16.2)\n",
            "Requirement already satisfied: scikit-learn>=0.20.0 in c:\\users\\sarmen\\anaconda3\\lib\\site-packages (from category_encoders) (0.20.3)\n",
            "Requirement already satisfied: patsy>=0.4.1 in c:\\users\\sarmen\\anaconda3\\lib\\site-packages (from category_encoders) (0.5.1)\n",
            "Requirement already satisfied: scipy>=0.19.0 in c:\\users\\sarmen\\anaconda3\\lib\\site-packages (from category_encoders) (1.2.1)\n",
            "Requirement already satisfied: statsmodels>=0.6.1 in c:\\users\\sarmen\\anaconda3\\lib\\site-packages (from category_encoders) (0.9.0)\n",
            "Requirement already satisfied: pandas>=0.21.1 in c:\\users\\sarmen\\anaconda3\\lib\\site-packages (from category_encoders) (0.24.2)\n",
            "Requirement already satisfied: six in c:\\users\\sarmen\\anaconda3\\lib\\site-packages (from patsy>=0.4.1->category_encoders) (1.12.0)\n",
            "Requirement already satisfied: python-dateutil>=2.5.0 in c:\\users\\sarmen\\anaconda3\\lib\\site-packages (from pandas>=0.21.1->category_encoders) (2.8.0)\n",
            "Requirement already satisfied: pytz>=2011k in c:\\users\\sarmen\\anaconda3\\lib\\site-packages (from pandas>=0.21.1->category_encoders) (2018.9)\n",
            "Note: you may need to restart the kernel to use updated packages.\n"
          ],
          "name": "stdout"
        }
      ]
    },
    {
      "cell_type": "code",
      "metadata": {
        "id": "ZUlVQ8V7-C0z",
        "colab_type": "code",
        "colab": {},
        "outputId": "18f04a1a-18a4-4139-9cce-9f5fdffea666"
      },
      "source": [
        "pip install plotly==4.1.0"
      ],
      "execution_count": 0,
      "outputs": [
        {
          "output_type": "stream",
          "text": [
            "Requirement already satisfied: plotly==4.1.0 in c:\\users\\sarmen\\anaconda3\\lib\\site-packages (4.1.0)\n",
            "Requirement already satisfied: retrying>=1.3.3 in c:\\users\\sarmen\\anaconda3\\lib\\site-packages (from plotly==4.1.0) (1.3.3)\n",
            "Requirement already satisfied: six in c:\\users\\sarmen\\anaconda3\\lib\\site-packages (from plotly==4.1.0) (1.12.0)\n",
            "Note: you may need to restart the kernel to use updated packages.\n"
          ],
          "name": "stdout"
        }
      ]
    },
    {
      "cell_type": "markdown",
      "metadata": {
        "id": "yV1FT6Nq-C00",
        "colab_type": "text"
      },
      "source": [
        "# DO XGBOOST IN COLAB"
      ]
    },
    {
      "cell_type": "code",
      "metadata": {
        "id": "7gZsE1Hl-C00",
        "colab_type": "code",
        "colab": {},
        "outputId": "d756465e-0a80-418d-bb22-bfbcffda9533"
      },
      "source": [
        "from sklearn.metrics import r2_score\n",
        "from xgboost import XGBRegressor\n",
        "\n",
        "gb = make_pipeline(\n",
        "    ce.OrdinalEncoder(), \n",
        "    XGBRegressor(n_estimators=200, objective='reg:squarederror', n_jobs=-1)\n",
        ")\n",
        "\n",
        "gb.fit(X_train, y_train_log)\n",
        "y_pred_log = gb.predict(X_val)\n",
        "y_pred = np.expm1(y_pred_log)\n",
        "print('Gradient Boosting R^2', r2_score(y_val, y_pred))"
      ],
      "execution_count": 0,
      "outputs": [
        {
          "output_type": "error",
          "ename": "ModuleNotFoundError",
          "evalue": "No module named 'xgboost'",
          "traceback": [
            "\u001b[1;31m---------------------------------------------------------------------------\u001b[0m",
            "\u001b[1;31mModuleNotFoundError\u001b[0m                       Traceback (most recent call last)",
            "\u001b[1;32m<ipython-input-100-11801a1311b9>\u001b[0m in \u001b[0;36m<module>\u001b[1;34m\u001b[0m\n\u001b[0;32m      1\u001b[0m \u001b[1;32mfrom\u001b[0m \u001b[0msklearn\u001b[0m\u001b[1;33m.\u001b[0m\u001b[0mmetrics\u001b[0m \u001b[1;32mimport\u001b[0m \u001b[0mr2_score\u001b[0m\u001b[1;33m\u001b[0m\u001b[1;33m\u001b[0m\u001b[0m\n\u001b[1;32m----> 2\u001b[1;33m \u001b[1;32mfrom\u001b[0m \u001b[0mxgboost\u001b[0m \u001b[1;32mimport\u001b[0m \u001b[0mXGBRegressor\u001b[0m\u001b[1;33m\u001b[0m\u001b[1;33m\u001b[0m\u001b[0m\n\u001b[0m\u001b[0;32m      3\u001b[0m \u001b[1;33m\u001b[0m\u001b[0m\n\u001b[0;32m      4\u001b[0m gb = make_pipeline(\n\u001b[0;32m      5\u001b[0m     \u001b[0mce\u001b[0m\u001b[1;33m.\u001b[0m\u001b[0mOrdinalEncoder\u001b[0m\u001b[1;33m(\u001b[0m\u001b[1;33m)\u001b[0m\u001b[1;33m,\u001b[0m\u001b[1;33m\u001b[0m\u001b[1;33m\u001b[0m\u001b[0m\n",
            "\u001b[1;31mModuleNotFoundError\u001b[0m: No module named 'xgboost'"
          ]
        }
      ]
    },
    {
      "cell_type": "code",
      "metadata": {
        "id": "cOtwPs5C-C01",
        "colab_type": "code",
        "colab": {}
      },
      "source": [
        "pip install pdpbox"
      ],
      "execution_count": 0,
      "outputs": []
    },
    {
      "cell_type": "code",
      "metadata": {
        "id": "9HM7jE9U-C02",
        "colab_type": "code",
        "colab": {}
      },
      "source": [
        "from pdpbox.pdp import pdp_isolate, pdp_plot\n",
        "\n",
        "feature = 'Close'\n",
        "\n",
        "isolated = pdp_isolate(\n",
        "    model=gb, \n",
        "    dataset=X_val, \n",
        "    model_features=X_val.columns, \n",
        "    feature=feature\n",
        ")\n",
        "\n",
        "pdp_plot(isolated, feature_name=feature);"
      ],
      "execution_count": 0,
      "outputs": []
    },
    {
      "cell_type": "markdown",
      "metadata": {
        "id": "rPp_nFrq-C03",
        "colab_type": "text"
      },
      "source": [
        "# Share at least 1 visualization on Slack."
      ]
    },
    {
      "cell_type": "code",
      "metadata": {
        "id": "kq5ae1Wk-C03",
        "colab_type": "code",
        "colab": {}
      },
      "source": [
        "spy.iloc[[2]].to_string()"
      ],
      "execution_count": 0,
      "outputs": []
    },
    {
      "cell_type": "code",
      "metadata": {
        "id": "VpU4TrMa-C04",
        "colab_type": "code",
        "colab": {}
      },
      "source": [
        "spy.iloc[[2]]"
      ],
      "execution_count": 0,
      "outputs": []
    },
    {
      "cell_type": "code",
      "metadata": {
        "id": "A-fKdSFE-C05",
        "colab_type": "code",
        "colab": {}
      },
      "source": [
        ""
      ],
      "execution_count": 0,
      "outputs": []
    }
  ]
}